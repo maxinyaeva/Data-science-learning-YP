{
 "cells": [
  {
   "cell_type": "markdown",
   "metadata": {},
   "source": [
    "# Исследование надёжности заёмщиков\n",
    "\n",
    "Заказчик — кредитный отдел банка. Нужно разобраться, влияет ли семейное положение и количество детей клиента на факт погашения кредита в срок. Входные данные от банка — статистика о платёжеспособности клиентов.\n",
    "\n",
    "Результаты исследования будут учтены при построении модели **кредитного скоринга** — специальной системы, которая оценивает способность потенциального заёмщика вернуть кредит банку."
   ]
  },
  {
   "cell_type": "markdown",
   "metadata": {},
   "source": [
    "## Шаг 1. Откройте файл с данными и изучите общую информацию"
   ]
  },
  {
   "cell_type": "code",
   "execution_count": 1,
   "metadata": {},
   "outputs": [
    {
     "name": "stdout",
     "output_type": "stream",
     "text": [
      "<class 'pandas.core.frame.DataFrame'>\n",
      "RangeIndex: 21525 entries, 0 to 21524\n",
      "Data columns (total 12 columns):\n",
      "children            21525 non-null int64\n",
      "days_employed       19351 non-null float64\n",
      "dob_years           21525 non-null int64\n",
      "education           21525 non-null object\n",
      "education_id        21525 non-null int64\n",
      "family_status       21525 non-null object\n",
      "family_status_id    21525 non-null int64\n",
      "gender              21525 non-null object\n",
      "income_type         21525 non-null object\n",
      "debt                21525 non-null int64\n",
      "total_income        19351 non-null float64\n",
      "purpose             21525 non-null object\n",
      "dtypes: float64(2), int64(5), object(5)\n",
      "memory usage: 2.0+ MB\n"
     ]
    },
    {
     "data": {
      "text/html": [
       "<div>\n",
       "<style scoped>\n",
       "    .dataframe tbody tr th:only-of-type {\n",
       "        vertical-align: middle;\n",
       "    }\n",
       "\n",
       "    .dataframe tbody tr th {\n",
       "        vertical-align: top;\n",
       "    }\n",
       "\n",
       "    .dataframe thead th {\n",
       "        text-align: right;\n",
       "    }\n",
       "</style>\n",
       "<table border=\"1\" class=\"dataframe\">\n",
       "  <thead>\n",
       "    <tr style=\"text-align: right;\">\n",
       "      <th></th>\n",
       "      <th>children</th>\n",
       "      <th>days_employed</th>\n",
       "      <th>dob_years</th>\n",
       "      <th>education</th>\n",
       "      <th>education_id</th>\n",
       "      <th>family_status</th>\n",
       "      <th>family_status_id</th>\n",
       "      <th>gender</th>\n",
       "      <th>income_type</th>\n",
       "      <th>debt</th>\n",
       "      <th>total_income</th>\n",
       "      <th>purpose</th>\n",
       "    </tr>\n",
       "  </thead>\n",
       "  <tbody>\n",
       "    <tr>\n",
       "      <td>0</td>\n",
       "      <td>1</td>\n",
       "      <td>-8437.673028</td>\n",
       "      <td>42</td>\n",
       "      <td>высшее</td>\n",
       "      <td>0</td>\n",
       "      <td>женат / замужем</td>\n",
       "      <td>0</td>\n",
       "      <td>F</td>\n",
       "      <td>сотрудник</td>\n",
       "      <td>0</td>\n",
       "      <td>253875.639453</td>\n",
       "      <td>покупка жилья</td>\n",
       "    </tr>\n",
       "    <tr>\n",
       "      <td>1</td>\n",
       "      <td>1</td>\n",
       "      <td>-4024.803754</td>\n",
       "      <td>36</td>\n",
       "      <td>среднее</td>\n",
       "      <td>1</td>\n",
       "      <td>женат / замужем</td>\n",
       "      <td>0</td>\n",
       "      <td>F</td>\n",
       "      <td>сотрудник</td>\n",
       "      <td>0</td>\n",
       "      <td>112080.014102</td>\n",
       "      <td>приобретение автомобиля</td>\n",
       "    </tr>\n",
       "    <tr>\n",
       "      <td>2</td>\n",
       "      <td>0</td>\n",
       "      <td>-5623.422610</td>\n",
       "      <td>33</td>\n",
       "      <td>Среднее</td>\n",
       "      <td>1</td>\n",
       "      <td>женат / замужем</td>\n",
       "      <td>0</td>\n",
       "      <td>M</td>\n",
       "      <td>сотрудник</td>\n",
       "      <td>0</td>\n",
       "      <td>145885.952297</td>\n",
       "      <td>покупка жилья</td>\n",
       "    </tr>\n",
       "    <tr>\n",
       "      <td>3</td>\n",
       "      <td>3</td>\n",
       "      <td>-4124.747207</td>\n",
       "      <td>32</td>\n",
       "      <td>среднее</td>\n",
       "      <td>1</td>\n",
       "      <td>женат / замужем</td>\n",
       "      <td>0</td>\n",
       "      <td>M</td>\n",
       "      <td>сотрудник</td>\n",
       "      <td>0</td>\n",
       "      <td>267628.550329</td>\n",
       "      <td>дополнительное образование</td>\n",
       "    </tr>\n",
       "    <tr>\n",
       "      <td>4</td>\n",
       "      <td>0</td>\n",
       "      <td>340266.072047</td>\n",
       "      <td>53</td>\n",
       "      <td>среднее</td>\n",
       "      <td>1</td>\n",
       "      <td>гражданский брак</td>\n",
       "      <td>1</td>\n",
       "      <td>F</td>\n",
       "      <td>пенсионер</td>\n",
       "      <td>0</td>\n",
       "      <td>158616.077870</td>\n",
       "      <td>сыграть свадьбу</td>\n",
       "    </tr>\n",
       "    <tr>\n",
       "      <td>5</td>\n",
       "      <td>0</td>\n",
       "      <td>-926.185831</td>\n",
       "      <td>27</td>\n",
       "      <td>высшее</td>\n",
       "      <td>0</td>\n",
       "      <td>гражданский брак</td>\n",
       "      <td>1</td>\n",
       "      <td>M</td>\n",
       "      <td>компаньон</td>\n",
       "      <td>0</td>\n",
       "      <td>255763.565419</td>\n",
       "      <td>покупка жилья</td>\n",
       "    </tr>\n",
       "    <tr>\n",
       "      <td>6</td>\n",
       "      <td>0</td>\n",
       "      <td>-2879.202052</td>\n",
       "      <td>43</td>\n",
       "      <td>высшее</td>\n",
       "      <td>0</td>\n",
       "      <td>женат / замужем</td>\n",
       "      <td>0</td>\n",
       "      <td>F</td>\n",
       "      <td>компаньон</td>\n",
       "      <td>0</td>\n",
       "      <td>240525.971920</td>\n",
       "      <td>операции с жильем</td>\n",
       "    </tr>\n",
       "    <tr>\n",
       "      <td>7</td>\n",
       "      <td>0</td>\n",
       "      <td>-152.779569</td>\n",
       "      <td>50</td>\n",
       "      <td>СРЕДНЕЕ</td>\n",
       "      <td>1</td>\n",
       "      <td>женат / замужем</td>\n",
       "      <td>0</td>\n",
       "      <td>M</td>\n",
       "      <td>сотрудник</td>\n",
       "      <td>0</td>\n",
       "      <td>135823.934197</td>\n",
       "      <td>образование</td>\n",
       "    </tr>\n",
       "    <tr>\n",
       "      <td>8</td>\n",
       "      <td>2</td>\n",
       "      <td>-6929.865299</td>\n",
       "      <td>35</td>\n",
       "      <td>ВЫСШЕЕ</td>\n",
       "      <td>0</td>\n",
       "      <td>гражданский брак</td>\n",
       "      <td>1</td>\n",
       "      <td>F</td>\n",
       "      <td>сотрудник</td>\n",
       "      <td>0</td>\n",
       "      <td>95856.832424</td>\n",
       "      <td>на проведение свадьбы</td>\n",
       "    </tr>\n",
       "    <tr>\n",
       "      <td>9</td>\n",
       "      <td>0</td>\n",
       "      <td>-2188.756445</td>\n",
       "      <td>41</td>\n",
       "      <td>среднее</td>\n",
       "      <td>1</td>\n",
       "      <td>женат / замужем</td>\n",
       "      <td>0</td>\n",
       "      <td>M</td>\n",
       "      <td>сотрудник</td>\n",
       "      <td>0</td>\n",
       "      <td>144425.938277</td>\n",
       "      <td>покупка жилья для семьи</td>\n",
       "    </tr>\n",
       "    <tr>\n",
       "      <td>10</td>\n",
       "      <td>2</td>\n",
       "      <td>-4171.483647</td>\n",
       "      <td>36</td>\n",
       "      <td>высшее</td>\n",
       "      <td>0</td>\n",
       "      <td>женат / замужем</td>\n",
       "      <td>0</td>\n",
       "      <td>M</td>\n",
       "      <td>компаньон</td>\n",
       "      <td>0</td>\n",
       "      <td>113943.491460</td>\n",
       "      <td>покупка недвижимости</td>\n",
       "    </tr>\n",
       "    <tr>\n",
       "      <td>11</td>\n",
       "      <td>0</td>\n",
       "      <td>-792.701887</td>\n",
       "      <td>40</td>\n",
       "      <td>среднее</td>\n",
       "      <td>1</td>\n",
       "      <td>женат / замужем</td>\n",
       "      <td>0</td>\n",
       "      <td>F</td>\n",
       "      <td>сотрудник</td>\n",
       "      <td>0</td>\n",
       "      <td>77069.234271</td>\n",
       "      <td>покупка коммерческой недвижимости</td>\n",
       "    </tr>\n",
       "    <tr>\n",
       "      <td>12</td>\n",
       "      <td>0</td>\n",
       "      <td>NaN</td>\n",
       "      <td>65</td>\n",
       "      <td>среднее</td>\n",
       "      <td>1</td>\n",
       "      <td>гражданский брак</td>\n",
       "      <td>1</td>\n",
       "      <td>M</td>\n",
       "      <td>пенсионер</td>\n",
       "      <td>0</td>\n",
       "      <td>NaN</td>\n",
       "      <td>сыграть свадьбу</td>\n",
       "    </tr>\n",
       "    <tr>\n",
       "      <td>13</td>\n",
       "      <td>0</td>\n",
       "      <td>-1846.641941</td>\n",
       "      <td>54</td>\n",
       "      <td>неоконченное высшее</td>\n",
       "      <td>2</td>\n",
       "      <td>женат / замужем</td>\n",
       "      <td>0</td>\n",
       "      <td>F</td>\n",
       "      <td>сотрудник</td>\n",
       "      <td>0</td>\n",
       "      <td>130458.228857</td>\n",
       "      <td>приобретение автомобиля</td>\n",
       "    </tr>\n",
       "    <tr>\n",
       "      <td>14</td>\n",
       "      <td>0</td>\n",
       "      <td>-1844.956182</td>\n",
       "      <td>56</td>\n",
       "      <td>высшее</td>\n",
       "      <td>0</td>\n",
       "      <td>гражданский брак</td>\n",
       "      <td>1</td>\n",
       "      <td>F</td>\n",
       "      <td>компаньон</td>\n",
       "      <td>1</td>\n",
       "      <td>165127.911772</td>\n",
       "      <td>покупка жилой недвижимости</td>\n",
       "    </tr>\n",
       "  </tbody>\n",
       "</table>\n",
       "</div>"
      ],
      "text/plain": [
       "    children  days_employed  dob_years            education  education_id  \\\n",
       "0          1   -8437.673028         42               высшее             0   \n",
       "1          1   -4024.803754         36              среднее             1   \n",
       "2          0   -5623.422610         33              Среднее             1   \n",
       "3          3   -4124.747207         32              среднее             1   \n",
       "4          0  340266.072047         53              среднее             1   \n",
       "5          0    -926.185831         27               высшее             0   \n",
       "6          0   -2879.202052         43               высшее             0   \n",
       "7          0    -152.779569         50              СРЕДНЕЕ             1   \n",
       "8          2   -6929.865299         35               ВЫСШЕЕ             0   \n",
       "9          0   -2188.756445         41              среднее             1   \n",
       "10         2   -4171.483647         36               высшее             0   \n",
       "11         0    -792.701887         40              среднее             1   \n",
       "12         0            NaN         65              среднее             1   \n",
       "13         0   -1846.641941         54  неоконченное высшее             2   \n",
       "14         0   -1844.956182         56               высшее             0   \n",
       "\n",
       "       family_status  family_status_id gender income_type  debt  \\\n",
       "0    женат / замужем                 0      F   сотрудник     0   \n",
       "1    женат / замужем                 0      F   сотрудник     0   \n",
       "2    женат / замужем                 0      M   сотрудник     0   \n",
       "3    женат / замужем                 0      M   сотрудник     0   \n",
       "4   гражданский брак                 1      F   пенсионер     0   \n",
       "5   гражданский брак                 1      M   компаньон     0   \n",
       "6    женат / замужем                 0      F   компаньон     0   \n",
       "7    женат / замужем                 0      M   сотрудник     0   \n",
       "8   гражданский брак                 1      F   сотрудник     0   \n",
       "9    женат / замужем                 0      M   сотрудник     0   \n",
       "10   женат / замужем                 0      M   компаньон     0   \n",
       "11   женат / замужем                 0      F   сотрудник     0   \n",
       "12  гражданский брак                 1      M   пенсионер     0   \n",
       "13   женат / замужем                 0      F   сотрудник     0   \n",
       "14  гражданский брак                 1      F   компаньон     1   \n",
       "\n",
       "     total_income                            purpose  \n",
       "0   253875.639453                      покупка жилья  \n",
       "1   112080.014102            приобретение автомобиля  \n",
       "2   145885.952297                      покупка жилья  \n",
       "3   267628.550329         дополнительное образование  \n",
       "4   158616.077870                    сыграть свадьбу  \n",
       "5   255763.565419                      покупка жилья  \n",
       "6   240525.971920                  операции с жильем  \n",
       "7   135823.934197                        образование  \n",
       "8    95856.832424              на проведение свадьбы  \n",
       "9   144425.938277            покупка жилья для семьи  \n",
       "10  113943.491460               покупка недвижимости  \n",
       "11   77069.234271  покупка коммерческой недвижимости  \n",
       "12            NaN                    сыграть свадьбу  \n",
       "13  130458.228857            приобретение автомобиля  \n",
       "14  165127.911772         покупка жилой недвижимости  "
      ]
     },
     "execution_count": 1,
     "metadata": {},
     "output_type": "execute_result"
    }
   ],
   "source": [
    "import pandas as pd\n",
    "data = pd.read_csv('/datasets/data.csv')\n",
    "data.info()\n",
    "data.head(15)"
   ]
  },
  {
   "cell_type": "markdown",
   "metadata": {},
   "source": [
    "**Вывод**"
   ]
  },
  {
   "cell_type": "markdown",
   "metadata": {},
   "source": [
    "В каждой строке таблицы — данные о потенциальных заёмщиках.Колонки описывают разные признаки заёмщиков: их возраст, пол, образование, семейное положение, количество детей, тип занятости, ежемесячный доход, общий трудовой стаж, наличие задолженностей по возврату кредитов и цель получения кредита. Так же в таблице есть колонки-идентификаторы: идентификатор образования и идентификатор семейного положения.\n",
    "\n",
    "Предварительно можно утверждать, что, данных достаточно для проверки гипотез. Но встречаются пропуски в данных, некотрые колонки заполнены в разном регистре. А так же есть проблемы с типом данных в некоторых колонках.\n",
    "\n",
    "Чтобы двигаться дальше, нужно устранить проблемы в данных."
   ]
  },
  {
   "cell_type": "markdown",
   "metadata": {},
   "source": [
    "## Шаг 2. Предобработка данных"
   ]
  },
  {
   "cell_type": "markdown",
   "metadata": {},
   "source": [
    "### Обработка пропусков"
   ]
  },
  {
   "cell_type": "code",
   "execution_count": 2,
   "metadata": {},
   "outputs": [
    {
     "data": {
      "text/html": [
       "<div>\n",
       "<style scoped>\n",
       "    .dataframe tbody tr th:only-of-type {\n",
       "        vertical-align: middle;\n",
       "    }\n",
       "\n",
       "    .dataframe tbody tr th {\n",
       "        vertical-align: top;\n",
       "    }\n",
       "\n",
       "    .dataframe thead th {\n",
       "        text-align: right;\n",
       "    }\n",
       "</style>\n",
       "<table border=\"1\" class=\"dataframe\">\n",
       "  <thead>\n",
       "    <tr style=\"text-align: right;\">\n",
       "      <th></th>\n",
       "      <th>children</th>\n",
       "      <th>days_employed</th>\n",
       "      <th>dob_years</th>\n",
       "      <th>education</th>\n",
       "      <th>education_id</th>\n",
       "      <th>family_status</th>\n",
       "      <th>family_status_id</th>\n",
       "      <th>gender</th>\n",
       "      <th>income_type</th>\n",
       "      <th>debt</th>\n",
       "      <th>total_income</th>\n",
       "      <th>purpose</th>\n",
       "    </tr>\n",
       "  </thead>\n",
       "  <tbody>\n",
       "    <tr>\n",
       "      <td>0</td>\n",
       "      <td>1</td>\n",
       "      <td>8437.673028</td>\n",
       "      <td>42</td>\n",
       "      <td>высшее</td>\n",
       "      <td>0</td>\n",
       "      <td>женат / замужем</td>\n",
       "      <td>0</td>\n",
       "      <td>F</td>\n",
       "      <td>сотрудник</td>\n",
       "      <td>0</td>\n",
       "      <td>253875.639453</td>\n",
       "      <td>покупка жилья</td>\n",
       "    </tr>\n",
       "    <tr>\n",
       "      <td>1</td>\n",
       "      <td>1</td>\n",
       "      <td>4024.803754</td>\n",
       "      <td>36</td>\n",
       "      <td>среднее</td>\n",
       "      <td>1</td>\n",
       "      <td>женат / замужем</td>\n",
       "      <td>0</td>\n",
       "      <td>F</td>\n",
       "      <td>сотрудник</td>\n",
       "      <td>0</td>\n",
       "      <td>112080.014102</td>\n",
       "      <td>приобретение автомобиля</td>\n",
       "    </tr>\n",
       "    <tr>\n",
       "      <td>2</td>\n",
       "      <td>0</td>\n",
       "      <td>5623.422610</td>\n",
       "      <td>33</td>\n",
       "      <td>среднее</td>\n",
       "      <td>1</td>\n",
       "      <td>женат / замужем</td>\n",
       "      <td>0</td>\n",
       "      <td>M</td>\n",
       "      <td>сотрудник</td>\n",
       "      <td>0</td>\n",
       "      <td>145885.952297</td>\n",
       "      <td>покупка жилья</td>\n",
       "    </tr>\n",
       "    <tr>\n",
       "      <td>3</td>\n",
       "      <td>3</td>\n",
       "      <td>4124.747207</td>\n",
       "      <td>32</td>\n",
       "      <td>среднее</td>\n",
       "      <td>1</td>\n",
       "      <td>женат / замужем</td>\n",
       "      <td>0</td>\n",
       "      <td>M</td>\n",
       "      <td>сотрудник</td>\n",
       "      <td>0</td>\n",
       "      <td>267628.550329</td>\n",
       "      <td>дополнительное образование</td>\n",
       "    </tr>\n",
       "    <tr>\n",
       "      <td>4</td>\n",
       "      <td>0</td>\n",
       "      <td>340266.072047</td>\n",
       "      <td>53</td>\n",
       "      <td>среднее</td>\n",
       "      <td>1</td>\n",
       "      <td>гражданский брак</td>\n",
       "      <td>1</td>\n",
       "      <td>F</td>\n",
       "      <td>пенсионер</td>\n",
       "      <td>0</td>\n",
       "      <td>158616.077870</td>\n",
       "      <td>сыграть свадьбу</td>\n",
       "    </tr>\n",
       "    <tr>\n",
       "      <td>...</td>\n",
       "      <td>...</td>\n",
       "      <td>...</td>\n",
       "      <td>...</td>\n",
       "      <td>...</td>\n",
       "      <td>...</td>\n",
       "      <td>...</td>\n",
       "      <td>...</td>\n",
       "      <td>...</td>\n",
       "      <td>...</td>\n",
       "      <td>...</td>\n",
       "      <td>...</td>\n",
       "      <td>...</td>\n",
       "    </tr>\n",
       "    <tr>\n",
       "      <td>21520</td>\n",
       "      <td>1</td>\n",
       "      <td>4529.316663</td>\n",
       "      <td>43</td>\n",
       "      <td>среднее</td>\n",
       "      <td>1</td>\n",
       "      <td>гражданский брак</td>\n",
       "      <td>1</td>\n",
       "      <td>F</td>\n",
       "      <td>компаньон</td>\n",
       "      <td>0</td>\n",
       "      <td>224791.862382</td>\n",
       "      <td>операции с жильем</td>\n",
       "    </tr>\n",
       "    <tr>\n",
       "      <td>21521</td>\n",
       "      <td>0</td>\n",
       "      <td>343937.404131</td>\n",
       "      <td>67</td>\n",
       "      <td>среднее</td>\n",
       "      <td>1</td>\n",
       "      <td>женат / замужем</td>\n",
       "      <td>0</td>\n",
       "      <td>F</td>\n",
       "      <td>пенсионер</td>\n",
       "      <td>0</td>\n",
       "      <td>155999.806512</td>\n",
       "      <td>сделка с автомобилем</td>\n",
       "    </tr>\n",
       "    <tr>\n",
       "      <td>21522</td>\n",
       "      <td>1</td>\n",
       "      <td>2113.346888</td>\n",
       "      <td>38</td>\n",
       "      <td>среднее</td>\n",
       "      <td>1</td>\n",
       "      <td>гражданский брак</td>\n",
       "      <td>1</td>\n",
       "      <td>M</td>\n",
       "      <td>сотрудник</td>\n",
       "      <td>1</td>\n",
       "      <td>89672.561153</td>\n",
       "      <td>недвижимость</td>\n",
       "    </tr>\n",
       "    <tr>\n",
       "      <td>21523</td>\n",
       "      <td>3</td>\n",
       "      <td>3112.481705</td>\n",
       "      <td>38</td>\n",
       "      <td>среднее</td>\n",
       "      <td>1</td>\n",
       "      <td>женат / замужем</td>\n",
       "      <td>0</td>\n",
       "      <td>M</td>\n",
       "      <td>сотрудник</td>\n",
       "      <td>1</td>\n",
       "      <td>244093.050500</td>\n",
       "      <td>на покупку своего автомобиля</td>\n",
       "    </tr>\n",
       "    <tr>\n",
       "      <td>21524</td>\n",
       "      <td>2</td>\n",
       "      <td>1984.507589</td>\n",
       "      <td>40</td>\n",
       "      <td>среднее</td>\n",
       "      <td>1</td>\n",
       "      <td>женат / замужем</td>\n",
       "      <td>0</td>\n",
       "      <td>F</td>\n",
       "      <td>сотрудник</td>\n",
       "      <td>0</td>\n",
       "      <td>82047.418899</td>\n",
       "      <td>на покупку автомобиля</td>\n",
       "    </tr>\n",
       "  </tbody>\n",
       "</table>\n",
       "<p>21524 rows × 12 columns</p>\n",
       "</div>"
      ],
      "text/plain": [
       "       children  days_employed  dob_years education  education_id  \\\n",
       "0             1    8437.673028         42    высшее             0   \n",
       "1             1    4024.803754         36   среднее             1   \n",
       "2             0    5623.422610         33   среднее             1   \n",
       "3             3    4124.747207         32   среднее             1   \n",
       "4             0  340266.072047         53   среднее             1   \n",
       "...         ...            ...        ...       ...           ...   \n",
       "21520         1    4529.316663         43   среднее             1   \n",
       "21521         0  343937.404131         67   среднее             1   \n",
       "21522         1    2113.346888         38   среднее             1   \n",
       "21523         3    3112.481705         38   среднее             1   \n",
       "21524         2    1984.507589         40   среднее             1   \n",
       "\n",
       "          family_status  family_status_id gender income_type  debt  \\\n",
       "0       женат / замужем                 0      F   сотрудник     0   \n",
       "1       женат / замужем                 0      F   сотрудник     0   \n",
       "2       женат / замужем                 0      M   сотрудник     0   \n",
       "3       женат / замужем                 0      M   сотрудник     0   \n",
       "4      гражданский брак                 1      F   пенсионер     0   \n",
       "...                 ...               ...    ...         ...   ...   \n",
       "21520  гражданский брак                 1      F   компаньон     0   \n",
       "21521   женат / замужем                 0      F   пенсионер     0   \n",
       "21522  гражданский брак                 1      M   сотрудник     1   \n",
       "21523   женат / замужем                 0      M   сотрудник     1   \n",
       "21524   женат / замужем                 0      F   сотрудник     0   \n",
       "\n",
       "        total_income                       purpose  \n",
       "0      253875.639453                 покупка жилья  \n",
       "1      112080.014102       приобретение автомобиля  \n",
       "2      145885.952297                 покупка жилья  \n",
       "3      267628.550329    дополнительное образование  \n",
       "4      158616.077870               сыграть свадьбу  \n",
       "...              ...                           ...  \n",
       "21520  224791.862382             операции с жильем  \n",
       "21521  155999.806512          сделка с автомобилем  \n",
       "21522   89672.561153                  недвижимость  \n",
       "21523  244093.050500  на покупку своего автомобиля  \n",
       "21524   82047.418899         на покупку автомобиля  \n",
       "\n",
       "[21524 rows x 12 columns]"
      ]
     },
     "metadata": {},
     "output_type": "display_data"
    }
   ],
   "source": [
    "data.isna().sum()\n",
    "\n",
    "data_transformed = data.groupby('income_type')['total_income'].transform('mean') #заполнили пропуски в total_income\n",
    "\n",
    "data['total_income'] = data['total_income'].fillna(data_transformed)\n",
    "\n",
    "data['days_employed'] = data['days_employed'].abs() # избавились от отрицательных значений в days_employed\n",
    "\n",
    "data_transformed = data.groupby('income_type')['days_employed'].transform('mean') #заполнили пропуски в days_employed\n",
    "\n",
    "data['days_employed'] = data['days_employed'].fillna(data_transformed)  \n",
    "\n",
    "data['dob_years'] = data['dob_years'].abs() # избавились от отрицательных значений в dob_years\n",
    "\n",
    "#display(data.groupby('income_type')['dob_years'].mean())\n",
    "#display(data[data['dob_years'] <= 0].count())\n",
    "def age_transformed(row):\n",
    "    dob_years = row['dob_years']\n",
    "    income_type = row['income_type']\n",
    "    \n",
    "    if dob_years == 0:\n",
    "        if income_type == 'безработный':\n",
    "            return 38\n",
    "        if income_type == 'в декрете' or income_type == 'компаньон' or income_type == 'сотрудник':\n",
    "            return 39\n",
    "        if income_type == 'госслужащий':\n",
    "            return 40\n",
    "        if income_type == 'пенсионер':\n",
    "            return 59\n",
    "        if income_type == 'предприниматель':\n",
    "            return 42\n",
    "        if income_type == 'студент':\n",
    "            return 22\n",
    "    return row['dob_years']    \n",
    "data['dob_years'] = data.apply(age_transformed, axis=1)   \n",
    "#display(data[data['dob_years'] <= 0].count()) проверка показала отсутсвие нулей в возрасте\n",
    "#display(data.groupby('gender').count())\n",
    "data.drop(data[data.gender == 'XNA'].index, inplace=True) #удалили некорректное значение\n",
    "#display(data.groupby('gender').count()) #проверка прошла успешно\n",
    "data['children'] = data['children'].abs() # избавились от отрицательных значений в children\n",
    "data['education'] = data['education'].str.lower() #привели значение колонки education к нижнему регистру\n",
    "display(data)\n",
    "\n",
    "\n",
    "        \n",
    "        \n"
   ]
  },
  {
   "cell_type": "markdown",
   "metadata": {},
   "source": [
    "**Вывод**"
   ]
  },
  {
   "cell_type": "markdown",
   "metadata": {},
   "source": [
    "Мы обнаружили, что количество пропусков в двух колоках совпадает, а именно: days_employed (общий трудовой стаж) и total_income (ежемесячный доход). Таких строк в датафрейме 2174, что составляет прмерно 10% от всех данных, следовательно мы не можем просто взять и удалить эти пропуски. Заменим пропуски на средние величины, сгруппировав по income_type. После проделанных манипуляций пропуски в строках исчезли, но проблемы в данных остались.\n",
    "Первое, что явно бросается в глаза - отричательные величины в колонке days_employed (общий трудовой стаж). Возьмем всю колонку по модулю. Такая проблема появилась, вероятнее всего, из-за того, что только у пенсионеров есть конечная дата трудового стажа, а у тех кто работает в настоящее время - нет.\n",
    "В колонке возраста есть значения 0 ( а именно 101 значение), что является ошибкой в данных, возможно человеческий фактор. Заполним её средним значением по группам.\n",
    "В колонке gender обнаружено одно некорректное значение XNA. Т.к. эта колонка нужна для исследований и такое значение всего одно, то я решила удалить строку с этим значением.\n",
    "В колонке children модулем избавились от отрицательных значений.\n",
    "В колонке education значения записаны в разных регистрах. Это 100% человеческий фактор, приведем все к одному виду для дальнейшего исследования."
   ]
  },
  {
   "cell_type": "markdown",
   "metadata": {},
   "source": [
    "### Замена типа данных\n"
   ]
  },
  {
   "cell_type": "code",
   "execution_count": 3,
   "metadata": {},
   "outputs": [],
   "source": [
    "data['days_employed'] = data['days_employed'].astype('int')\n"
   ]
  },
  {
   "cell_type": "markdown",
   "metadata": {},
   "source": [
    "**Вывод**"
   ]
  },
  {
   "cell_type": "markdown",
   "metadata": {},
   "source": [
    "Столбец days_employed показывает общий трудовой стаж в днях. Поэтому данный столбец лучше перевести из вещественного в целочисленный, т.к. нас интересует целое количество дней."
   ]
  },
  {
   "cell_type": "markdown",
   "metadata": {},
   "source": [
    "### Обработка дубликатов"
   ]
  },
  {
   "cell_type": "code",
   "execution_count": 4,
   "metadata": {},
   "outputs": [
    {
     "data": {
      "text/html": [
       "<div>\n",
       "<style scoped>\n",
       "    .dataframe tbody tr th:only-of-type {\n",
       "        vertical-align: middle;\n",
       "    }\n",
       "\n",
       "    .dataframe tbody tr th {\n",
       "        vertical-align: top;\n",
       "    }\n",
       "\n",
       "    .dataframe thead th {\n",
       "        text-align: right;\n",
       "    }\n",
       "</style>\n",
       "<table border=\"1\" class=\"dataframe\">\n",
       "  <thead>\n",
       "    <tr style=\"text-align: right;\">\n",
       "      <th></th>\n",
       "      <th>children</th>\n",
       "      <th>days_employed</th>\n",
       "      <th>dob_years</th>\n",
       "      <th>education</th>\n",
       "      <th>education_id</th>\n",
       "      <th>family_status</th>\n",
       "      <th>family_status_id</th>\n",
       "      <th>gender</th>\n",
       "      <th>income_type</th>\n",
       "      <th>debt</th>\n",
       "      <th>total_income</th>\n",
       "      <th>purpose</th>\n",
       "    </tr>\n",
       "  </thead>\n",
       "  <tbody>\n",
       "    <tr>\n",
       "      <td>0</td>\n",
       "      <td>1</td>\n",
       "      <td>8437</td>\n",
       "      <td>42</td>\n",
       "      <td>высшее</td>\n",
       "      <td>0</td>\n",
       "      <td>женат / замужем</td>\n",
       "      <td>0</td>\n",
       "      <td>F</td>\n",
       "      <td>сотрудник</td>\n",
       "      <td>0</td>\n",
       "      <td>253875.639453</td>\n",
       "      <td>покупка жилья</td>\n",
       "    </tr>\n",
       "    <tr>\n",
       "      <td>1</td>\n",
       "      <td>1</td>\n",
       "      <td>4024</td>\n",
       "      <td>36</td>\n",
       "      <td>среднее</td>\n",
       "      <td>1</td>\n",
       "      <td>женат / замужем</td>\n",
       "      <td>0</td>\n",
       "      <td>F</td>\n",
       "      <td>сотрудник</td>\n",
       "      <td>0</td>\n",
       "      <td>112080.014102</td>\n",
       "      <td>приобретение автомобиля</td>\n",
       "    </tr>\n",
       "    <tr>\n",
       "      <td>2</td>\n",
       "      <td>0</td>\n",
       "      <td>5623</td>\n",
       "      <td>33</td>\n",
       "      <td>среднее</td>\n",
       "      <td>1</td>\n",
       "      <td>женат / замужем</td>\n",
       "      <td>0</td>\n",
       "      <td>M</td>\n",
       "      <td>сотрудник</td>\n",
       "      <td>0</td>\n",
       "      <td>145885.952297</td>\n",
       "      <td>покупка жилья</td>\n",
       "    </tr>\n",
       "    <tr>\n",
       "      <td>3</td>\n",
       "      <td>3</td>\n",
       "      <td>4124</td>\n",
       "      <td>32</td>\n",
       "      <td>среднее</td>\n",
       "      <td>1</td>\n",
       "      <td>женат / замужем</td>\n",
       "      <td>0</td>\n",
       "      <td>M</td>\n",
       "      <td>сотрудник</td>\n",
       "      <td>0</td>\n",
       "      <td>267628.550329</td>\n",
       "      <td>дополнительное образование</td>\n",
       "    </tr>\n",
       "    <tr>\n",
       "      <td>4</td>\n",
       "      <td>0</td>\n",
       "      <td>340266</td>\n",
       "      <td>53</td>\n",
       "      <td>среднее</td>\n",
       "      <td>1</td>\n",
       "      <td>гражданский брак</td>\n",
       "      <td>1</td>\n",
       "      <td>F</td>\n",
       "      <td>пенсионер</td>\n",
       "      <td>0</td>\n",
       "      <td>158616.077870</td>\n",
       "      <td>сыграть свадьбу</td>\n",
       "    </tr>\n",
       "  </tbody>\n",
       "</table>\n",
       "</div>"
      ],
      "text/plain": [
       "   children  days_employed  dob_years education  education_id  \\\n",
       "0         1           8437         42    высшее             0   \n",
       "1         1           4024         36   среднее             1   \n",
       "2         0           5623         33   среднее             1   \n",
       "3         3           4124         32   среднее             1   \n",
       "4         0         340266         53   среднее             1   \n",
       "\n",
       "      family_status  family_status_id gender income_type  debt   total_income  \\\n",
       "0   женат / замужем                 0      F   сотрудник     0  253875.639453   \n",
       "1   женат / замужем                 0      F   сотрудник     0  112080.014102   \n",
       "2   женат / замужем                 0      M   сотрудник     0  145885.952297   \n",
       "3   женат / замужем                 0      M   сотрудник     0  267628.550329   \n",
       "4  гражданский брак                 1      F   пенсионер     0  158616.077870   \n",
       "\n",
       "                      purpose  \n",
       "0               покупка жилья  \n",
       "1     приобретение автомобиля  \n",
       "2               покупка жилья  \n",
       "3  дополнительное образование  \n",
       "4             сыграть свадьбу  "
      ]
     },
     "metadata": {},
     "output_type": "display_data"
    }
   ],
   "source": [
    "data.duplicated().sum()\n",
    "data_duplicated = data[data.duplicated()]\n",
    "#display(data_duplicated)\n",
    "data = data.drop_duplicates().reset_index(drop=True)\n",
    "#display(data_duplicated)\n",
    "display(data.head())"
   ]
  },
  {
   "cell_type": "markdown",
   "metadata": {},
   "source": [
    "**Вывод**"
   ]
  },
  {
   "cell_type": "markdown",
   "metadata": {},
   "source": [
    "Первым делом я удалила из датафрейма явные дубликаты с помощью функции drop_duplicates().\n",
    "Теперь необходимо проверить датафрейм на неявные дубликаты. Для этого необходимо лемматизировать столбец purpose."
   ]
  },
  {
   "cell_type": "markdown",
   "metadata": {},
   "source": [
    "### Лемматизация"
   ]
  },
  {
   "cell_type": "code",
   "execution_count": 5,
   "metadata": {},
   "outputs": [
    {
     "data": {
      "text/html": [
       "<div>\n",
       "<style scoped>\n",
       "    .dataframe tbody tr th:only-of-type {\n",
       "        vertical-align: middle;\n",
       "    }\n",
       "\n",
       "    .dataframe tbody tr th {\n",
       "        vertical-align: top;\n",
       "    }\n",
       "\n",
       "    .dataframe thead th {\n",
       "        text-align: right;\n",
       "    }\n",
       "</style>\n",
       "<table border=\"1\" class=\"dataframe\">\n",
       "  <thead>\n",
       "    <tr style=\"text-align: right;\">\n",
       "      <th></th>\n",
       "      <th>children</th>\n",
       "      <th>days_employed</th>\n",
       "      <th>dob_years</th>\n",
       "      <th>education</th>\n",
       "      <th>education_id</th>\n",
       "      <th>family_status</th>\n",
       "      <th>family_status_id</th>\n",
       "      <th>gender</th>\n",
       "      <th>income_type</th>\n",
       "      <th>debt</th>\n",
       "      <th>total_income</th>\n",
       "      <th>purpose</th>\n",
       "      <th>purpose_lemm</th>\n",
       "    </tr>\n",
       "  </thead>\n",
       "  <tbody>\n",
       "    <tr>\n",
       "      <td>0</td>\n",
       "      <td>1</td>\n",
       "      <td>8437</td>\n",
       "      <td>42</td>\n",
       "      <td>высшее</td>\n",
       "      <td>0</td>\n",
       "      <td>женат / замужем</td>\n",
       "      <td>0</td>\n",
       "      <td>F</td>\n",
       "      <td>сотрудник</td>\n",
       "      <td>0</td>\n",
       "      <td>253875.639453</td>\n",
       "      <td>покупка жилья</td>\n",
       "      <td>[покупка,  , жилье, \\n]</td>\n",
       "    </tr>\n",
       "    <tr>\n",
       "      <td>1</td>\n",
       "      <td>1</td>\n",
       "      <td>4024</td>\n",
       "      <td>36</td>\n",
       "      <td>среднее</td>\n",
       "      <td>1</td>\n",
       "      <td>женат / замужем</td>\n",
       "      <td>0</td>\n",
       "      <td>F</td>\n",
       "      <td>сотрудник</td>\n",
       "      <td>0</td>\n",
       "      <td>112080.014102</td>\n",
       "      <td>приобретение автомобиля</td>\n",
       "      <td>[приобретение,  , автомобиль, \\n]</td>\n",
       "    </tr>\n",
       "    <tr>\n",
       "      <td>2</td>\n",
       "      <td>0</td>\n",
       "      <td>5623</td>\n",
       "      <td>33</td>\n",
       "      <td>среднее</td>\n",
       "      <td>1</td>\n",
       "      <td>женат / замужем</td>\n",
       "      <td>0</td>\n",
       "      <td>M</td>\n",
       "      <td>сотрудник</td>\n",
       "      <td>0</td>\n",
       "      <td>145885.952297</td>\n",
       "      <td>покупка жилья</td>\n",
       "      <td>[покупка,  , жилье, \\n]</td>\n",
       "    </tr>\n",
       "    <tr>\n",
       "      <td>3</td>\n",
       "      <td>3</td>\n",
       "      <td>4124</td>\n",
       "      <td>32</td>\n",
       "      <td>среднее</td>\n",
       "      <td>1</td>\n",
       "      <td>женат / замужем</td>\n",
       "      <td>0</td>\n",
       "      <td>M</td>\n",
       "      <td>сотрудник</td>\n",
       "      <td>0</td>\n",
       "      <td>267628.550329</td>\n",
       "      <td>дополнительное образование</td>\n",
       "      <td>[дополнительный,  , образование, \\n]</td>\n",
       "    </tr>\n",
       "    <tr>\n",
       "      <td>4</td>\n",
       "      <td>0</td>\n",
       "      <td>340266</td>\n",
       "      <td>53</td>\n",
       "      <td>среднее</td>\n",
       "      <td>1</td>\n",
       "      <td>гражданский брак</td>\n",
       "      <td>1</td>\n",
       "      <td>F</td>\n",
       "      <td>пенсионер</td>\n",
       "      <td>0</td>\n",
       "      <td>158616.077870</td>\n",
       "      <td>сыграть свадьбу</td>\n",
       "      <td>[сыграть,  , свадьба, \\n]</td>\n",
       "    </tr>\n",
       "  </tbody>\n",
       "</table>\n",
       "</div>"
      ],
      "text/plain": [
       "   children  days_employed  dob_years education  education_id  \\\n",
       "0         1           8437         42    высшее             0   \n",
       "1         1           4024         36   среднее             1   \n",
       "2         0           5623         33   среднее             1   \n",
       "3         3           4124         32   среднее             1   \n",
       "4         0         340266         53   среднее             1   \n",
       "\n",
       "      family_status  family_status_id gender income_type  debt   total_income  \\\n",
       "0   женат / замужем                 0      F   сотрудник     0  253875.639453   \n",
       "1   женат / замужем                 0      F   сотрудник     0  112080.014102   \n",
       "2   женат / замужем                 0      M   сотрудник     0  145885.952297   \n",
       "3   женат / замужем                 0      M   сотрудник     0  267628.550329   \n",
       "4  гражданский брак                 1      F   пенсионер     0  158616.077870   \n",
       "\n",
       "                      purpose                          purpose_lemm  \n",
       "0               покупка жилья               [покупка,  , жилье, \\n]  \n",
       "1     приобретение автомобиля     [приобретение,  , автомобиль, \\n]  \n",
       "2               покупка жилья               [покупка,  , жилье, \\n]  \n",
       "3  дополнительное образование  [дополнительный,  , образование, \\n]  \n",
       "4             сыграть свадьбу             [сыграть,  , свадьба, \\n]  "
      ]
     },
     "metadata": {},
     "output_type": "display_data"
    },
    {
     "name": "stdout",
     "output_type": "stream",
     "text": [
      "Counter({' ': 33569, '\\n': 21453, 'недвижимость': 6350, 'покупка': 5896, 'жилье': 4460, 'автомобиль': 4306, 'образование': 4013, 'с': 2918, 'операция': 2604, 'свадьба': 2324, 'свой': 2230, 'на': 2222, 'строительство': 1878, 'высокий': 1374, 'получение': 1314, 'коммерческий': 1311, 'для': 1289, 'жилой': 1230, 'сделка': 941, 'дополнительный': 906, 'заниматься': 904, 'проведение': 768, 'сыграть': 765, 'сдача': 651, 'семья': 638, 'собственный': 635, 'со': 627, 'ремонт': 607, 'подержанный': 486, 'подержать': 478, 'приобретение': 461, 'профильный': 436})\n"
     ]
    }
   ],
   "source": [
    "from pymystem3 import Mystem\n",
    "m = Mystem() \n",
    "\n",
    "def lem_purpose(column):\n",
    "    lemmas = m.lemmatize(column)\n",
    "    return lemmas\n",
    "\n",
    "data['purpose_lemm'] = data['purpose'].apply(lem_purpose)\n",
    "\n",
    "display(data.head())\n",
    "\n",
    "\n",
    "from collections import Counter\n",
    "\n",
    "count_lemm = []\n",
    "\n",
    "for ind in range(len(data['purpose_lemm'])):\n",
    "    count_lemm.extend(data['purpose_lemm'][ind])\n",
    "\n",
    "print(Counter(count_lemm))\n",
    "\n"
   ]
  },
  {
   "cell_type": "markdown",
   "metadata": {},
   "source": [
    "**Вывод**"
   ]
  },
  {
   "cell_type": "markdown",
   "metadata": {},
   "source": [
    "С помощью библиотеки pymystem3 лемматизировали столбец purpose (цель кредита). Функцией Counter подсчитали колличество лемм, чтобы в дальнейшем можно было категоризировать данные по цели кредита."
   ]
  },
  {
   "cell_type": "markdown",
   "metadata": {},
   "source": [
    "### Категоризация данных"
   ]
  },
  {
   "cell_type": "code",
   "execution_count": 6,
   "metadata": {},
   "outputs": [
    {
     "data": {
      "text/html": [
       "<div>\n",
       "<style scoped>\n",
       "    .dataframe tbody tr th:only-of-type {\n",
       "        vertical-align: middle;\n",
       "    }\n",
       "\n",
       "    .dataframe tbody tr th {\n",
       "        vertical-align: top;\n",
       "    }\n",
       "\n",
       "    .dataframe thead th {\n",
       "        text-align: right;\n",
       "    }\n",
       "</style>\n",
       "<table border=\"1\" class=\"dataframe\">\n",
       "  <thead>\n",
       "    <tr style=\"text-align: right;\">\n",
       "      <th></th>\n",
       "      <th>children</th>\n",
       "      <th>days_employed</th>\n",
       "      <th>dob_years</th>\n",
       "      <th>education</th>\n",
       "      <th>education_id</th>\n",
       "      <th>family_status</th>\n",
       "      <th>family_status_id</th>\n",
       "      <th>gender</th>\n",
       "      <th>income_type</th>\n",
       "      <th>debt</th>\n",
       "      <th>total_income</th>\n",
       "      <th>purpose</th>\n",
       "      <th>purpose_lemm</th>\n",
       "      <th>purpose_category</th>\n",
       "      <th>children_category</th>\n",
       "      <th>income_category</th>\n",
       "    </tr>\n",
       "  </thead>\n",
       "  <tbody>\n",
       "    <tr>\n",
       "      <td>0</td>\n",
       "      <td>1</td>\n",
       "      <td>8437</td>\n",
       "      <td>42</td>\n",
       "      <td>высшее</td>\n",
       "      <td>0</td>\n",
       "      <td>женат / замужем</td>\n",
       "      <td>0</td>\n",
       "      <td>F</td>\n",
       "      <td>сотрудник</td>\n",
       "      <td>0</td>\n",
       "      <td>253875.639453</td>\n",
       "      <td>покупка жилья</td>\n",
       "      <td>[покупка,  , жилье, \\n]</td>\n",
       "      <td>покупка недвижимости</td>\n",
       "      <td>есть дети</td>\n",
       "      <td>высокий доход</td>\n",
       "    </tr>\n",
       "    <tr>\n",
       "      <td>1</td>\n",
       "      <td>1</td>\n",
       "      <td>4024</td>\n",
       "      <td>36</td>\n",
       "      <td>среднее</td>\n",
       "      <td>1</td>\n",
       "      <td>женат / замужем</td>\n",
       "      <td>0</td>\n",
       "      <td>F</td>\n",
       "      <td>сотрудник</td>\n",
       "      <td>0</td>\n",
       "      <td>112080.014102</td>\n",
       "      <td>приобретение автомобиля</td>\n",
       "      <td>[приобретение,  , автомобиль, \\n]</td>\n",
       "      <td>покупка автомобиля</td>\n",
       "      <td>есть дети</td>\n",
       "      <td>средний доход</td>\n",
       "    </tr>\n",
       "    <tr>\n",
       "      <td>2</td>\n",
       "      <td>0</td>\n",
       "      <td>5623</td>\n",
       "      <td>33</td>\n",
       "      <td>среднее</td>\n",
       "      <td>1</td>\n",
       "      <td>женат / замужем</td>\n",
       "      <td>0</td>\n",
       "      <td>M</td>\n",
       "      <td>сотрудник</td>\n",
       "      <td>0</td>\n",
       "      <td>145885.952297</td>\n",
       "      <td>покупка жилья</td>\n",
       "      <td>[покупка,  , жилье, \\n]</td>\n",
       "      <td>покупка недвижимости</td>\n",
       "      <td>бездетные</td>\n",
       "      <td>средний доход</td>\n",
       "    </tr>\n",
       "    <tr>\n",
       "      <td>3</td>\n",
       "      <td>3</td>\n",
       "      <td>4124</td>\n",
       "      <td>32</td>\n",
       "      <td>среднее</td>\n",
       "      <td>1</td>\n",
       "      <td>женат / замужем</td>\n",
       "      <td>0</td>\n",
       "      <td>M</td>\n",
       "      <td>сотрудник</td>\n",
       "      <td>0</td>\n",
       "      <td>267628.550329</td>\n",
       "      <td>дополнительное образование</td>\n",
       "      <td>[дополнительный,  , образование, \\n]</td>\n",
       "      <td>образование</td>\n",
       "      <td>есть дети</td>\n",
       "      <td>высокий доход</td>\n",
       "    </tr>\n",
       "    <tr>\n",
       "      <td>4</td>\n",
       "      <td>0</td>\n",
       "      <td>340266</td>\n",
       "      <td>53</td>\n",
       "      <td>среднее</td>\n",
       "      <td>1</td>\n",
       "      <td>гражданский брак</td>\n",
       "      <td>1</td>\n",
       "      <td>F</td>\n",
       "      <td>пенсионер</td>\n",
       "      <td>0</td>\n",
       "      <td>158616.077870</td>\n",
       "      <td>сыграть свадьбу</td>\n",
       "      <td>[сыграть,  , свадьба, \\n]</td>\n",
       "      <td>свадьба</td>\n",
       "      <td>бездетные</td>\n",
       "      <td>средний доход</td>\n",
       "    </tr>\n",
       "  </tbody>\n",
       "</table>\n",
       "</div>"
      ],
      "text/plain": [
       "   children  days_employed  dob_years education  education_id  \\\n",
       "0         1           8437         42    высшее             0   \n",
       "1         1           4024         36   среднее             1   \n",
       "2         0           5623         33   среднее             1   \n",
       "3         3           4124         32   среднее             1   \n",
       "4         0         340266         53   среднее             1   \n",
       "\n",
       "      family_status  family_status_id gender income_type  debt   total_income  \\\n",
       "0   женат / замужем                 0      F   сотрудник     0  253875.639453   \n",
       "1   женат / замужем                 0      F   сотрудник     0  112080.014102   \n",
       "2   женат / замужем                 0      M   сотрудник     0  145885.952297   \n",
       "3   женат / замужем                 0      M   сотрудник     0  267628.550329   \n",
       "4  гражданский брак                 1      F   пенсионер     0  158616.077870   \n",
       "\n",
       "                      purpose                          purpose_lemm  \\\n",
       "0               покупка жилья               [покупка,  , жилье, \\n]   \n",
       "1     приобретение автомобиля     [приобретение,  , автомобиль, \\n]   \n",
       "2               покупка жилья               [покупка,  , жилье, \\n]   \n",
       "3  дополнительное образование  [дополнительный,  , образование, \\n]   \n",
       "4             сыграть свадьбу             [сыграть,  , свадьба, \\n]   \n",
       "\n",
       "       purpose_category children_category income_category  \n",
       "0  покупка недвижимости         есть дети   высокий доход  \n",
       "1    покупка автомобиля         есть дети   средний доход  \n",
       "2  покупка недвижимости         бездетные   средний доход  \n",
       "3           образование         есть дети   высокий доход  \n",
       "4               свадьба         бездетные   средний доход  "
      ]
     },
     "metadata": {},
     "output_type": "display_data"
    }
   ],
   "source": [
    "def purpose_category(row): #категоризация по цели кредита\n",
    "    \n",
    "    purpose_lemm = row['purpose_lemm']\n",
    "    \n",
    "    if (('жилье' in purpose_lemm) or ('недвижимость' in purpose_lemm)) and ('строительство' not in purpose_lemm):\n",
    "        return 'покупка недвижимости'\n",
    "    if (('жилье' in purpose_lemm) or ('недвижимость' in purpose_lemm)) and ('строительство' in purpose_lemm):\n",
    "        return 'строительство недвижимости'\n",
    "    if 'автомобиль' in purpose_lemm:\n",
    "        return 'покупка автомобиля'\n",
    "    if 'образование' in purpose_lemm:\n",
    "        return 'образование'\n",
    "    if 'свадьба' in purpose_lemm:\n",
    "        return 'свадьба'\n",
    "    return purpose_lemm\n",
    "\n",
    "data['purpose_category'] = data.apply(purpose_category, axis=1)\n",
    "\n",
    "def children_category(row): #категоризация по наличию детей\n",
    "    \n",
    "    children = row['children']\n",
    "    \n",
    "    if children == 0:\n",
    "        return 'бездетные'\n",
    "    return 'есть дети'\n",
    "\n",
    "data['children_category'] = data.apply(children_category, axis=1)\n",
    "\n",
    "#print(data['total_income'].max()) #2265604.028722744\n",
    "#print(data['total_income'].min()) #20667.26379327158\n",
    "#print(data['total_income'].mean()) #167430.36925500483\n",
    "#print(data['total_income'].quantile(0.25)) #107620.94810490453\n",
    "#print(data['total_income'].quantile(0.75)) #202417.46146177707\n",
    "\n",
    "def income_category(row): #категоризация по доходам\n",
    "    \n",
    "    total_income = row['total_income']\n",
    "    \n",
    "    if total_income >= data['total_income'].quantile(0.75):\n",
    "        return 'высокий доход'\n",
    "    if total_income >= data['total_income'].quantile(0.25):\n",
    "        return 'средний доход'\n",
    "    return 'низкий доход'\n",
    "\n",
    "data['income_category'] = data.apply(income_category, axis=1)\n",
    "\n",
    "display(data.head())\n"
   ]
  },
  {
   "cell_type": "markdown",
   "metadata": {},
   "source": [
    "**Вывод**"
   ]
  },
  {
   "cell_type": "markdown",
   "metadata": {},
   "source": [
    "Для ответов на поставленные вопросы данные необходимо было категоризировать в нескольких направлениях: наличие/отсутсвие детей, цель кредитования, а так же уровень дохода."
   ]
  },
  {
   "cell_type": "markdown",
   "metadata": {},
   "source": [
    "## Шаг 3. Ответьте на вопросы"
   ]
  },
  {
   "cell_type": "markdown",
   "metadata": {},
   "source": [
    "- Есть ли зависимость между наличием детей и возвратом кредита в срок?"
   ]
  },
  {
   "cell_type": "code",
   "execution_count": 7,
   "metadata": {},
   "outputs": [
    {
     "data": {
      "text/html": [
       "<div>\n",
       "<style scoped>\n",
       "    .dataframe tbody tr th:only-of-type {\n",
       "        vertical-align: middle;\n",
       "    }\n",
       "\n",
       "    .dataframe tbody tr th {\n",
       "        vertical-align: top;\n",
       "    }\n",
       "\n",
       "    .dataframe thead th {\n",
       "        text-align: right;\n",
       "    }\n",
       "</style>\n",
       "<table border=\"1\" class=\"dataframe\">\n",
       "  <thead>\n",
       "    <tr style=\"text-align: right;\">\n",
       "      <th>debt</th>\n",
       "      <th>0</th>\n",
       "      <th>1</th>\n",
       "      <th>no_debt</th>\n",
       "      <th>yes_debt</th>\n",
       "    </tr>\n",
       "    <tr>\n",
       "      <th>children_category</th>\n",
       "      <th></th>\n",
       "      <th></th>\n",
       "      <th></th>\n",
       "      <th></th>\n",
       "    </tr>\n",
       "  </thead>\n",
       "  <tbody>\n",
       "    <tr>\n",
       "      <td>бездетные</td>\n",
       "      <td>13027</td>\n",
       "      <td>1063</td>\n",
       "      <td>92.455642</td>\n",
       "      <td>7.544358</td>\n",
       "    </tr>\n",
       "    <tr>\n",
       "      <td>есть дети</td>\n",
       "      <td>6685</td>\n",
       "      <td>678</td>\n",
       "      <td>90.791797</td>\n",
       "      <td>9.208203</td>\n",
       "    </tr>\n",
       "  </tbody>\n",
       "</table>\n",
       "</div>"
      ],
      "text/plain": [
       "debt                   0     1    no_debt  yes_debt\n",
       "children_category                                  \n",
       "бездетные          13027  1063  92.455642  7.544358\n",
       "есть дети           6685   678  90.791797  9.208203"
      ]
     },
     "metadata": {},
     "output_type": "display_data"
    }
   ],
   "source": [
    "data_pivot_children = data.pivot_table(index=['children_category'], columns='debt', values='income_type', aggfunc='count')\n",
    "\n",
    "data_pivot_children['no_debt'] = data_pivot_children[0]*100/(data_pivot_children[0] + data_pivot_children[1])\n",
    "data_pivot_children['yes_debt'] = data_pivot_children[1]*100/(data_pivot_children[0] + data_pivot_children[1])\n",
    "\n",
    "display(data_pivot_children) "
   ]
  },
  {
   "cell_type": "markdown",
   "metadata": {},
   "source": [
    "**Вывод**"
   ]
  },
  {
   "cell_type": "markdown",
   "metadata": {},
   "source": [
    "По данным сводной таблицы бездетные люди реже имели просрочки по кредитам"
   ]
  },
  {
   "cell_type": "markdown",
   "metadata": {},
   "source": [
    "- Есть ли зависимость между семейным положением и возвратом кредита в срок?"
   ]
  },
  {
   "cell_type": "code",
   "execution_count": 8,
   "metadata": {},
   "outputs": [
    {
     "data": {
      "text/html": [
       "<div>\n",
       "<style scoped>\n",
       "    .dataframe tbody tr th:only-of-type {\n",
       "        vertical-align: middle;\n",
       "    }\n",
       "\n",
       "    .dataframe tbody tr th {\n",
       "        vertical-align: top;\n",
       "    }\n",
       "\n",
       "    .dataframe thead th {\n",
       "        text-align: right;\n",
       "    }\n",
       "</style>\n",
       "<table border=\"1\" class=\"dataframe\">\n",
       "  <thead>\n",
       "    <tr style=\"text-align: right;\">\n",
       "      <th>debt</th>\n",
       "      <th>0</th>\n",
       "      <th>1</th>\n",
       "      <th>no_debt</th>\n",
       "      <th>yes_debt</th>\n",
       "    </tr>\n",
       "    <tr>\n",
       "      <th>family_status</th>\n",
       "      <th></th>\n",
       "      <th></th>\n",
       "      <th></th>\n",
       "      <th></th>\n",
       "    </tr>\n",
       "  </thead>\n",
       "  <tbody>\n",
       "    <tr>\n",
       "      <td>Не женат / не замужем</td>\n",
       "      <td>2536</td>\n",
       "      <td>274</td>\n",
       "      <td>90.249110</td>\n",
       "      <td>9.750890</td>\n",
       "    </tr>\n",
       "    <tr>\n",
       "      <td>в разводе</td>\n",
       "      <td>1110</td>\n",
       "      <td>85</td>\n",
       "      <td>92.887029</td>\n",
       "      <td>7.112971</td>\n",
       "    </tr>\n",
       "    <tr>\n",
       "      <td>вдовец / вдова</td>\n",
       "      <td>896</td>\n",
       "      <td>63</td>\n",
       "      <td>93.430657</td>\n",
       "      <td>6.569343</td>\n",
       "    </tr>\n",
       "    <tr>\n",
       "      <td>гражданский брак</td>\n",
       "      <td>3762</td>\n",
       "      <td>388</td>\n",
       "      <td>90.650602</td>\n",
       "      <td>9.349398</td>\n",
       "    </tr>\n",
       "    <tr>\n",
       "      <td>женат / замужем</td>\n",
       "      <td>11408</td>\n",
       "      <td>931</td>\n",
       "      <td>92.454818</td>\n",
       "      <td>7.545182</td>\n",
       "    </tr>\n",
       "  </tbody>\n",
       "</table>\n",
       "</div>"
      ],
      "text/plain": [
       "debt                       0    1    no_debt  yes_debt\n",
       "family_status                                         \n",
       "Не женат / не замужем   2536  274  90.249110  9.750890\n",
       "в разводе               1110   85  92.887029  7.112971\n",
       "вдовец / вдова           896   63  93.430657  6.569343\n",
       "гражданский брак        3762  388  90.650602  9.349398\n",
       "женат / замужем        11408  931  92.454818  7.545182"
      ]
     },
     "metadata": {},
     "output_type": "display_data"
    }
   ],
   "source": [
    "data_pivot_family = data.pivot_table(index=['family_status'], columns='debt', values='income_type', aggfunc= 'count')\n",
    "\n",
    "data_pivot_family['no_debt'] = data_pivot_family[0]*100/(data_pivot_family[0] + data_pivot_family[1])\n",
    "data_pivot_family['yes_debt'] = data_pivot_family[1]*100/(data_pivot_family[0] + data_pivot_family[1])    \n",
    "\n",
    "display(data_pivot_family)\n"
   ]
  },
  {
   "cell_type": "markdown",
   "metadata": {},
   "source": [
    "**Вывод**"
   ]
  },
  {
   "cell_type": "markdown",
   "metadata": {},
   "source": [
    "Как видно из сводной таблицы - вдовы/вдовцы имеют самый низкий процент просрочки, по отношению к людям с другим семейным положением. Незамужние граждане чаще других пропускают платежи по кредитам."
   ]
  },
  {
   "cell_type": "markdown",
   "metadata": {},
   "source": [
    "- Есть ли зависимость между уровнем дохода и возвратом кредита в срок?"
   ]
  },
  {
   "cell_type": "code",
   "execution_count": 9,
   "metadata": {},
   "outputs": [
    {
     "data": {
      "text/html": [
       "<div>\n",
       "<style scoped>\n",
       "    .dataframe tbody tr th:only-of-type {\n",
       "        vertical-align: middle;\n",
       "    }\n",
       "\n",
       "    .dataframe tbody tr th {\n",
       "        vertical-align: top;\n",
       "    }\n",
       "\n",
       "    .dataframe thead th {\n",
       "        text-align: right;\n",
       "    }\n",
       "</style>\n",
       "<table border=\"1\" class=\"dataframe\">\n",
       "  <thead>\n",
       "    <tr style=\"text-align: right;\">\n",
       "      <th>debt</th>\n",
       "      <th>0</th>\n",
       "      <th>1</th>\n",
       "      <th>no_debt</th>\n",
       "      <th>yes_debt</th>\n",
       "    </tr>\n",
       "    <tr>\n",
       "      <th>income_category</th>\n",
       "      <th></th>\n",
       "      <th></th>\n",
       "      <th></th>\n",
       "      <th></th>\n",
       "    </tr>\n",
       "  </thead>\n",
       "  <tbody>\n",
       "    <tr>\n",
       "      <td>высокий доход</td>\n",
       "      <td>5034</td>\n",
       "      <td>375</td>\n",
       "      <td>93.067110</td>\n",
       "      <td>6.932890</td>\n",
       "    </tr>\n",
       "    <tr>\n",
       "      <td>низкий доход</td>\n",
       "      <td>4936</td>\n",
       "      <td>427</td>\n",
       "      <td>92.038038</td>\n",
       "      <td>7.961962</td>\n",
       "    </tr>\n",
       "    <tr>\n",
       "      <td>средний доход</td>\n",
       "      <td>9742</td>\n",
       "      <td>939</td>\n",
       "      <td>91.208688</td>\n",
       "      <td>8.791312</td>\n",
       "    </tr>\n",
       "  </tbody>\n",
       "</table>\n",
       "</div>"
      ],
      "text/plain": [
       "debt                0    1    no_debt  yes_debt\n",
       "income_category                                \n",
       "высокий доход    5034  375  93.067110  6.932890\n",
       "низкий доход     4936  427  92.038038  7.961962\n",
       "средний доход    9742  939  91.208688  8.791312"
      ]
     },
     "metadata": {},
     "output_type": "display_data"
    }
   ],
   "source": [
    "data_pivot_income = data.pivot_table(index=['income_category'], columns='debt', values='income_type', aggfunc='count')\n",
    "\n",
    "data_pivot_income['no_debt'] = data_pivot_income[0]*100/(data_pivot_income[0] + data_pivot_income[1])\n",
    "data_pivot_income['yes_debt'] = data_pivot_income[1]*100/(data_pivot_income[0] + data_pivot_income[1])    \n",
    "\n",
    "display(data_pivot_income)"
   ]
  },
  {
   "cell_type": "markdown",
   "metadata": {},
   "source": [
    "**Вывод**"
   ]
  },
  {
   "cell_type": "markdown",
   "metadata": {},
   "source": [
    "Зависимость, определенно есть, и она линейная: чем выше доход, тем ниже просрочек про кредитам."
   ]
  },
  {
   "cell_type": "markdown",
   "metadata": {},
   "source": [
    "- Как разные цели кредита влияют на его возврат в срок?"
   ]
  },
  {
   "cell_type": "code",
   "execution_count": 10,
   "metadata": {},
   "outputs": [
    {
     "data": {
      "text/html": [
       "<div>\n",
       "<style scoped>\n",
       "    .dataframe tbody tr th:only-of-type {\n",
       "        vertical-align: middle;\n",
       "    }\n",
       "\n",
       "    .dataframe tbody tr th {\n",
       "        vertical-align: top;\n",
       "    }\n",
       "\n",
       "    .dataframe thead th {\n",
       "        text-align: right;\n",
       "    }\n",
       "</style>\n",
       "<table border=\"1\" class=\"dataframe\">\n",
       "  <thead>\n",
       "    <tr style=\"text-align: right;\">\n",
       "      <th>debt</th>\n",
       "      <th>0</th>\n",
       "      <th>1</th>\n",
       "      <th>no_debt</th>\n",
       "      <th>yes_debt</th>\n",
       "    </tr>\n",
       "    <tr>\n",
       "      <th>purpose_category</th>\n",
       "      <th></th>\n",
       "      <th></th>\n",
       "      <th></th>\n",
       "      <th></th>\n",
       "    </tr>\n",
       "  </thead>\n",
       "  <tbody>\n",
       "    <tr>\n",
       "      <td>образование</td>\n",
       "      <td>3643</td>\n",
       "      <td>370</td>\n",
       "      <td>90.779965</td>\n",
       "      <td>9.220035</td>\n",
       "    </tr>\n",
       "    <tr>\n",
       "      <td>покупка автомобиля</td>\n",
       "      <td>3903</td>\n",
       "      <td>403</td>\n",
       "      <td>90.640966</td>\n",
       "      <td>9.359034</td>\n",
       "    </tr>\n",
       "    <tr>\n",
       "      <td>покупка недвижимости</td>\n",
       "      <td>8294</td>\n",
       "      <td>638</td>\n",
       "      <td>92.857143</td>\n",
       "      <td>7.142857</td>\n",
       "    </tr>\n",
       "    <tr>\n",
       "      <td>свадьба</td>\n",
       "      <td>2138</td>\n",
       "      <td>186</td>\n",
       "      <td>91.996558</td>\n",
       "      <td>8.003442</td>\n",
       "    </tr>\n",
       "    <tr>\n",
       "      <td>строительство недвижимости</td>\n",
       "      <td>1734</td>\n",
       "      <td>144</td>\n",
       "      <td>92.332268</td>\n",
       "      <td>7.667732</td>\n",
       "    </tr>\n",
       "  </tbody>\n",
       "</table>\n",
       "</div>"
      ],
      "text/plain": [
       "debt                           0    1    no_debt  yes_debt\n",
       "purpose_category                                          \n",
       "образование                 3643  370  90.779965  9.220035\n",
       "покупка автомобиля          3903  403  90.640966  9.359034\n",
       "покупка недвижимости        8294  638  92.857143  7.142857\n",
       "свадьба                     2138  186  91.996558  8.003442\n",
       "строительство недвижимости  1734  144  92.332268  7.667732"
      ]
     },
     "metadata": {},
     "output_type": "display_data"
    }
   ],
   "source": [
    "data_pivot_purpose = data.pivot_table(index=['purpose_category'], columns='debt', values='income_type', aggfunc='count')\n",
    "\n",
    "data_pivot_purpose['no_debt'] = data_pivot_purpose[0]*100/(data_pivot_purpose[0] + data_pivot_purpose[1])\n",
    "data_pivot_purpose['yes_debt'] = data_pivot_purpose[1]*100/(data_pivot_purpose[0] + data_pivot_purpose[1])    \n",
    "\n",
    "display(data_pivot_purpose)\n"
   ]
  },
  {
   "cell_type": "markdown",
   "metadata": {},
   "source": [
    "**Вывод**"
   ]
  },
  {
   "cell_type": "markdown",
   "metadata": {},
   "source": [
    "Цель кредита очень мало влияет на возврат в срок ( общая погрешность примерно 1,5 %). Однако, кредиты на покупку недвижимости заемщики отдают регулярнее, чем кредиты на покупку автомобиля."
   ]
  },
  {
   "cell_type": "markdown",
   "metadata": {},
   "source": [
    "## Шаг 4. Общий вывод"
   ]
  },
  {
   "cell_type": "markdown",
   "metadata": {},
   "source": [
    "Мы провели полную предобработку данных, чтобы дать ответы на интересующие заказчика вопросы:\n",
    "\n",
    "Есть ли зависимость между наличием детей и возвратом кредита в срок?\n",
    "Определенно, есть. Как показало исследование - бездетные заёмщики реже имеют проблемы с возвратом кредита в срок.\n",
    "\n",
    "Есть ли зависимость между семейным положением и возвратом кредита в срок?\n",
    "И, снова, да, зависимость есть. Вдовы/вдовцы имеют самый низкий процент просрочки, по отношению к людям с другим семейным положением. Незамужние граждане чаще других пропускают платежи по кредитам.\n",
    "\n",
    "Есть ли зависимость между уровнем дохода и возвратом кредита в срок?\n",
    "Зависимость есть, и имеет линейный вид, т.е. чем выше доход, тем меньше просрочек по кредитам.\n",
    "\n",
    "Как разные цели кредита влияют на его возврат в срок?\n",
    "Тут получилось неоднозначно. Разбег не большой ( всего 1.5%). Но кредиты на покупку недвижимости заемщики отдают регулярнее, чем кредиты на покупку автомобиля."
   ]
  },
  {
   "cell_type": "markdown",
   "metadata": {},
   "source": [
    "## Чек-лист готовности проекта\n",
    "\n",
    "Поставьте 'x' в выполненных пунктах. Далее нажмите Shift+Enter."
   ]
  },
  {
   "cell_type": "markdown",
   "metadata": {},
   "source": [
    "- [x]  открыт файл;\n",
    "- [x]  файл изучен;\n",
    "- [x]  определены пропущенные значения;\n",
    "- [x]  заполнены пропущенные значения;\n",
    "- [x]  есть пояснение, какие пропущенные значения обнаружены;\n",
    "- [x]  описаны возможные причины появления пропусков в данных;\n",
    "- [x]  объяснено, по какому принципу заполнены пропуски;\n",
    "- [x]  заменен вещественный тип данных на целочисленный;\n",
    "- [x]  есть пояснение, какой метод используется для изменения типа данных и почему;\n",
    "- [x]  удалены дубликаты;\n",
    "- [x]  есть пояснение, какой метод используется для поиска и удаления дубликатов;\n",
    "- [x]  описаны возможные причины появления дубликатов в данных;\n",
    "- [x]  выделены леммы в значениях столбца с целями получения кредита;\n",
    "- [x]  описан процесс лемматизации;\n",
    "- [x]  данные категоризированы;\n",
    "- [x]  есть объяснение принципа категоризации данных;\n",
    "- [x]  есть ответ на вопрос: \"Есть ли зависимость между наличием детей и возвратом кредита в срок?\";\n",
    "- [x]  есть ответ на вопрос: \"Есть ли зависимость между семейным положением и возвратом кредита в срок?\";\n",
    "- [x]  есть ответ на вопрос: \"Есть ли зависимость между уровнем дохода и возвратом кредита в срок?\";\n",
    "- [x]  есть ответ на вопрос: \"Как разные цели кредита влияют на его возврат в срок?\";\n",
    "- [x]  в каждом этапе есть выводы;\n",
    "- [x]  есть общий вывод."
   ]
  },
  {
   "cell_type": "code",
   "execution_count": null,
   "metadata": {},
   "outputs": [],
   "source": []
  }
 ],
 "metadata": {
  "ExecuteTimeLog": [
   {
    "duration": 1059,
    "start_time": "2021-12-06T17:46:32.998Z"
   },
   {
    "duration": 57,
    "start_time": "2021-12-06T17:46:47.687Z"
   },
   {
    "duration": 96,
    "start_time": "2021-12-06T17:50:21.006Z"
   },
   {
    "duration": 10,
    "start_time": "2021-12-06T18:07:23.775Z"
   },
   {
    "duration": 114,
    "start_time": "2021-12-06T18:12:41.757Z"
   },
   {
    "duration": 122,
    "start_time": "2021-12-06T18:13:03.974Z"
   },
   {
    "duration": 9340,
    "start_time": "2021-12-06T18:13:21.645Z"
   },
   {
    "duration": 9,
    "start_time": "2021-12-06T18:15:33.450Z"
   },
   {
    "duration": 10,
    "start_time": "2021-12-06T18:18:19.940Z"
   },
   {
    "duration": 9,
    "start_time": "2021-12-06T18:18:44.291Z"
   },
   {
    "duration": 10,
    "start_time": "2021-12-06T18:19:39.209Z"
   },
   {
    "duration": 876,
    "start_time": "2021-12-06T18:21:59.999Z"
   },
   {
    "duration": 12,
    "start_time": "2021-12-06T18:22:24.121Z"
   },
   {
    "duration": 11,
    "start_time": "2021-12-06T18:25:32.668Z"
   },
   {
    "duration": 32,
    "start_time": "2021-12-06T18:27:58.267Z"
   },
   {
    "duration": 21,
    "start_time": "2021-12-06T18:28:10.368Z"
   },
   {
    "duration": 22,
    "start_time": "2021-12-06T18:28:21.953Z"
   },
   {
    "duration": 33,
    "start_time": "2021-12-06T18:29:11.960Z"
   },
   {
    "duration": 110,
    "start_time": "2021-12-06T18:32:03.914Z"
   },
   {
    "duration": 23,
    "start_time": "2021-12-06T18:32:10.084Z"
   },
   {
    "duration": 35,
    "start_time": "2021-12-06T18:32:14.981Z"
   },
   {
    "duration": 74,
    "start_time": "2021-12-06T18:38:02.849Z"
   },
   {
    "duration": 74,
    "start_time": "2021-12-06T18:38:21.341Z"
   },
   {
    "duration": 355,
    "start_time": "2021-12-07T13:46:09.238Z"
   },
   {
    "duration": 868,
    "start_time": "2021-12-07T13:46:21.016Z"
   },
   {
    "duration": 38,
    "start_time": "2021-12-07T13:46:26.343Z"
   },
   {
    "duration": 101,
    "start_time": "2021-12-07T13:54:23.426Z"
   },
   {
    "duration": 125,
    "start_time": "2021-12-07T13:54:33.113Z"
   },
   {
    "duration": 49,
    "start_time": "2021-12-07T13:57:08.110Z"
   },
   {
    "duration": 25,
    "start_time": "2021-12-07T13:57:37.354Z"
   },
   {
    "duration": 35,
    "start_time": "2021-12-07T13:57:52.365Z"
   },
   {
    "duration": 40,
    "start_time": "2021-12-07T13:59:18.505Z"
   },
   {
    "duration": 326,
    "start_time": "2021-12-07T14:14:01.354Z"
   },
   {
    "duration": 389,
    "start_time": "2021-12-07T14:14:25.467Z"
   },
   {
    "duration": 305,
    "start_time": "2021-12-07T14:16:03.099Z"
   },
   {
    "duration": 39,
    "start_time": "2021-12-07T14:16:47.551Z"
   },
   {
    "duration": 81,
    "start_time": "2021-12-07T14:21:38.377Z"
   },
   {
    "duration": 307,
    "start_time": "2021-12-07T14:26:07.916Z"
   },
   {
    "duration": 55,
    "start_time": "2021-12-07T14:26:28.948Z"
   },
   {
    "duration": 369,
    "start_time": "2021-12-07T14:27:48.818Z"
   },
   {
    "duration": 50,
    "start_time": "2021-12-07T14:35:11.396Z"
   },
   {
    "duration": 52,
    "start_time": "2021-12-07T15:02:08.882Z"
   },
   {
    "duration": 55,
    "start_time": "2021-12-07T15:03:29.545Z"
   },
   {
    "duration": 30,
    "start_time": "2021-12-07T15:03:50.237Z"
   },
   {
    "duration": 28,
    "start_time": "2021-12-07T15:06:27.135Z"
   },
   {
    "duration": 32,
    "start_time": "2021-12-07T15:06:46.138Z"
   },
   {
    "duration": 29,
    "start_time": "2021-12-07T15:07:23.546Z"
   },
   {
    "duration": 26,
    "start_time": "2021-12-07T15:07:44.215Z"
   },
   {
    "duration": 29,
    "start_time": "2021-12-07T15:24:46.628Z"
   },
   {
    "duration": 32,
    "start_time": "2021-12-07T15:24:55.952Z"
   },
   {
    "duration": 101,
    "start_time": "2021-12-07T15:33:03.635Z"
   },
   {
    "duration": 139,
    "start_time": "2021-12-07T15:33:27.664Z"
   },
   {
    "duration": 164,
    "start_time": "2021-12-07T15:35:44.428Z"
   },
   {
    "duration": 110,
    "start_time": "2021-12-07T15:35:54.584Z"
   },
   {
    "duration": 95,
    "start_time": "2021-12-07T15:42:23.188Z"
   },
   {
    "duration": 114,
    "start_time": "2021-12-07T15:43:24.105Z"
   },
   {
    "duration": 98,
    "start_time": "2021-12-07T15:43:45.758Z"
   },
   {
    "duration": 928,
    "start_time": "2021-12-07T15:49:17.307Z"
   },
   {
    "duration": 1395,
    "start_time": "2021-12-07T15:49:38.098Z"
   },
   {
    "duration": 981,
    "start_time": "2021-12-07T15:50:33.213Z"
   },
   {
    "duration": 1743,
    "start_time": "2021-12-07T15:53:46.195Z"
   },
   {
    "duration": 1653,
    "start_time": "2021-12-07T16:01:49.749Z"
   },
   {
    "duration": 960,
    "start_time": "2021-12-07T16:02:00.231Z"
   },
   {
    "duration": 1175,
    "start_time": "2021-12-07T16:03:21.495Z"
   },
   {
    "duration": 1165,
    "start_time": "2021-12-07T16:04:50.352Z"
   },
   {
    "duration": 1217,
    "start_time": "2021-12-07T16:06:00.765Z"
   },
   {
    "duration": 841,
    "start_time": "2021-12-07T16:06:50.784Z"
   },
   {
    "duration": 859,
    "start_time": "2021-12-07T16:07:01.900Z"
   },
   {
    "duration": 894,
    "start_time": "2021-12-07T16:17:40.001Z"
   },
   {
    "duration": 5,
    "start_time": "2021-12-07T16:26:33.377Z"
   },
   {
    "duration": 770,
    "start_time": "2021-12-07T16:32:55.236Z"
   },
   {
    "duration": 54,
    "start_time": "2021-12-07T16:33:21.012Z"
   },
   {
    "duration": 79,
    "start_time": "2021-12-07T16:35:07.227Z"
   },
   {
    "duration": 51,
    "start_time": "2021-12-07T16:35:33.752Z"
   },
   {
    "duration": 60,
    "start_time": "2021-12-07T16:39:17.757Z"
   },
   {
    "duration": 107,
    "start_time": "2021-12-07T17:36:30.315Z"
   },
   {
    "duration": 1386,
    "start_time": "2021-12-07T17:40:45.472Z"
   },
   {
    "duration": 5186,
    "start_time": "2021-12-07T17:45:51.125Z"
   },
   {
    "duration": 2306,
    "start_time": "2021-12-07T17:58:21.674Z"
   },
   {
    "duration": 1268,
    "start_time": "2021-12-07T17:59:10.951Z"
   },
   {
    "duration": 2125,
    "start_time": "2021-12-07T18:05:44.321Z"
   },
   {
    "duration": 635,
    "start_time": "2021-12-08T12:09:33.075Z"
   },
   {
    "duration": 881,
    "start_time": "2021-12-08T12:09:43.964Z"
   },
   {
    "duration": 851,
    "start_time": "2021-12-08T12:09:44.847Z"
   },
   {
    "duration": 6,
    "start_time": "2021-12-08T12:09:45.701Z"
   },
   {
    "duration": 94,
    "start_time": "2021-12-08T12:09:45.709Z"
   },
   {
    "duration": 1993,
    "start_time": "2021-12-08T12:09:51.322Z"
   },
   {
    "duration": 154,
    "start_time": "2021-12-08T12:15:57.246Z"
   },
   {
    "duration": 205,
    "start_time": "2021-12-08T12:16:16.302Z"
   },
   {
    "duration": 2620,
    "start_time": "2021-12-08T12:16:25.110Z"
   },
   {
    "duration": 2226,
    "start_time": "2021-12-08T12:17:06.375Z"
   },
   {
    "duration": 2642,
    "start_time": "2021-12-08T12:18:12.357Z"
   },
   {
    "duration": 867,
    "start_time": "2021-12-08T12:18:24.100Z"
   },
   {
    "duration": 927,
    "start_time": "2021-12-08T12:18:24.970Z"
   },
   {
    "duration": 5,
    "start_time": "2021-12-08T12:18:25.900Z"
   },
   {
    "duration": 111,
    "start_time": "2021-12-08T12:18:25.907Z"
   },
   {
    "duration": 5669,
    "start_time": "2021-12-08T12:21:34.114Z"
   },
   {
    "duration": 5490,
    "start_time": "2021-12-08T12:28:59.655Z"
   },
   {
    "duration": 186,
    "start_time": "2021-12-08T12:56:19.224Z"
   },
   {
    "duration": 10799953,
    "start_time": "2021-12-08T09:56:43.027Z"
   },
   {
    "duration": 10799884,
    "start_time": "2021-12-08T09:57:17.226Z"
   },
   {
    "duration": 1110,
    "start_time": "2021-12-08T12:57:34.857Z"
   },
   {
    "duration": 1109,
    "start_time": "2021-12-08T12:57:35.970Z"
   },
   {
    "duration": 6,
    "start_time": "2021-12-08T12:57:37.082Z"
   },
   {
    "duration": 100,
    "start_time": "2021-12-08T12:57:37.091Z"
   },
   {
    "duration": 5741,
    "start_time": "2021-12-08T12:57:37.194Z"
   },
   {
    "duration": 16413,
    "start_time": "2021-12-08T12:57:42.939Z"
   },
   {
    "duration": 15842,
    "start_time": "2021-12-08T12:59:42.191Z"
   },
   {
    "duration": 15128,
    "start_time": "2021-12-08T13:15:36.057Z"
   },
   {
    "duration": 5480,
    "start_time": "2021-12-08T13:17:20.805Z"
   },
   {
    "duration": 542,
    "start_time": "2021-12-08T13:21:26.541Z"
   },
   {
    "duration": 998,
    "start_time": "2021-12-08T13:23:13.277Z"
   },
   {
    "duration": 969,
    "start_time": "2021-12-08T13:35:40.080Z"
   },
   {
    "duration": 954,
    "start_time": "2021-12-08T13:39:02.294Z"
   },
   {
    "duration": 950,
    "start_time": "2021-12-08T13:39:51.470Z"
   },
   {
    "duration": 912,
    "start_time": "2021-12-08T13:44:36.427Z"
   },
   {
    "duration": 909,
    "start_time": "2021-12-08T13:44:37.342Z"
   },
   {
    "duration": 7,
    "start_time": "2021-12-08T13:44:38.254Z"
   },
   {
    "duration": 96,
    "start_time": "2021-12-08T13:44:38.263Z"
   },
   {
    "duration": 5327,
    "start_time": "2021-12-08T13:44:38.361Z"
   },
   {
    "duration": 52244,
    "start_time": "2021-12-08T13:44:43.691Z"
   },
   {
    "duration": 31,
    "start_time": "2021-12-08T13:53:30.014Z"
   },
   {
    "duration": 30,
    "start_time": "2021-12-08T13:53:45.220Z"
   },
   {
    "duration": 28,
    "start_time": "2021-12-08T13:54:41.661Z"
   },
   {
    "duration": 26,
    "start_time": "2021-12-08T13:56:32.309Z"
   },
   {
    "duration": 34,
    "start_time": "2021-12-08T13:59:37.420Z"
   },
   {
    "duration": 767,
    "start_time": "2021-12-08T14:01:45.296Z"
   },
   {
    "duration": 37,
    "start_time": "2021-12-08T14:02:53.194Z"
   },
   {
    "duration": 955,
    "start_time": "2021-12-08T14:04:33.787Z"
   },
   {
    "duration": 1093,
    "start_time": "2021-12-08T14:04:34.748Z"
   },
   {
    "duration": 5,
    "start_time": "2021-12-08T14:04:35.844Z"
   },
   {
    "duration": 79,
    "start_time": "2021-12-08T14:04:35.860Z"
   },
   {
    "duration": 5631,
    "start_time": "2021-12-08T14:04:35.942Z"
   },
   {
    "duration": 27,
    "start_time": "2021-12-08T14:05:33.981Z"
   },
   {
    "duration": 60,
    "start_time": "2021-12-08T14:05:34.010Z"
   },
   {
    "duration": 27,
    "start_time": "2021-12-08T14:05:34.073Z"
   },
   {
    "duration": 56376,
    "start_time": "2021-12-08T14:06:25.445Z"
   },
   {
    "duration": 22,
    "start_time": "2021-12-08T14:09:29.395Z"
   },
   {
    "duration": 28,
    "start_time": "2021-12-08T14:09:45.616Z"
   },
   {
    "duration": 8684,
    "start_time": "2021-12-08T15:35:31.219Z"
   },
   {
    "duration": 490,
    "start_time": "2021-12-08T18:06:41.508Z"
   },
   {
    "duration": 909,
    "start_time": "2021-12-08T18:06:54.951Z"
   },
   {
    "duration": 1500,
    "start_time": "2021-12-08T18:06:55.864Z"
   },
   {
    "duration": 6,
    "start_time": "2021-12-08T18:06:57.367Z"
   },
   {
    "duration": 132,
    "start_time": "2021-12-08T18:06:57.377Z"
   },
   {
    "duration": 6109,
    "start_time": "2021-12-08T18:06:57.512Z"
   },
   {
    "duration": 60295,
    "start_time": "2021-12-08T18:07:03.624Z"
   },
   {
    "duration": 42,
    "start_time": "2021-12-08T18:08:03.921Z"
   },
   {
    "duration": 28,
    "start_time": "2021-12-08T18:08:03.995Z"
   },
   {
    "duration": 620,
    "start_time": "2021-12-08T18:13:45.516Z"
   },
   {
    "duration": 31,
    "start_time": "2021-12-08T18:14:00.475Z"
   },
   {
    "duration": 38,
    "start_time": "2021-12-08T18:20:53.339Z"
   },
   {
    "duration": 34,
    "start_time": "2021-12-08T18:21:20.932Z"
   },
   {
    "duration": 32,
    "start_time": "2021-12-08T18:21:35.459Z"
   },
   {
    "duration": 49,
    "start_time": "2021-12-08T18:22:23.638Z"
   },
   {
    "duration": 33,
    "start_time": "2021-12-08T18:23:14.554Z"
   },
   {
    "duration": 33,
    "start_time": "2021-12-08T18:23:57.613Z"
   },
   {
    "duration": 33,
    "start_time": "2021-12-08T18:24:40.906Z"
   }
  ],
  "kernelspec": {
   "display_name": "Python 3 (ipykernel)",
   "language": "python",
   "name": "python3"
  },
  "language_info": {
   "codemirror_mode": {
    "name": "ipython",
    "version": 3
   },
   "file_extension": ".py",
   "mimetype": "text/x-python",
   "name": "python",
   "nbconvert_exporter": "python",
   "pygments_lexer": "ipython3",
   "version": "3.9.5"
  },
  "toc": {
   "base_numbering": 1,
   "nav_menu": {},
   "number_sections": true,
   "sideBar": true,
   "skip_h1_title": true,
   "title_cell": "Table of Contents",
   "title_sidebar": "Contents",
   "toc_cell": false,
   "toc_position": {},
   "toc_section_display": true,
   "toc_window_display": false
  }
 },
 "nbformat": 4,
 "nbformat_minor": 2
}
