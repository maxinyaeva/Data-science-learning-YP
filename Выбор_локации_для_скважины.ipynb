{
 "cells": [
  {
   "cell_type": "markdown",
   "metadata": {},
   "source": [
    "Привет, меня зовут Артем Хуршудов. Сегодня я проверю твой проект.\n",
    "<br> Дальнейшее общение будет происходить на \"ты\" если это не вызывает никаких проблем.\n",
    "<br> Желательно реагировать на каждый мой комментарий ('исправил', 'не понятно как исправить ошибку', ...)\n",
    "<br> Пожалуйста, не удаляй комментарии ревьюера, так как они повышают качество повторного ревью.\n",
    "\n",
    "Комментарии будут в <font color='green'>зеленой</font>, <font color='blue'>синей</font> или <font color='red'>красной</font> рамках:\n",
    "\n",
    "<div class=\"alert alert-block alert-success\">\n",
    "<b>Успех:</b> Если все сделано отлично\n",
    "</div>\n",
    "\n",
    "<div class=\"alert alert-block alert-info\">\n",
    "<b>Совет: </b> Если можно немного улучшить\n",
    "</div>\n",
    "\n",
    "<div class=\"alert alert-block alert-danger\">\n",
    "<b>Ошибка:</b> Если требуются исправления. Работа не может быть принята с красными комментариями.\n",
    "</div>\n",
    "\n",
    "-------------------\n",
    "\n",
    "Будет очень хорошо, если ты будешь помечать свои действия следующим образом:\n",
    "<div class=\"alert alert-block alert-warning\">\n",
    "<b>Комментарий студента:</b> ...\n",
    "</div>\n",
    "\n",
    "<div class=\"alert alert-block alert-warning\">\n",
    "<b>Изменения:</b> Были внесены следующие изменения ...\n",
    "</div>\n",
    "\n",
    "### <font color='orange'>Общее впечатление</font>\n",
    "* Большое спасибо за проделанную работу. Видно, что приложено много усилий.\n",
    "* Выводы и рассуждения получились содержательными, их было интересно читать.\n",
    "* Радует, что тебе удалось разобраться с техникой бутстрапа.\n",
    "* Отлично, что доверительный интервал и риск убытков посчитаны верно.\n",
    "* Редко, кто сдает эту работу с первого раза, молодец!\n",
    "* Проект может быть зачтен, но я его отправлю назад, чтобы у тебя была возможность задать вопросы и внести правки, при желании. Однако, ты можешь просто вернуть проект в таком же виде и я его зачту."
   ]
  },
  {
   "cell_type": "markdown",
   "metadata": {},
   "source": [
    "### <font color='orange'>Общее впечатление (ревью 2)</font>\n",
    "* Проект зачтен!\n",
    "* Удачи в дальнейшем обучении и следующих работах!"
   ]
  },
  {
   "cell_type": "markdown",
   "metadata": {},
   "source": [
    "# Выбор локации для скважины"
   ]
  },
  {
   "cell_type": "markdown",
   "metadata": {},
   "source": [
    "Допустим, вы работаете в добывающей компании «ГлавРосГосНефть». Нужно решить, где бурить новую скважину.\n",
    "\n",
    "Вам предоставлены пробы нефти в трёх регионах: в каждом 10 000 месторождений, где измерили качество нефти и объём её запасов. Постройте модель машинного обучения, которая поможет определить регион, где добыча принесёт наибольшую прибыль. Проанализируйте возможную прибыль и риски техникой *Bootstrap.*\n",
    "\n",
    "Шаги для выбора локации:\n",
    "\n",
    "- В избранном регионе ищут месторождения, для каждого определяют значения признаков;\n",
    "- Строят модель и оценивают объём запасов;\n",
    "- Выбирают месторождения с самым высокими оценками значений. Количество месторождений зависит от бюджета компании и стоимости разработки одной скважины;\n",
    "- Прибыль равна суммарной прибыли отобранных месторождений."
   ]
  },
  {
   "cell_type": "markdown",
   "metadata": {},
   "source": [
    "## Загрузка и подготовка данных"
   ]
  },
  {
   "cell_type": "markdown",
   "metadata": {},
   "source": [
    "Условия задачи:  \n",
    "- Для обучения модели подходит только линейная регрессия (остальные — недостаточно предсказуемые).\n",
    "- При разведке региона исследуют 500 точек, из которых с помощью машинного обучения выбирают 200 лучших для разработки.\n",
    "- Бюджет на разработку скважин в регионе — 10 млрд рублей.\n",
    "- При нынешних ценах один баррель сырья приносит 450 рублей дохода. Доход с каждой единицы продукта составляет 450 тыс. рублей, поскольку объём указан в тысячах баррелей.\n",
    "- После оценки рисков нужно оставить лишь те регионы, в которых вероятность убытков меньше 2.5%. Среди них выбирают регион с наибольшей средней прибылью."
   ]
  },
  {
   "cell_type": "markdown",
   "metadata": {},
   "source": [
    "Импортируем все необходимые библиотеки для решения данной задачи"
   ]
  },
  {
   "cell_type": "code",
   "execution_count": 1,
   "metadata": {},
   "outputs": [],
   "source": [
    "import pandas as pd\n",
    "import numpy as np\n",
    "from sklearn.model_selection import train_test_split\n",
    "from sklearn.preprocessing import StandardScaler\n",
    "from sklearn.linear_model import LinearRegression\n",
    "from sklearn.metrics import mean_squared_error"
   ]
  },
  {
   "cell_type": "markdown",
   "metadata": {},
   "source": [
    "<div class=\"alert alert-block alert-success\">\n",
    "<b>Успех:</b> Отлично, что все импорты собраны в первой ячейке ноутбука! Если у того, кто будет запускать твой ноутбук будут отсутствовать некоторые библиотеки, то он это увидит сразу, а не в процессе!\n",
    "</div>"
   ]
  },
  {
   "cell_type": "code",
   "execution_count": 2,
   "metadata": {},
   "outputs": [],
   "source": [
    "data_0 = pd.read_csv('/datasets/geo_data_0.csv')"
   ]
  },
  {
   "cell_type": "code",
   "execution_count": 3,
   "metadata": {},
   "outputs": [
    {
     "data": {
      "text/html": [
       "<div>\n",
       "<style scoped>\n",
       "    .dataframe tbody tr th:only-of-type {\n",
       "        vertical-align: middle;\n",
       "    }\n",
       "\n",
       "    .dataframe tbody tr th {\n",
       "        vertical-align: top;\n",
       "    }\n",
       "\n",
       "    .dataframe thead th {\n",
       "        text-align: right;\n",
       "    }\n",
       "</style>\n",
       "<table border=\"1\" class=\"dataframe\">\n",
       "  <thead>\n",
       "    <tr style=\"text-align: right;\">\n",
       "      <th></th>\n",
       "      <th>id</th>\n",
       "      <th>f0</th>\n",
       "      <th>f1</th>\n",
       "      <th>f2</th>\n",
       "      <th>product</th>\n",
       "    </tr>\n",
       "  </thead>\n",
       "  <tbody>\n",
       "    <tr>\n",
       "      <td>0</td>\n",
       "      <td>txEyH</td>\n",
       "      <td>0.705745</td>\n",
       "      <td>-0.497823</td>\n",
       "      <td>1.221170</td>\n",
       "      <td>105.280062</td>\n",
       "    </tr>\n",
       "    <tr>\n",
       "      <td>1</td>\n",
       "      <td>2acmU</td>\n",
       "      <td>1.334711</td>\n",
       "      <td>-0.340164</td>\n",
       "      <td>4.365080</td>\n",
       "      <td>73.037750</td>\n",
       "    </tr>\n",
       "    <tr>\n",
       "      <td>2</td>\n",
       "      <td>409Wp</td>\n",
       "      <td>1.022732</td>\n",
       "      <td>0.151990</td>\n",
       "      <td>1.419926</td>\n",
       "      <td>85.265647</td>\n",
       "    </tr>\n",
       "    <tr>\n",
       "      <td>3</td>\n",
       "      <td>iJLyR</td>\n",
       "      <td>-0.032172</td>\n",
       "      <td>0.139033</td>\n",
       "      <td>2.978566</td>\n",
       "      <td>168.620776</td>\n",
       "    </tr>\n",
       "    <tr>\n",
       "      <td>4</td>\n",
       "      <td>Xdl7t</td>\n",
       "      <td>1.988431</td>\n",
       "      <td>0.155413</td>\n",
       "      <td>4.751769</td>\n",
       "      <td>154.036647</td>\n",
       "    </tr>\n",
       "  </tbody>\n",
       "</table>\n",
       "</div>"
      ],
      "text/plain": [
       "      id        f0        f1        f2     product\n",
       "0  txEyH  0.705745 -0.497823  1.221170  105.280062\n",
       "1  2acmU  1.334711 -0.340164  4.365080   73.037750\n",
       "2  409Wp  1.022732  0.151990  1.419926   85.265647\n",
       "3  iJLyR -0.032172  0.139033  2.978566  168.620776\n",
       "4  Xdl7t  1.988431  0.155413  4.751769  154.036647"
      ]
     },
     "execution_count": 3,
     "metadata": {},
     "output_type": "execute_result"
    }
   ],
   "source": [
    "data_0.head()"
   ]
  },
  {
   "cell_type": "code",
   "execution_count": 4,
   "metadata": {},
   "outputs": [
    {
     "name": "stdout",
     "output_type": "stream",
     "text": [
      "<class 'pandas.core.frame.DataFrame'>\n",
      "RangeIndex: 100000 entries, 0 to 99999\n",
      "Data columns (total 5 columns):\n",
      "id         100000 non-null object\n",
      "f0         100000 non-null float64\n",
      "f1         100000 non-null float64\n",
      "f2         100000 non-null float64\n",
      "product    100000 non-null float64\n",
      "dtypes: float64(4), object(1)\n",
      "memory usage: 3.8+ MB\n"
     ]
    }
   ],
   "source": [
    "data_0.info()"
   ]
  },
  {
   "cell_type": "code",
   "execution_count": 5,
   "metadata": {},
   "outputs": [
    {
     "data": {
      "text/html": [
       "<div>\n",
       "<style scoped>\n",
       "    .dataframe tbody tr th:only-of-type {\n",
       "        vertical-align: middle;\n",
       "    }\n",
       "\n",
       "    .dataframe tbody tr th {\n",
       "        vertical-align: top;\n",
       "    }\n",
       "\n",
       "    .dataframe thead th {\n",
       "        text-align: right;\n",
       "    }\n",
       "</style>\n",
       "<table border=\"1\" class=\"dataframe\">\n",
       "  <thead>\n",
       "    <tr style=\"text-align: right;\">\n",
       "      <th></th>\n",
       "      <th>f0</th>\n",
       "      <th>f1</th>\n",
       "      <th>f2</th>\n",
       "      <th>product</th>\n",
       "    </tr>\n",
       "  </thead>\n",
       "  <tbody>\n",
       "    <tr>\n",
       "      <td>count</td>\n",
       "      <td>100000.000000</td>\n",
       "      <td>100000.000000</td>\n",
       "      <td>100000.000000</td>\n",
       "      <td>100000.000000</td>\n",
       "    </tr>\n",
       "    <tr>\n",
       "      <td>mean</td>\n",
       "      <td>0.500419</td>\n",
       "      <td>0.250143</td>\n",
       "      <td>2.502647</td>\n",
       "      <td>92.500000</td>\n",
       "    </tr>\n",
       "    <tr>\n",
       "      <td>std</td>\n",
       "      <td>0.871832</td>\n",
       "      <td>0.504433</td>\n",
       "      <td>3.248248</td>\n",
       "      <td>44.288691</td>\n",
       "    </tr>\n",
       "    <tr>\n",
       "      <td>min</td>\n",
       "      <td>-1.408605</td>\n",
       "      <td>-0.848218</td>\n",
       "      <td>-12.088328</td>\n",
       "      <td>0.000000</td>\n",
       "    </tr>\n",
       "    <tr>\n",
       "      <td>25%</td>\n",
       "      <td>-0.072580</td>\n",
       "      <td>-0.200881</td>\n",
       "      <td>0.287748</td>\n",
       "      <td>56.497507</td>\n",
       "    </tr>\n",
       "    <tr>\n",
       "      <td>50%</td>\n",
       "      <td>0.502360</td>\n",
       "      <td>0.250252</td>\n",
       "      <td>2.515969</td>\n",
       "      <td>91.849972</td>\n",
       "    </tr>\n",
       "    <tr>\n",
       "      <td>75%</td>\n",
       "      <td>1.073581</td>\n",
       "      <td>0.700646</td>\n",
       "      <td>4.715088</td>\n",
       "      <td>128.564089</td>\n",
       "    </tr>\n",
       "    <tr>\n",
       "      <td>max</td>\n",
       "      <td>2.362331</td>\n",
       "      <td>1.343769</td>\n",
       "      <td>16.003790</td>\n",
       "      <td>185.364347</td>\n",
       "    </tr>\n",
       "  </tbody>\n",
       "</table>\n",
       "</div>"
      ],
      "text/plain": [
       "                  f0             f1             f2        product\n",
       "count  100000.000000  100000.000000  100000.000000  100000.000000\n",
       "mean        0.500419       0.250143       2.502647      92.500000\n",
       "std         0.871832       0.504433       3.248248      44.288691\n",
       "min        -1.408605      -0.848218     -12.088328       0.000000\n",
       "25%        -0.072580      -0.200881       0.287748      56.497507\n",
       "50%         0.502360       0.250252       2.515969      91.849972\n",
       "75%         1.073581       0.700646       4.715088     128.564089\n",
       "max         2.362331       1.343769      16.003790     185.364347"
      ]
     },
     "execution_count": 5,
     "metadata": {},
     "output_type": "execute_result"
    }
   ],
   "source": [
    "data_0.describe()"
   ]
  },
  {
   "cell_type": "code",
   "execution_count": 6,
   "metadata": {},
   "outputs": [],
   "source": [
    "data_1 = pd.read_csv('/datasets/geo_data_1.csv')"
   ]
  },
  {
   "cell_type": "code",
   "execution_count": 7,
   "metadata": {},
   "outputs": [
    {
     "data": {
      "text/html": [
       "<div>\n",
       "<style scoped>\n",
       "    .dataframe tbody tr th:only-of-type {\n",
       "        vertical-align: middle;\n",
       "    }\n",
       "\n",
       "    .dataframe tbody tr th {\n",
       "        vertical-align: top;\n",
       "    }\n",
       "\n",
       "    .dataframe thead th {\n",
       "        text-align: right;\n",
       "    }\n",
       "</style>\n",
       "<table border=\"1\" class=\"dataframe\">\n",
       "  <thead>\n",
       "    <tr style=\"text-align: right;\">\n",
       "      <th></th>\n",
       "      <th>id</th>\n",
       "      <th>f0</th>\n",
       "      <th>f1</th>\n",
       "      <th>f2</th>\n",
       "      <th>product</th>\n",
       "    </tr>\n",
       "  </thead>\n",
       "  <tbody>\n",
       "    <tr>\n",
       "      <td>0</td>\n",
       "      <td>kBEdx</td>\n",
       "      <td>-15.001348</td>\n",
       "      <td>-8.276000</td>\n",
       "      <td>-0.005876</td>\n",
       "      <td>3.179103</td>\n",
       "    </tr>\n",
       "    <tr>\n",
       "      <td>1</td>\n",
       "      <td>62mP7</td>\n",
       "      <td>14.272088</td>\n",
       "      <td>-3.475083</td>\n",
       "      <td>0.999183</td>\n",
       "      <td>26.953261</td>\n",
       "    </tr>\n",
       "    <tr>\n",
       "      <td>2</td>\n",
       "      <td>vyE1P</td>\n",
       "      <td>6.263187</td>\n",
       "      <td>-5.948386</td>\n",
       "      <td>5.001160</td>\n",
       "      <td>134.766305</td>\n",
       "    </tr>\n",
       "    <tr>\n",
       "      <td>3</td>\n",
       "      <td>KcrkZ</td>\n",
       "      <td>-13.081196</td>\n",
       "      <td>-11.506057</td>\n",
       "      <td>4.999415</td>\n",
       "      <td>137.945408</td>\n",
       "    </tr>\n",
       "    <tr>\n",
       "      <td>4</td>\n",
       "      <td>AHL4O</td>\n",
       "      <td>12.702195</td>\n",
       "      <td>-8.147433</td>\n",
       "      <td>5.004363</td>\n",
       "      <td>134.766305</td>\n",
       "    </tr>\n",
       "  </tbody>\n",
       "</table>\n",
       "</div>"
      ],
      "text/plain": [
       "      id         f0         f1        f2     product\n",
       "0  kBEdx -15.001348  -8.276000 -0.005876    3.179103\n",
       "1  62mP7  14.272088  -3.475083  0.999183   26.953261\n",
       "2  vyE1P   6.263187  -5.948386  5.001160  134.766305\n",
       "3  KcrkZ -13.081196 -11.506057  4.999415  137.945408\n",
       "4  AHL4O  12.702195  -8.147433  5.004363  134.766305"
      ]
     },
     "execution_count": 7,
     "metadata": {},
     "output_type": "execute_result"
    }
   ],
   "source": [
    "data_1.head()"
   ]
  },
  {
   "cell_type": "code",
   "execution_count": 8,
   "metadata": {},
   "outputs": [
    {
     "name": "stdout",
     "output_type": "stream",
     "text": [
      "<class 'pandas.core.frame.DataFrame'>\n",
      "RangeIndex: 100000 entries, 0 to 99999\n",
      "Data columns (total 5 columns):\n",
      "id         100000 non-null object\n",
      "f0         100000 non-null float64\n",
      "f1         100000 non-null float64\n",
      "f2         100000 non-null float64\n",
      "product    100000 non-null float64\n",
      "dtypes: float64(4), object(1)\n",
      "memory usage: 3.8+ MB\n"
     ]
    }
   ],
   "source": [
    "data_1.info()"
   ]
  },
  {
   "cell_type": "code",
   "execution_count": 9,
   "metadata": {},
   "outputs": [
    {
     "data": {
      "text/html": [
       "<div>\n",
       "<style scoped>\n",
       "    .dataframe tbody tr th:only-of-type {\n",
       "        vertical-align: middle;\n",
       "    }\n",
       "\n",
       "    .dataframe tbody tr th {\n",
       "        vertical-align: top;\n",
       "    }\n",
       "\n",
       "    .dataframe thead th {\n",
       "        text-align: right;\n",
       "    }\n",
       "</style>\n",
       "<table border=\"1\" class=\"dataframe\">\n",
       "  <thead>\n",
       "    <tr style=\"text-align: right;\">\n",
       "      <th></th>\n",
       "      <th>f0</th>\n",
       "      <th>f1</th>\n",
       "      <th>f2</th>\n",
       "      <th>product</th>\n",
       "    </tr>\n",
       "  </thead>\n",
       "  <tbody>\n",
       "    <tr>\n",
       "      <td>count</td>\n",
       "      <td>100000.000000</td>\n",
       "      <td>100000.000000</td>\n",
       "      <td>100000.000000</td>\n",
       "      <td>100000.000000</td>\n",
       "    </tr>\n",
       "    <tr>\n",
       "      <td>mean</td>\n",
       "      <td>1.141296</td>\n",
       "      <td>-4.796579</td>\n",
       "      <td>2.494541</td>\n",
       "      <td>68.825000</td>\n",
       "    </tr>\n",
       "    <tr>\n",
       "      <td>std</td>\n",
       "      <td>8.965932</td>\n",
       "      <td>5.119872</td>\n",
       "      <td>1.703572</td>\n",
       "      <td>45.944423</td>\n",
       "    </tr>\n",
       "    <tr>\n",
       "      <td>min</td>\n",
       "      <td>-31.609576</td>\n",
       "      <td>-26.358598</td>\n",
       "      <td>-0.018144</td>\n",
       "      <td>0.000000</td>\n",
       "    </tr>\n",
       "    <tr>\n",
       "      <td>25%</td>\n",
       "      <td>-6.298551</td>\n",
       "      <td>-8.267985</td>\n",
       "      <td>1.000021</td>\n",
       "      <td>26.953261</td>\n",
       "    </tr>\n",
       "    <tr>\n",
       "      <td>50%</td>\n",
       "      <td>1.153055</td>\n",
       "      <td>-4.813172</td>\n",
       "      <td>2.011479</td>\n",
       "      <td>57.085625</td>\n",
       "    </tr>\n",
       "    <tr>\n",
       "      <td>75%</td>\n",
       "      <td>8.621015</td>\n",
       "      <td>-1.332816</td>\n",
       "      <td>3.999904</td>\n",
       "      <td>107.813044</td>\n",
       "    </tr>\n",
       "    <tr>\n",
       "      <td>max</td>\n",
       "      <td>29.421755</td>\n",
       "      <td>18.734063</td>\n",
       "      <td>5.019721</td>\n",
       "      <td>137.945408</td>\n",
       "    </tr>\n",
       "  </tbody>\n",
       "</table>\n",
       "</div>"
      ],
      "text/plain": [
       "                  f0             f1             f2        product\n",
       "count  100000.000000  100000.000000  100000.000000  100000.000000\n",
       "mean        1.141296      -4.796579       2.494541      68.825000\n",
       "std         8.965932       5.119872       1.703572      45.944423\n",
       "min       -31.609576     -26.358598      -0.018144       0.000000\n",
       "25%        -6.298551      -8.267985       1.000021      26.953261\n",
       "50%         1.153055      -4.813172       2.011479      57.085625\n",
       "75%         8.621015      -1.332816       3.999904     107.813044\n",
       "max        29.421755      18.734063       5.019721     137.945408"
      ]
     },
     "execution_count": 9,
     "metadata": {},
     "output_type": "execute_result"
    }
   ],
   "source": [
    "data_1.describe()"
   ]
  },
  {
   "cell_type": "code",
   "execution_count": 10,
   "metadata": {},
   "outputs": [],
   "source": [
    "data_2 = pd.read_csv('/datasets/geo_data_2.csv')"
   ]
  },
  {
   "cell_type": "code",
   "execution_count": 11,
   "metadata": {},
   "outputs": [
    {
     "data": {
      "text/html": [
       "<div>\n",
       "<style scoped>\n",
       "    .dataframe tbody tr th:only-of-type {\n",
       "        vertical-align: middle;\n",
       "    }\n",
       "\n",
       "    .dataframe tbody tr th {\n",
       "        vertical-align: top;\n",
       "    }\n",
       "\n",
       "    .dataframe thead th {\n",
       "        text-align: right;\n",
       "    }\n",
       "</style>\n",
       "<table border=\"1\" class=\"dataframe\">\n",
       "  <thead>\n",
       "    <tr style=\"text-align: right;\">\n",
       "      <th></th>\n",
       "      <th>id</th>\n",
       "      <th>f0</th>\n",
       "      <th>f1</th>\n",
       "      <th>f2</th>\n",
       "      <th>product</th>\n",
       "    </tr>\n",
       "  </thead>\n",
       "  <tbody>\n",
       "    <tr>\n",
       "      <td>0</td>\n",
       "      <td>fwXo0</td>\n",
       "      <td>-1.146987</td>\n",
       "      <td>0.963328</td>\n",
       "      <td>-0.828965</td>\n",
       "      <td>27.758673</td>\n",
       "    </tr>\n",
       "    <tr>\n",
       "      <td>1</td>\n",
       "      <td>WJtFt</td>\n",
       "      <td>0.262778</td>\n",
       "      <td>0.269839</td>\n",
       "      <td>-2.530187</td>\n",
       "      <td>56.069697</td>\n",
       "    </tr>\n",
       "    <tr>\n",
       "      <td>2</td>\n",
       "      <td>ovLUW</td>\n",
       "      <td>0.194587</td>\n",
       "      <td>0.289035</td>\n",
       "      <td>-5.586433</td>\n",
       "      <td>62.871910</td>\n",
       "    </tr>\n",
       "    <tr>\n",
       "      <td>3</td>\n",
       "      <td>q6cA6</td>\n",
       "      <td>2.236060</td>\n",
       "      <td>-0.553760</td>\n",
       "      <td>0.930038</td>\n",
       "      <td>114.572842</td>\n",
       "    </tr>\n",
       "    <tr>\n",
       "      <td>4</td>\n",
       "      <td>WPMUX</td>\n",
       "      <td>-0.515993</td>\n",
       "      <td>1.716266</td>\n",
       "      <td>5.899011</td>\n",
       "      <td>149.600746</td>\n",
       "    </tr>\n",
       "  </tbody>\n",
       "</table>\n",
       "</div>"
      ],
      "text/plain": [
       "      id        f0        f1        f2     product\n",
       "0  fwXo0 -1.146987  0.963328 -0.828965   27.758673\n",
       "1  WJtFt  0.262778  0.269839 -2.530187   56.069697\n",
       "2  ovLUW  0.194587  0.289035 -5.586433   62.871910\n",
       "3  q6cA6  2.236060 -0.553760  0.930038  114.572842\n",
       "4  WPMUX -0.515993  1.716266  5.899011  149.600746"
      ]
     },
     "execution_count": 11,
     "metadata": {},
     "output_type": "execute_result"
    }
   ],
   "source": [
    "data_2.head()"
   ]
  },
  {
   "cell_type": "code",
   "execution_count": 12,
   "metadata": {},
   "outputs": [
    {
     "name": "stdout",
     "output_type": "stream",
     "text": [
      "<class 'pandas.core.frame.DataFrame'>\n",
      "RangeIndex: 100000 entries, 0 to 99999\n",
      "Data columns (total 5 columns):\n",
      "id         100000 non-null object\n",
      "f0         100000 non-null float64\n",
      "f1         100000 non-null float64\n",
      "f2         100000 non-null float64\n",
      "product    100000 non-null float64\n",
      "dtypes: float64(4), object(1)\n",
      "memory usage: 3.8+ MB\n"
     ]
    }
   ],
   "source": [
    "data_2.info()"
   ]
  },
  {
   "cell_type": "code",
   "execution_count": 13,
   "metadata": {},
   "outputs": [
    {
     "data": {
      "text/html": [
       "<div>\n",
       "<style scoped>\n",
       "    .dataframe tbody tr th:only-of-type {\n",
       "        vertical-align: middle;\n",
       "    }\n",
       "\n",
       "    .dataframe tbody tr th {\n",
       "        vertical-align: top;\n",
       "    }\n",
       "\n",
       "    .dataframe thead th {\n",
       "        text-align: right;\n",
       "    }\n",
       "</style>\n",
       "<table border=\"1\" class=\"dataframe\">\n",
       "  <thead>\n",
       "    <tr style=\"text-align: right;\">\n",
       "      <th></th>\n",
       "      <th>f0</th>\n",
       "      <th>f1</th>\n",
       "      <th>f2</th>\n",
       "      <th>product</th>\n",
       "    </tr>\n",
       "  </thead>\n",
       "  <tbody>\n",
       "    <tr>\n",
       "      <td>count</td>\n",
       "      <td>100000.000000</td>\n",
       "      <td>100000.000000</td>\n",
       "      <td>100000.000000</td>\n",
       "      <td>100000.000000</td>\n",
       "    </tr>\n",
       "    <tr>\n",
       "      <td>mean</td>\n",
       "      <td>0.002023</td>\n",
       "      <td>-0.002081</td>\n",
       "      <td>2.495128</td>\n",
       "      <td>95.000000</td>\n",
       "    </tr>\n",
       "    <tr>\n",
       "      <td>std</td>\n",
       "      <td>1.732045</td>\n",
       "      <td>1.730417</td>\n",
       "      <td>3.473445</td>\n",
       "      <td>44.749921</td>\n",
       "    </tr>\n",
       "    <tr>\n",
       "      <td>min</td>\n",
       "      <td>-8.760004</td>\n",
       "      <td>-7.084020</td>\n",
       "      <td>-11.970335</td>\n",
       "      <td>0.000000</td>\n",
       "    </tr>\n",
       "    <tr>\n",
       "      <td>25%</td>\n",
       "      <td>-1.162288</td>\n",
       "      <td>-1.174820</td>\n",
       "      <td>0.130359</td>\n",
       "      <td>59.450441</td>\n",
       "    </tr>\n",
       "    <tr>\n",
       "      <td>50%</td>\n",
       "      <td>0.009424</td>\n",
       "      <td>-0.009482</td>\n",
       "      <td>2.484236</td>\n",
       "      <td>94.925613</td>\n",
       "    </tr>\n",
       "    <tr>\n",
       "      <td>75%</td>\n",
       "      <td>1.158535</td>\n",
       "      <td>1.163678</td>\n",
       "      <td>4.858794</td>\n",
       "      <td>130.595027</td>\n",
       "    </tr>\n",
       "    <tr>\n",
       "      <td>max</td>\n",
       "      <td>7.238262</td>\n",
       "      <td>7.844801</td>\n",
       "      <td>16.739402</td>\n",
       "      <td>190.029838</td>\n",
       "    </tr>\n",
       "  </tbody>\n",
       "</table>\n",
       "</div>"
      ],
      "text/plain": [
       "                  f0             f1             f2        product\n",
       "count  100000.000000  100000.000000  100000.000000  100000.000000\n",
       "mean        0.002023      -0.002081       2.495128      95.000000\n",
       "std         1.732045       1.730417       3.473445      44.749921\n",
       "min        -8.760004      -7.084020     -11.970335       0.000000\n",
       "25%        -1.162288      -1.174820       0.130359      59.450441\n",
       "50%         0.009424      -0.009482       2.484236      94.925613\n",
       "75%         1.158535       1.163678       4.858794     130.595027\n",
       "max         7.238262       7.844801      16.739402     190.029838"
      ]
     },
     "execution_count": 13,
     "metadata": {},
     "output_type": "execute_result"
    }
   ],
   "source": [
    "data_2.describe()"
   ]
  },
  {
   "cell_type": "markdown",
   "metadata": {},
   "source": [
    "В трех представленных датасетах мы имеим следующие данные:\n",
    "- id — уникальный идентификатор скважины;\n",
    "- f0, f1, f2 — три признака точек (неважно, что они означают, но сами признаки значимы);\n",
    "- product — объём запасов в скважине (тыс. баррелей)."
   ]
  },
  {
   "cell_type": "markdown",
   "metadata": {},
   "source": [
    "Пропущенные значения во всех трех таблицах отсутсвуют, но необходимо проверить данные на явные дубликаты."
   ]
  },
  {
   "cell_type": "code",
   "execution_count": 14,
   "metadata": {},
   "outputs": [
    {
     "name": "stdout",
     "output_type": "stream",
     "text": [
      "0\n",
      "0\n",
      "0\n"
     ]
    }
   ],
   "source": [
    "print(data_0.duplicated().sum())\n",
    "print(data_1.duplicated().sum())\n",
    "print(data_2.duplicated().sum())"
   ]
  },
  {
   "cell_type": "markdown",
   "metadata": {},
   "source": [
    "Повторяющиеся строки не обнаружены во всех трех таблицах."
   ]
  },
  {
   "cell_type": "markdown",
   "metadata": {},
   "source": [
    "<div class=\"alert alert-block alert-success\">\n",
    "<b>Успех:</b> Данные загружены корректно, первичный осмотр проведен.\n",
    "</div>"
   ]
  },
  {
   "cell_type": "markdown",
   "metadata": {},
   "source": [
    "Т.к. по условию задачи все три показателя важны, то нет смысла проверять их на корреляцию - выбрасывать данные из таблиц мы не будем. А так же, по скольку невозможно оценить что является вбросом, а что нет (мы не знаем что это за признаки и что для них считается нормальным значением), просто отмасштабируем необходимые для расчетов столбцы: f0, f1, f2."
   ]
  },
  {
   "cell_type": "markdown",
   "metadata": {},
   "source": [
    "Определим целевой признак и признаки."
   ]
  },
  {
   "cell_type": "code",
   "execution_count": 15,
   "metadata": {},
   "outputs": [],
   "source": [
    "def target_features(data):\n",
    "    target = data['product']\n",
    "    features= data.drop(['product', 'id'], axis=1)\n",
    "    return target, features"
   ]
  },
  {
   "cell_type": "code",
   "execution_count": 16,
   "metadata": {},
   "outputs": [],
   "source": [
    "target_0, features_0 = target_features(data_0)"
   ]
  },
  {
   "cell_type": "code",
   "execution_count": 17,
   "metadata": {},
   "outputs": [],
   "source": [
    "target_1, features_1 = target_features(data_1)"
   ]
  },
  {
   "cell_type": "code",
   "execution_count": 18,
   "metadata": {},
   "outputs": [],
   "source": [
    "target_2, features_2 = target_features(data_2)"
   ]
  },
  {
   "cell_type": "code",
   "execution_count": 19,
   "metadata": {},
   "outputs": [],
   "source": [
    "def train_valid(features, target):\n",
    "    features_train, features_valid, target_train, target_valid = train_test_split(\n",
    "       features, target, test_size=0.25, random_state=12345)\n",
    "    return features_train, features_valid, target_train, target_valid"
   ]
  },
  {
   "cell_type": "code",
   "execution_count": 20,
   "metadata": {},
   "outputs": [],
   "source": [
    "features_train_0, features_valid_0, target_train_0, target_valid_0 = train_valid(features_0, target_0)"
   ]
  },
  {
   "cell_type": "code",
   "execution_count": 21,
   "metadata": {},
   "outputs": [
    {
     "name": "stdout",
     "output_type": "stream",
     "text": [
      "Размер обучающей выборки: (75000, 3) (75000,)\n",
      "Размер валидационной выборки: (25000, 3) (25000,)\n"
     ]
    }
   ],
   "source": [
    "print('Размер обучающей выборки:', features_train_0.shape, target_train_0.shape)\n",
    "print('Размер валидационной выборки:', features_valid_0.shape, target_valid_0.shape)"
   ]
  },
  {
   "cell_type": "code",
   "execution_count": 22,
   "metadata": {},
   "outputs": [],
   "source": [
    "features_train_1, features_valid_1, target_train_1, target_valid_1 = train_valid(features_1, target_1)"
   ]
  },
  {
   "cell_type": "code",
   "execution_count": 23,
   "metadata": {},
   "outputs": [
    {
     "name": "stdout",
     "output_type": "stream",
     "text": [
      "Размер обучающей выборки: (75000, 3) (75000,)\n",
      "Размер валидационной выборки: (25000, 3) (25000,)\n"
     ]
    }
   ],
   "source": [
    "print('Размер обучающей выборки:', features_train_1.shape, target_train_1.shape)\n",
    "print('Размер валидационной выборки:', features_valid_1.shape, target_valid_1.shape)"
   ]
  },
  {
   "cell_type": "code",
   "execution_count": 24,
   "metadata": {},
   "outputs": [],
   "source": [
    "features_train_2, features_valid_2, target_train_2, target_valid_2 = train_valid(features_2, target_2)"
   ]
  },
  {
   "cell_type": "code",
   "execution_count": 25,
   "metadata": {},
   "outputs": [
    {
     "name": "stdout",
     "output_type": "stream",
     "text": [
      "Размер обучающей выборки: (75000, 3) (75000,)\n",
      "Размер валидационной выборки: (25000, 3) (25000,)\n"
     ]
    }
   ],
   "source": [
    "print('Размер обучающей выборки:', features_train_2.shape, target_train_2.shape)\n",
    "print('Размер валидационной выборки:', features_valid_2.shape, target_valid_2.shape)"
   ]
  },
  {
   "cell_type": "markdown",
   "metadata": {},
   "source": [
    "Отмасштабируем признаки на обучающих и валидационных выборках."
   ]
  },
  {
   "cell_type": "code",
   "execution_count": 26,
   "metadata": {},
   "outputs": [],
   "source": [
    "#Пыталась записать функцию для масштабирования, но она не работает. В чем ошибка? \n",
    "def scaler_transforn(features_train, features_valid):\n",
    "    numeric = ['f0', 'f1', 'f2']\n",
    "    scaler = StandardScaler()\n",
    "    scaler.fit(features_train[numeric])\n",
    "    features_train[numeric] = scaler.transform(features_train[numeric])\n",
    "    features_valid[numeric] = scaler.transform(features_valid[numeric])\n",
    "    \n",
    "    return features_train, features_valid"
   ]
  },
  {
   "cell_type": "code",
   "execution_count": 29,
   "metadata": {},
   "outputs": [],
   "source": [
    "features_train_0, features_valid_0 = scaler_transforn(features_train_0, features_valid_0)\n",
    "pd.options.mode.chained_assignment = None"
   ]
  },
  {
   "cell_type": "markdown",
   "metadata": {},
   "source": [
    "<div class=\"alert alert-block alert-info\">\n",
    "<b>Совет: </b> А можешь показать ошибку, что значит не работает? Может быть это из-за опечатки в названии?\n",
    "</div>"
   ]
  },
  {
   "cell_type": "markdown",
   "metadata": {},
   "source": [
    "**Функция работает, какая-то магия)"
   ]
  },
  {
   "cell_type": "code",
   "execution_count": 28,
   "metadata": {},
   "outputs": [],
   "source": [
    "#numeric = ['f0', 'f1', 'f2']"
   ]
  },
  {
   "cell_type": "code",
   "execution_count": 31,
   "metadata": {},
   "outputs": [],
   "source": [
    "#scaler = StandardScaler()\n",
    "#scaler.fit(features_train_0[numeric])\n",
    "#features_train_0[numeric] = scaler.transform(features_train_0[numeric])\n",
    "#features_valid_0[numeric] = scaler.transform(features_valid_0[numeric])\n",
    "\n",
    "#pd.options.mode.chained_assignment = None"
   ]
  },
  {
   "cell_type": "markdown",
   "metadata": {},
   "source": [
    "<div class=\"alert alert-block alert-success\">\n",
    "<b>Успех:</b> Отлично, что скалер был обучен только на тренировочной части данных!\n",
    "</div>"
   ]
  },
  {
   "cell_type": "code",
   "execution_count": 30,
   "metadata": {},
   "outputs": [
    {
     "data": {
      "text/html": [
       "<div>\n",
       "<style scoped>\n",
       "    .dataframe tbody tr th:only-of-type {\n",
       "        vertical-align: middle;\n",
       "    }\n",
       "\n",
       "    .dataframe tbody tr th {\n",
       "        vertical-align: top;\n",
       "    }\n",
       "\n",
       "    .dataframe thead th {\n",
       "        text-align: right;\n",
       "    }\n",
       "</style>\n",
       "<table border=\"1\" class=\"dataframe\">\n",
       "  <thead>\n",
       "    <tr style=\"text-align: right;\">\n",
       "      <th></th>\n",
       "      <th>f0</th>\n",
       "      <th>f1</th>\n",
       "      <th>f2</th>\n",
       "    </tr>\n",
       "  </thead>\n",
       "  <tbody>\n",
       "    <tr>\n",
       "      <td>27212</td>\n",
       "      <td>-0.544828</td>\n",
       "      <td>1.390264</td>\n",
       "      <td>-0.094959</td>\n",
       "    </tr>\n",
       "    <tr>\n",
       "      <td>7866</td>\n",
       "      <td>1.455912</td>\n",
       "      <td>-0.480422</td>\n",
       "      <td>1.209567</td>\n",
       "    </tr>\n",
       "    <tr>\n",
       "      <td>62041</td>\n",
       "      <td>0.260460</td>\n",
       "      <td>0.825069</td>\n",
       "      <td>-0.204865</td>\n",
       "    </tr>\n",
       "    <tr>\n",
       "      <td>70185</td>\n",
       "      <td>-1.837105</td>\n",
       "      <td>0.010321</td>\n",
       "      <td>-0.147634</td>\n",
       "    </tr>\n",
       "    <tr>\n",
       "      <td>82230</td>\n",
       "      <td>-1.299243</td>\n",
       "      <td>0.987558</td>\n",
       "      <td>1.273181</td>\n",
       "    </tr>\n",
       "  </tbody>\n",
       "</table>\n",
       "</div>"
      ],
      "text/plain": [
       "             f0        f1        f2\n",
       "27212 -0.544828  1.390264 -0.094959\n",
       "7866   1.455912 -0.480422  1.209567\n",
       "62041  0.260460  0.825069 -0.204865\n",
       "70185 -1.837105  0.010321 -0.147634\n",
       "82230 -1.299243  0.987558  1.273181"
      ]
     },
     "execution_count": 30,
     "metadata": {},
     "output_type": "execute_result"
    }
   ],
   "source": [
    "features_train_0.head()"
   ]
  },
  {
   "cell_type": "code",
   "execution_count": 33,
   "metadata": {},
   "outputs": [],
   "source": [
    "#scaler = StandardScaler()\n",
    "#scaler.fit(features_train_1[numeric])\n",
    "#features_train_1[numeric] = scaler.transform(features_train_1[numeric])\n",
    "#features_valid_1[numeric] = scaler.transform(features_valid_1[numeric])\n",
    "\n",
    "#pd.options.mode.chained_assignment = None"
   ]
  },
  {
   "cell_type": "code",
   "execution_count": 31,
   "metadata": {},
   "outputs": [],
   "source": [
    "features_train_1, features_valid_1 = scaler_transforn(features_train_1, features_valid_1)\n",
    "pd.options.mode.chained_assignment = None"
   ]
  },
  {
   "cell_type": "code",
   "execution_count": 32,
   "metadata": {},
   "outputs": [
    {
     "data": {
      "text/html": [
       "<div>\n",
       "<style scoped>\n",
       "    .dataframe tbody tr th:only-of-type {\n",
       "        vertical-align: middle;\n",
       "    }\n",
       "\n",
       "    .dataframe tbody tr th {\n",
       "        vertical-align: top;\n",
       "    }\n",
       "\n",
       "    .dataframe thead th {\n",
       "        text-align: right;\n",
       "    }\n",
       "</style>\n",
       "<table border=\"1\" class=\"dataframe\">\n",
       "  <thead>\n",
       "    <tr style=\"text-align: right;\">\n",
       "      <th></th>\n",
       "      <th>f0</th>\n",
       "      <th>f1</th>\n",
       "      <th>f2</th>\n",
       "    </tr>\n",
       "  </thead>\n",
       "  <tbody>\n",
       "    <tr>\n",
       "      <td>27212</td>\n",
       "      <td>-0.850855</td>\n",
       "      <td>0.624428</td>\n",
       "      <td>0.296943</td>\n",
       "    </tr>\n",
       "    <tr>\n",
       "      <td>7866</td>\n",
       "      <td>1.971935</td>\n",
       "      <td>1.832275</td>\n",
       "      <td>0.294333</td>\n",
       "    </tr>\n",
       "    <tr>\n",
       "      <td>62041</td>\n",
       "      <td>1.079305</td>\n",
       "      <td>0.170127</td>\n",
       "      <td>-0.296418</td>\n",
       "    </tr>\n",
       "    <tr>\n",
       "      <td>70185</td>\n",
       "      <td>-1.512028</td>\n",
       "      <td>-0.887837</td>\n",
       "      <td>-0.880471</td>\n",
       "    </tr>\n",
       "    <tr>\n",
       "      <td>82230</td>\n",
       "      <td>-1.804775</td>\n",
       "      <td>-0.718311</td>\n",
       "      <td>-0.293255</td>\n",
       "    </tr>\n",
       "  </tbody>\n",
       "</table>\n",
       "</div>"
      ],
      "text/plain": [
       "             f0        f1        f2\n",
       "27212 -0.850855  0.624428  0.296943\n",
       "7866   1.971935  1.832275  0.294333\n",
       "62041  1.079305  0.170127 -0.296418\n",
       "70185 -1.512028 -0.887837 -0.880471\n",
       "82230 -1.804775 -0.718311 -0.293255"
      ]
     },
     "execution_count": 32,
     "metadata": {},
     "output_type": "execute_result"
    }
   ],
   "source": [
    "features_train_1.head()"
   ]
  },
  {
   "cell_type": "code",
   "execution_count": 35,
   "metadata": {},
   "outputs": [],
   "source": [
    "#scaler = StandardScaler()\n",
    "#scaler.fit(features_train_2[numeric])\n",
    "#features_train_2[numeric] = scaler.transform(features_train_2[numeric])\n",
    "#features_valid_2[numeric] = scaler.transform(features_valid_2[numeric])\n",
    "\n",
    "#pd.options.mode.chained_assignment = None"
   ]
  },
  {
   "cell_type": "code",
   "execution_count": 33,
   "metadata": {},
   "outputs": [],
   "source": [
    "features_train_2, features_valid_2 = scaler_transforn(features_train_2, features_valid_2)\n",
    "pd.options.mode.chained_assignment = None"
   ]
  },
  {
   "cell_type": "code",
   "execution_count": 34,
   "metadata": {},
   "outputs": [
    {
     "data": {
      "text/html": [
       "<div>\n",
       "<style scoped>\n",
       "    .dataframe tbody tr th:only-of-type {\n",
       "        vertical-align: middle;\n",
       "    }\n",
       "\n",
       "    .dataframe tbody tr th {\n",
       "        vertical-align: top;\n",
       "    }\n",
       "\n",
       "    .dataframe thead th {\n",
       "        text-align: right;\n",
       "    }\n",
       "</style>\n",
       "<table border=\"1\" class=\"dataframe\">\n",
       "  <thead>\n",
       "    <tr style=\"text-align: right;\">\n",
       "      <th></th>\n",
       "      <th>f0</th>\n",
       "      <th>f1</th>\n",
       "      <th>f2</th>\n",
       "    </tr>\n",
       "  </thead>\n",
       "  <tbody>\n",
       "    <tr>\n",
       "      <td>27212</td>\n",
       "      <td>-0.526160</td>\n",
       "      <td>0.776329</td>\n",
       "      <td>-0.400793</td>\n",
       "    </tr>\n",
       "    <tr>\n",
       "      <td>7866</td>\n",
       "      <td>-0.889625</td>\n",
       "      <td>-0.404070</td>\n",
       "      <td>-1.222936</td>\n",
       "    </tr>\n",
       "    <tr>\n",
       "      <td>62041</td>\n",
       "      <td>-1.133984</td>\n",
       "      <td>0.208576</td>\n",
       "      <td>0.296765</td>\n",
       "    </tr>\n",
       "    <tr>\n",
       "      <td>70185</td>\n",
       "      <td>1.227045</td>\n",
       "      <td>1.570166</td>\n",
       "      <td>-0.764556</td>\n",
       "    </tr>\n",
       "    <tr>\n",
       "      <td>82230</td>\n",
       "      <td>-0.194289</td>\n",
       "      <td>0.878312</td>\n",
       "      <td>0.840821</td>\n",
       "    </tr>\n",
       "  </tbody>\n",
       "</table>\n",
       "</div>"
      ],
      "text/plain": [
       "             f0        f1        f2\n",
       "27212 -0.526160  0.776329 -0.400793\n",
       "7866  -0.889625 -0.404070 -1.222936\n",
       "62041 -1.133984  0.208576  0.296765\n",
       "70185  1.227045  1.570166 -0.764556\n",
       "82230 -0.194289  0.878312  0.840821"
      ]
     },
     "execution_count": 34,
     "metadata": {},
     "output_type": "execute_result"
    }
   ],
   "source": [
    "features_train_2.head()"
   ]
  },
  {
   "cell_type": "markdown",
   "metadata": {},
   "source": [
    "В ходе работы над данным пунктом данные были отмасштабированы и подготовлены для дальнейшего обучения модели."
   ]
  },
  {
   "cell_type": "markdown",
   "metadata": {},
   "source": [
    "## Обучение и проверка модели"
   ]
  },
  {
   "cell_type": "markdown",
   "metadata": {},
   "source": [
    "Для прогнозирования и расчетов будем использовать модель линейной регрессии"
   ]
  },
  {
   "cell_type": "code",
   "execution_count": 37,
   "metadata": {},
   "outputs": [],
   "source": [
    "model = LinearRegression()"
   ]
  },
  {
   "cell_type": "code",
   "execution_count": 59,
   "metadata": {},
   "outputs": [],
   "source": [
    "def RSME_data(features_train, target_train, features_valid, target_valid):\n",
    "    model.fit(features_train, target_train)\n",
    "    predictions_valid = model.predict(features_valid)\n",
    "    result = mean_squared_error(target_valid, predictions_valid)**0.5\n",
    "    mean_valid = predictions_valid.mean()\n",
    "    predictions = predictions_valid\n",
    "    return print('RSME модели равно:', round(result, 2)), print('Средний запас предсказанного сырья равен:', round(mean_valid, 2)), predictions "
   ]
  },
  {
   "cell_type": "markdown",
   "metadata": {},
   "source": [
    "Применим функцию ко всем регионам"
   ]
  },
  {
   "cell_type": "code",
   "execution_count": 60,
   "metadata": {},
   "outputs": [
    {
     "name": "stdout",
     "output_type": "stream",
     "text": [
      "RSME модели равно: 37.58\n",
      "Средний запас предсказанного сырья равен: 92.59\n"
     ]
    }
   ],
   "source": [
    "result_0, mean_valid_0, predictions_0 = RSME_data(features_train_0, target_train_0, features_valid_0, target_valid_0)"
   ]
  },
  {
   "cell_type": "code",
   "execution_count": 61,
   "metadata": {},
   "outputs": [
    {
     "name": "stdout",
     "output_type": "stream",
     "text": [
      "RSME модели равно: 0.89\n",
      "Средний запас предсказанного сырья равен: 68.73\n"
     ]
    }
   ],
   "source": [
    "result_1, mean_valid_1, predictions_1 = RSME_data(features_train_1, target_train_1, features_valid_1, target_valid_1)"
   ]
  },
  {
   "cell_type": "code",
   "execution_count": 62,
   "metadata": {},
   "outputs": [
    {
     "name": "stdout",
     "output_type": "stream",
     "text": [
      "RSME модели равно: 40.03\n",
      "Средний запас предсказанного сырья равен: 94.97\n"
     ]
    }
   ],
   "source": [
    "result_2, mean_valid_2, predictions_2 = RSME_data(features_train_2, target_train_2, features_valid_2, target_valid_2)"
   ]
  },
  {
   "cell_type": "markdown",
   "metadata": {},
   "source": [
    "Для каждго региона был предсказан средний объем сырья:  \n",
    "- 92.59;\n",
    "- 68.73;\n",
    "- 94.97.  \n",
    "\n",
    "Наивысшее качество предсказания у модели линейной регресии во втором регионе (RSME = 0.89), однако и запас предсказанного сырья во вотором регине самый низкий, поэтому однозначно выбрать какой-либо регион для разработки на этом этапе не представляется возможным "
   ]
  },
  {
   "cell_type": "markdown",
   "metadata": {},
   "source": [
    "<div class=\"alert alert-block alert-success\">\n",
    "<b>Успех:</b> Модели обучены корректно. Радует, что ты активно используешь функции. Это помогает избежать дублирования кода, а значит уменьшает вероятность совершить ошибку/опечатку!\n",
    "</div>"
   ]
  },
  {
   "cell_type": "markdown",
   "metadata": {},
   "source": [
    "## Подготовка к расчёту прибыли"
   ]
  },
  {
   "cell_type": "markdown",
   "metadata": {},
   "source": [
    "Бюджет на разработку скважин в регионе — 10 млрд рублей."
   ]
  },
  {
   "cell_type": "code",
   "execution_count": 47,
   "metadata": {},
   "outputs": [],
   "source": [
    "BUGET = 10000000000"
   ]
  },
  {
   "cell_type": "markdown",
   "metadata": {},
   "source": [
    "При нынешних ценах один баррель сырья приносит 450 рублей дохода.  \n",
    "Доход с каждой единицы продукта составляет 450 тыс. рублей, поскольку объём указан в тысячах баррелей."
   ]
  },
  {
   "cell_type": "code",
   "execution_count": 48,
   "metadata": {},
   "outputs": [],
   "source": [
    "PROFIT_ONE_BARR = 450000"
   ]
  },
  {
   "cell_type": "markdown",
   "metadata": {},
   "source": [
    "<div class=\"alert alert-block alert-info\">\n",
    "\n",
    "<b>Совет: </b> В названиях константных переменных лучше использовать только БОЛЬШИЕ буквы. Это соглашение между программистами: https://pythonworld.ru/osnovy/pep-8-rukovodstvo-po-napisaniyu-koda-na-python.html#id29 .\n",
    "</div>"
   ]
  },
  {
   "cell_type": "code",
   "execution_count": 50,
   "metadata": {},
   "outputs": [
    {
     "name": "stdout",
     "output_type": "stream",
     "text": [
      "Необходимый общий объем добычи в регионе для безубыточности: 22222\n"
     ]
    }
   ],
   "source": [
    "print('Необходимый общий объем добычи в регионе для безубыточности:', round(BUGET/PROFIT_ONE_BARR) )"
   ]
  },
  {
   "cell_type": "markdown",
   "metadata": {},
   "source": [
    "В регионе будут разрабатывать 200 точек, следовательно, каждая точка должна приносить:"
   ]
  },
  {
   "cell_type": "code",
   "execution_count": 76,
   "metadata": {},
   "outputs": [],
   "source": [
    "POINTS = 200"
   ]
  },
  {
   "cell_type": "code",
   "execution_count": 77,
   "metadata": {},
   "outputs": [
    {
     "data": {
      "text/plain": [
       "111"
      ]
     },
     "execution_count": 77,
     "metadata": {},
     "output_type": "execute_result"
    }
   ],
   "source": [
    "round((BUGET/PROFIT_ONE_BARR)/points)"
   ]
  },
  {
   "cell_type": "markdown",
   "metadata": {},
   "source": [
    "Ни один из регионов не обладает необходимым предсказанным запасом сырья в 111 баррелей нефти с 1 точки. Это говорит о том, что мы не можем наугад выбрать любую точку из всех трех таблиц и начать их бурить, т.к. высока вероятность того, что это будет убыточно.  \n",
    "Следовательно, необходимо из всей массы точек выбрать лучшие и спрогнозировать средний объем добычи для них."
   ]
  },
  {
   "cell_type": "markdown",
   "metadata": {},
   "source": [
    "<div class=\"alert alert-block alert-success\">\n",
    "<b>Успех:</b> Точка безубыточности найдена верно, сравнение проведено!\n",
    "</div>"
   ]
  },
  {
   "cell_type": "markdown",
   "metadata": {},
   "source": [
    "## Расчёт прибыли и рисков "
   ]
  },
  {
   "cell_type": "markdown",
   "metadata": {},
   "source": [
    "Напишем функцию для расчёта прибыли по выбранным 200 скважинам и предсказаниям модели."
   ]
  },
  {
   "cell_type": "code",
   "execution_count": 78,
   "metadata": {},
   "outputs": [],
   "source": [
    "def profit(predictions, target, best_points):\n",
    "    predictions = pd.Series(predictions, index=target.index)\n",
    "    predictions_points = predictions.sort_values(ascending=False)\n",
    "    target_points = target[predictions_points.index][:best_points]\n",
    "    return sum(target_points)*PROFIT_ONE_BARR - BUGET"
   ]
  },
  {
   "cell_type": "markdown",
   "metadata": {},
   "source": [
    "<div class=\"alert alert-block alert-success\">\n",
    "<b>Успех:</b> Функция для подсчета прибыли определена верно.\n",
    "</div>"
   ]
  },
  {
   "cell_type": "markdown",
   "metadata": {},
   "source": [
    "Напишем функцию для бустрап"
   ]
  },
  {
   "cell_type": "markdown",
   "metadata": {},
   "source": [
    "Доверительный интервал равен 95%"
   ]
  },
  {
   "cell_type": "code",
   "execution_count": 82,
   "metadata": {},
   "outputs": [],
   "source": [
    "def bootstrap(predictions, target, best_points):\n",
    "    state = np.random.RandomState(0)\n",
    "    values = []\n",
    "    \n",
    "    for i in range(1000):\n",
    "        target_subsamples = target.reset_index(drop=True).sample(n=500, replace=True, random_state=state)\n",
    "        predictions_subsamples = predictions[target_subsamples.index]\n",
    "        values.append(profit(predictions_subsamples, target_subsamples, best_points))\n",
    "\n",
    "    values = pd.Series(values)\n",
    "    lower = values.quantile(0.025)\n",
    "    upper = values.quantile(0.975)\n",
    "    mean_profit = values.mean()\n",
    "    loss = np.mean(values < 0)\n",
    "\n",
    "    return print('Средняя прибыль равна:', round(mean_profit, 2)), print('2.5%-квантиль:', lower), print('97.5%-квантиль:', upper), print('Риск убытков, %:', loss*100) "
   ]
  },
  {
   "cell_type": "markdown",
   "metadata": {},
   "source": [
    "<div class=\"alert alert-block alert-success\">\n",
    "<b>Успех:</b> Отлично, что для подсчета доверительного интервала использовался именно метод квантилей.\n",
    "</div>\n",
    "\n",
    "<div class=\"alert alert-block alert-success\">\n",
    "<b>Успех:</b> Риск найден очень элегантно.\n",
    "</div>"
   ]
  },
  {
   "cell_type": "markdown",
   "metadata": {},
   "source": [
    "Расчет для первого региона:"
   ]
  },
  {
   "cell_type": "code",
   "execution_count": 83,
   "metadata": {},
   "outputs": [
    {
     "name": "stdout",
     "output_type": "stream",
     "text": [
      "Средняя прибыль равна: 410303327.13\n",
      "2.5%-квантиль: -163033337.41302997\n",
      "97.5%-квантиль: 972213446.6647601\n",
      "Риск убытков, %: 7.7\n"
     ]
    },
    {
     "data": {
      "text/plain": [
       "(None, None, None, None)"
      ]
     },
     "execution_count": 83,
     "metadata": {},
     "output_type": "execute_result"
    }
   ],
   "source": [
    "bootstrap(predictions_0, target_valid_0, POINTS)"
   ]
  },
  {
   "cell_type": "markdown",
   "metadata": {},
   "source": [
    "Расчет для второго региона:"
   ]
  },
  {
   "cell_type": "code",
   "execution_count": 84,
   "metadata": {},
   "outputs": [
    {
     "name": "stdout",
     "output_type": "stream",
     "text": [
      "Средняя прибыль равна: 507552476.62\n",
      "2.5%-квантиль: 87320140.88688523\n",
      "97.5%-квантиль: 915139275.2721876\n",
      "Риск убытков, %: 0.6\n"
     ]
    },
    {
     "data": {
      "text/plain": [
       "(None, None, None, None)"
      ]
     },
     "execution_count": 84,
     "metadata": {},
     "output_type": "execute_result"
    }
   ],
   "source": [
    "bootstrap(predictions_1, target_valid_1, POINTS)"
   ]
  },
  {
   "cell_type": "markdown",
   "metadata": {},
   "source": [
    "Расчет для третьего региона:"
   ]
  },
  {
   "cell_type": "code",
   "execution_count": 85,
   "metadata": {},
   "outputs": [
    {
     "name": "stdout",
     "output_type": "stream",
     "text": [
      "Средняя прибыль равна: 412263351.93\n",
      "2.5%-квантиль: -131311003.10993758\n",
      "97.5%-квантиль: 947922004.8609216\n",
      "Риск убытков, %: 7.5\n"
     ]
    },
    {
     "data": {
      "text/plain": [
       "(None, None, None, None)"
      ]
     },
     "execution_count": 85,
     "metadata": {},
     "output_type": "execute_result"
    }
   ],
   "source": [
    "bootstrap(predictions_2, target_valid_2, POINTS)"
   ]
  },
  {
   "cell_type": "markdown",
   "metadata": {},
   "source": [
    "Самый минимальный риск получения убытка от разработки новых месторождений показал второй регион: риск равен 0.6%. Прогнозируемая прибыль от разработки 200 скважен во втором регионе составила 507552476.62 тыс.рублей.   \n",
    "Средняя прибыль от разработки в этом регионе с 95% вероятностью будет находиться в диапазоне от 87320140.88688523 до 915139275.2721876 тыс.рублей."
   ]
  },
  {
   "cell_type": "markdown",
   "metadata": {},
   "source": [
    "<div class=\"alert alert-block alert-success\">\n",
    "<b>Успех:</b> Все статистики посчитаны правильно. С выбором региона согласен.\n",
    "</div>"
   ]
  },
  {
   "cell_type": "markdown",
   "metadata": {},
   "source": [
    "## Чек-лист готовности проекта"
   ]
  },
  {
   "cell_type": "markdown",
   "metadata": {},
   "source": [
    "Поставьте 'x' в выполненных пунктах. Далее нажмите Shift+Enter."
   ]
  },
  {
   "cell_type": "markdown",
   "metadata": {},
   "source": [
    "- [x]  Jupyter Notebook открыт\n",
    "- [x]  Весь код выполняется без ошибок\n",
    "- [x]  Ячейки с кодом расположены в порядке исполнения\n",
    "- [x]  Выполнен шаг 1: данные подготовлены\n",
    "- [x]  Выполнен шаг 2: модели обучены и проверены\n",
    "    - [x]  Данные корректно разбиты на обучающую и валидационную выборки\n",
    "    - [x]  Модели обучены, предсказания сделаны\n",
    "    - [x]  Предсказания и правильные ответы на валидационной выборке сохранены\n",
    "    - [x]  На экране напечатаны результаты\n",
    "    - [x]  Сделаны выводы\n",
    "- [x]  Выполнен шаг 3: проведена подготовка к расчёту прибыли\n",
    "    - [x]  Для всех ключевых значений созданы константы Python\n",
    "    - [x]  Посчитано минимальное среднее количество продукта в месторождениях региона, достаточное для разработки\n",
    "    - [x]  По предыдущему пункту сделаны выводы\n",
    "    - [x]  Написана функция расчёта прибыли\n",
    "- [x]  Выполнен шаг 4: посчитаны риски и прибыль\n",
    "    - [x]  Проведена процедура *Bootstrap*\n",
    "    - [x]  Все параметры бутстрепа соответствуют условию\n",
    "    - [x]  Найдены все нужные величины\n",
    "    - [x]  Предложен регион для разработки месторождения\n",
    "    - [x]  Выбор региона обоснован"
   ]
  },
  {
   "cell_type": "markdown",
   "metadata": {},
   "source": [
    "В ходе проведения эксперимента мы сделали следующие выводы:\n",
    "- данные были отмасштабированы для дальнейших расчетов;\n",
    "- невозможно взять один из трех предложенных регионов и начать наугад разрабатывать 200 скважин, поэтому нам необходим ML для выбора оптимального региона и лучших точек для разработки;\n",
    "- с помощью бустрепа нам удалось выделить регион с наименьшими рисками для разработки. Это регион под номер два (data_1). Его и предлагаю взять для дальнейшей разработки новых месторождений. Выручка от разработки лучших 200 точек будет лежать в диапазоне [87320141 : 915139275] тысяч рублей. "
   ]
  },
  {
   "cell_type": "code",
   "execution_count": null,
   "metadata": {},
   "outputs": [],
   "source": []
  }
 ],
 "metadata": {
  "ExecuteTimeLog": [
   {
    "duration": 616,
    "start_time": "2022-03-07T14:02:07.611Z"
   },
   {
    "duration": 138,
    "start_time": "2022-03-07T14:03:16.255Z"
   },
   {
    "duration": 134,
    "start_time": "2022-03-07T14:03:55.209Z"
   },
   {
    "duration": 134,
    "start_time": "2022-03-07T14:04:16.405Z"
   },
   {
    "duration": 17,
    "start_time": "2022-03-07T14:04:35.748Z"
   },
   {
    "duration": 10,
    "start_time": "2022-03-07T14:04:57.013Z"
   },
   {
    "duration": 10,
    "start_time": "2022-03-07T14:05:07.430Z"
   },
   {
    "duration": 333,
    "start_time": "2022-03-07T14:06:54.591Z"
   },
   {
    "duration": 11,
    "start_time": "2022-03-07T14:27:13.825Z"
   },
   {
    "duration": 12,
    "start_time": "2022-03-07T14:27:33.912Z"
   },
   {
    "duration": 11,
    "start_time": "2022-03-07T14:27:41.771Z"
   },
   {
    "duration": 10,
    "start_time": "2022-03-07T14:27:55.550Z"
   },
   {
    "duration": 68,
    "start_time": "2022-03-07T14:29:42.205Z"
   },
   {
    "duration": 56,
    "start_time": "2022-03-07T15:52:11.956Z"
   },
   {
    "duration": 43,
    "start_time": "2022-03-07T15:52:17.314Z"
   },
   {
    "duration": 55,
    "start_time": "2022-03-07T15:52:22.541Z"
   },
   {
    "duration": 125,
    "start_time": "2022-03-07T15:53:42.430Z"
   },
   {
    "duration": 479,
    "start_time": "2022-03-07T16:01:23.735Z"
   },
   {
    "duration": 8,
    "start_time": "2022-03-07T16:05:17.251Z"
   },
   {
    "duration": 6,
    "start_time": "2022-03-07T16:05:53.899Z"
   },
   {
    "duration": 6,
    "start_time": "2022-03-07T16:05:54.799Z"
   },
   {
    "duration": 17,
    "start_time": "2022-03-07T16:07:51.056Z"
   },
   {
    "duration": 5,
    "start_time": "2022-03-07T16:08:40.807Z"
   },
   {
    "duration": 19,
    "start_time": "2022-03-07T16:09:17.169Z"
   },
   {
    "duration": 8,
    "start_time": "2022-03-07T16:09:45.875Z"
   },
   {
    "duration": 21,
    "start_time": "2022-03-07T16:13:36.092Z"
   },
   {
    "duration": 4,
    "start_time": "2022-03-07T16:13:38.820Z"
   },
   {
    "duration": 3,
    "start_time": "2022-03-07T16:20:27.361Z"
   },
   {
    "duration": 3,
    "start_time": "2022-03-07T16:21:03.054Z"
   },
   {
    "duration": 3,
    "start_time": "2022-03-07T16:45:29.286Z"
   },
   {
    "duration": 139,
    "start_time": "2022-03-07T16:45:30.007Z"
   },
   {
    "duration": 9,
    "start_time": "2022-03-07T16:45:30.696Z"
   },
   {
    "duration": 12,
    "start_time": "2022-03-07T16:45:35.014Z"
   },
   {
    "duration": 127,
    "start_time": "2022-03-07T16:45:37.954Z"
   },
   {
    "duration": 10,
    "start_time": "2022-03-07T16:45:39.048Z"
   },
   {
    "duration": 11,
    "start_time": "2022-03-07T16:45:39.984Z"
   },
   {
    "duration": 125,
    "start_time": "2022-03-07T16:45:42.997Z"
   },
   {
    "duration": 9,
    "start_time": "2022-03-07T16:45:44.213Z"
   },
   {
    "duration": 10,
    "start_time": "2022-03-07T16:45:47.994Z"
   },
   {
    "duration": 119,
    "start_time": "2022-03-07T16:45:53.882Z"
   },
   {
    "duration": 3,
    "start_time": "2022-03-07T16:47:27.938Z"
   },
   {
    "duration": 300,
    "start_time": "2022-03-07T16:47:59.994Z"
   },
   {
    "duration": 3,
    "start_time": "2022-03-07T16:49:05.270Z"
   },
   {
    "duration": 5,
    "start_time": "2022-03-07T16:49:08.445Z"
   },
   {
    "duration": 5,
    "start_time": "2022-03-07T16:49:49.154Z"
   },
   {
    "duration": 6,
    "start_time": "2022-03-07T16:50:22.720Z"
   },
   {
    "duration": 4,
    "start_time": "2022-03-07T16:50:47.856Z"
   },
   {
    "duration": 16,
    "start_time": "2022-03-07T16:51:32.333Z"
   },
   {
    "duration": 4,
    "start_time": "2022-03-07T16:51:51.260Z"
   },
   {
    "duration": 15,
    "start_time": "2022-03-07T16:52:54.758Z"
   },
   {
    "duration": 4,
    "start_time": "2022-03-07T16:52:55.462Z"
   },
   {
    "duration": 14,
    "start_time": "2022-03-07T16:53:32.234Z"
   },
   {
    "duration": 4,
    "start_time": "2022-03-07T16:53:33.222Z"
   },
   {
    "duration": 3,
    "start_time": "2022-03-07T16:56:32.358Z"
   },
   {
    "duration": 19,
    "start_time": "2022-03-07T16:57:55.008Z"
   },
   {
    "duration": 18,
    "start_time": "2022-03-07T16:58:56.593Z"
   },
   {
    "duration": 2,
    "start_time": "2022-03-07T16:59:36.537Z"
   },
   {
    "duration": 4,
    "start_time": "2022-03-07T17:07:01.754Z"
   },
   {
    "duration": 18,
    "start_time": "2022-03-07T17:07:35.207Z"
   },
   {
    "duration": 4,
    "start_time": "2022-03-07T17:08:05.971Z"
   },
   {
    "duration": 17,
    "start_time": "2022-03-07T17:08:18.332Z"
   },
   {
    "duration": 17,
    "start_time": "2022-03-07T17:09:58.145Z"
   },
   {
    "duration": 2,
    "start_time": "2022-03-07T17:10:07.741Z"
   },
   {
    "duration": 2,
    "start_time": "2022-03-07T17:10:25.345Z"
   },
   {
    "duration": 2,
    "start_time": "2022-03-07T17:10:57.070Z"
   },
   {
    "duration": 1072,
    "start_time": "2022-03-07T17:11:08.327Z"
   },
   {
    "duration": 140,
    "start_time": "2022-03-07T17:11:10.393Z"
   },
   {
    "duration": 18,
    "start_time": "2022-03-07T17:11:11.600Z"
   },
   {
    "duration": 12,
    "start_time": "2022-03-07T17:11:13.302Z"
   },
   {
    "duration": 131,
    "start_time": "2022-03-07T17:11:16.013Z"
   },
   {
    "duration": 10,
    "start_time": "2022-03-07T17:11:16.996Z"
   },
   {
    "duration": 12,
    "start_time": "2022-03-07T17:11:20.017Z"
   },
   {
    "duration": 132,
    "start_time": "2022-03-07T17:11:20.984Z"
   },
   {
    "duration": 10,
    "start_time": "2022-03-07T17:11:21.838Z"
   },
   {
    "duration": 11,
    "start_time": "2022-03-07T17:11:25.227Z"
   },
   {
    "duration": 121,
    "start_time": "2022-03-07T17:11:30.150Z"
   },
   {
    "duration": 3,
    "start_time": "2022-03-07T17:11:34.189Z"
   },
   {
    "duration": 4,
    "start_time": "2022-03-07T17:11:36.654Z"
   },
   {
    "duration": 6,
    "start_time": "2022-03-07T17:11:37.517Z"
   },
   {
    "duration": 6,
    "start_time": "2022-03-07T17:11:38.215Z"
   },
   {
    "duration": 3,
    "start_time": "2022-03-07T17:11:39.867Z"
   },
   {
    "duration": 14,
    "start_time": "2022-03-07T17:11:40.936Z"
   },
   {
    "duration": 4,
    "start_time": "2022-03-07T17:11:41.837Z"
   },
   {
    "duration": 17,
    "start_time": "2022-03-07T17:11:45.722Z"
   },
   {
    "duration": 5,
    "start_time": "2022-03-07T17:11:46.513Z"
   },
   {
    "duration": 15,
    "start_time": "2022-03-07T17:11:47.507Z"
   },
   {
    "duration": 4,
    "start_time": "2022-03-07T17:11:48.344Z"
   },
   {
    "duration": 4,
    "start_time": "2022-03-07T17:14:27.977Z"
   },
   {
    "duration": 25,
    "start_time": "2022-03-07T17:14:55.798Z"
   },
   {
    "duration": 3,
    "start_time": "2022-03-07T17:16:05.079Z"
   },
   {
    "duration": 365,
    "start_time": "2022-03-07T17:16:45.035Z"
   },
   {
    "duration": 19,
    "start_time": "2022-03-07T17:17:16.033Z"
   },
   {
    "duration": 8,
    "start_time": "2022-03-07T17:18:25.243Z"
   },
   {
    "duration": 20,
    "start_time": "2022-03-07T17:24:29.088Z"
   },
   {
    "duration": 9,
    "start_time": "2022-03-07T17:25:02.301Z"
   },
   {
    "duration": 1194,
    "start_time": "2022-03-07T17:34:58.383Z"
   },
   {
    "duration": 141,
    "start_time": "2022-03-07T17:35:00.506Z"
   },
   {
    "duration": 18,
    "start_time": "2022-03-07T17:35:01.622Z"
   },
   {
    "duration": 12,
    "start_time": "2022-03-07T17:35:02.832Z"
   },
   {
    "duration": 144,
    "start_time": "2022-03-07T17:35:06.219Z"
   },
   {
    "duration": 15,
    "start_time": "2022-03-07T17:35:06.994Z"
   },
   {
    "duration": 11,
    "start_time": "2022-03-07T17:35:09.635Z"
   },
   {
    "duration": 133,
    "start_time": "2022-03-07T17:35:10.632Z"
   },
   {
    "duration": 10,
    "start_time": "2022-03-07T17:35:12.051Z"
   },
   {
    "duration": 13,
    "start_time": "2022-03-07T17:35:15.236Z"
   },
   {
    "duration": 119,
    "start_time": "2022-03-07T17:35:32.508Z"
   },
   {
    "duration": 3,
    "start_time": "2022-03-07T17:35:36.544Z"
   },
   {
    "duration": 5,
    "start_time": "2022-03-07T17:35:37.284Z"
   },
   {
    "duration": 5,
    "start_time": "2022-03-07T17:35:38.175Z"
   },
   {
    "duration": 5,
    "start_time": "2022-03-07T17:35:38.954Z"
   },
   {
    "duration": 3,
    "start_time": "2022-03-07T17:35:39.757Z"
   },
   {
    "duration": 23,
    "start_time": "2022-03-07T17:35:40.617Z"
   },
   {
    "duration": 4,
    "start_time": "2022-03-07T17:35:43.238Z"
   },
   {
    "duration": 15,
    "start_time": "2022-03-07T17:35:44.222Z"
   },
   {
    "duration": 4,
    "start_time": "2022-03-07T17:35:45.023Z"
   },
   {
    "duration": 22,
    "start_time": "2022-03-07T17:35:45.899Z"
   },
   {
    "duration": 4,
    "start_time": "2022-03-07T17:35:46.801Z"
   },
   {
    "duration": 4,
    "start_time": "2022-03-07T17:35:50.474Z"
   },
   {
    "duration": 27,
    "start_time": "2022-03-07T17:36:15.192Z"
   },
   {
    "duration": 21,
    "start_time": "2022-03-07T17:36:20.512Z"
   },
   {
    "duration": 16,
    "start_time": "2022-03-07T17:36:27.777Z"
   },
   {
    "duration": 4,
    "start_time": "2022-03-07T17:37:28.538Z"
   },
   {
    "duration": 11,
    "start_time": "2022-03-07T17:37:30.697Z"
   },
   {
    "duration": 378,
    "start_time": "2022-03-07T17:37:47.697Z"
   },
   {
    "duration": 260,
    "start_time": "2022-03-07T17:38:31.584Z"
   },
   {
    "duration": 1065,
    "start_time": "2022-03-07T19:06:17.992Z"
   },
   {
    "duration": 149,
    "start_time": "2022-03-07T19:06:19.963Z"
   },
   {
    "duration": 18,
    "start_time": "2022-03-07T19:06:20.995Z"
   },
   {
    "duration": 12,
    "start_time": "2022-03-07T19:06:22.493Z"
   },
   {
    "duration": 127,
    "start_time": "2022-03-07T19:06:25.349Z"
   },
   {
    "duration": 9,
    "start_time": "2022-03-07T19:06:26.078Z"
   },
   {
    "duration": 11,
    "start_time": "2022-03-07T19:06:26.997Z"
   },
   {
    "duration": 132,
    "start_time": "2022-03-07T19:06:29.681Z"
   },
   {
    "duration": 24,
    "start_time": "2022-03-07T19:06:30.449Z"
   },
   {
    "duration": 10,
    "start_time": "2022-03-07T19:06:31.497Z"
   },
   {
    "duration": 119,
    "start_time": "2022-03-07T19:06:38.877Z"
   },
   {
    "duration": 3,
    "start_time": "2022-03-07T19:06:43.070Z"
   },
   {
    "duration": 5,
    "start_time": "2022-03-07T19:06:45.090Z"
   },
   {
    "duration": 5,
    "start_time": "2022-03-07T19:06:45.749Z"
   },
   {
    "duration": 5,
    "start_time": "2022-03-07T19:06:46.372Z"
   },
   {
    "duration": 3,
    "start_time": "2022-03-07T19:06:47.145Z"
   },
   {
    "duration": 14,
    "start_time": "2022-03-07T19:06:47.904Z"
   },
   {
    "duration": 4,
    "start_time": "2022-03-07T19:06:48.644Z"
   },
   {
    "duration": 15,
    "start_time": "2022-03-07T19:06:51.503Z"
   },
   {
    "duration": 4,
    "start_time": "2022-03-07T19:06:52.185Z"
   },
   {
    "duration": 16,
    "start_time": "2022-03-07T19:06:52.890Z"
   },
   {
    "duration": 4,
    "start_time": "2022-03-07T19:06:53.609Z"
   },
   {
    "duration": 3,
    "start_time": "2022-03-07T19:09:55.959Z"
   },
   {
    "duration": 25,
    "start_time": "2022-03-07T19:10:46.869Z"
   },
   {
    "duration": 19,
    "start_time": "2022-03-07T19:10:51.896Z"
   },
   {
    "duration": 9,
    "start_time": "2022-03-07T19:11:05.101Z"
   },
   {
    "duration": 17,
    "start_time": "2022-03-07T19:11:37.073Z"
   },
   {
    "duration": 9,
    "start_time": "2022-03-07T19:12:09.201Z"
   },
   {
    "duration": 18,
    "start_time": "2022-03-07T19:12:32.674Z"
   },
   {
    "duration": 9,
    "start_time": "2022-03-07T19:12:45.270Z"
   },
   {
    "duration": 15,
    "start_time": "2022-03-07T19:20:40.668Z"
   },
   {
    "duration": 2,
    "start_time": "2022-03-07T19:21:26.321Z"
   },
   {
    "duration": 3,
    "start_time": "2022-03-07T19:23:15.860Z"
   },
   {
    "duration": 3,
    "start_time": "2022-03-07T19:25:08.292Z"
   },
   {
    "duration": 3,
    "start_time": "2022-03-07T19:27:20.593Z"
   },
   {
    "duration": 13,
    "start_time": "2022-03-07T19:28:58.252Z"
   },
   {
    "duration": 343,
    "start_time": "2022-03-07T19:30:17.799Z"
   },
   {
    "duration": 3,
    "start_time": "2022-03-07T19:30:24.168Z"
   },
   {
    "duration": 4,
    "start_time": "2022-03-07T19:31:03.361Z"
   },
   {
    "duration": 3,
    "start_time": "2022-03-07T19:32:06.065Z"
   },
   {
    "duration": 12,
    "start_time": "2022-03-07T19:32:09.544Z"
   },
   {
    "duration": 12,
    "start_time": "2022-03-07T19:32:45.672Z"
   },
   {
    "duration": 12,
    "start_time": "2022-03-07T19:33:10.572Z"
   },
   {
    "duration": 6,
    "start_time": "2022-03-07T19:33:47.303Z"
   },
   {
    "duration": 12,
    "start_time": "2022-03-07T19:33:50.400Z"
   },
   {
    "duration": 3,
    "start_time": "2022-03-07T19:34:07.260Z"
   },
   {
    "duration": 11,
    "start_time": "2022-03-07T19:34:09.916Z"
   },
   {
    "duration": 13,
    "start_time": "2022-03-07T19:34:11.039Z"
   },
   {
    "duration": 13,
    "start_time": "2022-03-07T19:34:12.587Z"
   },
   {
    "duration": 3,
    "start_time": "2022-03-07T19:34:28.688Z"
   },
   {
    "duration": 12,
    "start_time": "2022-03-07T19:34:31.258Z"
   },
   {
    "duration": 14,
    "start_time": "2022-03-07T19:34:32.547Z"
   },
   {
    "duration": 13,
    "start_time": "2022-03-07T19:34:33.449Z"
   },
   {
    "duration": 1393,
    "start_time": "2022-03-08T10:12:37.948Z"
   },
   {
    "duration": 145,
    "start_time": "2022-03-08T10:12:40.998Z"
   },
   {
    "duration": 21,
    "start_time": "2022-03-08T10:12:42.005Z"
   },
   {
    "duration": 17,
    "start_time": "2022-03-08T10:12:44.580Z"
   },
   {
    "duration": 136,
    "start_time": "2022-03-08T10:12:45.589Z"
   },
   {
    "duration": 12,
    "start_time": "2022-03-08T10:12:46.443Z"
   },
   {
    "duration": 50,
    "start_time": "2022-03-08T10:13:07.853Z"
   },
   {
    "duration": 139,
    "start_time": "2022-03-08T10:13:56.919Z"
   },
   {
    "duration": 12,
    "start_time": "2022-03-08T10:13:58.324Z"
   },
   {
    "duration": 16,
    "start_time": "2022-03-08T10:13:59.355Z"
   },
   {
    "duration": 50,
    "start_time": "2022-03-08T10:14:02.074Z"
   },
   {
    "duration": 142,
    "start_time": "2022-03-08T10:14:07.699Z"
   },
   {
    "duration": 12,
    "start_time": "2022-03-08T10:14:08.779Z"
   },
   {
    "duration": 14,
    "start_time": "2022-03-08T10:14:11.529Z"
   },
   {
    "duration": 46,
    "start_time": "2022-03-08T10:14:12.525Z"
   },
   {
    "duration": 163,
    "start_time": "2022-03-08T10:14:18.646Z"
   },
   {
    "duration": 5,
    "start_time": "2022-03-08T10:14:22.335Z"
   },
   {
    "duration": 6,
    "start_time": "2022-03-08T10:14:23.202Z"
   },
   {
    "duration": 6,
    "start_time": "2022-03-08T10:14:24.031Z"
   },
   {
    "duration": 7,
    "start_time": "2022-03-08T10:14:24.829Z"
   },
   {
    "duration": 4,
    "start_time": "2022-03-08T10:14:25.834Z"
   },
   {
    "duration": 17,
    "start_time": "2022-03-08T10:14:28.452Z"
   },
   {
    "duration": 7,
    "start_time": "2022-03-08T10:14:29.316Z"
   },
   {
    "duration": 18,
    "start_time": "2022-03-08T10:14:30.430Z"
   },
   {
    "duration": 6,
    "start_time": "2022-03-08T10:14:32.060Z"
   },
   {
    "duration": 19,
    "start_time": "2022-03-08T10:14:32.999Z"
   },
   {
    "duration": 7,
    "start_time": "2022-03-08T10:14:35.745Z"
   },
   {
    "duration": 3,
    "start_time": "2022-03-08T10:14:40.275Z"
   },
   {
    "duration": 26,
    "start_time": "2022-03-08T10:14:41.259Z"
   },
   {
    "duration": 11,
    "start_time": "2022-03-08T10:14:42.476Z"
   },
   {
    "duration": 20,
    "start_time": "2022-03-08T10:14:47.539Z"
   },
   {
    "duration": 11,
    "start_time": "2022-03-08T10:14:51.007Z"
   },
   {
    "duration": 19,
    "start_time": "2022-03-08T10:14:54.392Z"
   },
   {
    "duration": 11,
    "start_time": "2022-03-08T10:14:56.826Z"
   },
   {
    "duration": 19,
    "start_time": "2022-03-08T10:14:59.687Z"
   },
   {
    "duration": 13,
    "start_time": "2022-03-08T10:15:00.653Z"
   },
   {
    "duration": 3,
    "start_time": "2022-03-08T10:15:09.627Z"
   },
   {
    "duration": 5,
    "start_time": "2022-03-08T10:15:10.616Z"
   },
   {
    "duration": 16,
    "start_time": "2022-03-08T10:15:13.036Z"
   },
   {
    "duration": 16,
    "start_time": "2022-03-08T10:15:16.391Z"
   },
   {
    "duration": 17,
    "start_time": "2022-03-08T10:15:17.809Z"
   },
   {
    "duration": 6,
    "start_time": "2022-03-08T10:16:38.908Z"
   },
   {
    "duration": 17,
    "start_time": "2022-03-08T10:16:48.432Z"
   },
   {
    "duration": 16,
    "start_time": "2022-03-08T10:16:57.415Z"
   },
   {
    "duration": 16,
    "start_time": "2022-03-08T10:17:13.537Z"
   },
   {
    "duration": 18,
    "start_time": "2022-03-08T10:17:21.154Z"
   },
   {
    "duration": 3,
    "start_time": "2022-03-08T10:21:46.267Z"
   },
   {
    "duration": 4,
    "start_time": "2022-03-08T10:24:04.804Z"
   },
   {
    "duration": 5,
    "start_time": "2022-03-08T10:25:23.854Z"
   },
   {
    "duration": 5,
    "start_time": "2022-03-08T10:26:09.944Z"
   },
   {
    "duration": 5,
    "start_time": "2022-03-08T10:27:21.856Z"
   },
   {
    "duration": 5,
    "start_time": "2022-03-08T11:29:01.227Z"
   },
   {
    "duration": 4,
    "start_time": "2022-03-08T11:35:53.703Z"
   },
   {
    "duration": 9,
    "start_time": "2022-03-08T11:35:59.998Z"
   },
   {
    "duration": 5,
    "start_time": "2022-03-08T11:40:01.014Z"
   },
   {
    "duration": 15,
    "start_time": "2022-03-08T11:40:04.420Z"
   },
   {
    "duration": 16,
    "start_time": "2022-03-08T11:40:05.399Z"
   },
   {
    "duration": 15,
    "start_time": "2022-03-08T11:40:06.366Z"
   },
   {
    "duration": 5,
    "start_time": "2022-03-08T11:44:54.403Z"
   },
   {
    "duration": 22,
    "start_time": "2022-03-08T11:44:57.801Z"
   },
   {
    "duration": 15,
    "start_time": "2022-03-08T11:44:58.602Z"
   },
   {
    "duration": 16,
    "start_time": "2022-03-08T11:45:01.251Z"
   },
   {
    "duration": 4,
    "start_time": "2022-03-08T11:56:00.466Z"
   },
   {
    "duration": 5,
    "start_time": "2022-03-08T11:56:28.980Z"
   },
   {
    "duration": 5,
    "start_time": "2022-03-08T12:01:20.534Z"
   },
   {
    "duration": 6,
    "start_time": "2022-03-08T12:10:47.488Z"
   },
   {
    "duration": 651,
    "start_time": "2022-03-08T12:12:38.667Z"
   },
   {
    "duration": 6,
    "start_time": "2022-03-08T12:13:00.259Z"
   },
   {
    "duration": 648,
    "start_time": "2022-03-08T12:13:01.328Z"
   },
   {
    "duration": 255,
    "start_time": "2022-03-08T12:13:21.934Z"
   },
   {
    "duration": 6,
    "start_time": "2022-03-08T12:15:34.875Z"
   },
   {
    "duration": 252,
    "start_time": "2022-03-08T12:15:35.858Z"
   },
   {
    "duration": 4,
    "start_time": "2022-03-08T12:16:36.198Z"
   },
   {
    "duration": 7,
    "start_time": "2022-03-08T12:16:38.619Z"
   },
   {
    "duration": 339,
    "start_time": "2022-03-08T12:16:40.207Z"
   },
   {
    "duration": 4,
    "start_time": "2022-03-08T12:16:46.439Z"
   },
   {
    "duration": 5,
    "start_time": "2022-03-08T12:16:47.321Z"
   },
   {
    "duration": 5,
    "start_time": "2022-03-08T12:16:50.481Z"
   },
   {
    "duration": 5,
    "start_time": "2022-03-08T12:16:52.057Z"
   },
   {
    "duration": 3633,
    "start_time": "2022-03-08T12:16:52.924Z"
   },
   {
    "duration": 91,
    "start_time": "2022-03-08T12:24:20.975Z"
   },
   {
    "duration": 7,
    "start_time": "2022-03-08T12:24:31.091Z"
   },
   {
    "duration": 3959,
    "start_time": "2022-03-08T12:24:32.271Z"
   },
   {
    "duration": 3759,
    "start_time": "2022-03-08T12:25:02.613Z"
   },
   {
    "duration": 3676,
    "start_time": "2022-03-08T12:25:27.017Z"
   },
   {
    "duration": 88,
    "start_time": "2022-03-08T12:28:08.889Z"
   },
   {
    "duration": 1351,
    "start_time": "2022-03-09T11:26:48.456Z"
   },
   {
    "duration": 151,
    "start_time": "2022-03-09T11:26:54.624Z"
   },
   {
    "duration": 23,
    "start_time": "2022-03-09T11:26:55.655Z"
   },
   {
    "duration": 14,
    "start_time": "2022-03-09T11:26:56.848Z"
   },
   {
    "duration": 48,
    "start_time": "2022-03-09T11:26:59.362Z"
   },
   {
    "duration": 174,
    "start_time": "2022-03-09T11:27:00.532Z"
   },
   {
    "duration": 13,
    "start_time": "2022-03-09T11:27:01.496Z"
   },
   {
    "duration": 16,
    "start_time": "2022-03-09T11:27:04.437Z"
   },
   {
    "duration": 48,
    "start_time": "2022-03-09T11:27:05.270Z"
   },
   {
    "duration": 151,
    "start_time": "2022-03-09T11:27:09.068Z"
   },
   {
    "duration": 12,
    "start_time": "2022-03-09T11:27:09.962Z"
   },
   {
    "duration": 13,
    "start_time": "2022-03-09T11:27:12.555Z"
   },
   {
    "duration": 49,
    "start_time": "2022-03-09T11:27:13.453Z"
   },
   {
    "duration": 164,
    "start_time": "2022-03-09T11:27:17.712Z"
   },
   {
    "duration": 4,
    "start_time": "2022-03-09T11:27:21.780Z"
   },
   {
    "duration": 6,
    "start_time": "2022-03-09T11:27:22.658Z"
   },
   {
    "duration": 6,
    "start_time": "2022-03-09T11:27:23.452Z"
   },
   {
    "duration": 6,
    "start_time": "2022-03-09T11:27:24.209Z"
   },
   {
    "duration": 4,
    "start_time": "2022-03-09T11:27:26.935Z"
   },
   {
    "duration": 19,
    "start_time": "2022-03-09T11:27:27.696Z"
   },
   {
    "duration": 6,
    "start_time": "2022-03-09T11:27:28.486Z"
   },
   {
    "duration": 19,
    "start_time": "2022-03-09T11:27:29.331Z"
   },
   {
    "duration": 5,
    "start_time": "2022-03-09T11:27:30.154Z"
   },
   {
    "duration": 17,
    "start_time": "2022-03-09T11:27:33.190Z"
   },
   {
    "duration": 7,
    "start_time": "2022-03-09T11:27:33.922Z"
   },
   {
    "duration": 5,
    "start_time": "2022-03-09T11:27:55.805Z"
   },
   {
    "duration": 25,
    "start_time": "2022-03-09T11:29:57.694Z"
   },
   {
    "duration": 21,
    "start_time": "2022-03-09T11:30:16.998Z"
   },
   {
    "duration": 19,
    "start_time": "2022-03-09T11:30:23.872Z"
   },
   {
    "duration": 14,
    "start_time": "2022-03-09T11:30:45.689Z"
   },
   {
    "duration": 17,
    "start_time": "2022-03-09T11:31:57.049Z"
   },
   {
    "duration": 10,
    "start_time": "2022-03-09T11:32:01.888Z"
   },
   {
    "duration": 18,
    "start_time": "2022-03-09T11:32:25.739Z"
   },
   {
    "duration": 12,
    "start_time": "2022-03-09T11:32:29.705Z"
   }
  ],
  "kernelspec": {
   "display_name": "Python 3 (ipykernel)",
   "language": "python",
   "name": "python3"
  },
  "language_info": {
   "codemirror_mode": {
    "name": "ipython",
    "version": 3
   },
   "file_extension": ".py",
   "mimetype": "text/x-python",
   "name": "python",
   "nbconvert_exporter": "python",
   "pygments_lexer": "ipython3",
   "version": "3.9.5"
  },
  "toc": {
   "base_numbering": 1,
   "nav_menu": {},
   "number_sections": true,
   "sideBar": true,
   "skip_h1_title": true,
   "title_cell": "Table of Contents",
   "title_sidebar": "Contents",
   "toc_cell": false,
   "toc_position": {},
   "toc_section_display": true,
   "toc_window_display": false
  }
 },
 "nbformat": 4,
 "nbformat_minor": 2
}
