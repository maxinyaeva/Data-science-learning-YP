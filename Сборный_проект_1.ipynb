{
 "cells": [
  {
   "cell_type": "markdown",
   "metadata": {},
   "source": [
    "#### Юлия, привет! \n",
    "\n",
    "Меня зовут Максим Попов, и я буду проверять твой проект. Давай будем общаться на «ты». Но если тебе комфортнее на «вы», обязательно сообщи мне об этом. \n",
    "По ходу тетрадки ты найдешь комментарии к проекту, они будут в отдельных ячейках Markdown с заголовком «Комментарий ревьюера». Постарайся учесть эти комментарии для дальнейших проектов.\n",
    "\n",
    "---\n",
    "\n",
    "Я буду отмечать комментарии цветом и примечанием. В конце заголовка комментария будет указан номер итерации проверки. Пожалуйста, не удаляй и не правь мои комментарии\n",
    "\n",
    "Критично - требует исправления, влияет на удачное выполнение проекта\n",
    "\n",
    "Рекомендация - комментарий является рекомендацией или советом. Mожешь учесть их при выполнении будущих заданий. На твое усмотрение\n",
    "\n",
    "Отлично - Так отмечены удачные решения и подходы, на которые стоит опираться в будущих проектах\n",
    "\n",
    "<div class=\"alert alert-block alert-danger\">\n",
    "    \n",
    "\n",
    "### Комментарий от ревьюера\n",
    "Критично\n",
    "\n",
    "Такой комментарий нужно исправить обязательно, он критически влияет на удачное выполнение проекта.\n",
    "</div>\n",
    "    \n",
    "---\n",
    "\n",
    "<div class=\"alert alert-block alert-warning\">\n",
    "    \n",
    "\n",
    "### Комментарий от ревьюера\n",
    "Рекомендация\n",
    "\n",
    "Такой комментарий является рекомендацией или советом. Mожешь учесть их при выполнении будущих заданий. На твое усмотрение. \n",
    "</div>\n",
    "\n",
    "---\n",
    "\n",
    "<div class=\"alert alert-block alert-success\">\n",
    "    \n",
    "\n",
    "### Комментарий от ревьюера\n",
    "Отлично\n",
    "    \n",
    "Так отмечены удачные решения и подходы, на которые стоит опираться в будущих проектах\n",
    "</div>"
   ]
  },
  {
   "cell_type": "markdown",
   "metadata": {},
   "source": [
    "<div class=\"alert alert-block alert-success\">\n",
    "    \n",
    "    \n",
    "### Комментарий от ревьюера v_1\n",
    "    \n",
    "Юлия, у тебя отличная работа, но следующие моменты надо исправить:\n",
    "    \n",
    "1. Заполнение пропусков в оценках\n",
    "2. Промежуточные выводы\n",
    "3. Выбор актуальных платформ\n",
    "4. Анализ прибыльных жанров\n",
    "\n",
    "Подробные комментарии по ходу работы\n",
    "    \n",
    "Желтые комментарии-рекомендации на твое усмотрение.\n",
    "    \n",
    "Если есть вопросы ко мне, можешь оставить их в отдельном комментарии\n",
    "</div>"
   ]
  },
  {
   "cell_type": "markdown",
   "metadata": {},
   "source": [
    "<div class=\"alert alert-block alert-success\">\n",
    "    \n",
    "### Комментарий от ревьюера v_2\n",
    "    \n",
    "Юлия, привет!\n",
    "    \n",
    "Отлично, все критичные комментарии отработаны!\n",
    "\n",
    "Успеха в дальнейшем обучении!\n",
    "    \n",
    "Есть небольшое замечание, но но некртичиное:\n",
    "    \n",
    "Для нахождения топ5 платформ в портрете пользователя не нужно было ограничивать датасет актуальными платформами. Актуальным периодом да, но не актуальными платформами.\n",
    "        \n",
    "</div>"
   ]
  },
  {
   "cell_type": "markdown",
   "metadata": {},
   "source": [
    "# Сборный проект 1"
   ]
  },
  {
   "cell_type": "markdown",
   "metadata": {},
   "source": [
    "## Описание проекта и постановка задач"
   ]
  },
  {
   "cell_type": "markdown",
   "metadata": {},
   "source": [
    "Вы работаете в интернет-магазине «Стримчик», который продаёт по всему миру компьютерные игры.  \n",
    "Из открытых источников доступны исторические данные о продажах игр, оценки пользователей и экспертов, жанры и платформы (например, Xbox или PlayStation).  \n",
    "Вам нужно выявить определяющие успешность игры закономерности. Это позволит сделать ставку на потенциально популярный продукт и спланировать рекламные кампании.\n",
    "\n",
    "Перед вами данные до 2016 года. Представим, что сейчас декабрь 2016 г., и вы планируете кампанию на 2017-й. Нужно отработать принцип работы с данными. Неважно, прогнозируете ли вы продажи на 2017 год по данным 2016-го или же 2027-й — по данным 2026 года.\n",
    "\n",
    "В наборе данных попадается аббревиатура ESRB (Entertainment Software Rating Board) — это ассоциация, определяющая возрастной рейтинг компьютерных игр. ESRB оценивает игровой контент и присваивает ему подходящую возрастную категорию, например, «Для взрослых», «Для детей младшего возраста» или «Для подростков».\n"
   ]
  },
  {
   "cell_type": "markdown",
   "metadata": {},
   "source": [
    "Описание данных:\n",
    "- Name — название игры  \n",
    "- Platform — платформа\n",
    "- Year_of_Release — год выпуска\n",
    "- Genre — жанр игры\n",
    "- NA_sales — продажи в Северной Америке (миллионы проданных копий)\n",
    "- EU_sales — продажи в Европе (миллионы проданных копий)\n",
    "- JP_sales — продажи в Японии (миллионы проданных копий)\n",
    "- Other_sales — продажи в других странах (миллионы проданных копий)\n",
    "- Critic_Score — оценка критиков (максимум 100)\n",
    "- User_Score — оценка пользователей (максимум 10)\n",
    "- Rating — рейтинг от организации ESRB (англ. Entertainment Software Rating Board). Эта ассоциация определяет рейтинг компьютерных игр и присваивает им подходящую возрастную категорию.\n"
   ]
  },
  {
   "cell_type": "markdown",
   "metadata": {},
   "source": [
    "<div class=\"alert alert-block alert-success\">\n",
    "    \n",
    "\n",
    "### Комментарий от ревьюера v_1\n",
    "Отлично\n",
    "\n",
    "Молодец, что в начале проекта знакомишь с ним, так работа  приобретает структуру и лучше воспринимается.\n",
    "</div>"
   ]
  },
  {
   "cell_type": "markdown",
   "metadata": {},
   "source": [
    "## Подготовка данных к анализу"
   ]
  },
  {
   "cell_type": "markdown",
   "metadata": {},
   "source": [
    "Импортируем все необходимые библиотеки для дальнейшей работы"
   ]
  },
  {
   "cell_type": "code",
   "execution_count": 160,
   "metadata": {},
   "outputs": [],
   "source": [
    "import pandas as pd\n",
    "import numpy as np\n",
    "from scipy import stats as st\n",
    "import math as mt\n",
    "from math import factorial\n",
    "import matplotlib.pyplot as plt\n",
    "import seaborn as sns\n",
    "pd.set_option('display.float_format', '{:,.2f}'.format)"
   ]
  },
  {
   "cell_type": "markdown",
   "metadata": {},
   "source": [
    "<div class=\"alert alert-block alert-success\">\n",
    "    \n",
    "\n",
    "### Комментарий от ревьюера v_1\n",
    "Отлично\n",
    "\n",
    "Отлично, библиотеки импортированы в начале тетрадки, в отдельной ячейке.\n",
    "</div>"
   ]
  },
  {
   "cell_type": "code",
   "execution_count": 161,
   "metadata": {},
   "outputs": [
    {
     "name": "stdout",
     "output_type": "stream",
     "text": [
      "<class 'pandas.core.frame.DataFrame'>\n",
      "RangeIndex: 16715 entries, 0 to 16714\n",
      "Data columns (total 11 columns):\n",
      "Name               16713 non-null object\n",
      "Platform           16715 non-null object\n",
      "Year_of_Release    16446 non-null float64\n",
      "Genre              16713 non-null object\n",
      "NA_sales           16715 non-null float64\n",
      "EU_sales           16715 non-null float64\n",
      "JP_sales           16715 non-null float64\n",
      "Other_sales        16715 non-null float64\n",
      "Critic_Score       8137 non-null float64\n",
      "User_Score         10014 non-null object\n",
      "Rating             9949 non-null object\n",
      "dtypes: float64(6), object(5)\n",
      "memory usage: 1.4+ MB\n"
     ]
    }
   ],
   "source": [
    "games = pd.read_csv('/datasets/games.csv')\n",
    "games.info()"
   ]
  },
  {
   "cell_type": "markdown",
   "metadata": {},
   "source": [
    "Приведем название столбцов к нижнему регистру"
   ]
  },
  {
   "cell_type": "code",
   "execution_count": 162,
   "metadata": {},
   "outputs": [
    {
     "data": {
      "text/html": [
       "<div>\n",
       "<style scoped>\n",
       "    .dataframe tbody tr th:only-of-type {\n",
       "        vertical-align: middle;\n",
       "    }\n",
       "\n",
       "    .dataframe tbody tr th {\n",
       "        vertical-align: top;\n",
       "    }\n",
       "\n",
       "    .dataframe thead th {\n",
       "        text-align: right;\n",
       "    }\n",
       "</style>\n",
       "<table border=\"1\" class=\"dataframe\">\n",
       "  <thead>\n",
       "    <tr style=\"text-align: right;\">\n",
       "      <th></th>\n",
       "      <th>name</th>\n",
       "      <th>platform</th>\n",
       "      <th>year_of_release</th>\n",
       "      <th>genre</th>\n",
       "      <th>na_sales</th>\n",
       "      <th>eu_sales</th>\n",
       "      <th>jp_sales</th>\n",
       "      <th>other_sales</th>\n",
       "      <th>critic_score</th>\n",
       "      <th>user_score</th>\n",
       "      <th>rating</th>\n",
       "    </tr>\n",
       "  </thead>\n",
       "  <tbody>\n",
       "    <tr>\n",
       "      <td>0</td>\n",
       "      <td>Wii Sports</td>\n",
       "      <td>Wii</td>\n",
       "      <td>2,006.00</td>\n",
       "      <td>Sports</td>\n",
       "      <td>41.36</td>\n",
       "      <td>28.96</td>\n",
       "      <td>3.77</td>\n",
       "      <td>8.45</td>\n",
       "      <td>76.00</td>\n",
       "      <td>8</td>\n",
       "      <td>E</td>\n",
       "    </tr>\n",
       "    <tr>\n",
       "      <td>1</td>\n",
       "      <td>Super Mario Bros.</td>\n",
       "      <td>NES</td>\n",
       "      <td>1,985.00</td>\n",
       "      <td>Platform</td>\n",
       "      <td>29.08</td>\n",
       "      <td>3.58</td>\n",
       "      <td>6.81</td>\n",
       "      <td>0.77</td>\n",
       "      <td>nan</td>\n",
       "      <td>NaN</td>\n",
       "      <td>NaN</td>\n",
       "    </tr>\n",
       "    <tr>\n",
       "      <td>2</td>\n",
       "      <td>Mario Kart Wii</td>\n",
       "      <td>Wii</td>\n",
       "      <td>2,008.00</td>\n",
       "      <td>Racing</td>\n",
       "      <td>15.68</td>\n",
       "      <td>12.76</td>\n",
       "      <td>3.79</td>\n",
       "      <td>3.29</td>\n",
       "      <td>82.00</td>\n",
       "      <td>8.3</td>\n",
       "      <td>E</td>\n",
       "    </tr>\n",
       "    <tr>\n",
       "      <td>3</td>\n",
       "      <td>Wii Sports Resort</td>\n",
       "      <td>Wii</td>\n",
       "      <td>2,009.00</td>\n",
       "      <td>Sports</td>\n",
       "      <td>15.61</td>\n",
       "      <td>10.93</td>\n",
       "      <td>3.28</td>\n",
       "      <td>2.95</td>\n",
       "      <td>80.00</td>\n",
       "      <td>8</td>\n",
       "      <td>E</td>\n",
       "    </tr>\n",
       "    <tr>\n",
       "      <td>4</td>\n",
       "      <td>Pokemon Red/Pokemon Blue</td>\n",
       "      <td>GB</td>\n",
       "      <td>1,996.00</td>\n",
       "      <td>Role-Playing</td>\n",
       "      <td>11.27</td>\n",
       "      <td>8.89</td>\n",
       "      <td>10.22</td>\n",
       "      <td>1.00</td>\n",
       "      <td>nan</td>\n",
       "      <td>NaN</td>\n",
       "      <td>NaN</td>\n",
       "    </tr>\n",
       "  </tbody>\n",
       "</table>\n",
       "</div>"
      ],
      "text/plain": [
       "                       name platform  year_of_release         genre  na_sales  \\\n",
       "0                Wii Sports      Wii         2,006.00        Sports     41.36   \n",
       "1         Super Mario Bros.      NES         1,985.00      Platform     29.08   \n",
       "2            Mario Kart Wii      Wii         2,008.00        Racing     15.68   \n",
       "3         Wii Sports Resort      Wii         2,009.00        Sports     15.61   \n",
       "4  Pokemon Red/Pokemon Blue       GB         1,996.00  Role-Playing     11.27   \n",
       "\n",
       "   eu_sales  jp_sales  other_sales  critic_score user_score rating  \n",
       "0     28.96      3.77         8.45         76.00          8      E  \n",
       "1      3.58      6.81         0.77           nan        NaN    NaN  \n",
       "2     12.76      3.79         3.29         82.00        8.3      E  \n",
       "3     10.93      3.28         2.95         80.00          8      E  \n",
       "4      8.89     10.22         1.00           nan        NaN    NaN  "
      ]
     },
     "execution_count": 162,
     "metadata": {},
     "output_type": "execute_result"
    }
   ],
   "source": [
    "games.columns = games.columns.str.lower()\n",
    "games.head()"
   ]
  },
  {
   "cell_type": "code",
   "execution_count": 163,
   "metadata": {},
   "outputs": [
    {
     "data": {
      "text/html": [
       "<div>\n",
       "<style scoped>\n",
       "    .dataframe tbody tr th:only-of-type {\n",
       "        vertical-align: middle;\n",
       "    }\n",
       "\n",
       "    .dataframe tbody tr th {\n",
       "        vertical-align: top;\n",
       "    }\n",
       "\n",
       "    .dataframe thead th {\n",
       "        text-align: right;\n",
       "    }\n",
       "</style>\n",
       "<table border=\"1\" class=\"dataframe\">\n",
       "  <thead>\n",
       "    <tr style=\"text-align: right;\">\n",
       "      <th></th>\n",
       "      <th>name</th>\n",
       "      <th>platform</th>\n",
       "      <th>year_of_release</th>\n",
       "      <th>genre</th>\n",
       "      <th>na_sales</th>\n",
       "      <th>eu_sales</th>\n",
       "      <th>jp_sales</th>\n",
       "      <th>other_sales</th>\n",
       "      <th>critic_score</th>\n",
       "      <th>user_score</th>\n",
       "      <th>rating</th>\n",
       "    </tr>\n",
       "  </thead>\n",
       "  <tbody>\n",
       "    <tr>\n",
       "      <td>0</td>\n",
       "      <td>Wii Sports</td>\n",
       "      <td>Wii</td>\n",
       "      <td>2,006.00</td>\n",
       "      <td>Sports</td>\n",
       "      <td>41.36</td>\n",
       "      <td>28.96</td>\n",
       "      <td>3.77</td>\n",
       "      <td>8.45</td>\n",
       "      <td>76.00</td>\n",
       "      <td>8</td>\n",
       "      <td>E</td>\n",
       "    </tr>\n",
       "    <tr>\n",
       "      <td>1</td>\n",
       "      <td>Super Mario Bros.</td>\n",
       "      <td>NES</td>\n",
       "      <td>1,985.00</td>\n",
       "      <td>Platform</td>\n",
       "      <td>29.08</td>\n",
       "      <td>3.58</td>\n",
       "      <td>6.81</td>\n",
       "      <td>0.77</td>\n",
       "      <td>nan</td>\n",
       "      <td>NaN</td>\n",
       "      <td>NaN</td>\n",
       "    </tr>\n",
       "    <tr>\n",
       "      <td>2</td>\n",
       "      <td>Mario Kart Wii</td>\n",
       "      <td>Wii</td>\n",
       "      <td>2,008.00</td>\n",
       "      <td>Racing</td>\n",
       "      <td>15.68</td>\n",
       "      <td>12.76</td>\n",
       "      <td>3.79</td>\n",
       "      <td>3.29</td>\n",
       "      <td>82.00</td>\n",
       "      <td>8.3</td>\n",
       "      <td>E</td>\n",
       "    </tr>\n",
       "    <tr>\n",
       "      <td>3</td>\n",
       "      <td>Wii Sports Resort</td>\n",
       "      <td>Wii</td>\n",
       "      <td>2,009.00</td>\n",
       "      <td>Sports</td>\n",
       "      <td>15.61</td>\n",
       "      <td>10.93</td>\n",
       "      <td>3.28</td>\n",
       "      <td>2.95</td>\n",
       "      <td>80.00</td>\n",
       "      <td>8</td>\n",
       "      <td>E</td>\n",
       "    </tr>\n",
       "    <tr>\n",
       "      <td>4</td>\n",
       "      <td>Pokemon Red/Pokemon Blue</td>\n",
       "      <td>GB</td>\n",
       "      <td>1,996.00</td>\n",
       "      <td>Role-Playing</td>\n",
       "      <td>11.27</td>\n",
       "      <td>8.89</td>\n",
       "      <td>10.22</td>\n",
       "      <td>1.00</td>\n",
       "      <td>nan</td>\n",
       "      <td>NaN</td>\n",
       "      <td>NaN</td>\n",
       "    </tr>\n",
       "  </tbody>\n",
       "</table>\n",
       "</div>"
      ],
      "text/plain": [
       "                       name platform  year_of_release         genre  na_sales  \\\n",
       "0                Wii Sports      Wii         2,006.00        Sports     41.36   \n",
       "1         Super Mario Bros.      NES         1,985.00      Platform     29.08   \n",
       "2            Mario Kart Wii      Wii         2,008.00        Racing     15.68   \n",
       "3         Wii Sports Resort      Wii         2,009.00        Sports     15.61   \n",
       "4  Pokemon Red/Pokemon Blue       GB         1,996.00  Role-Playing     11.27   \n",
       "\n",
       "   eu_sales  jp_sales  other_sales  critic_score user_score rating  \n",
       "0     28.96      3.77         8.45         76.00          8      E  \n",
       "1      3.58      6.81         0.77           nan        NaN    NaN  \n",
       "2     12.76      3.79         3.29         82.00        8.3      E  \n",
       "3     10.93      3.28         2.95         80.00          8      E  \n",
       "4      8.89     10.22         1.00           nan        NaN    NaN  "
      ]
     },
     "execution_count": 163,
     "metadata": {},
     "output_type": "execute_result"
    }
   ],
   "source": [
    "games['year_of_release'] = pd.to_datetime(games['year_of_release'], format='%Y')\n",
    "games['year_of_release'] = pd.DatetimeIndex(games['year_of_release']).year\n",
    "games.head()"
   ]
  },
  {
   "cell_type": "code",
   "execution_count": 164,
   "metadata": {},
   "outputs": [
    {
     "data": {
      "text/plain": [
       "name                  2\n",
       "platform              0\n",
       "year_of_release     269\n",
       "genre                 2\n",
       "na_sales              0\n",
       "eu_sales              0\n",
       "jp_sales              0\n",
       "other_sales           0\n",
       "critic_score       8578\n",
       "user_score         6701\n",
       "rating             6766\n",
       "dtype: int64"
      ]
     },
     "execution_count": 164,
     "metadata": {},
     "output_type": "execute_result"
    }
   ],
   "source": [
    "games.isna().sum()"
   ]
  },
  {
   "cell_type": "markdown",
   "metadata": {},
   "source": [
    "Удалим строки из датасета ( 2 строки с пропускои имени, 2 строки с пропуском жанра)"
   ]
  },
  {
   "cell_type": "code",
   "execution_count": 165,
   "metadata": {},
   "outputs": [
    {
     "data": {
      "text/plain": [
       "name                  0\n",
       "platform              0\n",
       "year_of_release     269\n",
       "genre                 0\n",
       "na_sales              0\n",
       "eu_sales              0\n",
       "jp_sales              0\n",
       "other_sales           0\n",
       "critic_score       8576\n",
       "user_score         6699\n",
       "rating             6764\n",
       "dtype: int64"
      ]
     },
     "execution_count": 165,
     "metadata": {},
     "output_type": "execute_result"
    }
   ],
   "source": [
    "games.dropna(subset = ['name', 'genre'], inplace=True)\n",
    "games.isna().sum()"
   ]
  },
  {
   "cell_type": "markdown",
   "metadata": {},
   "source": [
    "<div class=\"alert alert-block alert-success\">\n",
    "\n",
    "    \n",
    "### Комментарий от ревьюера v_1\n",
    "\n",
    "👍🏻\n",
    "    \n",
    "</div>"
   ]
  },
  {
   "cell_type": "markdown",
   "metadata": {},
   "source": [
    "Для обработки пропусков значений в дате выхода, определим в какой год для каждой платформы выходило больше всего игр."
   ]
  },
  {
   "cell_type": "code",
   "execution_count": 166,
   "metadata": {},
   "outputs": [],
   "source": [
    "games_transformed = games.groupby('genre')['year_of_release'].transform(lambda x: x.mode()[0])\n",
    "\n",
    "games['year_of_release'] = games['year_of_release'].fillna(games_transformed)"
   ]
  },
  {
   "cell_type": "code",
   "execution_count": 167,
   "metadata": {},
   "outputs": [
    {
     "data": {
      "text/plain": [
       "name                  0\n",
       "platform              0\n",
       "year_of_release       0\n",
       "genre                 0\n",
       "na_sales              0\n",
       "eu_sales              0\n",
       "jp_sales              0\n",
       "other_sales           0\n",
       "critic_score       8576\n",
       "user_score         6699\n",
       "rating             6764\n",
       "dtype: int64"
      ]
     },
     "execution_count": 167,
     "metadata": {},
     "output_type": "execute_result"
    }
   ],
   "source": [
    "games.isna().sum()"
   ]
  },
  {
   "cell_type": "markdown",
   "metadata": {},
   "source": [
    "Обработаем пропуски в стобце critic_score"
   ]
  },
  {
   "cell_type": "code",
   "execution_count": 168,
   "metadata": {},
   "outputs": [],
   "source": [
    "#games_transformed = games.groupby(['platform','genre','year_of_release'])['critic_score'].transform('mean')\n",
    "\n",
    "#games['critic_score'] = games['critic_score'].fillna(games_transformed)\n",
    "\n",
    "#games.isna().sum()"
   ]
  },
  {
   "cell_type": "markdown",
   "metadata": {},
   "source": [
    "После преобразования осталось еще 2235 пропусков, это говорит о том, что данных в группах не достаточно для заполнения всех пропущенных значений. Оставшиеся пропуски заполним "
   ]
  },
  {
   "cell_type": "markdown",
   "metadata": {},
   "source": [
    "Таксим же образом преобразуем столбец user_score. \n",
    "Только у данного столбца тип данных object, поэтому переведем его в числа."
   ]
  },
  {
   "cell_type": "code",
   "execution_count": 169,
   "metadata": {},
   "outputs": [],
   "source": [
    "games['user_score'] = pd.to_numeric(games['user_score'], errors='coerce')"
   ]
  },
  {
   "cell_type": "code",
   "execution_count": 170,
   "metadata": {},
   "outputs": [],
   "source": [
    "#games_transformed = games.groupby(['platform','genre','year_of_release'])['user_score'].transform('mean')\n",
    "\n",
    "#games['user_score'] = games['user_score'].fillna(games_transformed)\n",
    "\n",
    "#games.isna().sum()"
   ]
  },
  {
   "cell_type": "markdown",
   "metadata": {},
   "source": [
    "После преобразований осталось 2056 строки с пропущенным значением.\n"
   ]
  },
  {
   "cell_type": "markdown",
   "metadata": {},
   "source": [
    "<div class=\"alert alert-block alert-danger\">\n",
    "    \n",
    "\n",
    "### Комментарий от ревьюера v_1\n",
    "Критично\n",
    "\n",
    "Вот так точно делать не надо. Оценка критично важная информация для исследования и она не подлежит корректному восстановлению. Столбцы с оценками надо оставить без изменения\n",
    "</div>"
   ]
  },
  {
   "cell_type": "markdown",
   "metadata": {},
   "source": [
    "Т.к. заполнить оставшиеся пропуски в столбцах critic_score и user_score не представляется возможным, то для дальнейшего исследования мы просто оставим в этих колонках пропуски, т.к. nan замещает отсутствующее в ячейке число и принадлежит к типу float, поэтому с ним можно проводить математические операции. "
   ]
  },
  {
   "cell_type": "markdown",
   "metadata": {},
   "source": [
    "<div class=\"alert alert-block alert-warning\">\n",
    "    \n",
    "\n",
    "    \n",
    "### Комментарий от ревьюера v_1\n",
    "Рекомендация\n",
    "\n",
    "Не знаю, что ты имеешь ввиду, но nan, не участвует в математических операциях. Например, при расчете описательных статистик, таких как среднее и медиана\n",
    "\n",
    "</div>"
   ]
  },
  {
   "cell_type": "markdown",
   "metadata": {},
   "source": [
    "Посмотрим на колонку rating"
   ]
  },
  {
   "cell_type": "code",
   "execution_count": 171,
   "metadata": {},
   "outputs": [
    {
     "data": {
      "text/plain": [
       "E       3990\n",
       "T       2961\n",
       "M       1563\n",
       "E10+    1420\n",
       "EC         8\n",
       "K-A        3\n",
       "RP         3\n",
       "AO         1\n",
       "Name: rating, dtype: int64"
      ]
     },
     "execution_count": 171,
     "metadata": {},
     "output_type": "execute_result"
    }
   ],
   "source": [
    "games['rating'].value_counts()"
   ]
  },
  {
   "cell_type": "markdown",
   "metadata": {},
   "source": [
    "«EC» («Early childhood») — «Для детей младшего возраста»: Игра подходит для детей от 3 лет и не содержит материалов, которые родители могли бы счесть неподходящими. Продукты, получившие данный рейтинг, изначально разрабатываются для детей и обычно представляют собой развивающие игры. Некоторые усложнённые развивающие игры могут иметь рейтинг «Everyone».\n",
    "\n",
    "«E» («Everyone») — «Для всех»: Содержание вполне подходит для возрастной категории от 6 лет. Такие игры могут понравиться и взрослым. Игры с этим рейтингом могут содержать минимальное насилие, в основном «мультяшного» характера. Первой игрой, которая получила данный рейтинг, стала The Simpsons Cartoon Studio, выпущенная в 1996 году. Первоначально \"K-A\" (\"Kids to Adults\")\n",
    "\n",
    "«E10+» («Everyone 10 and older») — «Для всех от 10 лет и старше»: Проекты с данным рейтингом могут содержать или немного больше мультипликационного или мягкого насилия, или несколько откровенные сцены, или минимальное количество крови. Рейтинг был принят ESRB 2 марта 2005 года. Первой игрой, которая получила данный рейтинг, стала Donkey Kong: Jungle Beat.\n",
    "\n",
    "«T» («Teen») — «Подросткам»: Игра подходит для лиц от 13 лет. Проекты из данной категории могут содержать насилие, непристойные сцены, грубый юмор, в меру откровенное сексуальное содержимое, кровь или нечастое использование ненормативной лексики.\n",
    "\n",
    "«M» («Mature») — «Для взрослых»: Материалы игры не подходят для подростков младше 17 лет. Проекты с данным рейтингом могут содержать достаточно жестокое насилие, большое количество крови с расчленением, непристойные сексуальные сцены или грубую ненормативную лексику, нежелательную для младшей аудитории.\n",
    "\n",
    "«AO» («Adults Only 18+») — «Только для взрослых»: Содержание игры только для взрослых старше 18 лет. Продукты из данной категории могут содержать длительные сцены жестокого насилия и/или очень откровенное сексуальное содержимое, а также сцены с обнажением. Большинство таких игр предназначено для персональных компьютеров под управлением Microsoft Windows и Apple Macintosh. Рейтинг «Только для взрослых» является предметом многочисленных дискуссий, так как накладывает серьёзные ограничения на продажи игры. Первой игрой, которая получила данный рейтинг, стала The Joy of Sex, выпущенная в 1993 году.\n"
   ]
  },
  {
   "cell_type": "markdown",
   "metadata": {},
   "source": [
    "Рейтингов K-A и RP не сущетсвует, поэтому заменим их на unknown так же как и пропущенные значения."
   ]
  },
  {
   "cell_type": "code",
   "execution_count": 172,
   "metadata": {},
   "outputs": [],
   "source": [
    "games['rating'] = games['rating'].fillna('unknown')"
   ]
  },
  {
   "cell_type": "code",
   "execution_count": 173,
   "metadata": {},
   "outputs": [],
   "source": [
    "games['rating'] = np.where((games['rating'] == 'K-A') | (games['rating'] == 'RP') , 'unknown', games['rating'])"
   ]
  },
  {
   "cell_type": "code",
   "execution_count": 174,
   "metadata": {},
   "outputs": [
    {
     "data": {
      "text/plain": [
       "unknown    6770\n",
       "E          3990\n",
       "T          2961\n",
       "M          1563\n",
       "E10+       1420\n",
       "EC            8\n",
       "AO            1\n",
       "Name: rating, dtype: int64"
      ]
     },
     "execution_count": 174,
     "metadata": {},
     "output_type": "execute_result"
    }
   ],
   "source": [
    "games['rating'].value_counts()"
   ]
  },
  {
   "cell_type": "markdown",
   "metadata": {},
   "source": [
    "<div class=\"alert alert-block alert-success\">\n",
    "\n",
    "    \n",
    "### Комментарий от ревьюера v_1\n",
    "\n",
    "А вот с рейтингом отличное заполнение 👍🏻\n",
    "    \n",
    "</div>"
   ]
  },
  {
   "cell_type": "markdown",
   "metadata": {},
   "source": [
    "<div class=\"alert alert-block alert-danger\">\n",
    "    \n",
    "\n",
    "### Комментарий от ревьюера v_1\n",
    "Критично\n",
    "\n",
    "Не хватает вывода по шагу предобработки\n",
    "</div>"
   ]
  },
  {
   "cell_type": "markdown",
   "metadata": {},
   "source": [
    "На этапе предобработки данных мы смогли заполнить пропуски в колонках с годом выхода и рейтингом, однако колонки с оценками критиков и пользователей заполнить не предоставляется возможным. Будем работать с тем, что есть."
   ]
  },
  {
   "cell_type": "markdown",
   "metadata": {},
   "source": [
    "## Исследовательский анализ данных"
   ]
  },
  {
   "cell_type": "markdown",
   "metadata": {},
   "source": [
    "Перед нами поставлены следующие задачи:\n",
    "- Посмотрите, сколько игр выпускалось в разные годы. Важны ли данные за все периоды?\n",
    "- Посмотрите, как менялись продажи по платформам. Выберите платформы с наибольшими суммарными продажами и постройте распределение по годам. За какой характерный срок появляются новые и исчезают старые платформы?\n",
    "- Возьмите данные за соответствующий актуальный период. Актуальный период определите самостоятельно в результате исследования предыдущих вопросов. Основной фактор — эти данные помогут построить прогноз на 2017 год.\n",
    "- Не учитывайте в работе данные за предыдущие годы.\n",
    "- Какие платформы лидируют по продажам, растут или падают? Выберите несколько потенциально прибыльных платформ.\n",
    "- Постройте график «ящик с усами» по глобальным продажам игр в разбивке по платформам. Опишите результат.\n",
    "- Посмотрите, как влияют на продажи внутри одной популярной платформы отзывы пользователей и критиков. Постройте диаграмму рассеяния и посчитайте корреляцию между отзывами и продажами. Сформулируйте выводы.\n",
    "- Соотнесите выводы с продажами игр на других платформах.\n",
    "- Посмотрите на общее распределение игр по жанрам. Что можно сказать о самых прибыльных жанрах? Выделяются ли жанры с высокими и низкими продажами?\n"
   ]
  },
  {
   "cell_type": "markdown",
   "metadata": {},
   "source": [
    "<div class=\"alert alert-block alert-success\">\n",
    "\n",
    "    \n",
    "### Комментарий от ревьюера v_1\n",
    "\n",
    "Молодец, что в начале шага описываешь перечень действий\n",
    "    \n",
    "</div>"
   ]
  },
  {
   "cell_type": "code",
   "execution_count": 175,
   "metadata": {},
   "outputs": [
    {
     "data": {
      "text/plain": [
       "<matplotlib.axes._subplots.AxesSubplot at 0x7efe1d411d50>"
      ]
     },
     "execution_count": 175,
     "metadata": {},
     "output_type": "execute_result"
    },
    {
     "data": {
      "image/png": "[encoded data removed]",
      "text/plain": [
       "<Figure size 432x288 with 1 Axes>"
      ]
     },
     "metadata": {
      "needs_background": "light"
     },
     "output_type": "display_data"
    }
   ],
   "source": [
    "games['year_of_release'].value_counts().plot()"
   ]
  },
  {
   "cell_type": "markdown",
   "metadata": {},
   "source": [
    "Как видно из расчетов, после 1994 года нет смысла рассматривать данные, т.к. количество выпускаемых игр в год было крайне мало."
   ]
  },
  {
   "cell_type": "markdown",
   "metadata": {},
   "source": [
    "<div class=\"alert alert-block alert-warning\">\n",
    "    \n",
    "\n",
    "### Комментарий от ревьюера v_1\n",
    "Рекомендация\n",
    "\n",
    "Тут явно графика не хватает)\n",
    "</div>"
   ]
  },
  {
   "cell_type": "markdown",
   "metadata": {},
   "source": [
    "Добавим колонку в датафрейм с суммарными продажами по всему миру."
   ]
  },
  {
   "cell_type": "code",
   "execution_count": 176,
   "metadata": {},
   "outputs": [],
   "source": [
    "games['sales'] = games['na_sales'] + games['eu_sales'] + games['jp_sales'] + games['other_sales']"
   ]
  },
  {
   "cell_type": "code",
   "execution_count": 177,
   "metadata": {},
   "outputs": [
    {
     "data": {
      "text/html": [
       "<div>\n",
       "<style scoped>\n",
       "    .dataframe tbody tr th:only-of-type {\n",
       "        vertical-align: middle;\n",
       "    }\n",
       "\n",
       "    .dataframe tbody tr th {\n",
       "        vertical-align: top;\n",
       "    }\n",
       "\n",
       "    .dataframe thead th {\n",
       "        text-align: right;\n",
       "    }\n",
       "</style>\n",
       "<table border=\"1\" class=\"dataframe\">\n",
       "  <thead>\n",
       "    <tr style=\"text-align: right;\">\n",
       "      <th></th>\n",
       "      <th>name</th>\n",
       "      <th>platform</th>\n",
       "      <th>year_of_release</th>\n",
       "      <th>genre</th>\n",
       "      <th>na_sales</th>\n",
       "      <th>eu_sales</th>\n",
       "      <th>jp_sales</th>\n",
       "      <th>other_sales</th>\n",
       "      <th>critic_score</th>\n",
       "      <th>user_score</th>\n",
       "      <th>rating</th>\n",
       "      <th>sales</th>\n",
       "    </tr>\n",
       "  </thead>\n",
       "  <tbody>\n",
       "    <tr>\n",
       "      <td>0</td>\n",
       "      <td>Wii Sports</td>\n",
       "      <td>Wii</td>\n",
       "      <td>2,006.00</td>\n",
       "      <td>Sports</td>\n",
       "      <td>41.36</td>\n",
       "      <td>28.96</td>\n",
       "      <td>3.77</td>\n",
       "      <td>8.45</td>\n",
       "      <td>76.00</td>\n",
       "      <td>8.00</td>\n",
       "      <td>E</td>\n",
       "      <td>82.54</td>\n",
       "    </tr>\n",
       "    <tr>\n",
       "      <td>1</td>\n",
       "      <td>Super Mario Bros.</td>\n",
       "      <td>NES</td>\n",
       "      <td>1,985.00</td>\n",
       "      <td>Platform</td>\n",
       "      <td>29.08</td>\n",
       "      <td>3.58</td>\n",
       "      <td>6.81</td>\n",
       "      <td>0.77</td>\n",
       "      <td>nan</td>\n",
       "      <td>nan</td>\n",
       "      <td>unknown</td>\n",
       "      <td>40.24</td>\n",
       "    </tr>\n",
       "    <tr>\n",
       "      <td>2</td>\n",
       "      <td>Mario Kart Wii</td>\n",
       "      <td>Wii</td>\n",
       "      <td>2,008.00</td>\n",
       "      <td>Racing</td>\n",
       "      <td>15.68</td>\n",
       "      <td>12.76</td>\n",
       "      <td>3.79</td>\n",
       "      <td>3.29</td>\n",
       "      <td>82.00</td>\n",
       "      <td>8.30</td>\n",
       "      <td>E</td>\n",
       "      <td>35.52</td>\n",
       "    </tr>\n",
       "    <tr>\n",
       "      <td>3</td>\n",
       "      <td>Wii Sports Resort</td>\n",
       "      <td>Wii</td>\n",
       "      <td>2,009.00</td>\n",
       "      <td>Sports</td>\n",
       "      <td>15.61</td>\n",
       "      <td>10.93</td>\n",
       "      <td>3.28</td>\n",
       "      <td>2.95</td>\n",
       "      <td>80.00</td>\n",
       "      <td>8.00</td>\n",
       "      <td>E</td>\n",
       "      <td>32.77</td>\n",
       "    </tr>\n",
       "    <tr>\n",
       "      <td>4</td>\n",
       "      <td>Pokemon Red/Pokemon Blue</td>\n",
       "      <td>GB</td>\n",
       "      <td>1,996.00</td>\n",
       "      <td>Role-Playing</td>\n",
       "      <td>11.27</td>\n",
       "      <td>8.89</td>\n",
       "      <td>10.22</td>\n",
       "      <td>1.00</td>\n",
       "      <td>nan</td>\n",
       "      <td>nan</td>\n",
       "      <td>unknown</td>\n",
       "      <td>31.38</td>\n",
       "    </tr>\n",
       "    <tr>\n",
       "      <td>5</td>\n",
       "      <td>Tetris</td>\n",
       "      <td>GB</td>\n",
       "      <td>1,989.00</td>\n",
       "      <td>Puzzle</td>\n",
       "      <td>23.20</td>\n",
       "      <td>2.26</td>\n",
       "      <td>4.22</td>\n",
       "      <td>0.58</td>\n",
       "      <td>nan</td>\n",
       "      <td>nan</td>\n",
       "      <td>unknown</td>\n",
       "      <td>30.26</td>\n",
       "    </tr>\n",
       "    <tr>\n",
       "      <td>6</td>\n",
       "      <td>New Super Mario Bros.</td>\n",
       "      <td>DS</td>\n",
       "      <td>2,006.00</td>\n",
       "      <td>Platform</td>\n",
       "      <td>11.28</td>\n",
       "      <td>9.14</td>\n",
       "      <td>6.50</td>\n",
       "      <td>2.88</td>\n",
       "      <td>89.00</td>\n",
       "      <td>8.50</td>\n",
       "      <td>E</td>\n",
       "      <td>29.80</td>\n",
       "    </tr>\n",
       "    <tr>\n",
       "      <td>7</td>\n",
       "      <td>Wii Play</td>\n",
       "      <td>Wii</td>\n",
       "      <td>2,006.00</td>\n",
       "      <td>Misc</td>\n",
       "      <td>13.96</td>\n",
       "      <td>9.18</td>\n",
       "      <td>2.93</td>\n",
       "      <td>2.84</td>\n",
       "      <td>58.00</td>\n",
       "      <td>6.60</td>\n",
       "      <td>E</td>\n",
       "      <td>28.91</td>\n",
       "    </tr>\n",
       "    <tr>\n",
       "      <td>8</td>\n",
       "      <td>New Super Mario Bros. Wii</td>\n",
       "      <td>Wii</td>\n",
       "      <td>2,009.00</td>\n",
       "      <td>Platform</td>\n",
       "      <td>14.44</td>\n",
       "      <td>6.94</td>\n",
       "      <td>4.70</td>\n",
       "      <td>2.24</td>\n",
       "      <td>87.00</td>\n",
       "      <td>8.40</td>\n",
       "      <td>E</td>\n",
       "      <td>28.32</td>\n",
       "    </tr>\n",
       "    <tr>\n",
       "      <td>9</td>\n",
       "      <td>Duck Hunt</td>\n",
       "      <td>NES</td>\n",
       "      <td>1,984.00</td>\n",
       "      <td>Shooter</td>\n",
       "      <td>26.93</td>\n",
       "      <td>0.63</td>\n",
       "      <td>0.28</td>\n",
       "      <td>0.47</td>\n",
       "      <td>nan</td>\n",
       "      <td>nan</td>\n",
       "      <td>unknown</td>\n",
       "      <td>28.31</td>\n",
       "    </tr>\n",
       "  </tbody>\n",
       "</table>\n",
       "</div>"
      ],
      "text/plain": [
       "                        name platform  year_of_release         genre  \\\n",
       "0                 Wii Sports      Wii         2,006.00        Sports   \n",
       "1          Super Mario Bros.      NES         1,985.00      Platform   \n",
       "2             Mario Kart Wii      Wii         2,008.00        Racing   \n",
       "3          Wii Sports Resort      Wii         2,009.00        Sports   \n",
       "4   Pokemon Red/Pokemon Blue       GB         1,996.00  Role-Playing   \n",
       "5                     Tetris       GB         1,989.00        Puzzle   \n",
       "6      New Super Mario Bros.       DS         2,006.00      Platform   \n",
       "7                   Wii Play      Wii         2,006.00          Misc   \n",
       "8  New Super Mario Bros. Wii      Wii         2,009.00      Platform   \n",
       "9                  Duck Hunt      NES         1,984.00       Shooter   \n",
       "\n",
       "   na_sales  eu_sales  jp_sales  other_sales  critic_score  user_score  \\\n",
       "0     41.36     28.96      3.77         8.45         76.00        8.00   \n",
       "1     29.08      3.58      6.81         0.77           nan         nan   \n",
       "2     15.68     12.76      3.79         3.29         82.00        8.30   \n",
       "3     15.61     10.93      3.28         2.95         80.00        8.00   \n",
       "4     11.27      8.89     10.22         1.00           nan         nan   \n",
       "5     23.20      2.26      4.22         0.58           nan         nan   \n",
       "6     11.28      9.14      6.50         2.88         89.00        8.50   \n",
       "7     13.96      9.18      2.93         2.84         58.00        6.60   \n",
       "8     14.44      6.94      4.70         2.24         87.00        8.40   \n",
       "9     26.93      0.63      0.28         0.47           nan         nan   \n",
       "\n",
       "    rating  sales  \n",
       "0        E  82.54  \n",
       "1  unknown  40.24  \n",
       "2        E  35.52  \n",
       "3        E  32.77  \n",
       "4  unknown  31.38  \n",
       "5  unknown  30.26  \n",
       "6        E  29.80  \n",
       "7        E  28.91  \n",
       "8        E  28.32  \n",
       "9  unknown  28.31  "
      ]
     },
     "execution_count": 177,
     "metadata": {},
     "output_type": "execute_result"
    }
   ],
   "source": [
    "games.head(10)"
   ]
  },
  {
   "cell_type": "code",
   "execution_count": 178,
   "metadata": {},
   "outputs": [
    {
     "data": {
      "text/plain": [
       "platform\n",
       "PS2    1,255.77\n",
       "X360     971.42\n",
       "PS3      939.65\n",
       "Wii      907.51\n",
       "DS       806.12\n",
       "PS       730.86\n",
       "GBA      317.85\n",
       "PS4      314.14\n",
       "PSP      294.05\n",
       "PC       259.52\n",
       "Name: sales, dtype: float64"
      ]
     },
     "execution_count": 178,
     "metadata": {},
     "output_type": "execute_result"
    }
   ],
   "source": [
    "games.groupby(['platform'])['sales'].sum().sort_values(ascending=False).head(10)"
   ]
  },
  {
   "cell_type": "markdown",
   "metadata": {},
   "source": [
    "Мы определили топ-10 платформ по суммарным продажам.\n",
    "Построим для них распределения по годам."
   ]
  },
  {
   "cell_type": "markdown",
   "metadata": {},
   "source": [
    "Я отрезала датасет по году выпуска (2014-2015-2016) и топ-10 сильно отличается, спасибо что указали на это."
   ]
  },
  {
   "cell_type": "code",
   "execution_count": 179,
   "metadata": {},
   "outputs": [
    {
     "data": {
      "text/plain": [
       "platform\n",
       "PS4    288.15\n",
       "XOne   140.36\n",
       "3DS     86.68\n",
       "PS3     68.18\n",
       "X360    48.22\n",
       "WiiU    42.98\n",
       "PC      27.05\n",
       "PSV     22.40\n",
       "Wii      5.07\n",
       "PSP      0.36\n",
       "Name: sales, dtype: float64"
      ]
     },
     "execution_count": 179,
     "metadata": {},
     "output_type": "execute_result"
    }
   ],
   "source": [
    "games_top_platform = games.query('year_of_release > 2013')\n",
    "games_top_platform.groupby(['platform'])['sales'].sum().sort_values(ascending=False).head(10)"
   ]
  },
  {
   "cell_type": "code",
   "execution_count": 180,
   "metadata": {},
   "outputs": [],
   "source": [
    "games_top_platform = games_top_platform.query('platform in (\"PS4\",\"XOne\", \"3DS\", \"PS3\", \"X360\", \"WiiU\",\"PC\", \"PSV\", \"Wii\", \"PSP\")')"
   ]
  },
  {
   "cell_type": "code",
   "execution_count": 181,
   "metadata": {},
   "outputs": [],
   "source": [
    "games_top_platform.to_csv('games_top_platform.csv')"
   ]
  },
  {
   "cell_type": "markdown",
   "metadata": {},
   "source": [
    "Для ревью. У меня на Юпитере не запустился код, я его писала в colab. Сам код втавлю сюда, спасибо преподавателям, что показали такой крутой прием.\n",
    "!pip install bar_chart_race  \n",
    "import bar_chart_race as bcr  \n",
    "import pandas as pd  \n",
    "df = pd.read_csv('https://drive.google.com/u/0/uc?id=1Gpr4wgExIp-ELrp9BY424N7Ol2cWVPxe&export=download') # читаем данные  \n",
    "df_platfrom_sales = df.pivot_table(index='year_of_release', values='sales', columns='platform', aggfunc='sum')\n",
    "bcr.bar_chart_race(df=df_platfrom_sales, n_bars=5,\n",
    "                   period_label={'x': .99, 'y': .25, 'ha': 'right', 'va': 'center'}, \n",
    "                   sort='desc', steps_per_period=60, period_length=1000)"
   ]
  },
  {
   "cell_type": "markdown",
   "metadata": {},
   "source": [
    "<div class=\"alert alert-block alert-warning\">\n",
    "    \n",
    "\n",
    "### Комментарий от ревьюера v_1\n",
    "Рекомендация\n",
    "\n",
    "Код должен отрабатывать в той среде, в которой сдается работа. Твой код крутой, да, но его можно было добавить как дополнительный\n",
    "</div>"
   ]
  },
  {
   "cell_type": "code",
   "execution_count": 182,
   "metadata": {},
   "outputs": [
    {
     "data": {
      "text/html": [
       "<video width=1000 controls>\n",
       "  <source src=\"top_platform.mp4\" type=\"video/mp4\">\n",
       "</video>\n"
      ],
      "text/plain": [
       "<IPython.core.display.HTML object>"
      ]
     },
     "metadata": {},
     "output_type": "display_data"
    }
   ],
   "source": [
    "%%HTML\n",
    "<video width=1000 controls>\n",
    "  <source src=\"top_platform.mp4\" type=\"video/mp4\">\n",
    "</video>"
   ]
  },
  {
   "cell_type": "markdown",
   "metadata": {},
   "source": [
    "Как видно из графика - есть платформы долгожители такие как PS3, PC, Wii. Однако каждые 5 лет появляются новые лидеры и уходят старые платформы. Поэтому определим актуальный период 5 лет (2012-2016)."
   ]
  },
  {
   "cell_type": "code",
   "execution_count": 183,
   "metadata": {},
   "outputs": [],
   "source": [
    "#games_5 = games_top_platform.query('year_of_release > 2013')"
   ]
  },
  {
   "cell_type": "markdown",
   "metadata": {},
   "source": [
    "<div class=\"alert alert-block alert-warning\">\n",
    "    \n",
    "\n",
    "### Комментарий от ревьюера v_1\n",
    "Рекомендация\n",
    "\n",
    "Для целей прогнозирования продаж на следующий год даже в традиционных бизнесах редко берут данные более чем за 2-3 года. А в такой динамично меняющейся индустрии, как компьютерные игры и вовсе не стоит брать слишком большой временной интервал - иначе обязательно захватишь уже отжившие тренды\n",
    "    \n",
    "\n",
    "</div>"
   ]
  },
  {
   "cell_type": "markdown",
   "metadata": {},
   "source": [
    "<div class=\"alert alert-block alert-danger\">\n",
    "    \n",
    "\n",
    "### Комментарий от ревьюера v_1\n",
    "Критично\n",
    "\n",
    "Ты обрезала датасет из топ10 платформ за весь период, при этом не учитывается момент, что платформа появилась недавно, набирает обороты и просто не успела попасть в эти топ10. И такая платформа есть, это Xone\n",
    "</div>"
   ]
  },
  {
   "cell_type": "markdown",
   "metadata": {},
   "source": [
    "Я изменила актуальный период и взяла последние 3 года (2014-2015-2016) и получила другой топ-10 платформ. Будем анализировать его."
   ]
  },
  {
   "cell_type": "markdown",
   "metadata": {},
   "source": [
    "Какие платформы лидируют по продажам, растут или падают? Выберите несколько потенциально прибыльных платформ."
   ]
  },
  {
   "cell_type": "code",
   "execution_count": 184,
   "metadata": {},
   "outputs": [
    {
     "data": {
      "text/plain": [
       "platform\n",
       "PS4    288.15\n",
       "XOne   140.36\n",
       "3DS     86.68\n",
       "PS3     68.18\n",
       "X360    48.22\n",
       "WiiU    42.98\n",
       "PC      27.05\n",
       "PSV     22.40\n",
       "Wii      5.07\n",
       "PSP      0.36\n",
       "Name: sales, dtype: float64"
      ]
     },
     "execution_count": 184,
     "metadata": {},
     "output_type": "execute_result"
    }
   ],
   "source": [
    "games_top_platform.groupby(['platform'])['sales'].sum().sort_values(ascending=False)"
   ]
  },
  {
   "cell_type": "code",
   "execution_count": 185,
   "metadata": {},
   "outputs": [],
   "source": [
    "import matplotlib.pyplot as plt"
   ]
  },
  {
   "cell_type": "code",
   "execution_count": 186,
   "metadata": {},
   "outputs": [
    {
     "data": {
      "image/png": "[encoded data removed]",
      "text/plain": [
       "<Figure size 1080x360 with 1 Axes>"
      ]
     },
     "metadata": {
      "needs_background": "light"
     },
     "output_type": "display_data"
    }
   ],
   "source": [
    "platform_data = (games_top_platform\n",
    "                 .pivot_table(index=['platform', 'year_of_release'], values='sales', aggfunc='sum')\n",
    "                 .reset_index()\n",
    "                )\n",
    "plt.figure(figsize=(15,5))\n",
    "plt.style.use('seaborn-deep')\n",
    "sns.lineplot(data=platform_data, x=\"year_of_release\", y=\"sales\", hue=\"platform\", marker=\"+\")  \n",
    "plt.title('распределение продаж по платформам за актуальный период') \n",
    "plt.ylabel('суммарные продажи')\n",
    "plt.xlabel('год выпуска') \n",
    "plt.show()                 "
   ]
  },
  {
   "cell_type": "markdown",
   "metadata": {},
   "source": [
    "<div class=\"alert alert-block alert-success\">\n",
    "\n",
    "    \n",
    "### Комментарий от ревьюера v_1\n",
    "Отлично\n",
    "\n",
    "Отличный график, очень наглядно 👍🏻\n",
    "    \n",
    "</div>"
   ]
  },
  {
   "cell_type": "markdown",
   "metadata": {},
   "source": [
    "Явным лидером является PS4. Сделом за ним идут платформы XOne и 3DS. \n",
    "Остальные платформы идут почти вровень.\n",
    "Wii и PSP к 2016 практически слились с нулем.  \n",
    "Из всего вышесказанного я предлагаю оставить для прогнозирования следующие платформы: PS4, XOne и 3DS."
   ]
  },
  {
   "cell_type": "markdown",
   "metadata": {},
   "source": [
    "<div class=\"alert alert-block alert-warning\">\n",
    "    \n",
    "\n",
    "### Комментарий от ревьюера v_1\n",
    "Рекомендация\n",
    "\n",
    "1. Это не снижение, данные за 2016 год неполные\n",
    "    \n",
    "2. Я бы не брал в расчет PS3 и X360, их уже фактически заменили консоли этой же серии, но нового поколения. X360 заменяет Xone, которая не попала в твои топ10)\n",
    "    \n",
    "\n",
    "</div>"
   ]
  },
  {
   "cell_type": "markdown",
   "metadata": {},
   "source": [
    "Постройте график «ящик с усами» по глобальным продажам игр в разбивке по платформам. "
   ]
  },
  {
   "cell_type": "code",
   "execution_count": 187,
   "metadata": {},
   "outputs": [],
   "source": [
    "top_platforms = games_top_platform.query('platform in (\"XOne\", \"PS4\", \"3DS\")')"
   ]
  },
  {
   "cell_type": "code",
   "execution_count": 188,
   "metadata": {},
   "outputs": [
    {
     "name": "stderr",
     "output_type": "stream",
     "text": [
      "/opt/conda/lib/python3.7/site-packages/numpy/core/_asarray.py:83: VisibleDeprecationWarning: Creating an ndarray from ragged nested sequences (which is a list-or-tuple of lists-or-tuples-or ndarrays with different lengths or shapes) is deprecated. If you meant to do this, you must specify 'dtype=object' when creating the ndarray\n",
      "  return array(a, dtype, copy=False, order=order)\n"
     ]
    },
    {
     "data": {
      "image/png": "[encoded data removed]",
      "text/plain": [
       "<Figure size 1440x720 with 1 Axes>"
      ]
     },
     "metadata": {
      "needs_background": "light"
     },
     "output_type": "display_data"
    }
   ],
   "source": [
    "#sns.boxplot(y=\"platform\", x=\"sales\", data=top_platforms)\n",
    "ax = top_platforms.boxplot('sales', by='platform', figsize=(20,10))\n",
    "ax.set_yscale('log')\n"
   ]
  },
  {
   "cell_type": "markdown",
   "metadata": {},
   "source": [
    "Как видно из ящиков с усами у платформы XOne медиана смещена к максимуму, в остальных платформах распредерение ближе к номральному без смещений.\n",
    "Благодаря нескольким боксплотам, мы можем быстро увидеть минимумы (у всех платформ они находятся на одной отметке) и максимумы (выше всех усики у PS4), так же брасаются в глаза вбросы. Все они выше максимума усиков. Это говорит о том, что для каждой платформы случаются супер-хитовые игры, однако явный фаворит, показывающий регулярно такие резульаты это PS4. Поэтому в дальнейшем я буду рассматривать именно эту платформу."
   ]
  },
  {
   "cell_type": "markdown",
   "metadata": {},
   "source": [
    "<div class=\"alert alert-block alert-success\">\n",
    "\n",
    "    \n",
    "### Комментарий от ревьюера v_1\n",
    "\n",
    "Отличные боксплоты, очень наглядно 👍🏻\n",
    "    \n",
    "\n",
    "    \n",
    "</div>"
   ]
  },
  {
   "cell_type": "markdown",
   "metadata": {},
   "source": [
    "Посмотрите, как влияют на продажи внутри одной популярной платформы отзывы пользователей и критиков. Постройте диаграмму рассеяния и посчитайте корреляцию между отзывами и продажами. Сформулируйте выводы."
   ]
  },
  {
   "cell_type": "code",
   "execution_count": 189,
   "metadata": {},
   "outputs": [
    {
     "data": {
      "text/html": [
       "<div>\n",
       "<style scoped>\n",
       "    .dataframe tbody tr th:only-of-type {\n",
       "        vertical-align: middle;\n",
       "    }\n",
       "\n",
       "    .dataframe tbody tr th {\n",
       "        vertical-align: top;\n",
       "    }\n",
       "\n",
       "    .dataframe thead th {\n",
       "        text-align: right;\n",
       "    }\n",
       "</style>\n",
       "<table border=\"1\" class=\"dataframe\">\n",
       "  <thead>\n",
       "    <tr style=\"text-align: right;\">\n",
       "      <th></th>\n",
       "      <th>name</th>\n",
       "      <th>platform</th>\n",
       "      <th>year_of_release</th>\n",
       "      <th>genre</th>\n",
       "      <th>na_sales</th>\n",
       "      <th>eu_sales</th>\n",
       "      <th>jp_sales</th>\n",
       "      <th>other_sales</th>\n",
       "      <th>critic_score</th>\n",
       "      <th>user_score</th>\n",
       "      <th>rating</th>\n",
       "      <th>sales</th>\n",
       "    </tr>\n",
       "  </thead>\n",
       "  <tbody>\n",
       "    <tr>\n",
       "      <td>31</td>\n",
       "      <td>Call of Duty: Black Ops 3</td>\n",
       "      <td>PS4</td>\n",
       "      <td>2,015.00</td>\n",
       "      <td>Shooter</td>\n",
       "      <td>6.03</td>\n",
       "      <td>5.86</td>\n",
       "      <td>0.36</td>\n",
       "      <td>2.38</td>\n",
       "      <td>nan</td>\n",
       "      <td>nan</td>\n",
       "      <td>unknown</td>\n",
       "      <td>14.63</td>\n",
       "    </tr>\n",
       "    <tr>\n",
       "      <td>42</td>\n",
       "      <td>Grand Theft Auto V</td>\n",
       "      <td>PS4</td>\n",
       "      <td>2,014.00</td>\n",
       "      <td>Action</td>\n",
       "      <td>3.96</td>\n",
       "      <td>6.31</td>\n",
       "      <td>0.38</td>\n",
       "      <td>1.97</td>\n",
       "      <td>97.00</td>\n",
       "      <td>8.30</td>\n",
       "      <td>M</td>\n",
       "      <td>12.62</td>\n",
       "    </tr>\n",
       "    <tr>\n",
       "      <td>77</td>\n",
       "      <td>FIFA 16</td>\n",
       "      <td>PS4</td>\n",
       "      <td>2,015.00</td>\n",
       "      <td>Sports</td>\n",
       "      <td>1.12</td>\n",
       "      <td>6.12</td>\n",
       "      <td>0.06</td>\n",
       "      <td>1.28</td>\n",
       "      <td>82.00</td>\n",
       "      <td>4.30</td>\n",
       "      <td>E</td>\n",
       "      <td>8.58</td>\n",
       "    </tr>\n",
       "    <tr>\n",
       "      <td>87</td>\n",
       "      <td>Star Wars Battlefront (2015)</td>\n",
       "      <td>PS4</td>\n",
       "      <td>2,015.00</td>\n",
       "      <td>Shooter</td>\n",
       "      <td>2.99</td>\n",
       "      <td>3.49</td>\n",
       "      <td>0.22</td>\n",
       "      <td>1.28</td>\n",
       "      <td>nan</td>\n",
       "      <td>nan</td>\n",
       "      <td>unknown</td>\n",
       "      <td>7.98</td>\n",
       "    </tr>\n",
       "    <tr>\n",
       "      <td>92</td>\n",
       "      <td>Call of Duty: Advanced Warfare</td>\n",
       "      <td>PS4</td>\n",
       "      <td>2,014.00</td>\n",
       "      <td>Shooter</td>\n",
       "      <td>2.81</td>\n",
       "      <td>3.48</td>\n",
       "      <td>0.14</td>\n",
       "      <td>1.23</td>\n",
       "      <td>83.00</td>\n",
       "      <td>5.70</td>\n",
       "      <td>M</td>\n",
       "      <td>7.66</td>\n",
       "    </tr>\n",
       "    <tr>\n",
       "      <td>...</td>\n",
       "      <td>...</td>\n",
       "      <td>...</td>\n",
       "      <td>...</td>\n",
       "      <td>...</td>\n",
       "      <td>...</td>\n",
       "      <td>...</td>\n",
       "      <td>...</td>\n",
       "      <td>...</td>\n",
       "      <td>...</td>\n",
       "      <td>...</td>\n",
       "      <td>...</td>\n",
       "      <td>...</td>\n",
       "    </tr>\n",
       "    <tr>\n",
       "      <td>16500</td>\n",
       "      <td>Root Letter</td>\n",
       "      <td>PS4</td>\n",
       "      <td>2,016.00</td>\n",
       "      <td>Adventure</td>\n",
       "      <td>0.00</td>\n",
       "      <td>0.00</td>\n",
       "      <td>0.01</td>\n",
       "      <td>0.00</td>\n",
       "      <td>69.00</td>\n",
       "      <td>7.50</td>\n",
       "      <td>unknown</td>\n",
       "      <td>0.01</td>\n",
       "    </tr>\n",
       "    <tr>\n",
       "      <td>16503</td>\n",
       "      <td>Shin Hayarigami 2</td>\n",
       "      <td>PS4</td>\n",
       "      <td>2,016.00</td>\n",
       "      <td>Adventure</td>\n",
       "      <td>0.00</td>\n",
       "      <td>0.00</td>\n",
       "      <td>0.01</td>\n",
       "      <td>0.00</td>\n",
       "      <td>nan</td>\n",
       "      <td>nan</td>\n",
       "      <td>unknown</td>\n",
       "      <td>0.01</td>\n",
       "    </tr>\n",
       "    <tr>\n",
       "      <td>16526</td>\n",
       "      <td>Dungeons 2</td>\n",
       "      <td>PS4</td>\n",
       "      <td>2,016.00</td>\n",
       "      <td>Role-Playing</td>\n",
       "      <td>0.01</td>\n",
       "      <td>0.00</td>\n",
       "      <td>0.00</td>\n",
       "      <td>0.00</td>\n",
       "      <td>61.00</td>\n",
       "      <td>7.90</td>\n",
       "      <td>T</td>\n",
       "      <td>0.01</td>\n",
       "    </tr>\n",
       "    <tr>\n",
       "      <td>16530</td>\n",
       "      <td>Carmageddon: Max Damage</td>\n",
       "      <td>PS4</td>\n",
       "      <td>2,016.00</td>\n",
       "      <td>Action</td>\n",
       "      <td>0.01</td>\n",
       "      <td>0.00</td>\n",
       "      <td>0.00</td>\n",
       "      <td>0.00</td>\n",
       "      <td>51.00</td>\n",
       "      <td>5.50</td>\n",
       "      <td>M</td>\n",
       "      <td>0.01</td>\n",
       "    </tr>\n",
       "    <tr>\n",
       "      <td>16585</td>\n",
       "      <td>Farming 2017 - The Simulation</td>\n",
       "      <td>PS4</td>\n",
       "      <td>2,016.00</td>\n",
       "      <td>Simulation</td>\n",
       "      <td>0.00</td>\n",
       "      <td>0.01</td>\n",
       "      <td>0.00</td>\n",
       "      <td>0.00</td>\n",
       "      <td>nan</td>\n",
       "      <td>nan</td>\n",
       "      <td>unknown</td>\n",
       "      <td>0.01</td>\n",
       "    </tr>\n",
       "  </tbody>\n",
       "</table>\n",
       "<p>376 rows × 12 columns</p>\n",
       "</div>"
      ],
      "text/plain": [
       "                                 name platform  year_of_release         genre  \\\n",
       "31          Call of Duty: Black Ops 3      PS4         2,015.00       Shooter   \n",
       "42                 Grand Theft Auto V      PS4         2,014.00        Action   \n",
       "77                            FIFA 16      PS4         2,015.00        Sports   \n",
       "87       Star Wars Battlefront (2015)      PS4         2,015.00       Shooter   \n",
       "92     Call of Duty: Advanced Warfare      PS4         2,014.00       Shooter   \n",
       "...                               ...      ...              ...           ...   \n",
       "16500                     Root Letter      PS4         2,016.00     Adventure   \n",
       "16503               Shin Hayarigami 2      PS4         2,016.00     Adventure   \n",
       "16526                      Dungeons 2      PS4         2,016.00  Role-Playing   \n",
       "16530         Carmageddon: Max Damage      PS4         2,016.00        Action   \n",
       "16585   Farming 2017 - The Simulation      PS4         2,016.00    Simulation   \n",
       "\n",
       "       na_sales  eu_sales  jp_sales  other_sales  critic_score  user_score  \\\n",
       "31         6.03      5.86      0.36         2.38           nan         nan   \n",
       "42         3.96      6.31      0.38         1.97         97.00        8.30   \n",
       "77         1.12      6.12      0.06         1.28         82.00        4.30   \n",
       "87         2.99      3.49      0.22         1.28           nan         nan   \n",
       "92         2.81      3.48      0.14         1.23         83.00        5.70   \n",
       "...         ...       ...       ...          ...           ...         ...   \n",
       "16500      0.00      0.00      0.01         0.00         69.00        7.50   \n",
       "16503      0.00      0.00      0.01         0.00           nan         nan   \n",
       "16526      0.01      0.00      0.00         0.00         61.00        7.90   \n",
       "16530      0.01      0.00      0.00         0.00         51.00        5.50   \n",
       "16585      0.00      0.01      0.00         0.00           nan         nan   \n",
       "\n",
       "        rating  sales  \n",
       "31     unknown  14.63  \n",
       "42           M  12.62  \n",
       "77           E   8.58  \n",
       "87     unknown   7.98  \n",
       "92           M   7.66  \n",
       "...        ...    ...  \n",
       "16500  unknown   0.01  \n",
       "16503  unknown   0.01  \n",
       "16526        T   0.01  \n",
       "16530        M   0.01  \n",
       "16585  unknown   0.01  \n",
       "\n",
       "[376 rows x 12 columns]"
      ]
     },
     "metadata": {},
     "output_type": "display_data"
    }
   ],
   "source": [
    "games_PS4 = top_platforms.query('platform == \"PS4\"')\n",
    "display(games_PS4)"
   ]
  },
  {
   "cell_type": "code",
   "execution_count": 190,
   "metadata": {},
   "outputs": [
    {
     "data": {
      "text/plain": [
       "<matplotlib.axes._subplots.AxesSubplot at 0x7efe1d6c1d10>"
      ]
     },
     "execution_count": 190,
     "metadata": {},
     "output_type": "execute_result"
    },
    {
     "data": {
      "image/png": "[encoded data removed]",
      "text/plain": [
       "<Figure size 1080x720 with 1 Axes>"
      ]
     },
     "metadata": {
      "needs_background": "light"
     },
     "output_type": "display_data"
    }
   ],
   "source": [
    "games_PS4.plot(x='critic_score', y='sales', kind='scatter', grid=True, alpha=0.8, figsize=(15,10)) "
   ]
  },
  {
   "cell_type": "code",
   "execution_count": 191,
   "metadata": {},
   "outputs": [
    {
     "data": {
      "text/plain": [
       "0.40266141068104083"
      ]
     },
     "execution_count": 191,
     "metadata": {},
     "output_type": "execute_result"
    }
   ],
   "source": [
    "games_PS4['critic_score'].corr(games_PS4['sales'])"
   ]
  },
  {
   "cell_type": "code",
   "execution_count": 192,
   "metadata": {},
   "outputs": [
    {
     "data": {
      "text/plain": [
       "<matplotlib.axes._subplots.AxesSubplot at 0x7efe1cf01b90>"
      ]
     },
     "execution_count": 192,
     "metadata": {},
     "output_type": "execute_result"
    },
    {
     "data": {
      "image/png": "[encoded data removed]",
      "text/plain": [
       "<Figure size 1080x720 with 1 Axes>"
      ]
     },
     "metadata": {
      "needs_background": "light"
     },
     "output_type": "display_data"
    }
   ],
   "source": [
    "games_PS4.plot(x='user_score', y='sales', kind='scatter', grid=True, alpha=0.8, figsize=(15,10)) "
   ]
  },
  {
   "cell_type": "code",
   "execution_count": 193,
   "metadata": {},
   "outputs": [
    {
     "data": {
      "text/plain": [
       "-0.040131589472697356"
      ]
     },
     "execution_count": 193,
     "metadata": {},
     "output_type": "execute_result"
    }
   ],
   "source": [
    "games_PS4['user_score'].corr(games_PS4['sales'])"
   ]
  },
  {
   "cell_type": "markdown",
   "metadata": {},
   "source": [
    "Как показывают графики и коэффициенты корреляции: явной зависимости между оценками критиков\\пользователей и продаж нет."
   ]
  },
  {
   "cell_type": "markdown",
   "metadata": {},
   "source": [
    "Проверим выводы с продажами игр на других популярных платформах платформах."
   ]
  },
  {
   "cell_type": "markdown",
   "metadata": {},
   "source": [
    "Для платформы X360."
   ]
  },
  {
   "cell_type": "code",
   "execution_count": 195,
   "metadata": {},
   "outputs": [
    {
     "data": {
      "text/plain": [
       "<matplotlib.axes._subplots.AxesSubplot at 0x7efe1ce7e650>"
      ]
     },
     "execution_count": 195,
     "metadata": {},
     "output_type": "execute_result"
    },
    {
     "data": {
      "image/png": "[encoded data removed]",
      "text/plain": [
       "<Figure size 1080x720 with 1 Axes>"
      ]
     },
     "metadata": {
      "needs_background": "light"
     },
     "output_type": "display_data"
    }
   ],
   "source": [
    "top_platforms[top_platforms['platform'] == \"XOne\"].plot(x='critic_score', y='sales', kind='scatter', grid=True, alpha=0.8, figsize=(15,10))  "
   ]
  },
  {
   "cell_type": "code",
   "execution_count": 203,
   "metadata": {},
   "outputs": [
    {
     "data": {
      "text/plain": [
       "0.42867694370333226"
      ]
     },
     "execution_count": 203,
     "metadata": {},
     "output_type": "execute_result"
    }
   ],
   "source": [
    "top_platforms[top_platforms['platform'] == \"XOne\"]['critic_score'].corr(top_platforms[top_platforms['platform'] == \"XOne\"]['sales'])"
   ]
  },
  {
   "cell_type": "code",
   "execution_count": 197,
   "metadata": {},
   "outputs": [
    {
     "data": {
      "text/plain": [
       "<matplotlib.axes._subplots.AxesSubplot at 0x7efe1ce04f50>"
      ]
     },
     "execution_count": 197,
     "metadata": {},
     "output_type": "execute_result"
    },
    {
     "data": {
      "image/png": "[encoded data removed]",
      "text/plain": [
       "<Figure size 1080x720 with 1 Axes>"
      ]
     },
     "metadata": {
      "needs_background": "light"
     },
     "output_type": "display_data"
    }
   ],
   "source": [
    "top_platforms[top_platforms['platform'] == \"XOne\"].plot(x='user_score', y='sales', kind='scatter', grid=True, alpha=0.8, figsize=(15,10))  "
   ]
  },
  {
   "cell_type": "code",
   "execution_count": 204,
   "metadata": {},
   "outputs": [
    {
     "data": {
      "text/plain": [
       "-0.0703839280647581"
      ]
     },
     "execution_count": 204,
     "metadata": {},
     "output_type": "execute_result"
    }
   ],
   "source": [
    "top_platforms[top_platforms['platform'] == \"XOne\"]['user_score'].corr(top_platforms[top_platforms['platform'] == \"XOne\"]['sales'])"
   ]
  },
  {
   "cell_type": "markdown",
   "metadata": {},
   "source": [
    "Картина аналогична распределениям PS4. Взаимосвязь отсутвует."
   ]
  },
  {
   "cell_type": "markdown",
   "metadata": {},
   "source": [
    "Построим графики распределения для платформы 3DS"
   ]
  },
  {
   "cell_type": "code",
   "execution_count": 199,
   "metadata": {},
   "outputs": [
    {
     "data": {
      "text/plain": [
       "<matplotlib.axes._subplots.AxesSubplot at 0x7efe1cdddf90>"
      ]
     },
     "execution_count": 199,
     "metadata": {},
     "output_type": "execute_result"
    },
    {
     "data": {
      "image/png": "[encoded data removed]",
      "text/plain": [
       "<Figure size 1080x720 with 1 Axes>"
      ]
     },
     "metadata": {
      "needs_background": "light"
     },
     "output_type": "display_data"
    }
   ],
   "source": [
    "top_platforms[top_platforms['platform'] == \"3DS\"].plot(x='critic_score', y='sales', kind='scatter', grid=True, alpha=0.8, figsize=(15,10))  "
   ]
  },
  {
   "cell_type": "code",
   "execution_count": 205,
   "metadata": {},
   "outputs": [
    {
     "data": {
      "text/plain": [
       "0.314117492869051"
      ]
     },
     "execution_count": 205,
     "metadata": {},
     "output_type": "execute_result"
    }
   ],
   "source": [
    "top_platforms[top_platforms['platform'] == \"3DS\"]['critic_score'].corr(top_platforms[top_platforms['platform'] == \"3DS\"]['sales'])"
   ]
  },
  {
   "cell_type": "code",
   "execution_count": 201,
   "metadata": {},
   "outputs": [
    {
     "data": {
      "text/plain": [
       "<matplotlib.axes._subplots.AxesSubplot at 0x7efe1cd3bf10>"
      ]
     },
     "execution_count": 201,
     "metadata": {},
     "output_type": "execute_result"
    },
    {
     "data": {
      "image/png": "[encoded data removed]",
      "text/plain": [
       "<Figure size 1080x720 with 1 Axes>"
      ]
     },
     "metadata": {
      "needs_background": "light"
     },
     "output_type": "display_data"
    }
   ],
   "source": [
    "top_platforms[top_platforms['platform'] == \"3DS\"].plot(x='user_score', y='sales', kind='scatter', grid=True, alpha=0.8, figsize=(15,10))  "
   ]
  },
  {
   "cell_type": "code",
   "execution_count": 206,
   "metadata": {},
   "outputs": [
    {
     "data": {
      "text/plain": [
       "0.2151932718527028"
      ]
     },
     "execution_count": 206,
     "metadata": {},
     "output_type": "execute_result"
    }
   ],
   "source": [
    "top_platforms[top_platforms['platform'] == \"3DS\"]['user_score'].corr(top_platforms[top_platforms['platform'] == \"3DS\"]['sales'])"
   ]
  },
  {
   "cell_type": "markdown",
   "metadata": {},
   "source": [
    "Картина не изменилась."
   ]
  },
  {
   "cell_type": "markdown",
   "metadata": {},
   "source": [
    "Как показали графики и расчеты коэффициентов корреляции прочной связи между оценками как критиков, так и пользователей с продажами не обнаружено. Существуют игры, которые при низких оценках показывают высокие продажи и наоборот."
   ]
  },
  {
   "cell_type": "markdown",
   "metadata": {},
   "source": [
    "<div class=\"alert alert-block alert-success\">\n",
    "\n",
    "    \n",
    "### Комментарий от ревьюера v_1\n",
    "\n",
    "С этим шагом разобралась отлично!\n",
    "    \n",
    "Расчеты, выводы и графики верны\n",
    "    \n",
    "</div>"
   ]
  },
  {
   "cell_type": "markdown",
   "metadata": {},
   "source": [
    "Посмотри на общее распределение игр по жанрам. Что можно сказать о самых прибыльных жанрах? Выделяются ли жанры с высокими и низкими продажами?"
   ]
  },
  {
   "cell_type": "code",
   "execution_count": 207,
   "metadata": {},
   "outputs": [
    {
     "data": {
      "text/html": [
       "<div>\n",
       "<style scoped>\n",
       "    .dataframe tbody tr th:only-of-type {\n",
       "        vertical-align: middle;\n",
       "    }\n",
       "\n",
       "    .dataframe tbody tr th {\n",
       "        vertical-align: top;\n",
       "    }\n",
       "\n",
       "    .dataframe thead th {\n",
       "        text-align: right;\n",
       "    }\n",
       "</style>\n",
       "<table border=\"1\" class=\"dataframe\">\n",
       "  <thead>\n",
       "    <tr style=\"text-align: right;\">\n",
       "      <th></th>\n",
       "      <th>sales</th>\n",
       "    </tr>\n",
       "    <tr>\n",
       "      <th>genre</th>\n",
       "      <th></th>\n",
       "    </tr>\n",
       "  </thead>\n",
       "  <tbody>\n",
       "    <tr>\n",
       "      <td>Shooter</td>\n",
       "      <td>1.81</td>\n",
       "    </tr>\n",
       "    <tr>\n",
       "      <td>Sports</td>\n",
       "      <td>0.93</td>\n",
       "    </tr>\n",
       "    <tr>\n",
       "      <td>Role-Playing</td>\n",
       "      <td>0.75</td>\n",
       "    </tr>\n",
       "    <tr>\n",
       "      <td>Fighting</td>\n",
       "      <td>0.67</td>\n",
       "    </tr>\n",
       "    <tr>\n",
       "      <td>Platform</td>\n",
       "      <td>0.48</td>\n",
       "    </tr>\n",
       "    <tr>\n",
       "      <td>Racing</td>\n",
       "      <td>0.47</td>\n",
       "    </tr>\n",
       "    <tr>\n",
       "      <td>Action</td>\n",
       "      <td>0.47</td>\n",
       "    </tr>\n",
       "    <tr>\n",
       "      <td>Misc</td>\n",
       "      <td>0.33</td>\n",
       "    </tr>\n",
       "    <tr>\n",
       "      <td>Simulation</td>\n",
       "      <td>0.30</td>\n",
       "    </tr>\n",
       "    <tr>\n",
       "      <td>Adventure</td>\n",
       "      <td>0.17</td>\n",
       "    </tr>\n",
       "    <tr>\n",
       "      <td>Puzzle</td>\n",
       "      <td>0.11</td>\n",
       "    </tr>\n",
       "    <tr>\n",
       "      <td>Strategy</td>\n",
       "      <td>0.10</td>\n",
       "    </tr>\n",
       "  </tbody>\n",
       "</table>\n",
       "</div>"
      ],
      "text/plain": [
       "              sales\n",
       "genre              \n",
       "Shooter        1.81\n",
       "Sports         0.93\n",
       "Role-Playing   0.75\n",
       "Fighting       0.67\n",
       "Platform       0.48\n",
       "Racing         0.47\n",
       "Action         0.47\n",
       "Misc           0.33\n",
       "Simulation     0.30\n",
       "Adventure      0.17\n",
       "Puzzle         0.11\n",
       "Strategy       0.10"
      ]
     },
     "execution_count": 207,
     "metadata": {},
     "output_type": "execute_result"
    }
   ],
   "source": [
    "top_platforms.pivot_table(index='genre', values='sales', aggfunc='mean').sort_values(by='sales', ascending=False)"
   ]
  },
  {
   "cell_type": "markdown",
   "metadata": {},
   "source": [
    "Как показала сводная таблица: существуют три самых прибыльных жанров.  \n",
    "Первое место - Shooter;  \n",
    "Второе место - Sports;  \n",
    "Третье место - Role-Playing."
   ]
  },
  {
   "cell_type": "markdown",
   "metadata": {},
   "source": [
    "Наименее выгодные жанры игр: Adventure, Strategy и Puzzle. В последние я бы не рекомендовала вообще инвестировать какие либо деньги."
   ]
  },
  {
   "cell_type": "markdown",
   "metadata": {},
   "source": [
    "<div class=\"alert alert-block alert-danger\">\n",
    "    \n",
    "\n",
    "### Комментарий от ревьюера v_1\n",
    "Критично\n",
    "\n",
    "Общие продажи - плохая метрика для поиска наиболее прибыльного жанра. За высокими показателями общих продаж может скрываться множество мелких игр с низкими продажами. Или 2-3 звезды и куча провалов. Лучше найти жанр, где игры стабильно приносят высокий доход - для этого стоит рассмотреть средние или медианные продажи\n",
    "    \n",
    "</div>"
   ]
  },
  {
   "cell_type": "markdown",
   "metadata": {},
   "source": [
    "<div class=\"alert alert-block alert-danger\">\n",
    "    \n",
    "\n",
    "### Комментарий от ревьюера v_1\n",
    "Критично\n",
    "\n",
    "Не хватает вывода по шагу исследовательского анализа\n",
    "    \n",
    "</div>"
   ]
  },
  {
   "cell_type": "markdown",
   "metadata": {},
   "source": [
    "На этапе исследовательского анализа мы получили следующие выводы:  \n",
    "- топовые платформы это PS4, XOne и 3DS;\n",
    "- как показывают графики и коэффициенты корреляции: явной зависимости между оценками критиков\\пользователей и продаж нет;\n",
    "- топвые жанры игр это Shooter, Sports и Role-Playing."
   ]
  },
  {
   "cell_type": "markdown",
   "metadata": {},
   "source": [
    "## Составление портрета пользователя каждого региона\n",
    "\n",
    "\n",
    "Определим для пользователя каждого региона (NA, EU, JP):\n",
    "- Самые популярные платформы (топ-5). Опишите различия в долях продаж.\n",
    "- Самые популярные жанры (топ-5). Поясните разницу.\n",
    "- Влияет ли рейтинг ESRB на продажи в отдельном регионе?\n"
   ]
  },
  {
   "cell_type": "markdown",
   "metadata": {},
   "source": [
    "<div class=\"alert alert-block alert-success\">\n",
    "\n",
    "    \n",
    "### Комментарий от ревьюера v_1\n",
    "Молодец, что в начале шага описываешь перечень действий\n",
    "    \n",
    "</div>"
   ]
  },
  {
   "cell_type": "markdown",
   "metadata": {},
   "source": [
    "Возьмем наш top_platforms датасет для решения этого вопроса."
   ]
  },
  {
   "cell_type": "markdown",
   "metadata": {},
   "source": [
    "<div class=\"alert alert-block alert-warning\">\n",
    "    \n",
    "\n",
    "### Комментарий от ревьюера v_1\n",
    "Рекомендация\n",
    "\n",
    "А вот этого не надо, в задании сказано не учитывать в дальнейших расчетах данные за предыдущие годы\n",
    "</div>"
   ]
  },
  {
   "cell_type": "code",
   "execution_count": 208,
   "metadata": {},
   "outputs": [
    {
     "data": {
      "text/html": [
       "<div>\n",
       "<style scoped>\n",
       "    .dataframe tbody tr th:only-of-type {\n",
       "        vertical-align: middle;\n",
       "    }\n",
       "\n",
       "    .dataframe tbody tr th {\n",
       "        vertical-align: top;\n",
       "    }\n",
       "\n",
       "    .dataframe thead th {\n",
       "        text-align: right;\n",
       "    }\n",
       "</style>\n",
       "<table border=\"1\" class=\"dataframe\">\n",
       "  <thead>\n",
       "    <tr style=\"text-align: right;\">\n",
       "      <th></th>\n",
       "      <th>name</th>\n",
       "      <th>platform</th>\n",
       "      <th>year_of_release</th>\n",
       "      <th>genre</th>\n",
       "      <th>na_sales</th>\n",
       "      <th>eu_sales</th>\n",
       "      <th>jp_sales</th>\n",
       "      <th>other_sales</th>\n",
       "      <th>critic_score</th>\n",
       "      <th>user_score</th>\n",
       "      <th>rating</th>\n",
       "      <th>sales</th>\n",
       "    </tr>\n",
       "  </thead>\n",
       "  <tbody>\n",
       "    <tr>\n",
       "      <td>31</td>\n",
       "      <td>Call of Duty: Black Ops 3</td>\n",
       "      <td>PS4</td>\n",
       "      <td>2,015.00</td>\n",
       "      <td>Shooter</td>\n",
       "      <td>6.03</td>\n",
       "      <td>5.86</td>\n",
       "      <td>0.36</td>\n",
       "      <td>2.38</td>\n",
       "      <td>nan</td>\n",
       "      <td>nan</td>\n",
       "      <td>unknown</td>\n",
       "      <td>14.63</td>\n",
       "    </tr>\n",
       "    <tr>\n",
       "      <td>42</td>\n",
       "      <td>Grand Theft Auto V</td>\n",
       "      <td>PS4</td>\n",
       "      <td>2,014.00</td>\n",
       "      <td>Action</td>\n",
       "      <td>3.96</td>\n",
       "      <td>6.31</td>\n",
       "      <td>0.38</td>\n",
       "      <td>1.97</td>\n",
       "      <td>97.00</td>\n",
       "      <td>8.30</td>\n",
       "      <td>M</td>\n",
       "      <td>12.62</td>\n",
       "    </tr>\n",
       "    <tr>\n",
       "      <td>47</td>\n",
       "      <td>Pokemon Omega Ruby/Pokemon Alpha Sapphire</td>\n",
       "      <td>3DS</td>\n",
       "      <td>2,014.00</td>\n",
       "      <td>Role-Playing</td>\n",
       "      <td>4.35</td>\n",
       "      <td>3.49</td>\n",
       "      <td>3.10</td>\n",
       "      <td>0.74</td>\n",
       "      <td>nan</td>\n",
       "      <td>nan</td>\n",
       "      <td>unknown</td>\n",
       "      <td>11.68</td>\n",
       "    </tr>\n",
       "    <tr>\n",
       "      <td>77</td>\n",
       "      <td>FIFA 16</td>\n",
       "      <td>PS4</td>\n",
       "      <td>2,015.00</td>\n",
       "      <td>Sports</td>\n",
       "      <td>1.12</td>\n",
       "      <td>6.12</td>\n",
       "      <td>0.06</td>\n",
       "      <td>1.28</td>\n",
       "      <td>82.00</td>\n",
       "      <td>4.30</td>\n",
       "      <td>E</td>\n",
       "      <td>8.58</td>\n",
       "    </tr>\n",
       "    <tr>\n",
       "      <td>87</td>\n",
       "      <td>Star Wars Battlefront (2015)</td>\n",
       "      <td>PS4</td>\n",
       "      <td>2,015.00</td>\n",
       "      <td>Shooter</td>\n",
       "      <td>2.99</td>\n",
       "      <td>3.49</td>\n",
       "      <td>0.22</td>\n",
       "      <td>1.28</td>\n",
       "      <td>nan</td>\n",
       "      <td>nan</td>\n",
       "      <td>unknown</td>\n",
       "      <td>7.98</td>\n",
       "    </tr>\n",
       "  </tbody>\n",
       "</table>\n",
       "</div>"
      ],
      "text/plain": [
       "                                         name platform  year_of_release  \\\n",
       "31                  Call of Duty: Black Ops 3      PS4         2,015.00   \n",
       "42                         Grand Theft Auto V      PS4         2,014.00   \n",
       "47  Pokemon Omega Ruby/Pokemon Alpha Sapphire      3DS         2,014.00   \n",
       "77                                    FIFA 16      PS4         2,015.00   \n",
       "87               Star Wars Battlefront (2015)      PS4         2,015.00   \n",
       "\n",
       "           genre  na_sales  eu_sales  jp_sales  other_sales  critic_score  \\\n",
       "31       Shooter      6.03      5.86      0.36         2.38           nan   \n",
       "42        Action      3.96      6.31      0.38         1.97         97.00   \n",
       "47  Role-Playing      4.35      3.49      3.10         0.74           nan   \n",
       "77        Sports      1.12      6.12      0.06         1.28         82.00   \n",
       "87       Shooter      2.99      3.49      0.22         1.28           nan   \n",
       "\n",
       "    user_score   rating  sales  \n",
       "31         nan  unknown  14.63  \n",
       "42        8.30        M  12.62  \n",
       "47         nan  unknown  11.68  \n",
       "77        4.30        E   8.58  \n",
       "87         nan  unknown   7.98  "
      ]
     },
     "execution_count": 208,
     "metadata": {},
     "output_type": "execute_result"
    }
   ],
   "source": [
    "top_platforms.head(5)"
   ]
  },
  {
   "cell_type": "code",
   "execution_count": 209,
   "metadata": {},
   "outputs": [],
   "source": [
    "from IPython.display import display_html\n",
    "from itertools import chain,cycle\n",
    "def display_side_by_side(*args,titles=cycle([''])):\n",
    "    html_str=''\n",
    "    for df,title in zip(args, chain(titles,cycle(['</br>'])) ):\n",
    "        html_str+='<th style=\"text-align:center\"><td style=\"vertical-align:top\">'\n",
    "        html_str+=f'<h2>{title}</h2>'\n",
    "        html_str+=df.to_html().replace('table','table style=\"display:inline\"')\n",
    "        html_str+='</td></th>'\n",
    "    display_html(html_str,raw=True)"
   ]
  },
  {
   "cell_type": "code",
   "execution_count": 223,
   "metadata": {},
   "outputs": [],
   "source": [
    "def get_pivot(region, peremen):\n",
    "    pvt = (top_platforms.pivot_table(index=[peremen], values=[region], aggfunc = 'mean')\n",
    "           .sort_values(by=region, ascending=False)\n",
    "           .head(5)\n",
    "           .reset_index())\n",
    "    pvt['percent'] = np.round(100*pvt[region] / pvt[region].sum())\n",
    "    return pvt"
   ]
  },
  {
   "cell_type": "code",
   "execution_count": 224,
   "metadata": {},
   "outputs": [
    {
     "data": {
      "text/html": [
       "<th style=\"text-align:center\"><td style=\"vertical-align:top\"><h2>NA</h2><table style=\"display:inline\" border=\"1\" class=\"dataframe\">\n",
       "  <thead>\n",
       "    <tr style=\"text-align: right;\">\n",
       "      <th></th>\n",
       "      <th>platform</th>\n",
       "      <th>na_sales</th>\n",
       "      <th>percent</th>\n",
       "    </tr>\n",
       "  </thead>\n",
       "  <tbody>\n",
       "    <tr>\n",
       "      <th>0</th>\n",
       "      <td>XOne</td>\n",
       "      <td>0.36</td>\n",
       "      <td>49.00</td>\n",
       "    </tr>\n",
       "    <tr>\n",
       "      <th>1</th>\n",
       "      <td>PS4</td>\n",
       "      <td>0.26</td>\n",
       "      <td>36.00</td>\n",
       "    </tr>\n",
       "    <tr>\n",
       "      <th>2</th>\n",
       "      <td>3DS</td>\n",
       "      <td>0.11</td>\n",
       "      <td>15.00</td>\n",
       "    </tr>\n",
       "  </tbody>\n",
       "</table style=\"display:inline\"></td></th><th style=\"text-align:center\"><td style=\"vertical-align:top\"><h2>EU</h2><table style=\"display:inline\" border=\"1\" class=\"dataframe\">\n",
       "  <thead>\n",
       "    <tr style=\"text-align: right;\">\n",
       "      <th></th>\n",
       "      <th>platform</th>\n",
       "      <th>eu_sales</th>\n",
       "      <th>percent</th>\n",
       "    </tr>\n",
       "  </thead>\n",
       "  <tbody>\n",
       "    <tr>\n",
       "      <th>0</th>\n",
       "      <td>PS4</td>\n",
       "      <td>0.35</td>\n",
       "      <td>55.00</td>\n",
       "    </tr>\n",
       "    <tr>\n",
       "      <th>1</th>\n",
       "      <td>XOne</td>\n",
       "      <td>0.20</td>\n",
       "      <td>32.00</td>\n",
       "    </tr>\n",
       "    <tr>\n",
       "      <th>2</th>\n",
       "      <td>3DS</td>\n",
       "      <td>0.08</td>\n",
       "      <td>12.00</td>\n",
       "    </tr>\n",
       "  </tbody>\n",
       "</table style=\"display:inline\"></td></th><th style=\"text-align:center\"><td style=\"vertical-align:top\"><h2>JP</h2><table style=\"display:inline\" border=\"1\" class=\"dataframe\">\n",
       "  <thead>\n",
       "    <tr style=\"text-align: right;\">\n",
       "      <th></th>\n",
       "      <th>platform</th>\n",
       "      <th>jp_sales</th>\n",
       "      <th>percent</th>\n",
       "    </tr>\n",
       "  </thead>\n",
       "  <tbody>\n",
       "    <tr>\n",
       "      <th>0</th>\n",
       "      <td>3DS</td>\n",
       "      <td>0.21</td>\n",
       "      <td>83.00</td>\n",
       "    </tr>\n",
       "    <tr>\n",
       "      <th>1</th>\n",
       "      <td>PS4</td>\n",
       "      <td>0.04</td>\n",
       "      <td>16.00</td>\n",
       "    </tr>\n",
       "    <tr>\n",
       "      <th>2</th>\n",
       "      <td>XOne</td>\n",
       "      <td>0.00</td>\n",
       "      <td>1.00</td>\n",
       "    </tr>\n",
       "  </tbody>\n",
       "</table style=\"display:inline\"></td></th>"
      ]
     },
     "metadata": {},
     "output_type": "display_data"
    }
   ],
   "source": [
    "display_side_by_side(get_pivot('na_sales','platform'), get_pivot('eu_sales','platform'), get_pivot('jp_sales','platform')\n",
    "                     , titles=['NA','EU','JP'])"
   ]
  },
  {
   "cell_type": "markdown",
   "metadata": {},
   "source": [
    "Как видно из сводных таблиц топ платформ для разных регионов сильно отличаются.\n",
    "Думаю это связано с страной-производителем платформы. Например, XOne - это Американская платформа. Не удивительно, что в странах Северной Америки она является лидером продаж. А Nintendo (3DS) является культовой для игроков в Японии, откуда она и родом.  \n",
    "Думаю, что еще у различных регионов разная покупательская способность и стоимость игр для разных платформ не фиксированная.  \n"
   ]
  },
  {
   "cell_type": "markdown",
   "metadata": {},
   "source": [
    "Посмотрим на топ-5 жанров для разных регионов."
   ]
  },
  {
   "cell_type": "code",
   "execution_count": 225,
   "metadata": {},
   "outputs": [
    {
     "data": {
      "text/html": [
       "<th style=\"text-align:center\"><td style=\"vertical-align:top\"><h2>NA</h2><table style=\"display:inline\" border=\"1\" class=\"dataframe\">\n",
       "  <thead>\n",
       "    <tr style=\"text-align: right;\">\n",
       "      <th></th>\n",
       "      <th>genre</th>\n",
       "      <th>na_sales</th>\n",
       "      <th>percent</th>\n",
       "    </tr>\n",
       "  </thead>\n",
       "  <tbody>\n",
       "    <tr>\n",
       "      <th>0</th>\n",
       "      <td>Shooter</td>\n",
       "      <td>0.84</td>\n",
       "      <td>43.00</td>\n",
       "    </tr>\n",
       "    <tr>\n",
       "      <th>1</th>\n",
       "      <td>Sports</td>\n",
       "      <td>0.39</td>\n",
       "      <td>20.00</td>\n",
       "    </tr>\n",
       "    <tr>\n",
       "      <th>2</th>\n",
       "      <td>Fighting</td>\n",
       "      <td>0.30</td>\n",
       "      <td>15.00</td>\n",
       "    </tr>\n",
       "    <tr>\n",
       "      <th>3</th>\n",
       "      <td>Role-Playing</td>\n",
       "      <td>0.25</td>\n",
       "      <td>13.00</td>\n",
       "    </tr>\n",
       "    <tr>\n",
       "      <th>4</th>\n",
       "      <td>Action</td>\n",
       "      <td>0.17</td>\n",
       "      <td>9.00</td>\n",
       "    </tr>\n",
       "  </tbody>\n",
       "</table style=\"display:inline\"></td></th><th style=\"text-align:center\"><td style=\"vertical-align:top\"><h2>EU</h2><table style=\"display:inline\" border=\"1\" class=\"dataframe\">\n",
       "  <thead>\n",
       "    <tr style=\"text-align: right;\">\n",
       "      <th></th>\n",
       "      <th>genre</th>\n",
       "      <th>eu_sales</th>\n",
       "      <th>percent</th>\n",
       "    </tr>\n",
       "  </thead>\n",
       "  <tbody>\n",
       "    <tr>\n",
       "      <th>0</th>\n",
       "      <td>Shooter</td>\n",
       "      <td>0.69</td>\n",
       "      <td>39.00</td>\n",
       "    </tr>\n",
       "    <tr>\n",
       "      <th>1</th>\n",
       "      <td>Sports</td>\n",
       "      <td>0.40</td>\n",
       "      <td>22.00</td>\n",
       "    </tr>\n",
       "    <tr>\n",
       "      <th>2</th>\n",
       "      <td>Racing</td>\n",
       "      <td>0.28</td>\n",
       "      <td>16.00</td>\n",
       "    </tr>\n",
       "    <tr>\n",
       "      <th>3</th>\n",
       "      <td>Role-Playing</td>\n",
       "      <td>0.21</td>\n",
       "      <td>12.00</td>\n",
       "    </tr>\n",
       "    <tr>\n",
       "      <th>4</th>\n",
       "      <td>Platform</td>\n",
       "      <td>0.19</td>\n",
       "      <td>11.00</td>\n",
       "    </tr>\n",
       "  </tbody>\n",
       "</table style=\"display:inline\"></td></th><th style=\"text-align:center\"><td style=\"vertical-align:top\"><h2>JP</h2><table style=\"display:inline\" border=\"1\" class=\"dataframe\">\n",
       "  <thead>\n",
       "    <tr style=\"text-align: right;\">\n",
       "      <th></th>\n",
       "      <th>genre</th>\n",
       "      <th>jp_sales</th>\n",
       "      <th>percent</th>\n",
       "    </tr>\n",
       "  </thead>\n",
       "  <tbody>\n",
       "    <tr>\n",
       "      <th>0</th>\n",
       "      <td>Role-Playing</td>\n",
       "      <td>0.22</td>\n",
       "      <td>36.00</td>\n",
       "    </tr>\n",
       "    <tr>\n",
       "      <th>1</th>\n",
       "      <td>Fighting</td>\n",
       "      <td>0.13</td>\n",
       "      <td>22.00</td>\n",
       "    </tr>\n",
       "    <tr>\n",
       "      <th>2</th>\n",
       "      <td>Simulation</td>\n",
       "      <td>0.12</td>\n",
       "      <td>19.00</td>\n",
       "    </tr>\n",
       "    <tr>\n",
       "      <th>3</th>\n",
       "      <td>Puzzle</td>\n",
       "      <td>0.08</td>\n",
       "      <td>13.00</td>\n",
       "    </tr>\n",
       "    <tr>\n",
       "      <th>4</th>\n",
       "      <td>Platform</td>\n",
       "      <td>0.06</td>\n",
       "      <td>10.00</td>\n",
       "    </tr>\n",
       "  </tbody>\n",
       "</table style=\"display:inline\"></td></th>"
      ]
     },
     "metadata": {},
     "output_type": "display_data"
    }
   ],
   "source": [
    "display_side_by_side(get_pivot('na_sales','genre'), get_pivot('eu_sales','genre'), get_pivot('jp_sales','genre')\n",
    "                     , titles=['NA','EU','JP'])"
   ]
  },
  {
   "cell_type": "markdown",
   "metadata": {},
   "source": [
    "Для Европейских стран и стран Северной Америки рейтиг игровых жанров очень схож, за исключением последнего жанра (в Американских странах 5 место занимает Action, а в Европейских странах Platform. У Японцев на первом месте с большим отрывом (целых 36% игроков) лидирует Role-Playing. Такое сильное отличие в выборе обусловлено инклюзивностью японской культуры. Японская культура развивалась по абсолютно другому пути (тогда как европейцы и американцы часто перекликаются)."
   ]
  },
  {
   "cell_type": "code",
   "execution_count": 215,
   "metadata": {},
   "outputs": [
    {
     "data": {
      "text/html": [
       "<th style=\"text-align:center\"><td style=\"vertical-align:top\"><h2>NA</h2><table style=\"display:inline\" border=\"1\" class=\"dataframe\">\n",
       "  <thead>\n",
       "    <tr style=\"text-align: right;\">\n",
       "      <th></th>\n",
       "      <th>rating</th>\n",
       "      <th>na_sales</th>\n",
       "      <th>percent</th>\n",
       "    </tr>\n",
       "  </thead>\n",
       "  <tbody>\n",
       "    <tr>\n",
       "      <th>0</th>\n",
       "      <td>M</td>\n",
       "      <td>76.63</td>\n",
       "      <td>38.00</td>\n",
       "    </tr>\n",
       "    <tr>\n",
       "      <th>1</th>\n",
       "      <td>unknown</td>\n",
       "      <td>51.04</td>\n",
       "      <td>25.00</td>\n",
       "    </tr>\n",
       "    <tr>\n",
       "      <th>2</th>\n",
       "      <td>E</td>\n",
       "      <td>29.44</td>\n",
       "      <td>15.00</td>\n",
       "    </tr>\n",
       "    <tr>\n",
       "      <th>3</th>\n",
       "      <td>T</td>\n",
       "      <td>27.92</td>\n",
       "      <td>14.00</td>\n",
       "    </tr>\n",
       "    <tr>\n",
       "      <th>4</th>\n",
       "      <td>E10+</td>\n",
       "      <td>17.49</td>\n",
       "      <td>9.00</td>\n",
       "    </tr>\n",
       "  </tbody>\n",
       "</table style=\"display:inline\"></td></th><th style=\"text-align:center\"><td style=\"vertical-align:top\"><h2>EU</h2><table style=\"display:inline\" border=\"1\" class=\"dataframe\">\n",
       "  <thead>\n",
       "    <tr style=\"text-align: right;\">\n",
       "      <th></th>\n",
       "      <th>rating</th>\n",
       "      <th>eu_sales</th>\n",
       "      <th>percent</th>\n",
       "    </tr>\n",
       "  </thead>\n",
       "  <tbody>\n",
       "    <tr>\n",
       "      <th>0</th>\n",
       "      <td>M</td>\n",
       "      <td>73.96</td>\n",
       "      <td>38.00</td>\n",
       "    </tr>\n",
       "    <tr>\n",
       "      <th>1</th>\n",
       "      <td>unknown</td>\n",
       "      <td>44.77</td>\n",
       "      <td>23.00</td>\n",
       "    </tr>\n",
       "    <tr>\n",
       "      <th>2</th>\n",
       "      <td>E</td>\n",
       "      <td>37.72</td>\n",
       "      <td>20.00</td>\n",
       "    </tr>\n",
       "    <tr>\n",
       "      <th>3</th>\n",
       "      <td>T</td>\n",
       "      <td>24.10</td>\n",
       "      <td>13.00</td>\n",
       "    </tr>\n",
       "    <tr>\n",
       "      <th>4</th>\n",
       "      <td>E10+</td>\n",
       "      <td>11.86</td>\n",
       "      <td>6.00</td>\n",
       "    </tr>\n",
       "  </tbody>\n",
       "</table style=\"display:inline\"></td></th><th style=\"text-align:center\"><td style=\"vertical-align:top\"><h2>JP</h2><table style=\"display:inline\" border=\"1\" class=\"dataframe\">\n",
       "  <thead>\n",
       "    <tr style=\"text-align: right;\">\n",
       "      <th></th>\n",
       "      <th>rating</th>\n",
       "      <th>jp_sales</th>\n",
       "      <th>percent</th>\n",
       "    </tr>\n",
       "  </thead>\n",
       "  <tbody>\n",
       "    <tr>\n",
       "      <th>0</th>\n",
       "      <td>unknown</td>\n",
       "      <td>39.54</td>\n",
       "      <td>66.00</td>\n",
       "    </tr>\n",
       "    <tr>\n",
       "      <th>1</th>\n",
       "      <td>T</td>\n",
       "      <td>7.57</td>\n",
       "      <td>13.00</td>\n",
       "    </tr>\n",
       "    <tr>\n",
       "      <th>2</th>\n",
       "      <td>M</td>\n",
       "      <td>5.42</td>\n",
       "      <td>9.00</td>\n",
       "    </tr>\n",
       "    <tr>\n",
       "      <th>3</th>\n",
       "      <td>E</td>\n",
       "      <td>4.82</td>\n",
       "      <td>8.00</td>\n",
       "    </tr>\n",
       "    <tr>\n",
       "      <th>4</th>\n",
       "      <td>E10+</td>\n",
       "      <td>2.23</td>\n",
       "      <td>4.00</td>\n",
       "    </tr>\n",
       "  </tbody>\n",
       "</table style=\"display:inline\"></td></th>"
      ]
     },
     "metadata": {},
     "output_type": "display_data"
    }
   ],
   "source": [
    "display_side_by_side(get_pivot('na_sales','rating'), get_pivot('eu_sales','rating'), get_pivot('jp_sales','rating')\n",
    "                     , titles=['NA','EU','JP'])"
   ]
  },
  {
   "cell_type": "markdown",
   "metadata": {},
   "source": [
    "Картина с рейтингом для стран Европы и Севрной Америки снова повторяется. Большье всего денег на рынке приносят игры с рейтингом Е (Для всех), что вполне логично, т.к. данный рейтинг охватывает наибольшее количество пользователей.  \n",
    "На рынке Японии видны сильные отличия. 65% всей выручки приносят игры с неизвестным рейтингом. Тут необходимо обратиться к программистам, кто делал выгрузку данных, т.к. не представляется возможным заполнить пропуски в этом столбце на основе имеющихся данных. Однако есть предположения, основанное на выборе японских игроков (40% выручки генерирует жанр Role-Playing). Форумная ролевая игра (Role-Playing) является своего рода поджанром литературных ролевых игр. А всем известно, что в Японии повсеместно распространены манги (вид японских комиксов). Так что рейтинг неизвестный охватывает основную платежеспособную аудиторию Японских игрокв. "
   ]
  },
  {
   "cell_type": "markdown",
   "metadata": {},
   "source": [
    "<div class=\"alert alert-block alert-success\">\n",
    "\n",
    "    \n",
    "### Комментарий от ревьюера v_1\n",
    "\n",
    "Отличный шаг, но не хватает визуализация\n",
    "    \n",
    "Для большей наглядности можешь попробовать разместить графики рядом друг с другом\n",
    "    \n",
    "Для этого используются сабплоты, рекомендую ознакомиться с данной статьей, там отлично написано как ведет себя matplotlib\n",
    "  \n",
    "https://pyprog.pro/mpl/mpl_main_components.html\n",
    "</div>"
   ]
  },
  {
   "cell_type": "markdown",
   "metadata": {},
   "source": [
    "<div class=\"alert alert-block alert-warning\">\n",
    "    \n",
    "    \n",
    "### Комментарий от ревьюера v_1\n",
    "Рекомендация\n",
    "\n",
    "Не пиши выводы сплошным текстом, структурируй свои мысли:\n",
    "    \n",
    "1.\n",
    "    \n",
    "2.\n",
    "    \n",
    "3.\n",
    "    \n",
    "Всегда, оформляя проект, держи в голове, что тебе придется возвращаться к работе над ним спустя какое-то время. Если он будет структурировано оформлен, ты будешь тратить гораздо меньше времени на то, чтобы снова вникнуть в него\n",
    "</div>"
   ]
  },
  {
   "cell_type": "markdown",
   "metadata": {},
   "source": [
    "## Проверка гипотез"
   ]
  },
  {
   "cell_type": "markdown",
   "metadata": {},
   "source": [
    "Проверим следующие гипотезы:\n",
    "\n",
    "- средние пользовательские рейтинги платформ Xbox One и PC одинаковые;\n",
    "- средние пользовательские рейтинги жанров Action (англ. «действие», экшен-игры) и Sports (англ. «спортивные соревнования») разные.\n",
    "Пороговое значение alpha зададим самостоятельно.\n",
    "\n",
    "Проверяем первую гипотезу:\n",
    "\n",
    "Cредние пользовательские рейтинги платформ Xbox One и PC одинаковые.\n",
    "Нулевая гипотеза: построим ее так, чтобы применялся знак равенства \"Да, средние пользовательские рейтинги платформ Xbox One и PC равны\".\n",
    "Тогда альтернативная гипотеза будет звучать так: \"Нет, средние пользовательские рейтинги платформ Xbox One и PC не равны\".\n",
    "\n",
    "Проверим данные гипотезы.\n",
    "\n",
    "Для этого воспользуемя специальным методом для проверки гипотезы о равенстве среднего двух генеральных совокупностей по взятым из них выборкам: scipy.stats.ttest_ind (array1, array2, equal_var)\n",
    "\n",
    "Укажу equal_var = False, поскольку выборки не равные."
   ]
  },
  {
   "cell_type": "markdown",
   "metadata": {},
   "source": [
    "<div class=\"alert alert-block alert-success\">\n",
    "\n",
    "    \n",
    "### Комментарий от ревьюера v_1\n",
    "\n",
    "Отлично, гипотезы сформулированы верно\n",
    "    \n",
    "</div>"
   ]
  },
  {
   "cell_type": "markdown",
   "metadata": {},
   "source": [
    "т.к. нам предстоит использовать библиотеку scipy, то придется удалить из датасета все строки с пропущенным значением пользовательской оценки, она не будет работать с nan."
   ]
  },
  {
   "cell_type": "code",
   "execution_count": 216,
   "metadata": {},
   "outputs": [],
   "source": [
    "games_score = games.dropna(subset=['user_score'])"
   ]
  },
  {
   "cell_type": "code",
   "execution_count": 221,
   "metadata": {},
   "outputs": [],
   "source": [
    "score_XOne = games_score.loc[games_score.loc[:,'platform'] == 'XOne']['user_score']\n",
    "score_PC =  games_score.loc[games_score.loc[:,'platform'] == 'PC']['user_score']"
   ]
  },
  {
   "cell_type": "code",
   "execution_count": 222,
   "metadata": {},
   "outputs": [
    {
     "name": "stdout",
     "output_type": "stream",
     "text": [
      "4.935072360183565e-06\n",
      "Отвергаем нулевую гипотезу\n"
     ]
    }
   ],
   "source": [
    "alpha = .05\n",
    "results = st.ttest_ind(\n",
    "    score_XOne, \n",
    "    score_PC, \n",
    "    equal_var = False)\n",
    "print(results.pvalue)\n",
    "\n",
    "if results.pvalue < alpha:\n",
    "    print(\"Отвергаем нулевую гипотезу\")\n",
    "else:\n",
    "    print(\"Не получилось отвергнуть нулевую гипотезу\")"
   ]
  },
  {
   "cell_type": "markdown",
   "metadata": {},
   "source": [
    "Данное значние значительно меньше порогового уровеня статистической значимости (обычно это 5%, но тут значительно меньше 1%), в связи с чем можно отказаться от нулевой гипотезы."
   ]
  },
  {
   "cell_type": "markdown",
   "metadata": {},
   "source": [
    "<div class=\"alert alert-block alert-warning\"> \n",
    "    \n",
    "### Комментарий от ревьюера v_1\n",
    "Рекомендация\n",
    "\n",
    "Я понимаю, что это может звучать немного занудно, но это действительно очень важно.Статистика не подтверждает гипотезу, а дает основание предполагать, что гипотеза верна или не верна\n",
    "    \n",
    "\n",
    "</div>"
   ]
  },
  {
   "cell_type": "markdown",
   "metadata": {},
   "source": [
    "Проверяем вторую гипотезу:\n",
    "\n",
    "Cредние пользовательские рейтинги жанров Action (англ. «действие», экшен-игры) и Sports (англ. «спортивные соревнования») разные.\n",
    "Нулевая гипотеза: построим ее так, чтобы применялся знак равенства \"Да, средние пользовательские рейтинги жанров Action (англ. «действие», экшен-игры) и Sports (англ. «спортивные соревнования») равны\".\n",
    "Тогда альтернативная гипотеза звучт так: \"Нет, средние пользовательские рейтинги жанров Action (англ. «действие», экшен-игры) и Sports (англ. «спортивные соревнования») не равны\".\n",
    "\n",
    "Проверим данные гипотезы.\n",
    "\n",
    "Для этого воспользуемя спеуиальным методом для проверки гипотезы о равенстве среднего двух генеральных совокупностей по взятым из них выборкам: scipy.stats.ttest_ind (array1, array2, equal_var)\n",
    "\n",
    "Укажу аналогично проверке первой гипотезе equal_var = False.\n",
    "\n",
    "Пороговое значение alpha, аналогично первому варианту возьмем 5%"
   ]
  },
  {
   "cell_type": "code",
   "execution_count": 219,
   "metadata": {},
   "outputs": [],
   "source": [
    "score_action = games_score.loc[games_score.loc[:,'genre'] == 'Action']['user_score']\n",
    "score_sports =  games_score.loc[games_score.loc[:,'genre'] == 'Sports']['user_score']"
   ]
  },
  {
   "cell_type": "code",
   "execution_count": 220,
   "metadata": {},
   "outputs": [
    {
     "name": "stdout",
     "output_type": "stream",
     "text": [
      "0.11483818791498286\n",
      "Не получилось отвергнуть нулевую гипотезу\n"
     ]
    }
   ],
   "source": [
    "alpha = .05\n",
    "results = st.ttest_ind(\n",
    "    score_action, \n",
    "    score_sports, \n",
    "    equal_var = False)\n",
    "print(results.pvalue)\n",
    "\n",
    "if results.pvalue < alpha:\n",
    "    print(\"Отвергаем нулевую гипотезу\")\n",
    "else:\n",
    "    print(\"Не получилось отвергнуть нулевую гипотезу\")"
   ]
  },
  {
   "cell_type": "markdown",
   "metadata": {},
   "source": [
    "Т.к. нулевая гипотеза говорит о равенстве пользовательских оценок для двух жанров и расчеты показали, что ее следует отвергнуть, то гипотеза \"Cредние пользовательские рейтинги жанров Action и Sports разные\" имеет место быть."
   ]
  },
  {
   "cell_type": "markdown",
   "metadata": {},
   "source": [
    "## Общий вывод"
   ]
  },
  {
   "cell_type": "markdown",
   "metadata": {},
   "source": [
    "#### В проекте были проведены все необходимые расчеты, проверены гипотезы.\n",
    "\n",
    "Для анализа был выбран актуальный период 2014-2016 гг. Лидирующими платформами по продажам на актуальный период оказались следующие платформы: PS4, 3DS и XOne. Ящики с усами показали, что наиболее часто суперуспешные игры выхоядт на платформе PS4. Ее определим фаворитом.  \n",
    "При анализе оценок пользователей и критиков мы не установили взаимосвязь с продажами. Коэффициенты корреляции очень малы и не несут статистической значимости.  \n",
    "Как показали расчеты распределение трех самых прибыльных жанров следующее:\n",
    "Первое место - Shooter;\n",
    "Второе место - Sports;\n",
    "Третье место - Role-Playing.\n",
    "Антрирейтинг среди жанров возглавил Puzzle.  \n",
    "\n",
    "\n",
    "Портреты пользователей в исследуемы регионах (страны Северной Америки, Европа и Япония) отличаются. Причем портреты игроков Америки и Европы во многом сходятся, а вот Япония сильно выделяется. Как по платформам, так и по предпочитаемым жанрам игр.  \n",
    "Топ- плтатформ для NА:\n",
    "- XOne;\n",
    "- PS4;\n",
    "- 3DS;\n",
    "\n",
    "Топ-плтатформ для EU:\n",
    "- PS4;\n",
    "- XOne;\n",
    "- 3DS;\n",
    "\n",
    "Топ-плтатформ для JP:\n",
    "- 3DS;\n",
    "- PS4;\n",
    "- XOne;\n",
    "\n",
    "Топ-5 жанров для NA:\n",
    "- Shooter;\n",
    "- Sports;\n",
    "- Fighting;\n",
    "- Role-Playing;\n",
    "- Action;\n",
    "\n",
    "Топ-5 жанров для EU:\n",
    "- Shooter;\n",
    "- Sports;\n",
    "- Racing;\n",
    "- Role-Playing;\n",
    "- Platform;\n",
    "\n",
    "Топ-5 жанров для JP:\n",
    "- Role-Playing;\n",
    "- Action;\n",
    "- Sports;\n",
    "- Platform;\n",
    "- Misc;\n",
    "\n",
    "\n",
    "Проверка гипотез показала:\n",
    "\n",
    "1) гипотеза о равных средних пользовательских рейтингов платформ Xbox One и PC не подтвердилась.\n",
    "2) гипотеза \"Cредние пользовательские рейтинги жанров Action и Sports разные\" имеет место быть и требует дальнейшего исследования.\n"
   ]
  },
  {
   "cell_type": "markdown",
   "metadata": {},
   "source": [
    "<div class=\"alert alert-block alert-success\">\n",
    "\n",
    "    \n",
    "### Комментарий от ревьюера v_1\n",
    "\n",
    "Вывод 👍🏻\n",
    "    \n",
    "</div>"
   ]
  },
  {
   "cell_type": "code",
   "execution_count": null,
   "metadata": {},
   "outputs": [],
   "source": []
  }
 ],
 "metadata": {
  "ExecuteTimeLog": [
   {
    "duration": 1562,
    "start_time": "2022-01-16T14:14:24.575Z"
   },
   {
    "duration": 949,
    "start_time": "2022-01-16T14:15:38.543Z"
   },
   {
    "duration": 786,
    "start_time": "2022-01-16T14:20:08.841Z"
   },
   {
    "duration": 14,
    "start_time": "2022-01-16T14:24:13.788Z"
   },
   {
    "duration": 21,
    "start_time": "2022-01-16T14:27:07.326Z"
   },
   {
    "duration": 3332,
    "start_time": "2022-01-16T14:36:31.388Z"
   },
   {
    "duration": 366,
    "start_time": "2022-01-16T14:36:50.379Z"
   },
   {
    "duration": 9,
    "start_time": "2022-01-16T14:38:23.613Z"
   },
   {
    "duration": 16,
    "start_time": "2022-01-16T14:38:32.692Z"
   },
   {
    "duration": 8,
    "start_time": "2022-01-16T14:41:49.111Z"
   },
   {
    "duration": 21,
    "start_time": "2022-01-16T14:41:52.905Z"
   },
   {
    "duration": 5,
    "start_time": "2022-01-16T14:42:28.980Z"
   },
   {
    "duration": 24,
    "start_time": "2022-01-16T14:42:31.092Z"
   },
   {
    "duration": 2552,
    "start_time": "2022-01-16T14:42:49.440Z"
   },
   {
    "duration": 4,
    "start_time": "2022-01-16T14:43:09.201Z"
   },
   {
    "duration": 199,
    "start_time": "2022-01-16T14:43:11.804Z"
   },
   {
    "duration": 21,
    "start_time": "2022-01-16T14:43:16.918Z"
   },
   {
    "duration": 26,
    "start_time": "2022-01-16T14:46:45.490Z"
   },
   {
    "duration": 11,
    "start_time": "2022-01-16T14:46:52.650Z"
   },
   {
    "duration": 11,
    "start_time": "2022-01-16T15:02:06.875Z"
   },
   {
    "duration": 23,
    "start_time": "2022-01-16T15:02:19.863Z"
   },
   {
    "duration": 21,
    "start_time": "2022-01-16T15:02:47.391Z"
   },
   {
    "duration": 22,
    "start_time": "2022-01-16T15:03:14.619Z"
   },
   {
    "duration": 20,
    "start_time": "2022-01-16T15:05:29.312Z"
   },
   {
    "duration": 354,
    "start_time": "2022-01-16T15:12:37.773Z"
   },
   {
    "duration": 26,
    "start_time": "2022-01-16T15:14:44.999Z"
   },
   {
    "duration": 12,
    "start_time": "2022-01-16T15:14:58.567Z"
   },
   {
    "duration": 350,
    "start_time": "2022-01-16T15:46:42.627Z"
   },
   {
    "duration": 384,
    "start_time": "2022-01-16T15:52:05.368Z"
   },
   {
    "duration": 352,
    "start_time": "2022-01-16T15:52:17.783Z"
   },
   {
    "duration": 496,
    "start_time": "2022-01-16T15:52:27.506Z"
   },
   {
    "duration": 15,
    "start_time": "2022-01-16T15:52:46.287Z"
   },
   {
    "duration": 21,
    "start_time": "2022-01-16T15:53:04.178Z"
   },
   {
    "duration": 467,
    "start_time": "2022-01-16T15:53:50.288Z"
   },
   {
    "duration": 412,
    "start_time": "2022-01-16T15:55:04.275Z"
   },
   {
    "duration": 392,
    "start_time": "2022-01-16T15:55:11.099Z"
   },
   {
    "duration": 560,
    "start_time": "2022-01-16T15:55:49.908Z"
   },
   {
    "duration": 13,
    "start_time": "2022-01-16T15:59:04.868Z"
   },
   {
    "duration": 36,
    "start_time": "2022-01-16T15:59:10.328Z"
   },
   {
    "duration": 11995,
    "start_time": "2022-01-16T16:00:25.245Z"
   },
   {
    "duration": 20,
    "start_time": "2022-01-16T16:23:44.972Z"
   },
   {
    "duration": 24,
    "start_time": "2022-01-16T16:23:49.288Z"
   },
   {
    "duration": 11,
    "start_time": "2022-01-16T16:23:53.018Z"
   },
   {
    "duration": 22,
    "start_time": "2022-01-16T16:24:04.112Z"
   },
   {
    "duration": 5,
    "start_time": "2022-01-16T16:24:11.523Z"
   },
   {
    "duration": 20,
    "start_time": "2022-01-16T16:24:13.879Z"
   },
   {
    "duration": 24,
    "start_time": "2022-01-16T16:25:04.858Z"
   },
   {
    "duration": 24,
    "start_time": "2022-01-16T16:25:08.370Z"
   },
   {
    "duration": 17,
    "start_time": "2022-01-16T16:25:11.367Z"
   },
   {
    "duration": 22,
    "start_time": "2022-01-16T16:25:16.273Z"
   },
   {
    "duration": 5,
    "start_time": "2022-01-16T16:25:20.086Z"
   },
   {
    "duration": 9,
    "start_time": "2022-01-16T16:37:04.704Z"
   },
   {
    "duration": 407,
    "start_time": "2022-01-16T16:37:59.988Z"
   },
   {
    "duration": 27,
    "start_time": "2022-01-16T16:38:10.499Z"
   },
   {
    "duration": 29,
    "start_time": "2022-01-16T16:38:32.404Z"
   },
   {
    "duration": 12,
    "start_time": "2022-01-16T16:43:28.917Z"
   },
   {
    "duration": 453,
    "start_time": "2022-01-16T16:45:03.944Z"
   },
   {
    "duration": 9,
    "start_time": "2022-01-16T16:45:20.363Z"
   },
   {
    "duration": 361,
    "start_time": "2022-01-16T17:03:37.508Z"
   },
   {
    "duration": 345,
    "start_time": "2022-01-16T17:03:45.547Z"
   },
   {
    "duration": 417,
    "start_time": "2022-01-16T17:04:08.635Z"
   },
   {
    "duration": 6,
    "start_time": "2022-01-16T17:09:10.962Z"
   },
   {
    "duration": 358,
    "start_time": "2022-01-16T17:14:11.091Z"
   },
   {
    "duration": 372,
    "start_time": "2022-01-16T17:19:28.413Z"
   },
   {
    "duration": 9,
    "start_time": "2022-01-16T17:21:42.420Z"
   },
   {
    "duration": 10,
    "start_time": "2022-01-16T17:21:52.461Z"
   },
   {
    "duration": 20,
    "start_time": "2022-01-16T17:33:47.820Z"
   },
   {
    "duration": 9,
    "start_time": "2022-01-16T17:37:36.683Z"
   },
   {
    "duration": 24,
    "start_time": "2022-01-16T17:38:14.730Z"
   },
   {
    "duration": 11,
    "start_time": "2022-01-16T17:38:21.440Z"
   },
   {
    "duration": 11,
    "start_time": "2022-01-16T17:46:59.621Z"
   },
   {
    "duration": 18,
    "start_time": "2022-01-16T17:47:14.829Z"
   },
   {
    "duration": 376,
    "start_time": "2022-01-16T17:51:33.494Z"
   },
   {
    "duration": 158,
    "start_time": "2022-01-16T17:51:48.088Z"
   },
   {
    "duration": 356,
    "start_time": "2022-01-16T17:52:16.787Z"
   },
   {
    "duration": 19,
    "start_time": "2022-01-16T17:54:22.138Z"
   },
   {
    "duration": 383,
    "start_time": "2022-01-16T17:57:00.699Z"
   },
   {
    "duration": 17,
    "start_time": "2022-01-16T17:57:07.940Z"
   },
   {
    "duration": 400,
    "start_time": "2022-01-16T17:59:29.811Z"
   },
   {
    "duration": 376,
    "start_time": "2022-01-16T17:59:52.734Z"
   },
   {
    "duration": 397,
    "start_time": "2022-01-16T18:00:04.760Z"
   },
   {
    "duration": 121,
    "start_time": "2022-01-16T18:00:22.361Z"
   },
   {
    "duration": 17,
    "start_time": "2022-01-16T18:00:46.640Z"
   },
   {
    "duration": 361,
    "start_time": "2022-01-16T18:06:58.643Z"
   },
   {
    "duration": 389,
    "start_time": "2022-01-16T18:07:27.755Z"
   },
   {
    "duration": 10,
    "start_time": "2022-01-16T18:15:22.091Z"
   },
   {
    "duration": 10,
    "start_time": "2022-01-16T18:17:40.537Z"
   },
   {
    "duration": 367,
    "start_time": "2022-01-16T18:23:29.645Z"
   },
   {
    "duration": 4,
    "start_time": "2022-01-16T18:25:02.603Z"
   },
   {
    "duration": 366,
    "start_time": "2022-01-16T18:25:08.352Z"
   },
   {
    "duration": 4999,
    "start_time": "2022-01-16T18:26:50.952Z"
   },
   {
    "duration": 42,
    "start_time": "2022-01-16T18:27:00.990Z"
   },
   {
    "duration": 14,
    "start_time": "2022-01-16T18:32:01.003Z"
   },
   {
    "duration": 32,
    "start_time": "2022-01-16T18:32:17.218Z"
   },
   {
    "duration": 675477,
    "start_time": "2022-01-16T18:33:09.025Z"
   },
   {
    "duration": 1390,
    "start_time": "2022-01-16T18:46:26.185Z"
   },
   {
    "duration": 522,
    "start_time": "2022-01-16T18:46:27.578Z"
   },
   {
    "duration": 25,
    "start_time": "2022-01-16T18:46:28.103Z"
   },
   {
    "duration": 38,
    "start_time": "2022-01-16T18:46:28.131Z"
   },
   {
    "duration": 14,
    "start_time": "2022-01-16T18:46:28.172Z"
   },
   {
    "duration": 20,
    "start_time": "2022-01-16T18:46:28.188Z"
   },
   {
    "duration": 68,
    "start_time": "2022-01-16T18:46:28.210Z"
   },
   {
    "duration": 11,
    "start_time": "2022-01-16T18:46:28.282Z"
   },
   {
    "duration": 21,
    "start_time": "2022-01-16T18:46:28.296Z"
   },
   {
    "duration": 51,
    "start_time": "2022-01-16T18:46:28.319Z"
   },
   {
    "duration": 23,
    "start_time": "2022-01-16T18:46:28.372Z"
   },
   {
    "duration": 11,
    "start_time": "2022-01-16T18:46:28.399Z"
   },
   {
    "duration": 51,
    "start_time": "2022-01-16T18:46:28.413Z"
   },
   {
    "duration": 13,
    "start_time": "2022-01-16T18:46:28.468Z"
   },
   {
    "duration": 14,
    "start_time": "2022-01-16T18:46:28.484Z"
   },
   {
    "duration": 64,
    "start_time": "2022-01-16T18:46:28.500Z"
   },
   {
    "duration": 12,
    "start_time": "2022-01-16T18:46:28.566Z"
   },
   {
    "duration": 19,
    "start_time": "2022-01-16T18:46:28.580Z"
   },
   {
    "duration": 14,
    "start_time": "2022-01-16T18:46:28.602Z"
   },
   {
    "duration": 71,
    "start_time": "2022-01-16T18:46:28.619Z"
   },
   {
    "duration": 3416,
    "start_time": "2022-01-16T18:46:28.692Z"
   },
   {
    "duration": 195,
    "start_time": "2022-01-16T18:46:32.111Z"
   },
   {
    "duration": 1758,
    "start_time": "2022-01-16T18:46:32.311Z"
   },
   {
    "duration": 902,
    "start_time": "2022-01-16T18:48:14.944Z"
   },
   {
    "duration": 520,
    "start_time": "2022-01-16T18:54:48.468Z"
   },
   {
    "duration": 358,
    "start_time": "2022-01-16T18:55:12.587Z"
   },
   {
    "duration": 349,
    "start_time": "2022-01-16T19:02:34.622Z"
   },
   {
    "duration": 467,
    "start_time": "2022-01-16T19:02:43.754Z"
   },
   {
    "duration": 260,
    "start_time": "2022-01-16T19:02:46.981Z"
   },
   {
    "duration": 21,
    "start_time": "2022-01-16T19:02:51.460Z"
   },
   {
    "duration": 25,
    "start_time": "2022-01-16T19:02:56.319Z"
   },
   {
    "duration": 31,
    "start_time": "2022-01-16T19:03:06.090Z"
   },
   {
    "duration": 14,
    "start_time": "2022-01-16T19:03:26.711Z"
   },
   {
    "duration": 22,
    "start_time": "2022-01-16T19:03:32.760Z"
   },
   {
    "duration": 24,
    "start_time": "2022-01-16T19:03:38.137Z"
   },
   {
    "duration": 14,
    "start_time": "2022-01-16T19:03:39.902Z"
   },
   {
    "duration": 25,
    "start_time": "2022-01-16T19:03:44.024Z"
   },
   {
    "duration": 12,
    "start_time": "2022-01-16T19:03:50.048Z"
   },
   {
    "duration": 26,
    "start_time": "2022-01-16T19:03:53.778Z"
   },
   {
    "duration": 21,
    "start_time": "2022-01-16T19:04:03.391Z"
   },
   {
    "duration": 10,
    "start_time": "2022-01-16T19:04:11.777Z"
   },
   {
    "duration": 6,
    "start_time": "2022-01-16T19:04:17.433Z"
   },
   {
    "duration": 8,
    "start_time": "2022-01-16T19:04:19.366Z"
   },
   {
    "duration": 9,
    "start_time": "2022-01-16T19:04:20.381Z"
   },
   {
    "duration": 9,
    "start_time": "2022-01-16T19:04:26.465Z"
   },
   {
    "duration": 5,
    "start_time": "2022-01-16T19:04:38.436Z"
   },
   {
    "duration": 25,
    "start_time": "2022-01-16T19:05:01.025Z"
   },
   {
    "duration": 11,
    "start_time": "2022-01-16T19:05:08.961Z"
   },
   {
    "duration": 21,
    "start_time": "2022-01-16T19:05:12.726Z"
   },
   {
    "duration": 23,
    "start_time": "2022-01-16T19:05:15.306Z"
   },
   {
    "duration": 11,
    "start_time": "2022-01-16T19:05:16.555Z"
   },
   {
    "duration": 20,
    "start_time": "2022-01-16T19:05:19.381Z"
   },
   {
    "duration": 20,
    "start_time": "2022-01-16T19:05:22.944Z"
   },
   {
    "duration": 5,
    "start_time": "2022-01-16T19:05:28.066Z"
   },
   {
    "duration": 21,
    "start_time": "2022-01-16T19:05:30.027Z"
   },
   {
    "duration": 21,
    "start_time": "2022-01-16T19:05:35.545Z"
   },
   {
    "duration": 4,
    "start_time": "2022-01-16T19:05:42.077Z"
   },
   {
    "duration": 4,
    "start_time": "2022-01-16T19:07:08.527Z"
   },
   {
    "duration": 1192,
    "start_time": "2022-01-16T19:07:23.878Z"
   },
   {
    "duration": 177,
    "start_time": "2022-01-16T19:07:31.482Z"
   },
   {
    "duration": 27,
    "start_time": "2022-01-16T19:07:40.017Z"
   },
   {
    "duration": 24,
    "start_time": "2022-01-16T19:07:46.920Z"
   },
   {
    "duration": 23,
    "start_time": "2022-01-16T19:07:51.955Z"
   },
   {
    "duration": 23,
    "start_time": "2022-01-16T19:07:56.227Z"
   },
   {
    "duration": 14,
    "start_time": "2022-01-16T19:08:01.894Z"
   },
   {
    "duration": 21,
    "start_time": "2022-01-16T19:08:10.989Z"
   },
   {
    "duration": 22,
    "start_time": "2022-01-16T19:08:26.087Z"
   },
   {
    "duration": 16,
    "start_time": "2022-01-16T19:08:31.610Z"
   },
   {
    "duration": 21,
    "start_time": "2022-01-16T19:08:37.195Z"
   },
   {
    "duration": 13,
    "start_time": "2022-01-16T19:08:43.281Z"
   },
   {
    "duration": 23,
    "start_time": "2022-01-16T19:08:46.715Z"
   },
   {
    "duration": 13,
    "start_time": "2022-01-16T19:08:58.910Z"
   },
   {
    "duration": 6,
    "start_time": "2022-01-16T19:09:07.827Z"
   },
   {
    "duration": 9,
    "start_time": "2022-01-16T19:09:09.207Z"
   },
   {
    "duration": 10,
    "start_time": "2022-01-16T19:09:10.717Z"
   },
   {
    "duration": 8,
    "start_time": "2022-01-16T19:09:17.285Z"
   },
   {
    "duration": 24,
    "start_time": "2022-01-16T19:09:26.713Z"
   },
   {
    "duration": 10,
    "start_time": "2022-01-16T19:09:42.440Z"
   },
   {
    "duration": 12,
    "start_time": "2022-01-16T19:09:53.503Z"
   },
   {
    "duration": 19,
    "start_time": "2022-01-16T19:09:54.813Z"
   },
   {
    "duration": 12,
    "start_time": "2022-01-16T19:10:00.527Z"
   },
   {
    "duration": 235,
    "start_time": "2022-01-16T19:10:29.605Z"
   },
   {
    "duration": 35,
    "start_time": "2022-01-16T19:10:59.216Z"
   },
   {
    "duration": 178,
    "start_time": "2022-01-16T19:11:11.900Z"
   },
   {
    "duration": 22262,
    "start_time": "2022-01-16T19:12:02.018Z"
   },
   {
    "duration": 680,
    "start_time": "2022-01-16T19:26:10.481Z"
   },
   {
    "duration": 124,
    "start_time": "2022-01-16T21:01:39.603Z"
   },
   {
    "duration": 114,
    "start_time": "2022-01-16T21:01:49.534Z"
   },
   {
    "duration": 13,
    "start_time": "2022-01-16T22:10:54.332Z"
   },
   {
    "duration": 135,
    "start_time": "2022-01-16T22:12:06.327Z"
   },
   {
    "duration": 11,
    "start_time": "2022-01-16T22:12:20.056Z"
   },
   {
    "duration": 125,
    "start_time": "2022-01-16T22:22:47.614Z"
   },
   {
    "duration": 5,
    "start_time": "2022-01-16T22:23:42.158Z"
   },
   {
    "duration": 122,
    "start_time": "2022-01-16T22:23:47.806Z"
   },
   {
    "duration": 5,
    "start_time": "2022-01-16T22:24:00.381Z"
   },
   {
    "duration": 3,
    "start_time": "2022-01-16T22:24:15.141Z"
   },
   {
    "duration": 121,
    "start_time": "2022-01-16T22:24:16.380Z"
   },
   {
    "duration": 113,
    "start_time": "2022-01-16T22:25:15.020Z"
   },
   {
    "duration": 139,
    "start_time": "2022-01-16T22:25:24.704Z"
   },
   {
    "duration": 364,
    "start_time": "2022-01-16T22:25:52.447Z"
   },
   {
    "duration": 402,
    "start_time": "2022-01-16T22:26:12.277Z"
   },
   {
    "duration": 120,
    "start_time": "2022-01-16T22:30:41.475Z"
   },
   {
    "duration": 398,
    "start_time": "2022-01-16T22:31:27.954Z"
   },
   {
    "duration": 740,
    "start_time": "2022-01-16T22:33:36.721Z"
   },
   {
    "duration": 607,
    "start_time": "2022-01-16T22:33:57.707Z"
   },
   {
    "duration": 741,
    "start_time": "2022-01-16T22:40:06.871Z"
   },
   {
    "duration": 636,
    "start_time": "2022-01-16T22:40:28.559Z"
   },
   {
    "duration": 1553,
    "start_time": "2022-01-17T12:19:31.878Z"
   },
   {
    "duration": 271,
    "start_time": "2022-01-17T12:19:35.861Z"
   },
   {
    "duration": 4,
    "start_time": "2022-01-17T12:19:40.343Z"
   },
   {
    "duration": 318,
    "start_time": "2022-01-17T12:19:40.351Z"
   },
   {
    "duration": 24,
    "start_time": "2022-01-17T12:19:40.672Z"
   },
   {
    "duration": 46,
    "start_time": "2022-01-17T12:19:40.698Z"
   },
   {
    "duration": 12,
    "start_time": "2022-01-17T12:19:40.746Z"
   },
   {
    "duration": 20,
    "start_time": "2022-01-17T12:19:40.761Z"
   },
   {
    "duration": 55,
    "start_time": "2022-01-17T12:19:40.785Z"
   },
   {
    "duration": 15,
    "start_time": "2022-01-17T12:19:40.843Z"
   },
   {
    "duration": 21,
    "start_time": "2022-01-17T12:19:40.861Z"
   },
   {
    "duration": 13,
    "start_time": "2022-01-17T12:19:40.917Z"
   },
   {
    "duration": 24,
    "start_time": "2022-01-17T12:19:40.933Z"
   },
   {
    "duration": 10,
    "start_time": "2022-01-17T12:19:40.959Z"
   },
   {
    "duration": 47,
    "start_time": "2022-01-17T12:19:40.972Z"
   },
   {
    "duration": 9,
    "start_time": "2022-01-17T12:19:41.021Z"
   },
   {
    "duration": 11,
    "start_time": "2022-01-17T12:19:41.033Z"
   },
   {
    "duration": 8,
    "start_time": "2022-01-17T12:19:41.047Z"
   },
   {
    "duration": 12,
    "start_time": "2022-01-17T12:19:41.058Z"
   },
   {
    "duration": 52,
    "start_time": "2022-01-17T12:19:41.072Z"
   },
   {
    "duration": 13,
    "start_time": "2022-01-17T12:19:41.128Z"
   },
   {
    "duration": 35,
    "start_time": "2022-01-17T12:19:41.144Z"
   },
   {
    "duration": 449,
    "start_time": "2022-01-17T12:19:41.181Z"
   },
   {
    "duration": 158,
    "start_time": "2022-01-17T12:19:41.633Z"
   },
   {
    "duration": 7,
    "start_time": "2022-01-17T12:19:41.794Z"
   },
   {
    "duration": 13,
    "start_time": "2022-01-17T12:19:41.803Z"
   },
   {
    "duration": 3,
    "start_time": "2022-01-17T12:19:41.819Z"
   },
   {
    "duration": 700,
    "start_time": "2022-01-17T12:19:41.825Z"
   },
   {
    "duration": 8,
    "start_time": "2022-01-17T12:43:33.611Z"
   },
   {
    "duration": 287,
    "start_time": "2022-01-17T12:43:35.491Z"
   },
   {
    "duration": 933,
    "start_time": "2022-01-17T12:45:01.582Z"
   },
   {
    "duration": 292,
    "start_time": "2022-01-17T12:45:22.901Z"
   },
   {
    "duration": 293,
    "start_time": "2022-01-17T12:45:30.233Z"
   },
   {
    "duration": 737,
    "start_time": "2022-01-17T12:49:26.972Z"
   },
   {
    "duration": 610,
    "start_time": "2022-01-17T12:49:57.797Z"
   },
   {
    "duration": 296,
    "start_time": "2022-01-17T12:50:20.323Z"
   },
   {
    "duration": 661,
    "start_time": "2022-01-17T12:52:08.348Z"
   },
   {
    "duration": 304,
    "start_time": "2022-01-17T12:52:41.296Z"
   },
   {
    "duration": 500,
    "start_time": "2022-01-17T12:53:56.869Z"
   },
   {
    "duration": 973,
    "start_time": "2022-01-17T12:57:36.670Z"
   },
   {
    "duration": 1067,
    "start_time": "2022-01-17T13:05:03.576Z"
   },
   {
    "duration": 8,
    "start_time": "2022-01-17T13:31:20.370Z"
   },
   {
    "duration": 33,
    "start_time": "2022-01-17T13:31:34.812Z"
   },
   {
    "duration": 423,
    "start_time": "2022-01-17T13:33:44.358Z"
   },
   {
    "duration": 460,
    "start_time": "2022-01-17T13:34:04.806Z"
   },
   {
    "duration": 412,
    "start_time": "2022-01-17T13:35:24.339Z"
   },
   {
    "duration": 288,
    "start_time": "2022-01-17T13:37:52.376Z"
   },
   {
    "duration": 6,
    "start_time": "2022-01-17T13:38:01.003Z"
   },
   {
    "duration": 395,
    "start_time": "2022-01-17T13:38:15.964Z"
   },
   {
    "duration": 7,
    "start_time": "2022-01-17T13:38:43.399Z"
   },
   {
    "duration": 461,
    "start_time": "2022-01-17T13:40:05.583Z"
   },
   {
    "duration": 623,
    "start_time": "2022-01-17T13:40:20.929Z"
   },
   {
    "duration": 498,
    "start_time": "2022-01-17T13:40:30.788Z"
   },
   {
    "duration": 743,
    "start_time": "2022-01-17T13:40:50.042Z"
   },
   {
    "duration": 704,
    "start_time": "2022-01-17T13:41:13.796Z"
   },
   {
    "duration": 649,
    "start_time": "2022-01-17T13:41:33.021Z"
   },
   {
    "duration": 29,
    "start_time": "2022-01-17T13:53:56.317Z"
   },
   {
    "duration": 682,
    "start_time": "2022-01-17T13:54:37.296Z"
   },
   {
    "duration": 10,
    "start_time": "2022-01-17T13:55:25.691Z"
   },
   {
    "duration": 601,
    "start_time": "2022-01-17T13:55:56.727Z"
   },
   {
    "duration": 10,
    "start_time": "2022-01-17T13:56:14.402Z"
   },
   {
    "duration": 683,
    "start_time": "2022-01-17T14:22:05.276Z"
   },
   {
    "duration": 10,
    "start_time": "2022-01-17T14:22:32.175Z"
   },
   {
    "duration": 614,
    "start_time": "2022-01-17T14:23:04.958Z"
   },
   {
    "duration": 10,
    "start_time": "2022-01-17T14:23:20.003Z"
   },
   {
    "duration": 194,
    "start_time": "2022-01-17T14:24:53.160Z"
   },
   {
    "duration": 585,
    "start_time": "2022-01-17T14:25:46.390Z"
   },
   {
    "duration": 12,
    "start_time": "2022-01-17T14:26:08.128Z"
   },
   {
    "duration": 633,
    "start_time": "2022-01-17T14:26:29.799Z"
   },
   {
    "duration": 11,
    "start_time": "2022-01-17T14:26:45.633Z"
   },
   {
    "duration": 20,
    "start_time": "2022-01-17T14:33:43.305Z"
   },
   {
    "duration": 279,
    "start_time": "2022-01-17T14:34:11.876Z"
   },
   {
    "duration": 20,
    "start_time": "2022-01-17T14:35:18.077Z"
   },
   {
    "duration": 17,
    "start_time": "2022-01-17T14:45:55.972Z"
   },
   {
    "duration": 35,
    "start_time": "2022-01-17T14:50:19.723Z"
   },
   {
    "duration": 23,
    "start_time": "2022-01-17T14:51:12.762Z"
   },
   {
    "duration": 24,
    "start_time": "2022-01-17T14:51:52.428Z"
   },
   {
    "duration": 22,
    "start_time": "2022-01-17T14:52:05.495Z"
   },
   {
    "duration": 20,
    "start_time": "2022-01-17T14:53:09.797Z"
   },
   {
    "duration": 18,
    "start_time": "2022-01-17T14:53:23.856Z"
   },
   {
    "duration": 19,
    "start_time": "2022-01-17T14:53:33.171Z"
   },
   {
    "duration": 19,
    "start_time": "2022-01-17T14:53:47.316Z"
   },
   {
    "duration": 21,
    "start_time": "2022-01-17T14:56:11.913Z"
   },
   {
    "duration": 19,
    "start_time": "2022-01-17T14:56:27.373Z"
   },
   {
    "duration": 316,
    "start_time": "2022-01-17T14:56:38.741Z"
   },
   {
    "duration": 21,
    "start_time": "2022-01-17T14:56:51.315Z"
   },
   {
    "duration": 48,
    "start_time": "2022-01-17T14:57:53.005Z"
   },
   {
    "duration": 48,
    "start_time": "2022-01-17T14:58:33.268Z"
   },
   {
    "duration": 82,
    "start_time": "2022-01-17T15:20:54.785Z"
   },
   {
    "duration": 48,
    "start_time": "2022-01-17T15:21:18.257Z"
   },
   {
    "duration": 100,
    "start_time": "2022-01-17T15:28:42.328Z"
   },
   {
    "duration": 48,
    "start_time": "2022-01-17T15:28:51.038Z"
   },
   {
    "duration": 49,
    "start_time": "2022-01-17T15:30:47.923Z"
   },
   {
    "duration": 6438,
    "start_time": "2022-01-17T15:35:42.528Z"
   },
   {
    "duration": 5,
    "start_time": "2022-01-17T15:52:31.155Z"
   },
   {
    "duration": 275,
    "start_time": "2022-01-17T15:54:15.895Z"
   },
   {
    "duration": 1023,
    "start_time": "2022-01-17T15:54:44.875Z"
   },
   {
    "duration": 5,
    "start_time": "2022-01-17T15:55:34.813Z"
   },
   {
    "duration": 220,
    "start_time": "2022-01-17T15:55:34.821Z"
   },
   {
    "duration": 15,
    "start_time": "2022-01-17T15:55:35.044Z"
   },
   {
    "duration": 24,
    "start_time": "2022-01-17T15:55:35.061Z"
   },
   {
    "duration": 12,
    "start_time": "2022-01-17T15:55:35.088Z"
   },
   {
    "duration": 20,
    "start_time": "2022-01-17T15:55:35.133Z"
   },
   {
    "duration": 20,
    "start_time": "2022-01-17T15:55:35.156Z"
   },
   {
    "duration": 11,
    "start_time": "2022-01-17T15:55:35.180Z"
   },
   {
    "duration": 55,
    "start_time": "2022-01-17T15:55:35.194Z"
   },
   {
    "duration": 11,
    "start_time": "2022-01-17T15:55:35.251Z"
   },
   {
    "duration": 26,
    "start_time": "2022-01-17T15:55:35.265Z"
   },
   {
    "duration": 8,
    "start_time": "2022-01-17T15:55:35.293Z"
   },
   {
    "duration": 35,
    "start_time": "2022-01-17T15:55:35.303Z"
   },
   {
    "duration": 17,
    "start_time": "2022-01-17T15:55:35.340Z"
   },
   {
    "duration": 13,
    "start_time": "2022-01-17T15:55:35.359Z"
   },
   {
    "duration": 12,
    "start_time": "2022-01-17T15:55:35.374Z"
   },
   {
    "duration": 8,
    "start_time": "2022-01-17T15:55:35.388Z"
   },
   {
    "duration": 51,
    "start_time": "2022-01-17T15:55:35.398Z"
   },
   {
    "duration": 15,
    "start_time": "2022-01-17T15:55:35.451Z"
   },
   {
    "duration": 32,
    "start_time": "2022-01-17T15:55:35.468Z"
   },
   {
    "duration": 411,
    "start_time": "2022-01-17T15:55:35.502Z"
   },
   {
    "duration": 88,
    "start_time": "2022-01-17T15:55:35.916Z"
   },
   {
    "duration": 8,
    "start_time": "2022-01-17T15:55:36.009Z"
   },
   {
    "duration": 15,
    "start_time": "2022-01-17T15:55:36.019Z"
   },
   {
    "duration": 6,
    "start_time": "2022-01-17T15:55:36.036Z"
   },
   {
    "duration": 629,
    "start_time": "2022-01-17T15:55:36.044Z"
   },
   {
    "duration": 7,
    "start_time": "2022-01-17T15:55:36.676Z"
   },
   {
    "duration": 962,
    "start_time": "2022-01-17T15:55:36.685Z"
   },
   {
    "duration": 38,
    "start_time": "2022-01-17T15:55:37.650Z"
   },
   {
    "duration": 682,
    "start_time": "2022-01-17T15:55:37.691Z"
   },
   {
    "duration": 6,
    "start_time": "2022-01-17T15:55:38.375Z"
   },
   {
    "duration": 657,
    "start_time": "2022-01-17T15:55:38.384Z"
   },
   {
    "duration": 7,
    "start_time": "2022-01-17T15:55:39.043Z"
   },
   {
    "duration": 602,
    "start_time": "2022-01-17T15:55:39.052Z"
   },
   {
    "duration": 11,
    "start_time": "2022-01-17T15:55:39.657Z"
   },
   {
    "duration": 653,
    "start_time": "2022-01-17T15:55:39.671Z"
   },
   {
    "duration": 11,
    "start_time": "2022-01-17T15:55:40.327Z"
   },
   {
    "duration": 605,
    "start_time": "2022-01-17T15:55:40.340Z"
   },
   {
    "duration": 9,
    "start_time": "2022-01-17T15:55:40.947Z"
   },
   {
    "duration": 726,
    "start_time": "2022-01-17T15:55:40.958Z"
   },
   {
    "duration": 9,
    "start_time": "2022-01-17T15:55:41.686Z"
   },
   {
    "duration": 633,
    "start_time": "2022-01-17T15:55:41.699Z"
   },
   {
    "duration": 10,
    "start_time": "2022-01-17T15:55:42.335Z"
   },
   {
    "duration": 578,
    "start_time": "2022-01-17T15:55:42.348Z"
   },
   {
    "duration": 10,
    "start_time": "2022-01-17T15:55:42.933Z"
   },
   {
    "duration": 22,
    "start_time": "2022-01-17T15:55:42.945Z"
   },
   {
    "duration": 17,
    "start_time": "2022-01-17T15:55:42.969Z"
   },
   {
    "duration": 85,
    "start_time": "2022-01-17T15:55:42.988Z"
   },
   {
    "duration": 5,
    "start_time": "2022-01-17T15:55:43.075Z"
   },
   {
    "duration": 1052,
    "start_time": "2022-01-17T15:55:43.083Z"
   },
   {
    "duration": 5,
    "start_time": "2022-01-17T15:55:56.158Z"
   },
   {
    "duration": 1065,
    "start_time": "2022-01-17T15:56:02.747Z"
   },
   {
    "duration": 5,
    "start_time": "2022-01-17T15:56:13.614Z"
   },
   {
    "duration": 996,
    "start_time": "2022-01-17T15:56:15.224Z"
   },
   {
    "duration": 276,
    "start_time": "2022-01-17T16:14:12.173Z"
   },
   {
    "duration": 6,
    "start_time": "2022-01-17T16:22:38.244Z"
   },
   {
    "duration": 278,
    "start_time": "2022-01-17T16:22:39.979Z"
   },
   {
    "duration": 40,
    "start_time": "2022-01-17T16:23:29.551Z"
   },
   {
    "duration": 656,
    "start_time": "2022-01-17T16:33:34.471Z"
   },
   {
    "duration": 417,
    "start_time": "2022-01-17T16:34:47.560Z"
   },
   {
    "duration": 459,
    "start_time": "2022-01-17T16:43:39.385Z"
   },
   {
    "duration": 433,
    "start_time": "2022-01-17T16:48:28.714Z"
   },
   {
    "duration": 504,
    "start_time": "2022-01-17T16:48:48.298Z"
   },
   {
    "duration": 457,
    "start_time": "2022-01-17T16:49:06.039Z"
   },
   {
    "duration": 442,
    "start_time": "2022-01-17T16:50:29.793Z"
   },
   {
    "duration": 22,
    "start_time": "2022-01-17T16:51:50.000Z"
   },
   {
    "duration": 38,
    "start_time": "2022-01-17T16:53:26.114Z"
   },
   {
    "duration": 41,
    "start_time": "2022-01-17T16:53:49.133Z"
   },
   {
    "duration": 6,
    "start_time": "2022-01-17T17:13:08.993Z"
   },
   {
    "duration": 545,
    "start_time": "2022-01-17T17:13:10.961Z"
   },
   {
    "duration": 4,
    "start_time": "2022-01-17T17:13:35.024Z"
   },
   {
    "duration": 38,
    "start_time": "2022-01-17T17:13:35.735Z"
   },
   {
    "duration": 8,
    "start_time": "2022-01-17T17:26:48.158Z"
   },
   {
    "duration": 81,
    "start_time": "2022-01-17T17:26:49.085Z"
   },
   {
    "duration": 6,
    "start_time": "2022-01-17T17:30:18.941Z"
   },
   {
    "duration": 54,
    "start_time": "2022-01-17T17:30:19.903Z"
   },
   {
    "duration": 49,
    "start_time": "2022-01-17T17:31:13.959Z"
   },
   {
    "duration": 53,
    "start_time": "2022-01-17T17:39:03.346Z"
   },
   {
    "duration": 50,
    "start_time": "2022-01-17T17:49:02.735Z"
   },
   {
    "duration": 23,
    "start_time": "2022-01-17T18:00:35.312Z"
   },
   {
    "duration": 12,
    "start_time": "2022-01-17T18:00:44.321Z"
   },
   {
    "duration": 18,
    "start_time": "2022-01-17T18:00:49.535Z"
   },
   {
    "duration": 34,
    "start_time": "2022-01-17T18:00:55.088Z"
   },
   {
    "duration": 29,
    "start_time": "2022-01-17T18:01:11.089Z"
   },
   {
    "duration": 29,
    "start_time": "2022-01-17T18:01:15.736Z"
   },
   {
    "duration": 9,
    "start_time": "2022-01-17T18:30:29.781Z"
   },
   {
    "duration": 277,
    "start_time": "2022-01-17T18:31:36.349Z"
   },
   {
    "duration": 10,
    "start_time": "2022-01-17T18:35:44.218Z"
   },
   {
    "duration": 10,
    "start_time": "2022-01-17T18:35:56.381Z"
   },
   {
    "duration": 10,
    "start_time": "2022-01-17T18:37:10.172Z"
   },
   {
    "duration": 7,
    "start_time": "2022-01-17T18:37:12.701Z"
   },
   {
    "duration": 10,
    "start_time": "2022-01-17T18:42:27.619Z"
   },
   {
    "duration": 9,
    "start_time": "2022-01-17T18:42:45.651Z"
   },
   {
    "duration": 994,
    "start_time": "2022-01-18T11:43:43.293Z"
   },
   {
    "duration": 173,
    "start_time": "2022-01-18T11:43:44.290Z"
   },
   {
    "duration": 11,
    "start_time": "2022-01-18T11:43:44.465Z"
   },
   {
    "duration": 14,
    "start_time": "2022-01-18T11:43:44.478Z"
   },
   {
    "duration": 9,
    "start_time": "2022-01-18T11:43:44.494Z"
   },
   {
    "duration": 11,
    "start_time": "2022-01-18T11:43:44.505Z"
   },
   {
    "duration": 16,
    "start_time": "2022-01-18T11:43:44.517Z"
   },
   {
    "duration": 7,
    "start_time": "2022-01-18T11:43:44.535Z"
   },
   {
    "duration": 17,
    "start_time": "2022-01-18T11:43:44.543Z"
   },
   {
    "duration": 7,
    "start_time": "2022-01-18T11:43:44.561Z"
   },
   {
    "duration": 15,
    "start_time": "2022-01-18T11:43:44.569Z"
   },
   {
    "duration": 5,
    "start_time": "2022-01-18T11:43:44.586Z"
   },
   {
    "duration": 4,
    "start_time": "2022-01-18T11:43:44.612Z"
   },
   {
    "duration": 8,
    "start_time": "2022-01-18T11:43:44.617Z"
   },
   {
    "duration": 6,
    "start_time": "2022-01-18T11:43:44.627Z"
   },
   {
    "duration": 6,
    "start_time": "2022-01-18T11:43:44.634Z"
   },
   {
    "duration": 5,
    "start_time": "2022-01-18T11:43:44.641Z"
   },
   {
    "duration": 12,
    "start_time": "2022-01-18T11:43:44.647Z"
   },
   {
    "duration": 14,
    "start_time": "2022-01-18T11:43:44.660Z"
   },
   {
    "duration": 51,
    "start_time": "2022-01-18T11:43:44.675Z"
   },
   {
    "duration": 258,
    "start_time": "2022-01-18T11:43:44.727Z"
   },
   {
    "duration": 75,
    "start_time": "2022-01-18T11:43:44.987Z"
   },
   {
    "duration": 5,
    "start_time": "2022-01-18T11:43:45.065Z"
   },
   {
    "duration": 8,
    "start_time": "2022-01-18T11:43:45.072Z"
   },
   {
    "duration": 7,
    "start_time": "2022-01-18T11:43:45.081Z"
   },
   {
    "duration": 353,
    "start_time": "2022-01-18T11:43:45.089Z"
   },
   {
    "duration": 5,
    "start_time": "2022-01-18T11:43:45.443Z"
   },
   {
    "duration": 617,
    "start_time": "2022-01-18T11:43:45.449Z"
   },
   {
    "duration": 17,
    "start_time": "2022-01-18T11:43:46.067Z"
   },
   {
    "duration": 448,
    "start_time": "2022-01-18T11:43:46.085Z"
   },
   {
    "duration": 4,
    "start_time": "2022-01-18T11:43:46.535Z"
   },
   {
    "duration": 389,
    "start_time": "2022-01-18T11:43:46.540Z"
   },
   {
    "duration": 4,
    "start_time": "2022-01-18T11:43:46.931Z"
   },
   {
    "duration": 398,
    "start_time": "2022-01-18T11:43:46.936Z"
   },
   {
    "duration": 6,
    "start_time": "2022-01-18T11:43:47.336Z"
   },
   {
    "duration": 377,
    "start_time": "2022-01-18T11:43:47.343Z"
   },
   {
    "duration": 7,
    "start_time": "2022-01-18T11:43:47.722Z"
   },
   {
    "duration": 392,
    "start_time": "2022-01-18T11:43:47.730Z"
   },
   {
    "duration": 7,
    "start_time": "2022-01-18T11:43:48.124Z"
   },
   {
    "duration": 388,
    "start_time": "2022-01-18T11:43:48.132Z"
   },
   {
    "duration": 7,
    "start_time": "2022-01-18T11:43:48.521Z"
   },
   {
    "duration": 395,
    "start_time": "2022-01-18T11:43:48.529Z"
   },
   {
    "duration": 6,
    "start_time": "2022-01-18T11:43:48.925Z"
   },
   {
    "duration": 393,
    "start_time": "2022-01-18T11:43:48.933Z"
   },
   {
    "duration": 7,
    "start_time": "2022-01-18T11:43:49.328Z"
   },
   {
    "duration": 18,
    "start_time": "2022-01-18T11:43:49.337Z"
   },
   {
    "duration": 13,
    "start_time": "2022-01-18T11:43:49.357Z"
   },
   {
    "duration": 9,
    "start_time": "2022-01-18T11:43:49.371Z"
   },
   {
    "duration": 5,
    "start_time": "2022-01-18T11:43:49.381Z"
   },
   {
    "duration": 54,
    "start_time": "2022-01-18T11:43:49.387Z"
   },
   {
    "duration": 26,
    "start_time": "2022-01-18T11:43:49.442Z"
   },
   {
    "duration": 25,
    "start_time": "2022-01-18T11:43:49.470Z"
   },
   {
    "duration": 5,
    "start_time": "2022-01-18T11:43:49.512Z"
   },
   {
    "duration": 9,
    "start_time": "2022-01-18T11:43:49.518Z"
   },
   {
    "duration": 11,
    "start_time": "2022-01-18T11:43:49.529Z"
   },
   {
    "duration": 9,
    "start_time": "2022-01-18T11:43:49.542Z"
   },
   {
    "duration": 6,
    "start_time": "2022-01-18T11:43:49.552Z"
   },
   {
    "duration": 1133,
    "start_time": "2022-01-21T16:52:37.873Z"
   },
   {
    "duration": 1409,
    "start_time": "2022-01-21T16:52:39.007Z"
   },
   {
    "duration": -245,
    "start_time": "2022-01-21T16:52:40.665Z"
   },
   {
    "duration": -250,
    "start_time": "2022-01-21T16:52:40.671Z"
   },
   {
    "duration": -261,
    "start_time": "2022-01-21T16:52:40.683Z"
   },
   {
    "duration": -262,
    "start_time": "2022-01-21T16:52:40.685Z"
   },
   {
    "duration": -264,
    "start_time": "2022-01-21T16:52:40.688Z"
   },
   {
    "duration": -266,
    "start_time": "2022-01-21T16:52:40.691Z"
   },
   {
    "duration": -267,
    "start_time": "2022-01-21T16:52:40.693Z"
   },
   {
    "duration": -273,
    "start_time": "2022-01-21T16:52:40.701Z"
   },
   {
    "duration": -275,
    "start_time": "2022-01-21T16:52:40.704Z"
   },
   {
    "duration": -277,
    "start_time": "2022-01-21T16:52:40.707Z"
   },
   {
    "duration": -278,
    "start_time": "2022-01-21T16:52:40.709Z"
   },
   {
    "duration": -279,
    "start_time": "2022-01-21T16:52:40.711Z"
   },
   {
    "duration": -280,
    "start_time": "2022-01-21T16:52:40.713Z"
   },
   {
    "duration": -282,
    "start_time": "2022-01-21T16:52:40.716Z"
   },
   {
    "duration": -284,
    "start_time": "2022-01-21T16:52:40.719Z"
   },
   {
    "duration": -285,
    "start_time": "2022-01-21T16:52:40.722Z"
   },
   {
    "duration": -286,
    "start_time": "2022-01-21T16:52:40.724Z"
   },
   {
    "duration": -287,
    "start_time": "2022-01-21T16:52:40.726Z"
   },
   {
    "duration": -288,
    "start_time": "2022-01-21T16:52:40.728Z"
   },
   {
    "duration": -296,
    "start_time": "2022-01-21T16:52:40.737Z"
   },
   {
    "duration": -301,
    "start_time": "2022-01-21T16:52:40.743Z"
   },
   {
    "duration": -303,
    "start_time": "2022-01-21T16:52:40.746Z"
   },
   {
    "duration": -304,
    "start_time": "2022-01-21T16:52:40.748Z"
   },
   {
    "duration": -305,
    "start_time": "2022-01-21T16:52:40.750Z"
   },
   {
    "duration": -307,
    "start_time": "2022-01-21T16:52:40.753Z"
   },
   {
    "duration": -309,
    "start_time": "2022-01-21T16:52:40.756Z"
   },
   {
    "duration": -309,
    "start_time": "2022-01-21T16:52:40.758Z"
   },
   {
    "duration": -311,
    "start_time": "2022-01-21T16:52:40.761Z"
   },
   {
    "duration": -312,
    "start_time": "2022-01-21T16:52:40.763Z"
   },
   {
    "duration": -314,
    "start_time": "2022-01-21T16:52:40.765Z"
   },
   {
    "duration": -314,
    "start_time": "2022-01-21T16:52:40.767Z"
   },
   {
    "duration": -389,
    "start_time": "2022-01-21T16:52:40.843Z"
   },
   {
    "duration": -420,
    "start_time": "2022-01-21T16:52:40.875Z"
   },
   {
    "duration": -421,
    "start_time": "2022-01-21T16:52:40.877Z"
   },
   {
    "duration": -381,
    "start_time": "2022-01-21T16:52:40.879Z"
   },
   {
    "duration": -382,
    "start_time": "2022-01-21T16:52:40.882Z"
   },
   {
    "duration": -383,
    "start_time": "2022-01-21T16:52:40.884Z"
   },
   {
    "duration": -385,
    "start_time": "2022-01-21T16:52:40.887Z"
   },
   {
    "duration": -386,
    "start_time": "2022-01-21T16:52:40.889Z"
   },
   {
    "duration": -387,
    "start_time": "2022-01-21T16:52:40.891Z"
   },
   {
    "duration": -388,
    "start_time": "2022-01-21T16:52:40.893Z"
   },
   {
    "duration": -390,
    "start_time": "2022-01-21T16:52:40.896Z"
   },
   {
    "duration": -391,
    "start_time": "2022-01-21T16:52:40.898Z"
   },
   {
    "duration": -422,
    "start_time": "2022-01-21T16:52:40.930Z"
   },
   {
    "duration": -432,
    "start_time": "2022-01-21T16:52:40.942Z"
   },
   {
    "duration": -434,
    "start_time": "2022-01-21T16:52:40.945Z"
   },
   {
    "duration": -435,
    "start_time": "2022-01-21T16:52:40.947Z"
   },
   {
    "duration": -436,
    "start_time": "2022-01-21T16:52:40.949Z"
   },
   {
    "duration": -437,
    "start_time": "2022-01-21T16:52:40.951Z"
   },
   {
    "duration": -441,
    "start_time": "2022-01-21T16:52:40.956Z"
   },
   {
    "duration": -444,
    "start_time": "2022-01-21T16:52:40.960Z"
   },
   {
    "duration": -448,
    "start_time": "2022-01-21T16:52:40.965Z"
   },
   {
    "duration": -451,
    "start_time": "2022-01-21T16:52:40.969Z"
   },
   {
    "duration": -453,
    "start_time": "2022-01-21T16:52:40.972Z"
   },
   {
    "duration": -454,
    "start_time": "2022-01-21T16:52:40.974Z"
   },
   {
    "duration": 1172,
    "start_time": "2022-01-21T16:53:03.940Z"
   },
   {
    "duration": 47,
    "start_time": "2022-01-21T16:53:05.114Z"
   },
   {
    "duration": 14,
    "start_time": "2022-01-21T16:53:05.163Z"
   },
   {
    "duration": 28,
    "start_time": "2022-01-21T16:53:05.179Z"
   },
   {
    "duration": 10,
    "start_time": "2022-01-21T16:53:05.209Z"
   },
   {
    "duration": 15,
    "start_time": "2022-01-21T16:53:05.221Z"
   },
   {
    "duration": 19,
    "start_time": "2022-01-21T16:53:05.238Z"
   },
   {
    "duration": 41,
    "start_time": "2022-01-21T16:53:05.259Z"
   },
   {
    "duration": 24,
    "start_time": "2022-01-21T16:53:05.304Z"
   },
   {
    "duration": 13,
    "start_time": "2022-01-21T16:53:05.331Z"
   },
   {
    "duration": 53,
    "start_time": "2022-01-21T16:53:05.346Z"
   },
   {
    "duration": 11,
    "start_time": "2022-01-21T16:53:05.401Z"
   },
   {
    "duration": 8,
    "start_time": "2022-01-21T16:53:05.414Z"
   },
   {
    "duration": 10,
    "start_time": "2022-01-21T16:53:05.424Z"
   },
   {
    "duration": 11,
    "start_time": "2022-01-21T16:53:05.436Z"
   },
   {
    "duration": 9,
    "start_time": "2022-01-21T16:53:05.449Z"
   },
   {
    "duration": 43,
    "start_time": "2022-01-21T16:53:05.461Z"
   },
   {
    "duration": 25,
    "start_time": "2022-01-21T16:53:05.507Z"
   },
   {
    "duration": 16,
    "start_time": "2022-01-21T16:53:05.535Z"
   },
   {
    "duration": 76,
    "start_time": "2022-01-21T16:53:05.554Z"
   },
   {
    "duration": 394,
    "start_time": "2022-01-21T16:53:05.632Z"
   },
   {
    "duration": 72,
    "start_time": "2022-01-21T16:53:06.028Z"
   },
   {
    "duration": 6,
    "start_time": "2022-01-21T16:53:06.102Z"
   },
   {
    "duration": 9,
    "start_time": "2022-01-21T16:53:06.109Z"
   },
   {
    "duration": 4,
    "start_time": "2022-01-21T16:53:06.119Z"
   },
   {
    "duration": 474,
    "start_time": "2022-01-21T16:53:06.124Z"
   },
   {
    "duration": 8,
    "start_time": "2022-01-21T16:53:06.604Z"
   },
   {
    "duration": 786,
    "start_time": "2022-01-21T16:53:06.615Z"
   },
   {
    "duration": 35,
    "start_time": "2022-01-21T16:53:07.403Z"
   },
   {
    "duration": 604,
    "start_time": "2022-01-21T16:53:07.442Z"
   },
   {
    "duration": 7,
    "start_time": "2022-01-21T16:53:08.048Z"
   },
   {
    "duration": 502,
    "start_time": "2022-01-21T16:53:08.057Z"
   },
   {
    "duration": 6,
    "start_time": "2022-01-21T16:53:08.560Z"
   },
   {
    "duration": 581,
    "start_time": "2022-01-21T16:53:08.568Z"
   },
   {
    "duration": 7,
    "start_time": "2022-01-21T16:53:09.151Z"
   },
   {
    "duration": 507,
    "start_time": "2022-01-21T16:53:09.160Z"
   },
   {
    "duration": 8,
    "start_time": "2022-01-21T16:53:09.669Z"
   },
   {
    "duration": 546,
    "start_time": "2022-01-21T16:53:09.679Z"
   },
   {
    "duration": 8,
    "start_time": "2022-01-21T16:53:10.227Z"
   },
   {
    "duration": 468,
    "start_time": "2022-01-21T16:53:10.237Z"
   },
   {
    "duration": 8,
    "start_time": "2022-01-21T16:53:10.708Z"
   },
   {
    "duration": 472,
    "start_time": "2022-01-21T16:53:10.718Z"
   },
   {
    "duration": 9,
    "start_time": "2022-01-21T16:53:11.193Z"
   },
   {
    "duration": 484,
    "start_time": "2022-01-21T16:53:11.205Z"
   },
   {
    "duration": 14,
    "start_time": "2022-01-21T16:53:11.690Z"
   },
   {
    "duration": 16,
    "start_time": "2022-01-21T16:53:11.707Z"
   },
   {
    "duration": 16,
    "start_time": "2022-01-21T16:53:11.725Z"
   },
   {
    "duration": 8,
    "start_time": "2022-01-21T16:53:11.743Z"
   },
   {
    "duration": 46,
    "start_time": "2022-01-21T16:53:11.753Z"
   },
   {
    "duration": 38,
    "start_time": "2022-01-21T16:53:11.801Z"
   },
   {
    "duration": 32,
    "start_time": "2022-01-21T16:53:11.840Z"
   },
   {
    "duration": 57,
    "start_time": "2022-01-21T16:53:11.874Z"
   },
   {
    "duration": 7,
    "start_time": "2022-01-21T16:53:11.932Z"
   },
   {
    "duration": 8,
    "start_time": "2022-01-21T16:53:11.941Z"
   },
   {
    "duration": 7,
    "start_time": "2022-01-21T16:53:11.951Z"
   },
   {
    "duration": 11,
    "start_time": "2022-01-21T16:53:11.999Z"
   },
   {
    "duration": 8,
    "start_time": "2022-01-21T16:53:12.012Z"
   },
   {
    "duration": 61,
    "start_time": "2022-01-21T16:55:25.259Z"
   },
   {
    "duration": 458,
    "start_time": "2022-01-23T11:11:25.195Z"
   },
   {
    "duration": 1266,
    "start_time": "2022-01-23T11:11:33.173Z"
   },
   {
    "duration": 42,
    "start_time": "2022-01-23T11:11:34.441Z"
   },
   {
    "duration": 12,
    "start_time": "2022-01-23T11:11:34.485Z"
   },
   {
    "duration": 25,
    "start_time": "2022-01-23T11:11:34.499Z"
   },
   {
    "duration": 8,
    "start_time": "2022-01-23T11:11:34.526Z"
   },
   {
    "duration": 18,
    "start_time": "2022-01-23T11:11:34.536Z"
   },
   {
    "duration": 30,
    "start_time": "2022-01-23T11:11:34.555Z"
   },
   {
    "duration": 7,
    "start_time": "2022-01-23T11:11:34.587Z"
   },
   {
    "duration": 3,
    "start_time": "2022-01-23T11:11:34.596Z"
   },
   {
    "duration": 10,
    "start_time": "2022-01-23T11:11:34.601Z"
   },
   {
    "duration": 30,
    "start_time": "2022-01-23T11:11:34.613Z"
   },
   {
    "duration": 15,
    "start_time": "2022-01-23T11:11:34.644Z"
   },
   {
    "duration": 5,
    "start_time": "2022-01-23T11:11:34.661Z"
   },
   {
    "duration": 7,
    "start_time": "2022-01-23T11:11:34.667Z"
   },
   {
    "duration": 7,
    "start_time": "2022-01-23T11:11:34.676Z"
   },
   {
    "duration": 195,
    "start_time": "2022-01-23T11:11:34.684Z"
   },
   {
    "duration": 4,
    "start_time": "2022-01-23T11:11:34.881Z"
   },
   {
    "duration": 15,
    "start_time": "2022-01-23T11:11:34.886Z"
   },
   {
    "duration": 15,
    "start_time": "2022-01-23T11:11:34.902Z"
   },
   {
    "duration": 19,
    "start_time": "2022-01-23T11:11:34.919Z"
   },
   {
    "duration": 378,
    "start_time": "2022-01-23T11:11:34.940Z"
   },
   {
    "duration": 104,
    "start_time": "2022-01-23T11:11:35.320Z"
   },
   {
    "duration": 5,
    "start_time": "2022-01-23T11:11:35.426Z"
   },
   {
    "duration": 10,
    "start_time": "2022-01-23T11:11:35.432Z"
   },
   {
    "duration": 4,
    "start_time": "2022-01-23T11:11:35.444Z"
   },
   {
    "duration": 348,
    "start_time": "2022-01-23T11:11:35.450Z"
   },
   {
    "duration": 5,
    "start_time": "2022-01-23T11:11:35.801Z"
   },
   {
    "duration": 699,
    "start_time": "2022-01-23T11:11:35.808Z"
   },
   {
    "duration": 28,
    "start_time": "2022-01-23T11:11:36.509Z"
   },
   {
    "duration": 424,
    "start_time": "2022-01-23T11:11:36.539Z"
   },
   {
    "duration": 4,
    "start_time": "2022-01-23T11:11:36.965Z"
   },
   {
    "duration": 377,
    "start_time": "2022-01-23T11:11:36.971Z"
   },
   {
    "duration": 10792214,
    "start_time": "2022-01-23T08:11:45.136Z"
   },
   {
    "duration": 10792211,
    "start_time": "2022-01-23T08:11:45.140Z"
   },
   {
    "duration": 10792208,
    "start_time": "2022-01-23T08:11:45.144Z"
   },
   {
    "duration": 10792204,
    "start_time": "2022-01-23T08:11:45.149Z"
   },
   {
    "duration": 10792202,
    "start_time": "2022-01-23T08:11:45.152Z"
   },
   {
    "duration": 10792198,
    "start_time": "2022-01-23T08:11:45.157Z"
   },
   {
    "duration": 10792195,
    "start_time": "2022-01-23T08:11:45.160Z"
   },
   {
    "duration": 10792192,
    "start_time": "2022-01-23T08:11:45.164Z"
   },
   {
    "duration": 10792189,
    "start_time": "2022-01-23T08:11:45.168Z"
   },
   {
    "duration": 10792186,
    "start_time": "2022-01-23T08:11:45.172Z"
   },
   {
    "duration": 10792183,
    "start_time": "2022-01-23T08:11:45.176Z"
   },
   {
    "duration": 10792178,
    "start_time": "2022-01-23T08:11:45.181Z"
   },
   {
    "duration": 10792174,
    "start_time": "2022-01-23T08:11:45.186Z"
   },
   {
    "duration": 10792171,
    "start_time": "2022-01-23T08:11:45.190Z"
   },
   {
    "duration": 10792168,
    "start_time": "2022-01-23T08:11:45.194Z"
   },
   {
    "duration": 10792164,
    "start_time": "2022-01-23T08:11:45.199Z"
   },
   {
    "duration": 10792160,
    "start_time": "2022-01-23T08:11:45.204Z"
   },
   {
    "duration": 10792157,
    "start_time": "2022-01-23T08:11:45.208Z"
   },
   {
    "duration": 10792146,
    "start_time": "2022-01-23T08:11:45.220Z"
   },
   {
    "duration": 10792142,
    "start_time": "2022-01-23T08:11:45.225Z"
   },
   {
    "duration": 10792139,
    "start_time": "2022-01-23T08:11:45.229Z"
   },
   {
    "duration": 10792136,
    "start_time": "2022-01-23T08:11:45.233Z"
   },
   {
    "duration": 10792133,
    "start_time": "2022-01-23T08:11:45.237Z"
   },
   {
    "duration": 10792130,
    "start_time": "2022-01-23T08:11:45.241Z"
   },
   {
    "duration": 10792128,
    "start_time": "2022-01-23T08:11:45.244Z"
   },
   {
    "duration": 165,
    "start_time": "2022-01-23T11:14:03.592Z"
   },
   {
    "duration": 150,
    "start_time": "2022-01-23T11:15:03.637Z"
   },
   {
    "duration": 5,
    "start_time": "2022-01-23T11:15:12.091Z"
   },
   {
    "duration": 5,
    "start_time": "2022-01-23T11:16:12.094Z"
   },
   {
    "duration": 7,
    "start_time": "2022-01-23T11:16:58.255Z"
   },
   {
    "duration": 8,
    "start_time": "2022-01-23T11:17:22.185Z"
   },
   {
    "duration": 354,
    "start_time": "2022-01-23T11:18:16.098Z"
   },
   {
    "duration": 335,
    "start_time": "2022-01-23T11:24:29.331Z"
   },
   {
    "duration": 369,
    "start_time": "2022-01-23T11:24:51.375Z"
   },
   {
    "duration": 6,
    "start_time": "2022-01-23T11:25:00.165Z"
   },
   {
    "duration": 6,
    "start_time": "2022-01-23T11:25:41.983Z"
   },
   {
    "duration": 292,
    "start_time": "2022-01-23T11:35:47.632Z"
   },
   {
    "duration": 281,
    "start_time": "2022-01-23T11:36:24.523Z"
   },
   {
    "duration": 159,
    "start_time": "2022-01-23T11:36:37.918Z"
   },
   {
    "duration": 170,
    "start_time": "2022-01-23T11:41:09.529Z"
   },
   {
    "duration": 222,
    "start_time": "2022-01-23T11:41:51.142Z"
   },
   {
    "duration": 166,
    "start_time": "2022-01-23T11:42:05.568Z"
   },
   {
    "duration": 391,
    "start_time": "2022-01-23T11:42:30.792Z"
   },
   {
    "duration": 250,
    "start_time": "2022-01-23T11:42:39.591Z"
   },
   {
    "duration": 164,
    "start_time": "2022-01-23T11:44:57.856Z"
   },
   {
    "duration": 152,
    "start_time": "2022-01-23T11:46:03.024Z"
   },
   {
    "duration": 159,
    "start_time": "2022-01-23T11:46:13.471Z"
   },
   {
    "duration": 478,
    "start_time": "2022-01-23T11:46:57.685Z"
   },
   {
    "duration": 136,
    "start_time": "2022-01-23T11:53:51.070Z"
   },
   {
    "duration": 166,
    "start_time": "2022-01-23T11:54:07.520Z"
   },
   {
    "duration": 18,
    "start_time": "2022-01-23T11:56:01.270Z"
   },
   {
    "duration": 23,
    "start_time": "2022-01-23T11:56:31.803Z"
   },
   {
    "duration": 2388,
    "start_time": "2022-01-23T12:00:59.756Z"
   },
   {
    "duration": 5,
    "start_time": "2022-01-23T12:02:52.615Z"
   },
   {
    "duration": 6,
    "start_time": "2022-01-23T12:05:25.425Z"
   },
   {
    "duration": 391,
    "start_time": "2022-01-23T12:05:40.395Z"
   },
   {
    "duration": 5,
    "start_time": "2022-01-23T12:10:10.728Z"
   },
   {
    "duration": 595,
    "start_time": "2022-01-23T12:10:13.413Z"
   },
   {
    "duration": 19,
    "start_time": "2022-01-23T12:11:32.077Z"
   },
   {
    "duration": 365,
    "start_time": "2022-01-23T12:11:35.673Z"
   },
   {
    "duration": 5,
    "start_time": "2022-01-23T12:11:39.534Z"
   },
   {
    "duration": 333,
    "start_time": "2022-01-23T12:11:53.556Z"
   },
   {
    "duration": 338,
    "start_time": "2022-01-23T12:13:08.192Z"
   },
   {
    "duration": 1077,
    "start_time": "2022-01-23T12:14:47.940Z"
   },
   {
    "duration": 16,
    "start_time": "2022-01-23T12:19:44.790Z"
   },
   {
    "duration": 399,
    "start_time": "2022-01-23T12:22:10.078Z"
   },
   {
    "duration": 646,
    "start_time": "2022-01-23T12:23:46.026Z"
   },
   {
    "duration": 331,
    "start_time": "2022-01-23T12:23:57.082Z"
   },
   {
    "duration": 339,
    "start_time": "2022-01-23T12:25:20.900Z"
   },
   {
    "duration": 3268,
    "start_time": "2022-01-23T12:25:32.282Z"
   },
   {
    "duration": 365,
    "start_time": "2022-01-23T12:26:07.447Z"
   },
   {
    "duration": 6,
    "start_time": "2022-01-23T12:26:22.635Z"
   },
   {
    "duration": 327,
    "start_time": "2022-01-23T12:26:49.068Z"
   },
   {
    "duration": 3,
    "start_time": "2022-01-23T12:27:01.836Z"
   },
   {
    "duration": 58,
    "start_time": "2022-01-23T12:27:01.841Z"
   },
   {
    "duration": 9,
    "start_time": "2022-01-23T12:27:01.901Z"
   },
   {
    "duration": 23,
    "start_time": "2022-01-23T12:27:01.912Z"
   },
   {
    "duration": 14,
    "start_time": "2022-01-23T12:27:01.937Z"
   },
   {
    "duration": 16,
    "start_time": "2022-01-23T12:27:01.953Z"
   },
   {
    "duration": 16,
    "start_time": "2022-01-23T12:27:01.972Z"
   },
   {
    "duration": 17,
    "start_time": "2022-01-23T12:27:01.990Z"
   },
   {
    "duration": 28,
    "start_time": "2022-01-23T12:27:02.008Z"
   },
   {
    "duration": 9,
    "start_time": "2022-01-23T12:27:02.038Z"
   },
   {
    "duration": 6,
    "start_time": "2022-01-23T12:27:02.049Z"
   },
   {
    "duration": 5,
    "start_time": "2022-01-23T12:27:02.057Z"
   },
   {
    "duration": 14,
    "start_time": "2022-01-23T12:27:02.064Z"
   },
   {
    "duration": 9,
    "start_time": "2022-01-23T12:27:02.080Z"
   },
   {
    "duration": 11,
    "start_time": "2022-01-23T12:27:02.091Z"
   },
   {
    "duration": 11,
    "start_time": "2022-01-23T12:27:02.128Z"
   },
   {
    "duration": 169,
    "start_time": "2022-01-23T12:27:02.140Z"
   },
   {
    "duration": 4,
    "start_time": "2022-01-23T12:27:02.311Z"
   },
   {
    "duration": 19,
    "start_time": "2022-01-23T12:27:02.318Z"
   },
   {
    "duration": 13,
    "start_time": "2022-01-23T12:27:02.339Z"
   },
   {
    "duration": 8,
    "start_time": "2022-01-23T12:27:02.353Z"
   },
   {
    "duration": 6,
    "start_time": "2022-01-23T12:27:02.363Z"
   },
   {
    "duration": 178,
    "start_time": "2022-01-23T12:27:02.371Z"
   },
   {
    "duration": 106,
    "start_time": "2022-01-23T12:27:02.550Z"
   },
   {
    "duration": 2,
    "start_time": "2022-01-23T12:27:02.657Z"
   },
   {
    "duration": 10,
    "start_time": "2022-01-23T12:27:02.660Z"
   },
   {
    "duration": 4,
    "start_time": "2022-01-23T12:27:02.671Z"
   },
   {
    "duration": 397,
    "start_time": "2022-01-23T12:27:02.677Z"
   },
   {
    "duration": 5,
    "start_time": "2022-01-23T12:27:03.076Z"
   },
   {
    "duration": 529,
    "start_time": "2022-01-23T12:27:03.082Z"
   },
   {
    "duration": 23,
    "start_time": "2022-01-23T12:27:03.612Z"
   },
   {
    "duration": 428,
    "start_time": "2022-01-23T12:27:03.636Z"
   },
   {
    "duration": 5,
    "start_time": "2022-01-23T12:27:04.065Z"
   },
   {
    "duration": 422,
    "start_time": "2022-01-23T12:27:04.072Z"
   },
   {
    "duration": 10792102,
    "start_time": "2022-01-23T09:27:12.394Z"
   },
   {
    "duration": 10792089,
    "start_time": "2022-01-23T09:27:12.408Z"
   },
   {
    "duration": 10792078,
    "start_time": "2022-01-23T09:27:12.420Z"
   },
   {
    "duration": 10792066,
    "start_time": "2022-01-23T09:27:12.433Z"
   },
   {
    "duration": 10792053,
    "start_time": "2022-01-23T09:27:12.446Z"
   },
   {
    "duration": 10792047,
    "start_time": "2022-01-23T09:27:12.453Z"
   },
   {
    "duration": 10792041,
    "start_time": "2022-01-23T09:27:12.460Z"
   },
   {
    "duration": 10792002,
    "start_time": "2022-01-23T09:27:12.500Z"
   },
   {
    "duration": 10791989,
    "start_time": "2022-01-23T09:27:12.514Z"
   },
   {
    "duration": 10791977,
    "start_time": "2022-01-23T09:27:12.526Z"
   },
   {
    "duration": 10791967,
    "start_time": "2022-01-23T09:27:12.537Z"
   },
   {
    "duration": 10791961,
    "start_time": "2022-01-23T09:27:12.544Z"
   },
   {
    "duration": 10791955,
    "start_time": "2022-01-23T09:27:12.551Z"
   },
   {
    "duration": 10791945,
    "start_time": "2022-01-23T09:27:12.561Z"
   },
   {
    "duration": 10791939,
    "start_time": "2022-01-23T09:27:12.568Z"
   },
   {
    "duration": 10791935,
    "start_time": "2022-01-23T09:27:12.573Z"
   },
   {
    "duration": 10791932,
    "start_time": "2022-01-23T09:27:12.577Z"
   },
   {
    "duration": 10791930,
    "start_time": "2022-01-23T09:27:12.580Z"
   },
   {
    "duration": 10791927,
    "start_time": "2022-01-23T09:27:12.583Z"
   },
   {
    "duration": 10791925,
    "start_time": "2022-01-23T09:27:12.586Z"
   },
   {
    "duration": 10791922,
    "start_time": "2022-01-23T09:27:12.590Z"
   },
   {
    "duration": 10791913,
    "start_time": "2022-01-23T09:27:12.599Z"
   },
   {
    "duration": 10791910,
    "start_time": "2022-01-23T09:27:12.603Z"
   },
   {
    "duration": 10791907,
    "start_time": "2022-01-23T09:27:12.606Z"
   },
   {
    "duration": 10791904,
    "start_time": "2022-01-23T09:27:12.610Z"
   },
   {
    "duration": 14,
    "start_time": "2022-01-23T12:31:33.137Z"
   },
   {
    "duration": 343,
    "start_time": "2022-01-23T12:32:27.009Z"
   },
   {
    "duration": 363,
    "start_time": "2022-01-23T12:33:08.316Z"
   },
   {
    "duration": 21,
    "start_time": "2022-01-23T12:34:44.124Z"
   },
   {
    "duration": 21,
    "start_time": "2022-01-23T12:35:01.589Z"
   },
   {
    "duration": 16,
    "start_time": "2022-01-23T12:37:08.048Z"
   },
   {
    "duration": 325,
    "start_time": "2022-01-23T12:37:33.248Z"
   },
   {
    "duration": 3,
    "start_time": "2022-01-23T12:37:42.627Z"
   },
   {
    "duration": 42,
    "start_time": "2022-01-23T12:37:42.632Z"
   },
   {
    "duration": 9,
    "start_time": "2022-01-23T12:37:42.676Z"
   },
   {
    "duration": 15,
    "start_time": "2022-01-23T12:37:42.687Z"
   },
   {
    "duration": 33,
    "start_time": "2022-01-23T12:37:42.704Z"
   },
   {
    "duration": 8,
    "start_time": "2022-01-23T12:37:42.738Z"
   },
   {
    "duration": 12,
    "start_time": "2022-01-23T12:37:42.748Z"
   },
   {
    "duration": 12,
    "start_time": "2022-01-23T12:37:42.762Z"
   },
   {
    "duration": 7,
    "start_time": "2022-01-23T12:37:42.776Z"
   },
   {
    "duration": 43,
    "start_time": "2022-01-23T12:37:42.784Z"
   },
   {
    "duration": 5,
    "start_time": "2022-01-23T12:37:42.829Z"
   },
   {
    "duration": 6,
    "start_time": "2022-01-23T12:37:42.836Z"
   },
   {
    "duration": 9,
    "start_time": "2022-01-23T12:37:42.844Z"
   },
   {
    "duration": 5,
    "start_time": "2022-01-23T12:37:42.855Z"
   },
   {
    "duration": 7,
    "start_time": "2022-01-23T12:37:42.861Z"
   },
   {
    "duration": 9,
    "start_time": "2022-01-23T12:37:42.870Z"
   },
   {
    "duration": 173,
    "start_time": "2022-01-23T12:37:42.881Z"
   },
   {
    "duration": 4,
    "start_time": "2022-01-23T12:37:43.056Z"
   },
   {
    "duration": 12,
    "start_time": "2022-01-23T12:37:43.063Z"
   },
   {
    "duration": 7,
    "start_time": "2022-01-23T12:37:43.077Z"
   },
   {
    "duration": 9,
    "start_time": "2022-01-23T12:37:43.085Z"
   },
   {
    "duration": 32,
    "start_time": "2022-01-23T12:37:43.095Z"
   },
   {
    "duration": 196,
    "start_time": "2022-01-23T12:37:43.129Z"
   },
   {
    "duration": 142,
    "start_time": "2022-01-23T12:37:43.327Z"
   },
   {
    "duration": 2,
    "start_time": "2022-01-23T12:37:43.470Z"
   },
   {
    "duration": 8,
    "start_time": "2022-01-23T12:37:43.474Z"
   },
   {
    "duration": 3,
    "start_time": "2022-01-23T12:37:43.484Z"
   },
   {
    "duration": 407,
    "start_time": "2022-01-23T12:37:43.488Z"
   },
   {
    "duration": 5,
    "start_time": "2022-01-23T12:37:43.897Z"
   },
   {
    "duration": 711,
    "start_time": "2022-01-23T12:37:43.903Z"
   },
   {
    "duration": 22,
    "start_time": "2022-01-23T12:37:44.616Z"
   },
   {
    "duration": 418,
    "start_time": "2022-01-23T12:37:44.640Z"
   },
   {
    "duration": 6,
    "start_time": "2022-01-23T12:37:45.060Z"
   },
   {
    "duration": 381,
    "start_time": "2022-01-23T12:37:45.067Z"
   },
   {
    "duration": 10792354,
    "start_time": "2022-01-23T09:37:53.096Z"
   },
   {
    "duration": 10792347,
    "start_time": "2022-01-23T09:37:53.104Z"
   },
   {
    "duration": 10792341,
    "start_time": "2022-01-23T09:37:53.111Z"
   },
   {
    "duration": 10792337,
    "start_time": "2022-01-23T09:37:53.116Z"
   },
   {
    "duration": 10792333,
    "start_time": "2022-01-23T09:37:53.121Z"
   },
   {
    "duration": 10792325,
    "start_time": "2022-01-23T09:37:53.130Z"
   },
   {
    "duration": 10792320,
    "start_time": "2022-01-23T09:37:53.135Z"
   },
   {
    "duration": 10792318,
    "start_time": "2022-01-23T09:37:53.138Z"
   },
   {
    "duration": 10792316,
    "start_time": "2022-01-23T09:37:53.141Z"
   },
   {
    "duration": 10792314,
    "start_time": "2022-01-23T09:37:53.144Z"
   },
   {
    "duration": 10792312,
    "start_time": "2022-01-23T09:37:53.147Z"
   },
   {
    "duration": 10792310,
    "start_time": "2022-01-23T09:37:53.150Z"
   },
   {
    "duration": 10792308,
    "start_time": "2022-01-23T09:37:53.153Z"
   },
   {
    "duration": 10792306,
    "start_time": "2022-01-23T09:37:53.156Z"
   },
   {
    "duration": 10792304,
    "start_time": "2022-01-23T09:37:53.159Z"
   },
   {
    "duration": 10792303,
    "start_time": "2022-01-23T09:37:53.161Z"
   },
   {
    "duration": 10792301,
    "start_time": "2022-01-23T09:37:53.164Z"
   },
   {
    "duration": 10792299,
    "start_time": "2022-01-23T09:37:53.167Z"
   },
   {
    "duration": 10792296,
    "start_time": "2022-01-23T09:37:53.171Z"
   },
   {
    "duration": 10792296,
    "start_time": "2022-01-23T09:37:53.173Z"
   },
   {
    "duration": 10792293,
    "start_time": "2022-01-23T09:37:53.177Z"
   },
   {
    "duration": 10792291,
    "start_time": "2022-01-23T09:37:53.180Z"
   },
   {
    "duration": 10792288,
    "start_time": "2022-01-23T09:37:53.184Z"
   },
   {
    "duration": 10792286,
    "start_time": "2022-01-23T09:37:53.187Z"
   },
   {
    "duration": 10792284,
    "start_time": "2022-01-23T09:37:53.190Z"
   },
   {
    "duration": 8,
    "start_time": "2022-01-23T12:38:46.213Z"
   },
   {
    "duration": 3,
    "start_time": "2022-01-23T12:39:14.311Z"
   },
   {
    "duration": 495,
    "start_time": "2022-01-23T12:39:24.161Z"
   },
   {
    "duration": 4,
    "start_time": "2022-01-23T12:39:32.587Z"
   },
   {
    "duration": 66,
    "start_time": "2022-01-23T12:39:32.593Z"
   },
   {
    "duration": 10,
    "start_time": "2022-01-23T12:39:32.661Z"
   },
   {
    "duration": 15,
    "start_time": "2022-01-23T12:39:32.673Z"
   },
   {
    "duration": 8,
    "start_time": "2022-01-23T12:39:32.689Z"
   },
   {
    "duration": 12,
    "start_time": "2022-01-23T12:39:32.727Z"
   },
   {
    "duration": 14,
    "start_time": "2022-01-23T12:39:32.740Z"
   },
   {
    "duration": 21,
    "start_time": "2022-01-23T12:39:32.756Z"
   },
   {
    "duration": 12,
    "start_time": "2022-01-23T12:39:32.778Z"
   },
   {
    "duration": 18,
    "start_time": "2022-01-23T12:39:32.791Z"
   },
   {
    "duration": 19,
    "start_time": "2022-01-23T12:39:32.810Z"
   },
   {
    "duration": 32,
    "start_time": "2022-01-23T12:39:32.830Z"
   },
   {
    "duration": 18,
    "start_time": "2022-01-23T12:39:32.864Z"
   },
   {
    "duration": 17,
    "start_time": "2022-01-23T12:39:32.883Z"
   },
   {
    "duration": 10,
    "start_time": "2022-01-23T12:39:32.902Z"
   },
   {
    "duration": 165,
    "start_time": "2022-01-23T12:39:32.914Z"
   },
   {
    "duration": 5,
    "start_time": "2022-01-23T12:39:33.081Z"
   },
   {
    "duration": 12,
    "start_time": "2022-01-23T12:39:33.088Z"
   },
   {
    "duration": 26,
    "start_time": "2022-01-23T12:39:33.101Z"
   },
   {
    "duration": 9,
    "start_time": "2022-01-23T12:39:33.128Z"
   },
   {
    "duration": 5,
    "start_time": "2022-01-23T12:39:33.138Z"
   },
   {
    "duration": 200,
    "start_time": "2022-01-23T12:39:33.144Z"
   },
   {
    "duration": 112,
    "start_time": "2022-01-23T12:39:33.348Z"
   },
   {
    "duration": 2,
    "start_time": "2022-01-23T12:39:33.463Z"
   },
   {
    "duration": 9,
    "start_time": "2022-01-23T12:39:33.467Z"
   },
   {
    "duration": 2,
    "start_time": "2022-01-23T12:39:33.477Z"
   },
   {
    "duration": 411,
    "start_time": "2022-01-23T12:39:33.481Z"
   },
   {
    "duration": 5,
    "start_time": "2022-01-23T12:39:33.894Z"
   },
   {
    "duration": 540,
    "start_time": "2022-01-23T12:39:33.900Z"
   },
   {
    "duration": 21,
    "start_time": "2022-01-23T12:39:34.442Z"
   },
   {
    "duration": 408,
    "start_time": "2022-01-23T12:39:34.465Z"
   },
   {
    "duration": 4,
    "start_time": "2022-01-23T12:39:34.875Z"
   },
   {
    "duration": 421,
    "start_time": "2022-01-23T12:39:34.880Z"
   },
   {
    "duration": 4,
    "start_time": "2022-01-23T12:39:35.303Z"
   },
   {
    "duration": 525,
    "start_time": "2022-01-23T12:39:35.309Z"
   },
   {
    "duration": 10791963,
    "start_time": "2022-01-23T09:39:43.874Z"
   },
   {
    "duration": 10791958,
    "start_time": "2022-01-23T09:39:43.880Z"
   },
   {
    "duration": 10791953,
    "start_time": "2022-01-23T09:39:43.886Z"
   },
   {
    "duration": 10791948,
    "start_time": "2022-01-23T09:39:43.892Z"
   },
   {
    "duration": 10791933,
    "start_time": "2022-01-23T09:39:43.909Z"
   },
   {
    "duration": 10791919,
    "start_time": "2022-01-23T09:39:43.924Z"
   },
   {
    "duration": 10791917,
    "start_time": "2022-01-23T09:39:43.927Z"
   },
   {
    "duration": 10791916,
    "start_time": "2022-01-23T09:39:43.930Z"
   },
   {
    "duration": 10791915,
    "start_time": "2022-01-23T09:39:43.932Z"
   },
   {
    "duration": 10791912,
    "start_time": "2022-01-23T09:39:43.936Z"
   },
   {
    "duration": 10791909,
    "start_time": "2022-01-23T09:39:43.940Z"
   },
   {
    "duration": 10791907,
    "start_time": "2022-01-23T09:39:43.943Z"
   },
   {
    "duration": 10791905,
    "start_time": "2022-01-23T09:39:43.946Z"
   },
   {
    "duration": 10791902,
    "start_time": "2022-01-23T09:39:43.950Z"
   },
   {
    "duration": 10791886,
    "start_time": "2022-01-23T09:39:43.967Z"
   },
   {
    "duration": 10791883,
    "start_time": "2022-01-23T09:39:43.971Z"
   },
   {
    "duration": 10791880,
    "start_time": "2022-01-23T09:39:43.975Z"
   },
   {
    "duration": 10791877,
    "start_time": "2022-01-23T09:39:43.979Z"
   },
   {
    "duration": 10791874,
    "start_time": "2022-01-23T09:39:43.982Z"
   },
   {
    "duration": 10791871,
    "start_time": "2022-01-23T09:39:43.986Z"
   },
   {
    "duration": 10791868,
    "start_time": "2022-01-23T09:39:43.990Z"
   },
   {
    "duration": 10791865,
    "start_time": "2022-01-23T09:39:43.993Z"
   },
   {
    "duration": 10791861,
    "start_time": "2022-01-23T09:39:43.998Z"
   },
   {
    "duration": 445,
    "start_time": "2022-01-23T12:40:06.801Z"
   },
   {
    "duration": 6,
    "start_time": "2022-01-23T12:40:14.985Z"
   },
   {
    "duration": 401,
    "start_time": "2022-01-23T12:40:30.255Z"
   },
   {
    "duration": 7,
    "start_time": "2022-01-23T12:40:43.077Z"
   },
   {
    "duration": 377,
    "start_time": "2022-01-23T12:41:04.186Z"
   },
   {
    "duration": 7,
    "start_time": "2022-01-23T12:41:09.768Z"
   },
   {
    "duration": 377,
    "start_time": "2022-01-23T12:41:14.169Z"
   },
   {
    "duration": 6,
    "start_time": "2022-01-23T12:41:21.309Z"
   },
   {
    "duration": 7,
    "start_time": "2022-01-23T12:41:50.329Z"
   },
   {
    "duration": 6,
    "start_time": "2022-01-23T12:42:02.992Z"
   },
   {
    "duration": 9,
    "start_time": "2022-01-23T12:42:14.216Z"
   },
   {
    "duration": 7,
    "start_time": "2022-01-23T12:42:21.076Z"
   },
   {
    "duration": 12,
    "start_time": "2022-01-23T12:42:51.938Z"
   },
   {
    "duration": 9,
    "start_time": "2022-01-23T12:44:40.092Z"
   },
   {
    "duration": 5,
    "start_time": "2022-01-23T12:44:50.562Z"
   },
   {
    "duration": 4,
    "start_time": "2022-01-23T12:44:53.284Z"
   },
   {
    "duration": 28,
    "start_time": "2022-01-23T12:45:04.567Z"
   },
   {
    "duration": 3,
    "start_time": "2022-01-23T12:45:59.182Z"
   },
   {
    "duration": 27,
    "start_time": "2022-01-23T12:46:00.274Z"
   },
   {
    "duration": 27,
    "start_time": "2022-01-23T12:47:03.172Z"
   },
   {
    "duration": 28,
    "start_time": "2022-01-23T12:47:53.975Z"
   },
   {
    "duration": 6,
    "start_time": "2022-01-23T12:48:26.707Z"
   },
   {
    "duration": 6,
    "start_time": "2022-01-23T12:48:29.423Z"
   },
   {
    "duration": 4,
    "start_time": "2022-01-23T12:48:30.523Z"
   },
   {
    "duration": 7,
    "start_time": "2022-01-23T12:48:37.201Z"
   },
   {
    "duration": 5,
    "start_time": "2022-01-23T12:48:38.023Z"
   },
   {
    "duration": 6,
    "start_time": "2022-01-23T12:49:16.332Z"
   },
   {
    "duration": 5,
    "start_time": "2022-01-23T12:49:29.074Z"
   },
   {
    "duration": 4,
    "start_time": "2022-01-23T13:05:30.391Z"
   },
   {
    "duration": 27,
    "start_time": "2022-01-23T13:05:31.267Z"
   },
   {
    "duration": 26,
    "start_time": "2022-01-23T13:05:46.964Z"
   }
  ],
  "kernelspec": {
   "display_name": "Python 3 (ipykernel)",
   "language": "python",
   "name": "python3"
  },
  "language_info": {
   "codemirror_mode": {
    "name": "ipython",
    "version": 3
   },
   "file_extension": ".py",
   "mimetype": "text/x-python",
   "name": "python",
   "nbconvert_exporter": "python",
   "pygments_lexer": "ipython3",
   "version": "3.9.5"
  },
  "toc": {
   "base_numbering": 1,
   "nav_menu": {},
   "number_sections": false,
   "sideBar": true,
   "skip_h1_title": false,
   "title_cell": "Table of Contents",
   "title_sidebar": "Contents",
   "toc_cell": false,
   "toc_position": {},
   "toc_section_display": true,
   "toc_window_display": true
  }
 },
 "nbformat": 4,
 "nbformat_minor": 2
}
