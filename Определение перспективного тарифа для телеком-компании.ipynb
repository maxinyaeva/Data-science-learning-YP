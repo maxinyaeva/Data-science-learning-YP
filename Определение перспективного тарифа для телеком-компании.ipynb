{
 "cells": [
  {
   "cell_type": "markdown",
   "metadata": {},
   "source": [
    "# Аналитика доходности тарифов сотовой связи "
   ]
  },
  {
   "cell_type": "markdown",
   "metadata": {},
   "source": [
    "«Мегалайн» — федеральный оператор сотовой связи. Компания предлагает клиентам два тарифных плана: «Смарт» и «Ультра»"
   ]
  },
  {
   "cell_type": "markdown",
   "metadata": {},
   "source": [
    "Нам предстоит сделать предварительный анализ тарифов на небольшой выборке клиентов.  \n",
    "В вашем распоряжении данные 500 пользователей «Мегалайна»: кто они, откуда, каким тарифом пользуются, сколько звонков и сообщений каждый отправил за 2018 год. Нужно проанализировать поведение клиентов и сделать вывод — какой тариф лучше."
   ]
  },
  {
   "cell_type": "markdown",
   "metadata": {},
   "source": [
    "## Предварительный анализ данных"
   ]
  },
  {
   "cell_type": "markdown",
   "metadata": {},
   "source": [
    "### Описание данных  \n",
    "**Таблица users (информация о пользователях):**  \n",
    "- user_id — уникальный идентификатор пользователя  \n",
    "- first_name — имя пользователя  \n",
    "- last_name — фамилия пользователя  \n",
    "- age — возраст пользователя (годы)  \n",
    "- reg_date — дата подключения тарифа (день, месяц, год)  \n",
    "- churn_date — дата прекращения пользования тарифом (если значение пропущено, то тариф ещё действовал на момент выгрузки данных)  \n",
    "- city — город проживания пользователя  \n",
    "- tarif — название тарифного плана\n",
    "\n",
    "**Таблица calls (информация о звонках):**  \n",
    "- id — уникальный номер звонка  \n",
    "- call_date — дата звонка  \n",
    "- duration — длительность звонка в минутах  \n",
    "- user_id — идентификатор пользователя, сделавшего звонок  \n",
    "\n",
    "**Таблица messages (информация о сообщениях):**  \n",
    "- id — уникальный номер сообщения  \n",
    "- message_date — дата сообщения  \n",
    "- user_id — идентификатор пользователя, отправившего сообщение  \n",
    "\n",
    "**Таблица internet (информация об интернет-сессиях):**  \n",
    "- id — уникальный номер сессии  \n",
    "- mb_used — объём потраченного за сессию интернет-трафика (в мегабайтах)  \n",
    "- session_date — дата интернет-сессии  \n",
    "- user_id — идентификатор пользователя  \n",
    "\n",
    "**Таблица tariffs (информация о тарифах):**  \n",
    "- tariff_name — название тарифа  \n",
    "- rub_monthly_fee — ежемесячная абонентская плата в рублях  \n",
    "- minutes_included — количество минут разговора в месяц, включённых в абонентскую плату  \n",
    "- messages_included — количество сообщений в месяц, включённых в абонентскую плату  \n",
    "- mb_per_month_included — объём интернет-трафика, включённого в абонентскую плату (в мегабайтах)  \n",
    "- rub_per_minute — стоимость минуты разговора сверх тарифного пакета (например, если в тарифе 100 минут разговора в месяц, то со 101 минуты будет взиматься плата)  \n",
    "- rub_per_message — стоимость отправки сообщения сверх тарифного пакета  \n",
    "- rub_per_gb — стоимость дополнительного гигабайта интернет-трафика сверх тарифного пакета (1 гигабайт = 1024 мегабайта)"
   ]
  },
  {
   "cell_type": "markdown",
   "metadata": {},
   "source": [
    "### Предобработка данных"
   ]
  },
  {
   "cell_type": "markdown",
   "metadata": {},
   "source": [
    "Импортируем все необходимые библиотеки Python для дальнейшего анализа данных"
   ]
  },
  {
   "cell_type": "code",
   "execution_count": 2,
   "metadata": {},
   "outputs": [],
   "source": [
    "import pandas as pd\n",
    "import numpy as np\n",
    "from scipy import stats as st\n",
    "import math as mt\n",
    "from math import factorial\n",
    "import matplotlib.pyplot as plt\n",
    "pd.set_option('display.float_format', '{:,.2f}'.format)"
   ]
  },
  {
   "cell_type": "code",
   "execution_count": 3,
   "metadata": {},
   "outputs": [
    {
     "name": "stdout",
     "output_type": "stream",
     "text": [
      "<class 'pandas.core.frame.DataFrame'>\n",
      "RangeIndex: 500 entries, 0 to 499\n",
      "Data columns (total 8 columns):\n",
      "user_id       500 non-null int64\n",
      "age           500 non-null int64\n",
      "churn_date    38 non-null object\n",
      "city          500 non-null object\n",
      "first_name    500 non-null object\n",
      "last_name     500 non-null object\n",
      "reg_date      500 non-null object\n",
      "tariff        500 non-null object\n",
      "dtypes: int64(2), object(6)\n",
      "memory usage: 31.4+ KB\n"
     ]
    }
   ],
   "source": [
    "users = pd.read_csv('/datasets/users.csv')\n",
    "users.info()"
   ]
  },
  {
   "cell_type": "code",
   "execution_count": 4,
   "metadata": {},
   "outputs": [
    {
     "data": {
      "text/html": [
       "<div>\n",
       "<style scoped>\n",
       "    .dataframe tbody tr th:only-of-type {\n",
       "        vertical-align: middle;\n",
       "    }\n",
       "\n",
       "    .dataframe tbody tr th {\n",
       "        vertical-align: top;\n",
       "    }\n",
       "\n",
       "    .dataframe thead th {\n",
       "        text-align: right;\n",
       "    }\n",
       "</style>\n",
       "<table border=\"1\" class=\"dataframe\">\n",
       "  <thead>\n",
       "    <tr style=\"text-align: right;\">\n",
       "      <th></th>\n",
       "      <th>user_id</th>\n",
       "      <th>age</th>\n",
       "      <th>churn_date</th>\n",
       "      <th>city</th>\n",
       "      <th>first_name</th>\n",
       "      <th>last_name</th>\n",
       "      <th>reg_date</th>\n",
       "      <th>tariff</th>\n",
       "    </tr>\n",
       "  </thead>\n",
       "  <tbody>\n",
       "    <tr>\n",
       "      <td>0</td>\n",
       "      <td>1000</td>\n",
       "      <td>52</td>\n",
       "      <td>NaN</td>\n",
       "      <td>Краснодар</td>\n",
       "      <td>Рафаил</td>\n",
       "      <td>Верещагин</td>\n",
       "      <td>2018-05-25</td>\n",
       "      <td>ultra</td>\n",
       "    </tr>\n",
       "    <tr>\n",
       "      <td>1</td>\n",
       "      <td>1001</td>\n",
       "      <td>41</td>\n",
       "      <td>NaN</td>\n",
       "      <td>Москва</td>\n",
       "      <td>Иван</td>\n",
       "      <td>Ежов</td>\n",
       "      <td>2018-11-01</td>\n",
       "      <td>smart</td>\n",
       "    </tr>\n",
       "    <tr>\n",
       "      <td>2</td>\n",
       "      <td>1002</td>\n",
       "      <td>59</td>\n",
       "      <td>NaN</td>\n",
       "      <td>Стерлитамак</td>\n",
       "      <td>Евгений</td>\n",
       "      <td>Абрамович</td>\n",
       "      <td>2018-06-17</td>\n",
       "      <td>smart</td>\n",
       "    </tr>\n",
       "    <tr>\n",
       "      <td>3</td>\n",
       "      <td>1003</td>\n",
       "      <td>23</td>\n",
       "      <td>NaN</td>\n",
       "      <td>Москва</td>\n",
       "      <td>Белла</td>\n",
       "      <td>Белякова</td>\n",
       "      <td>2018-08-17</td>\n",
       "      <td>ultra</td>\n",
       "    </tr>\n",
       "    <tr>\n",
       "      <td>4</td>\n",
       "      <td>1004</td>\n",
       "      <td>68</td>\n",
       "      <td>NaN</td>\n",
       "      <td>Новокузнецк</td>\n",
       "      <td>Татьяна</td>\n",
       "      <td>Авдеенко</td>\n",
       "      <td>2018-05-14</td>\n",
       "      <td>ultra</td>\n",
       "    </tr>\n",
       "    <tr>\n",
       "      <td>...</td>\n",
       "      <td>...</td>\n",
       "      <td>...</td>\n",
       "      <td>...</td>\n",
       "      <td>...</td>\n",
       "      <td>...</td>\n",
       "      <td>...</td>\n",
       "      <td>...</td>\n",
       "      <td>...</td>\n",
       "    </tr>\n",
       "    <tr>\n",
       "      <td>495</td>\n",
       "      <td>1495</td>\n",
       "      <td>65</td>\n",
       "      <td>NaN</td>\n",
       "      <td>Иркутск</td>\n",
       "      <td>Авксентий</td>\n",
       "      <td>Фокин</td>\n",
       "      <td>2018-08-28</td>\n",
       "      <td>ultra</td>\n",
       "    </tr>\n",
       "    <tr>\n",
       "      <td>496</td>\n",
       "      <td>1496</td>\n",
       "      <td>36</td>\n",
       "      <td>NaN</td>\n",
       "      <td>Вологда</td>\n",
       "      <td>Трифон</td>\n",
       "      <td>Блохин</td>\n",
       "      <td>2018-01-27</td>\n",
       "      <td>smart</td>\n",
       "    </tr>\n",
       "    <tr>\n",
       "      <td>497</td>\n",
       "      <td>1497</td>\n",
       "      <td>32</td>\n",
       "      <td>NaN</td>\n",
       "      <td>Челябинск</td>\n",
       "      <td>Каролина</td>\n",
       "      <td>Агеева</td>\n",
       "      <td>2018-10-09</td>\n",
       "      <td>smart</td>\n",
       "    </tr>\n",
       "    <tr>\n",
       "      <td>498</td>\n",
       "      <td>1498</td>\n",
       "      <td>68</td>\n",
       "      <td>2018-10-25</td>\n",
       "      <td>Владикавказ</td>\n",
       "      <td>Всеволод</td>\n",
       "      <td>Акимчин</td>\n",
       "      <td>2018-07-19</td>\n",
       "      <td>smart</td>\n",
       "    </tr>\n",
       "    <tr>\n",
       "      <td>499</td>\n",
       "      <td>1499</td>\n",
       "      <td>35</td>\n",
       "      <td>NaN</td>\n",
       "      <td>Пермь</td>\n",
       "      <td>Гектор</td>\n",
       "      <td>Корнилов</td>\n",
       "      <td>2018-09-27</td>\n",
       "      <td>smart</td>\n",
       "    </tr>\n",
       "  </tbody>\n",
       "</table>\n",
       "<p>500 rows × 8 columns</p>\n",
       "</div>"
      ],
      "text/plain": [
       "     user_id  age  churn_date         city first_name  last_name    reg_date  \\\n",
       "0       1000   52         NaN    Краснодар     Рафаил  Верещагин  2018-05-25   \n",
       "1       1001   41         NaN       Москва       Иван       Ежов  2018-11-01   \n",
       "2       1002   59         NaN  Стерлитамак    Евгений  Абрамович  2018-06-17   \n",
       "3       1003   23         NaN       Москва      Белла   Белякова  2018-08-17   \n",
       "4       1004   68         NaN  Новокузнецк    Татьяна   Авдеенко  2018-05-14   \n",
       "..       ...  ...         ...          ...        ...        ...         ...   \n",
       "495     1495   65         NaN      Иркутск  Авксентий      Фокин  2018-08-28   \n",
       "496     1496   36         NaN      Вологда     Трифон     Блохин  2018-01-27   \n",
       "497     1497   32         NaN    Челябинск   Каролина     Агеева  2018-10-09   \n",
       "498     1498   68  2018-10-25  Владикавказ   Всеволод    Акимчин  2018-07-19   \n",
       "499     1499   35         NaN        Пермь     Гектор   Корнилов  2018-09-27   \n",
       "\n",
       "    tariff  \n",
       "0    ultra  \n",
       "1    smart  \n",
       "2    smart  \n",
       "3    ultra  \n",
       "4    ultra  \n",
       "..     ...  \n",
       "495  ultra  \n",
       "496  smart  \n",
       "497  smart  \n",
       "498  smart  \n",
       "499  smart  \n",
       "\n",
       "[500 rows x 8 columns]"
      ]
     },
     "metadata": {},
     "output_type": "display_data"
    }
   ],
   "source": [
    "display(users)"
   ]
  },
  {
   "cell_type": "markdown",
   "metadata": {},
   "source": [
    "Проверим данные на пропуски, наличие дубликатов и вбросов."
   ]
  },
  {
   "cell_type": "code",
   "execution_count": 5,
   "metadata": {},
   "outputs": [
    {
     "data": {
      "text/plain": [
       "user_id         0\n",
       "age             0\n",
       "churn_date    462\n",
       "city            0\n",
       "first_name      0\n",
       "last_name       0\n",
       "reg_date        0\n",
       "tariff          0\n",
       "dtype: int64"
      ]
     },
     "execution_count": 5,
     "metadata": {},
     "output_type": "execute_result"
    }
   ],
   "source": [
    "users.isna().sum()"
   ]
  },
  {
   "cell_type": "markdown",
   "metadata": {},
   "source": [
    "Пропуски присутсвуют только в колонке churn_date, но это не отсутсвие данных, а важный показатель.  "
   ]
  },
  {
   "cell_type": "code",
   "execution_count": 6,
   "metadata": {},
   "outputs": [
    {
     "data": {
      "text/plain": [
       "0"
      ]
     },
     "execution_count": 6,
     "metadata": {},
     "output_type": "execute_result"
    }
   ],
   "source": [
    "users.duplicated().sum()"
   ]
  },
  {
   "cell_type": "markdown",
   "metadata": {},
   "source": [
    "Явных дубликатов в выборке не обнаружено."
   ]
  },
  {
   "cell_type": "code",
   "execution_count": 7,
   "metadata": {},
   "outputs": [
    {
     "data": {
      "text/html": [
       "<div>\n",
       "<style scoped>\n",
       "    .dataframe tbody tr th:only-of-type {\n",
       "        vertical-align: middle;\n",
       "    }\n",
       "\n",
       "    .dataframe tbody tr th {\n",
       "        vertical-align: top;\n",
       "    }\n",
       "\n",
       "    .dataframe thead th {\n",
       "        text-align: right;\n",
       "    }\n",
       "</style>\n",
       "<table border=\"1\" class=\"dataframe\">\n",
       "  <thead>\n",
       "    <tr style=\"text-align: right;\">\n",
       "      <th></th>\n",
       "      <th>user_id</th>\n",
       "      <th>age</th>\n",
       "    </tr>\n",
       "  </thead>\n",
       "  <tbody>\n",
       "    <tr>\n",
       "      <td>count</td>\n",
       "      <td>500.00</td>\n",
       "      <td>500.00</td>\n",
       "    </tr>\n",
       "    <tr>\n",
       "      <td>mean</td>\n",
       "      <td>1,249.50</td>\n",
       "      <td>46.59</td>\n",
       "    </tr>\n",
       "    <tr>\n",
       "      <td>std</td>\n",
       "      <td>144.48</td>\n",
       "      <td>16.67</td>\n",
       "    </tr>\n",
       "    <tr>\n",
       "      <td>min</td>\n",
       "      <td>1,000.00</td>\n",
       "      <td>18.00</td>\n",
       "    </tr>\n",
       "    <tr>\n",
       "      <td>25%</td>\n",
       "      <td>1,124.75</td>\n",
       "      <td>32.00</td>\n",
       "    </tr>\n",
       "    <tr>\n",
       "      <td>50%</td>\n",
       "      <td>1,249.50</td>\n",
       "      <td>46.00</td>\n",
       "    </tr>\n",
       "    <tr>\n",
       "      <td>75%</td>\n",
       "      <td>1,374.25</td>\n",
       "      <td>62.00</td>\n",
       "    </tr>\n",
       "    <tr>\n",
       "      <td>max</td>\n",
       "      <td>1,499.00</td>\n",
       "      <td>75.00</td>\n",
       "    </tr>\n",
       "  </tbody>\n",
       "</table>\n",
       "</div>"
      ],
      "text/plain": [
       "       user_id    age\n",
       "count   500.00 500.00\n",
       "mean  1,249.50  46.59\n",
       "std     144.48  16.67\n",
       "min   1,000.00  18.00\n",
       "25%   1,124.75  32.00\n",
       "50%   1,249.50  46.00\n",
       "75%   1,374.25  62.00\n",
       "max   1,499.00  75.00"
      ]
     },
     "execution_count": 7,
     "metadata": {},
     "output_type": "execute_result"
    }
   ],
   "source": [
    "users.describe()"
   ]
  },
  {
   "cell_type": "markdown",
   "metadata": {},
   "source": [
    "Вбросы в данных тоже отствуют, следовательно выборка готова к дальнейшему анализу данных."
   ]
  },
  {
   "cell_type": "code",
   "execution_count": 8,
   "metadata": {},
   "outputs": [
    {
     "name": "stdout",
     "output_type": "stream",
     "text": [
      "<class 'pandas.core.frame.DataFrame'>\n",
      "RangeIndex: 202607 entries, 0 to 202606\n",
      "Data columns (total 4 columns):\n",
      "id           202607 non-null object\n",
      "call_date    202607 non-null object\n",
      "duration     202607 non-null float64\n",
      "user_id      202607 non-null int64\n",
      "dtypes: float64(1), int64(1), object(2)\n",
      "memory usage: 6.2+ MB\n"
     ]
    }
   ],
   "source": [
    "calls = pd.read_csv('/datasets/calls.csv')\n",
    "calls.info()"
   ]
  },
  {
   "cell_type": "code",
   "execution_count": 9,
   "metadata": {},
   "outputs": [
    {
     "data": {
      "text/html": [
       "<div>\n",
       "<style scoped>\n",
       "    .dataframe tbody tr th:only-of-type {\n",
       "        vertical-align: middle;\n",
       "    }\n",
       "\n",
       "    .dataframe tbody tr th {\n",
       "        vertical-align: top;\n",
       "    }\n",
       "\n",
       "    .dataframe thead th {\n",
       "        text-align: right;\n",
       "    }\n",
       "</style>\n",
       "<table border=\"1\" class=\"dataframe\">\n",
       "  <thead>\n",
       "    <tr style=\"text-align: right;\">\n",
       "      <th></th>\n",
       "      <th>id</th>\n",
       "      <th>call_date</th>\n",
       "      <th>duration</th>\n",
       "      <th>user_id</th>\n",
       "    </tr>\n",
       "  </thead>\n",
       "  <tbody>\n",
       "    <tr>\n",
       "      <td>0</td>\n",
       "      <td>1000_0</td>\n",
       "      <td>2018-07-25</td>\n",
       "      <td>0.00</td>\n",
       "      <td>1000</td>\n",
       "    </tr>\n",
       "    <tr>\n",
       "      <td>1</td>\n",
       "      <td>1000_1</td>\n",
       "      <td>2018-08-17</td>\n",
       "      <td>0.00</td>\n",
       "      <td>1000</td>\n",
       "    </tr>\n",
       "    <tr>\n",
       "      <td>2</td>\n",
       "      <td>1000_2</td>\n",
       "      <td>2018-06-11</td>\n",
       "      <td>2.85</td>\n",
       "      <td>1000</td>\n",
       "    </tr>\n",
       "    <tr>\n",
       "      <td>3</td>\n",
       "      <td>1000_3</td>\n",
       "      <td>2018-09-21</td>\n",
       "      <td>13.80</td>\n",
       "      <td>1000</td>\n",
       "    </tr>\n",
       "    <tr>\n",
       "      <td>4</td>\n",
       "      <td>1000_4</td>\n",
       "      <td>2018-12-15</td>\n",
       "      <td>5.18</td>\n",
       "      <td>1000</td>\n",
       "    </tr>\n",
       "    <tr>\n",
       "      <td>...</td>\n",
       "      <td>...</td>\n",
       "      <td>...</td>\n",
       "      <td>...</td>\n",
       "      <td>...</td>\n",
       "    </tr>\n",
       "    <tr>\n",
       "      <td>202602</td>\n",
       "      <td>1499_215</td>\n",
       "      <td>2018-12-26</td>\n",
       "      <td>0.76</td>\n",
       "      <td>1499</td>\n",
       "    </tr>\n",
       "    <tr>\n",
       "      <td>202603</td>\n",
       "      <td>1499_216</td>\n",
       "      <td>2018-10-18</td>\n",
       "      <td>18.83</td>\n",
       "      <td>1499</td>\n",
       "    </tr>\n",
       "    <tr>\n",
       "      <td>202604</td>\n",
       "      <td>1499_217</td>\n",
       "      <td>2018-11-10</td>\n",
       "      <td>10.81</td>\n",
       "      <td>1499</td>\n",
       "    </tr>\n",
       "    <tr>\n",
       "      <td>202605</td>\n",
       "      <td>1499_218</td>\n",
       "      <td>2018-10-06</td>\n",
       "      <td>4.27</td>\n",
       "      <td>1499</td>\n",
       "    </tr>\n",
       "    <tr>\n",
       "      <td>202606</td>\n",
       "      <td>1499_219</td>\n",
       "      <td>2018-12-14</td>\n",
       "      <td>19.62</td>\n",
       "      <td>1499</td>\n",
       "    </tr>\n",
       "  </tbody>\n",
       "</table>\n",
       "<p>202607 rows × 4 columns</p>\n",
       "</div>"
      ],
      "text/plain": [
       "              id   call_date  duration  user_id\n",
       "0         1000_0  2018-07-25      0.00     1000\n",
       "1         1000_1  2018-08-17      0.00     1000\n",
       "2         1000_2  2018-06-11      2.85     1000\n",
       "3         1000_3  2018-09-21     13.80     1000\n",
       "4         1000_4  2018-12-15      5.18     1000\n",
       "...          ...         ...       ...      ...\n",
       "202602  1499_215  2018-12-26      0.76     1499\n",
       "202603  1499_216  2018-10-18     18.83     1499\n",
       "202604  1499_217  2018-11-10     10.81     1499\n",
       "202605  1499_218  2018-10-06      4.27     1499\n",
       "202606  1499_219  2018-12-14     19.62     1499\n",
       "\n",
       "[202607 rows x 4 columns]"
      ]
     },
     "metadata": {},
     "output_type": "display_data"
    }
   ],
   "source": [
    "display(calls)"
   ]
  },
  {
   "cell_type": "markdown",
   "metadata": {},
   "source": [
    "Проверим данные на пропуски, наличие дубликатов и вбросов."
   ]
  },
  {
   "cell_type": "code",
   "execution_count": 10,
   "metadata": {},
   "outputs": [
    {
     "data": {
      "text/plain": [
       "id           0\n",
       "call_date    0\n",
       "duration     0\n",
       "user_id      0\n",
       "dtype: int64"
      ]
     },
     "execution_count": 10,
     "metadata": {},
     "output_type": "execute_result"
    }
   ],
   "source": [
    "calls.isna().sum()"
   ]
  },
  {
   "cell_type": "code",
   "execution_count": 11,
   "metadata": {},
   "outputs": [
    {
     "data": {
      "text/plain": [
       "0"
      ]
     },
     "execution_count": 11,
     "metadata": {},
     "output_type": "execute_result"
    }
   ],
   "source": [
    "calls.duplicated().sum()"
   ]
  },
  {
   "cell_type": "code",
   "execution_count": 12,
   "metadata": {},
   "outputs": [
    {
     "data": {
      "text/html": [
       "<div>\n",
       "<style scoped>\n",
       "    .dataframe tbody tr th:only-of-type {\n",
       "        vertical-align: middle;\n",
       "    }\n",
       "\n",
       "    .dataframe tbody tr th {\n",
       "        vertical-align: top;\n",
       "    }\n",
       "\n",
       "    .dataframe thead th {\n",
       "        text-align: right;\n",
       "    }\n",
       "</style>\n",
       "<table border=\"1\" class=\"dataframe\">\n",
       "  <thead>\n",
       "    <tr style=\"text-align: right;\">\n",
       "      <th></th>\n",
       "      <th>duration</th>\n",
       "      <th>user_id</th>\n",
       "    </tr>\n",
       "  </thead>\n",
       "  <tbody>\n",
       "    <tr>\n",
       "      <td>count</td>\n",
       "      <td>202,607.00</td>\n",
       "      <td>202,607.00</td>\n",
       "    </tr>\n",
       "    <tr>\n",
       "      <td>mean</td>\n",
       "      <td>6.76</td>\n",
       "      <td>1,253.94</td>\n",
       "    </tr>\n",
       "    <tr>\n",
       "      <td>std</td>\n",
       "      <td>5.84</td>\n",
       "      <td>144.72</td>\n",
       "    </tr>\n",
       "    <tr>\n",
       "      <td>min</td>\n",
       "      <td>0.00</td>\n",
       "      <td>1,000.00</td>\n",
       "    </tr>\n",
       "    <tr>\n",
       "      <td>25%</td>\n",
       "      <td>1.30</td>\n",
       "      <td>1,126.00</td>\n",
       "    </tr>\n",
       "    <tr>\n",
       "      <td>50%</td>\n",
       "      <td>6.00</td>\n",
       "      <td>1,260.00</td>\n",
       "    </tr>\n",
       "    <tr>\n",
       "      <td>75%</td>\n",
       "      <td>10.70</td>\n",
       "      <td>1,379.00</td>\n",
       "    </tr>\n",
       "    <tr>\n",
       "      <td>max</td>\n",
       "      <td>38.00</td>\n",
       "      <td>1,499.00</td>\n",
       "    </tr>\n",
       "  </tbody>\n",
       "</table>\n",
       "</div>"
      ],
      "text/plain": [
       "        duration    user_id\n",
       "count 202,607.00 202,607.00\n",
       "mean        6.76   1,253.94\n",
       "std         5.84     144.72\n",
       "min         0.00   1,000.00\n",
       "25%         1.30   1,126.00\n",
       "50%         6.00   1,260.00\n",
       "75%        10.70   1,379.00\n",
       "max        38.00   1,499.00"
      ]
     },
     "execution_count": 12,
     "metadata": {},
     "output_type": "execute_result"
    }
   ],
   "source": [
    "calls.describe()"
   ]
  },
  {
   "cell_type": "markdown",
   "metadata": {},
   "source": [
    "В выборке calls так же отсутсвуют пропуски, дубликаты и вбросы."
   ]
  },
  {
   "cell_type": "code",
   "execution_count": 13,
   "metadata": {},
   "outputs": [
    {
     "name": "stdout",
     "output_type": "stream",
     "text": [
      "<class 'pandas.core.frame.DataFrame'>\n",
      "RangeIndex: 123036 entries, 0 to 123035\n",
      "Data columns (total 3 columns):\n",
      "id              123036 non-null object\n",
      "message_date    123036 non-null object\n",
      "user_id         123036 non-null int64\n",
      "dtypes: int64(1), object(2)\n",
      "memory usage: 2.8+ MB\n"
     ]
    }
   ],
   "source": [
    "messages = pd.read_csv('/datasets/messages.csv')\n",
    "messages.info()"
   ]
  },
  {
   "cell_type": "code",
   "execution_count": 14,
   "metadata": {},
   "outputs": [
    {
     "data": {
      "text/html": [
       "<div>\n",
       "<style scoped>\n",
       "    .dataframe tbody tr th:only-of-type {\n",
       "        vertical-align: middle;\n",
       "    }\n",
       "\n",
       "    .dataframe tbody tr th {\n",
       "        vertical-align: top;\n",
       "    }\n",
       "\n",
       "    .dataframe thead th {\n",
       "        text-align: right;\n",
       "    }\n",
       "</style>\n",
       "<table border=\"1\" class=\"dataframe\">\n",
       "  <thead>\n",
       "    <tr style=\"text-align: right;\">\n",
       "      <th></th>\n",
       "      <th>id</th>\n",
       "      <th>message_date</th>\n",
       "      <th>user_id</th>\n",
       "    </tr>\n",
       "  </thead>\n",
       "  <tbody>\n",
       "    <tr>\n",
       "      <td>0</td>\n",
       "      <td>1000_0</td>\n",
       "      <td>2018-06-27</td>\n",
       "      <td>1000</td>\n",
       "    </tr>\n",
       "    <tr>\n",
       "      <td>1</td>\n",
       "      <td>1000_1</td>\n",
       "      <td>2018-10-08</td>\n",
       "      <td>1000</td>\n",
       "    </tr>\n",
       "    <tr>\n",
       "      <td>2</td>\n",
       "      <td>1000_2</td>\n",
       "      <td>2018-08-04</td>\n",
       "      <td>1000</td>\n",
       "    </tr>\n",
       "    <tr>\n",
       "      <td>3</td>\n",
       "      <td>1000_3</td>\n",
       "      <td>2018-06-16</td>\n",
       "      <td>1000</td>\n",
       "    </tr>\n",
       "    <tr>\n",
       "      <td>4</td>\n",
       "      <td>1000_4</td>\n",
       "      <td>2018-12-05</td>\n",
       "      <td>1000</td>\n",
       "    </tr>\n",
       "    <tr>\n",
       "      <td>...</td>\n",
       "      <td>...</td>\n",
       "      <td>...</td>\n",
       "      <td>...</td>\n",
       "    </tr>\n",
       "    <tr>\n",
       "      <td>123031</td>\n",
       "      <td>1499_179</td>\n",
       "      <td>2018-12-12</td>\n",
       "      <td>1499</td>\n",
       "    </tr>\n",
       "    <tr>\n",
       "      <td>123032</td>\n",
       "      <td>1499_180</td>\n",
       "      <td>2018-09-28</td>\n",
       "      <td>1499</td>\n",
       "    </tr>\n",
       "    <tr>\n",
       "      <td>123033</td>\n",
       "      <td>1499_181</td>\n",
       "      <td>2018-09-27</td>\n",
       "      <td>1499</td>\n",
       "    </tr>\n",
       "    <tr>\n",
       "      <td>123034</td>\n",
       "      <td>1499_182</td>\n",
       "      <td>2018-11-15</td>\n",
       "      <td>1499</td>\n",
       "    </tr>\n",
       "    <tr>\n",
       "      <td>123035</td>\n",
       "      <td>1499_183</td>\n",
       "      <td>2018-11-16</td>\n",
       "      <td>1499</td>\n",
       "    </tr>\n",
       "  </tbody>\n",
       "</table>\n",
       "<p>123036 rows × 3 columns</p>\n",
       "</div>"
      ],
      "text/plain": [
       "              id message_date  user_id\n",
       "0         1000_0   2018-06-27     1000\n",
       "1         1000_1   2018-10-08     1000\n",
       "2         1000_2   2018-08-04     1000\n",
       "3         1000_3   2018-06-16     1000\n",
       "4         1000_4   2018-12-05     1000\n",
       "...          ...          ...      ...\n",
       "123031  1499_179   2018-12-12     1499\n",
       "123032  1499_180   2018-09-28     1499\n",
       "123033  1499_181   2018-09-27     1499\n",
       "123034  1499_182   2018-11-15     1499\n",
       "123035  1499_183   2018-11-16     1499\n",
       "\n",
       "[123036 rows x 3 columns]"
      ]
     },
     "metadata": {},
     "output_type": "display_data"
    }
   ],
   "source": [
    "display(messages)"
   ]
  },
  {
   "cell_type": "code",
   "execution_count": 15,
   "metadata": {},
   "outputs": [
    {
     "data": {
      "text/plain": [
       "id              0\n",
       "message_date    0\n",
       "user_id         0\n",
       "dtype: int64"
      ]
     },
     "execution_count": 15,
     "metadata": {},
     "output_type": "execute_result"
    }
   ],
   "source": [
    "messages.isna().sum()"
   ]
  },
  {
   "cell_type": "code",
   "execution_count": 16,
   "metadata": {},
   "outputs": [
    {
     "data": {
      "text/plain": [
       "0"
      ]
     },
     "execution_count": 16,
     "metadata": {},
     "output_type": "execute_result"
    }
   ],
   "source": [
    "messages.duplicated().sum()"
   ]
  },
  {
   "cell_type": "code",
   "execution_count": 17,
   "metadata": {},
   "outputs": [
    {
     "data": {
      "text/html": [
       "<div>\n",
       "<style scoped>\n",
       "    .dataframe tbody tr th:only-of-type {\n",
       "        vertical-align: middle;\n",
       "    }\n",
       "\n",
       "    .dataframe tbody tr th {\n",
       "        vertical-align: top;\n",
       "    }\n",
       "\n",
       "    .dataframe thead th {\n",
       "        text-align: right;\n",
       "    }\n",
       "</style>\n",
       "<table border=\"1\" class=\"dataframe\">\n",
       "  <thead>\n",
       "    <tr style=\"text-align: right;\">\n",
       "      <th></th>\n",
       "      <th>user_id</th>\n",
       "    </tr>\n",
       "  </thead>\n",
       "  <tbody>\n",
       "    <tr>\n",
       "      <td>count</td>\n",
       "      <td>123,036.00</td>\n",
       "    </tr>\n",
       "    <tr>\n",
       "      <td>mean</td>\n",
       "      <td>1,256.99</td>\n",
       "    </tr>\n",
       "    <tr>\n",
       "      <td>std</td>\n",
       "      <td>143.52</td>\n",
       "    </tr>\n",
       "    <tr>\n",
       "      <td>min</td>\n",
       "      <td>1,000.00</td>\n",
       "    </tr>\n",
       "    <tr>\n",
       "      <td>25%</td>\n",
       "      <td>1,134.00</td>\n",
       "    </tr>\n",
       "    <tr>\n",
       "      <td>50%</td>\n",
       "      <td>1,271.00</td>\n",
       "    </tr>\n",
       "    <tr>\n",
       "      <td>75%</td>\n",
       "      <td>1,381.00</td>\n",
       "    </tr>\n",
       "    <tr>\n",
       "      <td>max</td>\n",
       "      <td>1,499.00</td>\n",
       "    </tr>\n",
       "  </tbody>\n",
       "</table>\n",
       "</div>"
      ],
      "text/plain": [
       "         user_id\n",
       "count 123,036.00\n",
       "mean    1,256.99\n",
       "std       143.52\n",
       "min     1,000.00\n",
       "25%     1,134.00\n",
       "50%     1,271.00\n",
       "75%     1,381.00\n",
       "max     1,499.00"
      ]
     },
     "execution_count": 17,
     "metadata": {},
     "output_type": "execute_result"
    }
   ],
   "source": [
    "messages.describe()"
   ]
  },
  {
   "cell_type": "markdown",
   "metadata": {},
   "source": [
    "В выборке messages так же отсутсвуют пропуски, дубликаты и вбросы."
   ]
  },
  {
   "cell_type": "code",
   "execution_count": 18,
   "metadata": {},
   "outputs": [
    {
     "name": "stdout",
     "output_type": "stream",
     "text": [
      "<class 'pandas.core.frame.DataFrame'>\n",
      "Int64Index: 149396 entries, 0 to 149395\n",
      "Data columns (total 4 columns):\n",
      "id              149396 non-null object\n",
      "mb_used         149396 non-null float64\n",
      "session_date    149396 non-null object\n",
      "user_id         149396 non-null int64\n",
      "dtypes: float64(1), int64(1), object(2)\n",
      "memory usage: 5.7+ MB\n"
     ]
    }
   ],
   "source": [
    "internet = pd.read_csv('/datasets/internet.csv', index_col=[0])\n",
    "internet.info()"
   ]
  },
  {
   "cell_type": "code",
   "execution_count": 19,
   "metadata": {},
   "outputs": [
    {
     "data": {
      "text/html": [
       "<div>\n",
       "<style scoped>\n",
       "    .dataframe tbody tr th:only-of-type {\n",
       "        vertical-align: middle;\n",
       "    }\n",
       "\n",
       "    .dataframe tbody tr th {\n",
       "        vertical-align: top;\n",
       "    }\n",
       "\n",
       "    .dataframe thead th {\n",
       "        text-align: right;\n",
       "    }\n",
       "</style>\n",
       "<table border=\"1\" class=\"dataframe\">\n",
       "  <thead>\n",
       "    <tr style=\"text-align: right;\">\n",
       "      <th></th>\n",
       "      <th>id</th>\n",
       "      <th>mb_used</th>\n",
       "      <th>session_date</th>\n",
       "      <th>user_id</th>\n",
       "    </tr>\n",
       "  </thead>\n",
       "  <tbody>\n",
       "    <tr>\n",
       "      <td>0</td>\n",
       "      <td>1000_0</td>\n",
       "      <td>112.95</td>\n",
       "      <td>2018-11-25</td>\n",
       "      <td>1000</td>\n",
       "    </tr>\n",
       "    <tr>\n",
       "      <td>1</td>\n",
       "      <td>1000_1</td>\n",
       "      <td>1,052.81</td>\n",
       "      <td>2018-09-07</td>\n",
       "      <td>1000</td>\n",
       "    </tr>\n",
       "    <tr>\n",
       "      <td>2</td>\n",
       "      <td>1000_2</td>\n",
       "      <td>1,197.26</td>\n",
       "      <td>2018-06-25</td>\n",
       "      <td>1000</td>\n",
       "    </tr>\n",
       "    <tr>\n",
       "      <td>3</td>\n",
       "      <td>1000_3</td>\n",
       "      <td>550.27</td>\n",
       "      <td>2018-08-22</td>\n",
       "      <td>1000</td>\n",
       "    </tr>\n",
       "    <tr>\n",
       "      <td>4</td>\n",
       "      <td>1000_4</td>\n",
       "      <td>302.56</td>\n",
       "      <td>2018-09-24</td>\n",
       "      <td>1000</td>\n",
       "    </tr>\n",
       "    <tr>\n",
       "      <td>...</td>\n",
       "      <td>...</td>\n",
       "      <td>...</td>\n",
       "      <td>...</td>\n",
       "      <td>...</td>\n",
       "    </tr>\n",
       "    <tr>\n",
       "      <td>149391</td>\n",
       "      <td>1499_152</td>\n",
       "      <td>318.90</td>\n",
       "      <td>2018-10-03</td>\n",
       "      <td>1499</td>\n",
       "    </tr>\n",
       "    <tr>\n",
       "      <td>149392</td>\n",
       "      <td>1499_153</td>\n",
       "      <td>490.13</td>\n",
       "      <td>2018-12-14</td>\n",
       "      <td>1499</td>\n",
       "    </tr>\n",
       "    <tr>\n",
       "      <td>149393</td>\n",
       "      <td>1499_154</td>\n",
       "      <td>0.00</td>\n",
       "      <td>2018-10-27</td>\n",
       "      <td>1499</td>\n",
       "    </tr>\n",
       "    <tr>\n",
       "      <td>149394</td>\n",
       "      <td>1499_155</td>\n",
       "      <td>1,246.32</td>\n",
       "      <td>2018-11-26</td>\n",
       "      <td>1499</td>\n",
       "    </tr>\n",
       "    <tr>\n",
       "      <td>149395</td>\n",
       "      <td>1499_156</td>\n",
       "      <td>544.37</td>\n",
       "      <td>2018-10-26</td>\n",
       "      <td>1499</td>\n",
       "    </tr>\n",
       "  </tbody>\n",
       "</table>\n",
       "<p>149396 rows × 4 columns</p>\n",
       "</div>"
      ],
      "text/plain": [
       "              id  mb_used session_date  user_id\n",
       "0         1000_0   112.95   2018-11-25     1000\n",
       "1         1000_1 1,052.81   2018-09-07     1000\n",
       "2         1000_2 1,197.26   2018-06-25     1000\n",
       "3         1000_3   550.27   2018-08-22     1000\n",
       "4         1000_4   302.56   2018-09-24     1000\n",
       "...          ...      ...          ...      ...\n",
       "149391  1499_152   318.90   2018-10-03     1499\n",
       "149392  1499_153   490.13   2018-12-14     1499\n",
       "149393  1499_154     0.00   2018-10-27     1499\n",
       "149394  1499_155 1,246.32   2018-11-26     1499\n",
       "149395  1499_156   544.37   2018-10-26     1499\n",
       "\n",
       "[149396 rows x 4 columns]"
      ]
     },
     "metadata": {},
     "output_type": "display_data"
    }
   ],
   "source": [
    "display(internet)"
   ]
  },
  {
   "cell_type": "code",
   "execution_count": 20,
   "metadata": {},
   "outputs": [
    {
     "data": {
      "text/plain": [
       "id              0\n",
       "mb_used         0\n",
       "session_date    0\n",
       "user_id         0\n",
       "dtype: int64"
      ]
     },
     "execution_count": 20,
     "metadata": {},
     "output_type": "execute_result"
    }
   ],
   "source": [
    "internet.isna().sum()"
   ]
  },
  {
   "cell_type": "code",
   "execution_count": 21,
   "metadata": {},
   "outputs": [
    {
     "data": {
      "text/plain": [
       "0"
      ]
     },
     "execution_count": 21,
     "metadata": {},
     "output_type": "execute_result"
    }
   ],
   "source": [
    "internet.duplicated().sum()"
   ]
  },
  {
   "cell_type": "code",
   "execution_count": 22,
   "metadata": {},
   "outputs": [
    {
     "data": {
      "text/html": [
       "<div>\n",
       "<style scoped>\n",
       "    .dataframe tbody tr th:only-of-type {\n",
       "        vertical-align: middle;\n",
       "    }\n",
       "\n",
       "    .dataframe tbody tr th {\n",
       "        vertical-align: top;\n",
       "    }\n",
       "\n",
       "    .dataframe thead th {\n",
       "        text-align: right;\n",
       "    }\n",
       "</style>\n",
       "<table border=\"1\" class=\"dataframe\">\n",
       "  <thead>\n",
       "    <tr style=\"text-align: right;\">\n",
       "      <th></th>\n",
       "      <th>mb_used</th>\n",
       "      <th>user_id</th>\n",
       "    </tr>\n",
       "  </thead>\n",
       "  <tbody>\n",
       "    <tr>\n",
       "      <td>count</td>\n",
       "      <td>149,396.00</td>\n",
       "      <td>149,396.00</td>\n",
       "    </tr>\n",
       "    <tr>\n",
       "      <td>mean</td>\n",
       "      <td>370.19</td>\n",
       "      <td>1,252.10</td>\n",
       "    </tr>\n",
       "    <tr>\n",
       "      <td>std</td>\n",
       "      <td>278.30</td>\n",
       "      <td>144.05</td>\n",
       "    </tr>\n",
       "    <tr>\n",
       "      <td>min</td>\n",
       "      <td>0.00</td>\n",
       "      <td>1,000.00</td>\n",
       "    </tr>\n",
       "    <tr>\n",
       "      <td>25%</td>\n",
       "      <td>138.19</td>\n",
       "      <td>1,130.00</td>\n",
       "    </tr>\n",
       "    <tr>\n",
       "      <td>50%</td>\n",
       "      <td>348.01</td>\n",
       "      <td>1,251.00</td>\n",
       "    </tr>\n",
       "    <tr>\n",
       "      <td>75%</td>\n",
       "      <td>559.55</td>\n",
       "      <td>1,380.00</td>\n",
       "    </tr>\n",
       "    <tr>\n",
       "      <td>max</td>\n",
       "      <td>1,724.83</td>\n",
       "      <td>1,499.00</td>\n",
       "    </tr>\n",
       "  </tbody>\n",
       "</table>\n",
       "</div>"
      ],
      "text/plain": [
       "         mb_used    user_id\n",
       "count 149,396.00 149,396.00\n",
       "mean      370.19   1,252.10\n",
       "std       278.30     144.05\n",
       "min         0.00   1,000.00\n",
       "25%       138.19   1,130.00\n",
       "50%       348.01   1,251.00\n",
       "75%       559.55   1,380.00\n",
       "max     1,724.83   1,499.00"
      ]
     },
     "execution_count": 22,
     "metadata": {},
     "output_type": "execute_result"
    }
   ],
   "source": [
    "internet.describe()"
   ]
  },
  {
   "cell_type": "markdown",
   "metadata": {},
   "source": [
    "В выборке internet так же отсутсвуют пропуски, дубликаты и вбросы."
   ]
  },
  {
   "cell_type": "code",
   "execution_count": 23,
   "metadata": {},
   "outputs": [
    {
     "name": "stdout",
     "output_type": "stream",
     "text": [
      "<class 'pandas.core.frame.DataFrame'>\n",
      "RangeIndex: 2 entries, 0 to 1\n",
      "Data columns (total 8 columns):\n",
      "messages_included        2 non-null int64\n",
      "mb_per_month_included    2 non-null int64\n",
      "minutes_included         2 non-null int64\n",
      "rub_monthly_fee          2 non-null int64\n",
      "rub_per_gb               2 non-null int64\n",
      "rub_per_message          2 non-null int64\n",
      "rub_per_minute           2 non-null int64\n",
      "tariff_name              2 non-null object\n",
      "dtypes: int64(7), object(1)\n",
      "memory usage: 256.0+ bytes\n"
     ]
    }
   ],
   "source": [
    "tariffs = pd.read_csv('/datasets/tariffs.csv')\n",
    "tariffs.info()"
   ]
  },
  {
   "cell_type": "code",
   "execution_count": 24,
   "metadata": {},
   "outputs": [
    {
     "data": {
      "text/html": [
       "<div>\n",
       "<style scoped>\n",
       "    .dataframe tbody tr th:only-of-type {\n",
       "        vertical-align: middle;\n",
       "    }\n",
       "\n",
       "    .dataframe tbody tr th {\n",
       "        vertical-align: top;\n",
       "    }\n",
       "\n",
       "    .dataframe thead th {\n",
       "        text-align: right;\n",
       "    }\n",
       "</style>\n",
       "<table border=\"1\" class=\"dataframe\">\n",
       "  <thead>\n",
       "    <tr style=\"text-align: right;\">\n",
       "      <th></th>\n",
       "      <th>messages_included</th>\n",
       "      <th>mb_per_month_included</th>\n",
       "      <th>minutes_included</th>\n",
       "      <th>rub_monthly_fee</th>\n",
       "      <th>rub_per_gb</th>\n",
       "      <th>rub_per_message</th>\n",
       "      <th>rub_per_minute</th>\n",
       "      <th>tariff_name</th>\n",
       "    </tr>\n",
       "  </thead>\n",
       "  <tbody>\n",
       "    <tr>\n",
       "      <td>0</td>\n",
       "      <td>50</td>\n",
       "      <td>15360</td>\n",
       "      <td>500</td>\n",
       "      <td>550</td>\n",
       "      <td>200</td>\n",
       "      <td>3</td>\n",
       "      <td>3</td>\n",
       "      <td>smart</td>\n",
       "    </tr>\n",
       "    <tr>\n",
       "      <td>1</td>\n",
       "      <td>1000</td>\n",
       "      <td>30720</td>\n",
       "      <td>3000</td>\n",
       "      <td>1950</td>\n",
       "      <td>150</td>\n",
       "      <td>1</td>\n",
       "      <td>1</td>\n",
       "      <td>ultra</td>\n",
       "    </tr>\n",
       "  </tbody>\n",
       "</table>\n",
       "</div>"
      ],
      "text/plain": [
       "   messages_included  mb_per_month_included  minutes_included  \\\n",
       "0                 50                  15360               500   \n",
       "1               1000                  30720              3000   \n",
       "\n",
       "   rub_monthly_fee  rub_per_gb  rub_per_message  rub_per_minute tariff_name  \n",
       "0              550         200                3               3       smart  \n",
       "1             1950         150                1               1       ultra  "
      ]
     },
     "metadata": {},
     "output_type": "display_data"
    }
   ],
   "source": [
    "display(tariffs)"
   ]
  },
  {
   "cell_type": "code",
   "execution_count": 25,
   "metadata": {},
   "outputs": [
    {
     "data": {
      "text/plain": [
       "messages_included        0\n",
       "mb_per_month_included    0\n",
       "minutes_included         0\n",
       "rub_monthly_fee          0\n",
       "rub_per_gb               0\n",
       "rub_per_message          0\n",
       "rub_per_minute           0\n",
       "tariff_name              0\n",
       "dtype: int64"
      ]
     },
     "execution_count": 25,
     "metadata": {},
     "output_type": "execute_result"
    }
   ],
   "source": [
    "tariffs.isna().sum()"
   ]
  },
  {
   "cell_type": "code",
   "execution_count": 26,
   "metadata": {},
   "outputs": [
    {
     "data": {
      "text/plain": [
       "0"
      ]
     },
     "execution_count": 26,
     "metadata": {},
     "output_type": "execute_result"
    }
   ],
   "source": [
    "tariffs.duplicated().sum()"
   ]
  },
  {
   "cell_type": "code",
   "execution_count": 27,
   "metadata": {},
   "outputs": [
    {
     "data": {
      "text/html": [
       "<div>\n",
       "<style scoped>\n",
       "    .dataframe tbody tr th:only-of-type {\n",
       "        vertical-align: middle;\n",
       "    }\n",
       "\n",
       "    .dataframe tbody tr th {\n",
       "        vertical-align: top;\n",
       "    }\n",
       "\n",
       "    .dataframe thead th {\n",
       "        text-align: right;\n",
       "    }\n",
       "</style>\n",
       "<table border=\"1\" class=\"dataframe\">\n",
       "  <thead>\n",
       "    <tr style=\"text-align: right;\">\n",
       "      <th></th>\n",
       "      <th>messages_included</th>\n",
       "      <th>mb_per_month_included</th>\n",
       "      <th>minutes_included</th>\n",
       "      <th>rub_monthly_fee</th>\n",
       "      <th>rub_per_gb</th>\n",
       "      <th>rub_per_message</th>\n",
       "      <th>rub_per_minute</th>\n",
       "    </tr>\n",
       "  </thead>\n",
       "  <tbody>\n",
       "    <tr>\n",
       "      <td>count</td>\n",
       "      <td>2.00</td>\n",
       "      <td>2.00</td>\n",
       "      <td>2.00</td>\n",
       "      <td>2.00</td>\n",
       "      <td>2.00</td>\n",
       "      <td>2.00</td>\n",
       "      <td>2.00</td>\n",
       "    </tr>\n",
       "    <tr>\n",
       "      <td>mean</td>\n",
       "      <td>525.00</td>\n",
       "      <td>23,040.00</td>\n",
       "      <td>1,750.00</td>\n",
       "      <td>1,250.00</td>\n",
       "      <td>175.00</td>\n",
       "      <td>2.00</td>\n",
       "      <td>2.00</td>\n",
       "    </tr>\n",
       "    <tr>\n",
       "      <td>std</td>\n",
       "      <td>671.75</td>\n",
       "      <td>10,861.16</td>\n",
       "      <td>1,767.77</td>\n",
       "      <td>989.95</td>\n",
       "      <td>35.36</td>\n",
       "      <td>1.41</td>\n",
       "      <td>1.41</td>\n",
       "    </tr>\n",
       "    <tr>\n",
       "      <td>min</td>\n",
       "      <td>50.00</td>\n",
       "      <td>15,360.00</td>\n",
       "      <td>500.00</td>\n",
       "      <td>550.00</td>\n",
       "      <td>150.00</td>\n",
       "      <td>1.00</td>\n",
       "      <td>1.00</td>\n",
       "    </tr>\n",
       "    <tr>\n",
       "      <td>25%</td>\n",
       "      <td>287.50</td>\n",
       "      <td>19,200.00</td>\n",
       "      <td>1,125.00</td>\n",
       "      <td>900.00</td>\n",
       "      <td>162.50</td>\n",
       "      <td>1.50</td>\n",
       "      <td>1.50</td>\n",
       "    </tr>\n",
       "    <tr>\n",
       "      <td>50%</td>\n",
       "      <td>525.00</td>\n",
       "      <td>23,040.00</td>\n",
       "      <td>1,750.00</td>\n",
       "      <td>1,250.00</td>\n",
       "      <td>175.00</td>\n",
       "      <td>2.00</td>\n",
       "      <td>2.00</td>\n",
       "    </tr>\n",
       "    <tr>\n",
       "      <td>75%</td>\n",
       "      <td>762.50</td>\n",
       "      <td>26,880.00</td>\n",
       "      <td>2,375.00</td>\n",
       "      <td>1,600.00</td>\n",
       "      <td>187.50</td>\n",
       "      <td>2.50</td>\n",
       "      <td>2.50</td>\n",
       "    </tr>\n",
       "    <tr>\n",
       "      <td>max</td>\n",
       "      <td>1,000.00</td>\n",
       "      <td>30,720.00</td>\n",
       "      <td>3,000.00</td>\n",
       "      <td>1,950.00</td>\n",
       "      <td>200.00</td>\n",
       "      <td>3.00</td>\n",
       "      <td>3.00</td>\n",
       "    </tr>\n",
       "  </tbody>\n",
       "</table>\n",
       "</div>"
      ],
      "text/plain": [
       "       messages_included  mb_per_month_included  minutes_included  \\\n",
       "count               2.00                   2.00              2.00   \n",
       "mean              525.00              23,040.00          1,750.00   \n",
       "std               671.75              10,861.16          1,767.77   \n",
       "min                50.00              15,360.00            500.00   \n",
       "25%               287.50              19,200.00          1,125.00   \n",
       "50%               525.00              23,040.00          1,750.00   \n",
       "75%               762.50              26,880.00          2,375.00   \n",
       "max             1,000.00              30,720.00          3,000.00   \n",
       "\n",
       "       rub_monthly_fee  rub_per_gb  rub_per_message  rub_per_minute  \n",
       "count             2.00        2.00             2.00            2.00  \n",
       "mean          1,250.00      175.00             2.00            2.00  \n",
       "std             989.95       35.36             1.41            1.41  \n",
       "min             550.00      150.00             1.00            1.00  \n",
       "25%             900.00      162.50             1.50            1.50  \n",
       "50%           1,250.00      175.00             2.00            2.00  \n",
       "75%           1,600.00      187.50             2.50            2.50  \n",
       "max           1,950.00      200.00             3.00            3.00  "
      ]
     },
     "execution_count": 27,
     "metadata": {},
     "output_type": "execute_result"
    }
   ],
   "source": [
    "tariffs.describe()"
   ]
  },
  {
   "cell_type": "markdown",
   "metadata": {},
   "source": [
    "**Описание тарифов**\n",
    "\n",
    "**Тариф «Смарт»**  \n",
    "Ежемесячная плата: 550 рублей.  \n",
    "Включено: 500 минут разговора, 50 сообщений и 15 Гб интернет-трафика.  \n",
    "Стоимость услуг сверх тарифного пакета:  \n",
    "1. минута разговора: 3 рубля («Мегалайн» всегда округляет вверх значения минут и мегабайтов. Если пользователь проговорил всего 1 секунду, в тарифе засчитывается целая минута);  \n",
    "2. сообщение: 3 рубля;  \n",
    "3. 1 Гб интернет-трафика: 200 рублей.\n",
    "\n",
    "**Тариф «Ультра»**  \n",
    "Ежемесячная плата: 1950 рублей.  \n",
    "Включено: 3000 минут разговора, 1000 сообщений и 30 Гб интернет-трафика.  \n",
    "Стоимость услуг сверх тарифного пакета: \n",
    "1. минута разговора: 1 рубль; \n",
    "2. сообщение: 1 рубль; \n",
    "3. 1 Гб интернет-трафика: 150 рублей.\n",
    "\n"
   ]
  },
  {
   "cell_type": "markdown",
   "metadata": {},
   "source": [
    "Есть важное замечание для дальнейших расчетов. В таблице tariffs включенный в тариф трафик интернета считается в мегабайтах, а плата считается за каждый гигабайт. Поэтому добавим столбец в таблитцу tariffs, где посчитаем количество трафика в тарифе в гигабайтах."
   ]
  },
  {
   "cell_type": "code",
   "execution_count": 28,
   "metadata": {},
   "outputs": [
    {
     "data": {
      "text/html": [
       "<div>\n",
       "<style scoped>\n",
       "    .dataframe tbody tr th:only-of-type {\n",
       "        vertical-align: middle;\n",
       "    }\n",
       "\n",
       "    .dataframe tbody tr th {\n",
       "        vertical-align: top;\n",
       "    }\n",
       "\n",
       "    .dataframe thead th {\n",
       "        text-align: right;\n",
       "    }\n",
       "</style>\n",
       "<table border=\"1\" class=\"dataframe\">\n",
       "  <thead>\n",
       "    <tr style=\"text-align: right;\">\n",
       "      <th></th>\n",
       "      <th>messages_included</th>\n",
       "      <th>mb_per_month_included</th>\n",
       "      <th>minutes_included</th>\n",
       "      <th>rub_monthly_fee</th>\n",
       "      <th>rub_per_gb</th>\n",
       "      <th>rub_per_message</th>\n",
       "      <th>rub_per_minute</th>\n",
       "      <th>tariff_name</th>\n",
       "      <th>gb_per_month_included</th>\n",
       "    </tr>\n",
       "  </thead>\n",
       "  <tbody>\n",
       "    <tr>\n",
       "      <td>0</td>\n",
       "      <td>50</td>\n",
       "      <td>15360</td>\n",
       "      <td>500</td>\n",
       "      <td>550</td>\n",
       "      <td>200</td>\n",
       "      <td>3</td>\n",
       "      <td>3</td>\n",
       "      <td>smart</td>\n",
       "      <td>15.00</td>\n",
       "    </tr>\n",
       "    <tr>\n",
       "      <td>1</td>\n",
       "      <td>1000</td>\n",
       "      <td>30720</td>\n",
       "      <td>3000</td>\n",
       "      <td>1950</td>\n",
       "      <td>150</td>\n",
       "      <td>1</td>\n",
       "      <td>1</td>\n",
       "      <td>ultra</td>\n",
       "      <td>30.00</td>\n",
       "    </tr>\n",
       "  </tbody>\n",
       "</table>\n",
       "</div>"
      ],
      "text/plain": [
       "   messages_included  mb_per_month_included  minutes_included  \\\n",
       "0                 50                  15360               500   \n",
       "1               1000                  30720              3000   \n",
       "\n",
       "   rub_monthly_fee  rub_per_gb  rub_per_message  rub_per_minute tariff_name  \\\n",
       "0              550         200                3               3       smart   \n",
       "1             1950         150                1               1       ultra   \n",
       "\n",
       "   gb_per_month_included  \n",
       "0                  15.00  \n",
       "1                  30.00  "
      ]
     },
     "metadata": {},
     "output_type": "display_data"
    }
   ],
   "source": [
    "tariffs['gb_per_month_included'] = tariffs['mb_per_month_included'] / 1024\n",
    "display(tariffs)"
   ]
  },
  {
   "cell_type": "markdown",
   "metadata": {},
   "source": [
    "Во всех таблицах выше не правильно указан тип данных для даты и времени, необходимо привести к типу данных datetime."
   ]
  },
  {
   "cell_type": "code",
   "execution_count": 29,
   "metadata": {},
   "outputs": [],
   "source": [
    "users['churn_date'] = pd.to_datetime(users['churn_date'], format='%Y-%m-%d')\n",
    "users['reg_date'] = pd.to_datetime(users['reg_date'], format='%Y-%m-%d')\n",
    "calls['call_date'] = pd.to_datetime(calls['call_date'], format='%Y-%m-%d')\n",
    "messages['message_date'] = pd.to_datetime(messages['message_date'], format='%Y-%m-%d')\n",
    "internet['session_date'] = pd.to_datetime(internet['session_date'], format='%Y-%m-%d')"
   ]
  },
  {
   "cell_type": "markdown",
   "metadata": {},
   "source": [
    "### Рассчеты для пользователей"
   ]
  },
  {
   "cell_type": "markdown",
   "metadata": {},
   "source": [
    "В проекте необходимо посчитать для каждого пользователя следующие показатели:\n",
    "- количество сделанных звонков и израсходованных минут разговора по месяцам;\n",
    "- количество отправленных сообщений по месяцам;\n",
    "- объем израсходованного интернет-трафика по месяцам;\n",
    "- помесячную выручку с каждого пользователя (вычтите бесплатный лимит из суммарного количества звонков, сообщений и интернет-трафика; остаток умножьте на значение из тарифного плана; прибавьте абонентскую плату, соответствующую тарифному плану)."
   ]
  },
  {
   "cell_type": "markdown",
   "metadata": {},
   "source": [
    "«Мегалайн» всегда округляет секунды до минут, а мегабайты — до гигабайт. Каждый звонок округляется отдельно: даже если он длился всего 1 секунду, будет засчитан как 1 минута.  \n",
    "Для веб-трафика отдельные сессии не считаются. Вместо этого общая сумма за месяц округляется в бо́льшую сторону. Если абонент использует 1025 мегабайт в этом месяце, с него возьмут плату за 2 гигабайта."
   ]
  },
  {
   "cell_type": "markdown",
   "metadata": {},
   "source": [
    "Для решения поставленных задач в каждую таблицу с данными по объему минут, сообщений и трафика добавим столбец с месяцем, т.к. данные в них приведены за 2018 год и сгруппируем по пользователю и месяцу соответствующие необходимые метрики."
   ]
  },
  {
   "cell_type": "code",
   "execution_count": 30,
   "metadata": {},
   "outputs": [],
   "source": [
    "calls['month'] = calls['call_date'].dt.month\n",
    "calls['duration_ceil']=calls['duration'].apply(mt.ceil) \n",
    "calls_id = calls.groupby(['user_id','month'])['duration_ceil'].agg(['count','sum'])\n",
    "calls_id = calls_id.reset_index().rename(columns={'count':'call_count', 'sum':'minutes'})"
   ]
  },
  {
   "cell_type": "code",
   "execution_count": 31,
   "metadata": {},
   "outputs": [],
   "source": [
    "messages['month'] = messages['message_date'].dt.month\n",
    "messages_id = messages.groupby(['user_id','month'])['id'].count()\n",
    "messages_id = messages_id.reset_index().rename(columns={'id':'messages'})"
   ]
  },
  {
   "cell_type": "code",
   "execution_count": 32,
   "metadata": {},
   "outputs": [],
   "source": [
    "internet['month'] = internet['session_date'].dt.month\n",
    "internet_id = internet.groupby(['user_id','month'])['mb_used'].sum()\n",
    "internet_id = internet_id.reset_index()\n",
    "internet_id['gb_used'] = internet_id['mb_used']/1024\n",
    "internet_id['gb_used'] = internet_id['gb_used'].apply(mt.ceil) "
   ]
  },
  {
   "cell_type": "markdown",
   "metadata": {},
   "source": [
    "Для расчета ежемесячной выручки, полученной от каждого пользователя, объединим все необходимые таблицы и произведем рассчеты в соответствии с условиями тарифа."
   ]
  },
  {
   "cell_type": "code",
   "execution_count": 33,
   "metadata": {},
   "outputs": [
    {
     "data": {
      "text/html": [
       "<div>\n",
       "<style scoped>\n",
       "    .dataframe tbody tr th:only-of-type {\n",
       "        vertical-align: middle;\n",
       "    }\n",
       "\n",
       "    .dataframe tbody tr th {\n",
       "        vertical-align: top;\n",
       "    }\n",
       "\n",
       "    .dataframe thead th {\n",
       "        text-align: right;\n",
       "    }\n",
       "</style>\n",
       "<table border=\"1\" class=\"dataframe\">\n",
       "  <thead>\n",
       "    <tr style=\"text-align: right;\">\n",
       "      <th></th>\n",
       "      <th>user_id</th>\n",
       "      <th>month</th>\n",
       "      <th>call_count</th>\n",
       "      <th>minutes</th>\n",
       "      <th>messages</th>\n",
       "      <th>mb_used</th>\n",
       "      <th>gb_used</th>\n",
       "      <th>city</th>\n",
       "      <th>tariff</th>\n",
       "      <th>messages_included</th>\n",
       "      <th>mb_per_month_included</th>\n",
       "      <th>minutes_included</th>\n",
       "      <th>rub_monthly_fee</th>\n",
       "      <th>rub_per_gb</th>\n",
       "      <th>rub_per_message</th>\n",
       "      <th>rub_per_minute</th>\n",
       "      <th>gb_per_month_included</th>\n",
       "    </tr>\n",
       "  </thead>\n",
       "  <tbody>\n",
       "    <tr>\n",
       "      <td>0</td>\n",
       "      <td>1000</td>\n",
       "      <td>5</td>\n",
       "      <td>22.00</td>\n",
       "      <td>159.00</td>\n",
       "      <td>22.00</td>\n",
       "      <td>2,253.49</td>\n",
       "      <td>3.00</td>\n",
       "      <td>Краснодар</td>\n",
       "      <td>ultra</td>\n",
       "      <td>1000</td>\n",
       "      <td>30720</td>\n",
       "      <td>3000</td>\n",
       "      <td>1950</td>\n",
       "      <td>150</td>\n",
       "      <td>1</td>\n",
       "      <td>1</td>\n",
       "      <td>30.00</td>\n",
       "    </tr>\n",
       "    <tr>\n",
       "      <td>1</td>\n",
       "      <td>1000</td>\n",
       "      <td>6</td>\n",
       "      <td>43.00</td>\n",
       "      <td>172.00</td>\n",
       "      <td>60.00</td>\n",
       "      <td>23,233.77</td>\n",
       "      <td>23.00</td>\n",
       "      <td>Краснодар</td>\n",
       "      <td>ultra</td>\n",
       "      <td>1000</td>\n",
       "      <td>30720</td>\n",
       "      <td>3000</td>\n",
       "      <td>1950</td>\n",
       "      <td>150</td>\n",
       "      <td>1</td>\n",
       "      <td>1</td>\n",
       "      <td>30.00</td>\n",
       "    </tr>\n",
       "    <tr>\n",
       "      <td>2</td>\n",
       "      <td>1000</td>\n",
       "      <td>7</td>\n",
       "      <td>47.00</td>\n",
       "      <td>340.00</td>\n",
       "      <td>75.00</td>\n",
       "      <td>14,003.64</td>\n",
       "      <td>14.00</td>\n",
       "      <td>Краснодар</td>\n",
       "      <td>ultra</td>\n",
       "      <td>1000</td>\n",
       "      <td>30720</td>\n",
       "      <td>3000</td>\n",
       "      <td>1950</td>\n",
       "      <td>150</td>\n",
       "      <td>1</td>\n",
       "      <td>1</td>\n",
       "      <td>30.00</td>\n",
       "    </tr>\n",
       "    <tr>\n",
       "      <td>3</td>\n",
       "      <td>1000</td>\n",
       "      <td>8</td>\n",
       "      <td>52.00</td>\n",
       "      <td>408.00</td>\n",
       "      <td>81.00</td>\n",
       "      <td>14,055.93</td>\n",
       "      <td>14.00</td>\n",
       "      <td>Краснодар</td>\n",
       "      <td>ultra</td>\n",
       "      <td>1000</td>\n",
       "      <td>30720</td>\n",
       "      <td>3000</td>\n",
       "      <td>1950</td>\n",
       "      <td>150</td>\n",
       "      <td>1</td>\n",
       "      <td>1</td>\n",
       "      <td>30.00</td>\n",
       "    </tr>\n",
       "    <tr>\n",
       "      <td>4</td>\n",
       "      <td>1000</td>\n",
       "      <td>9</td>\n",
       "      <td>58.00</td>\n",
       "      <td>466.00</td>\n",
       "      <td>57.00</td>\n",
       "      <td>14,568.91</td>\n",
       "      <td>15.00</td>\n",
       "      <td>Краснодар</td>\n",
       "      <td>ultra</td>\n",
       "      <td>1000</td>\n",
       "      <td>30720</td>\n",
       "      <td>3000</td>\n",
       "      <td>1950</td>\n",
       "      <td>150</td>\n",
       "      <td>1</td>\n",
       "      <td>1</td>\n",
       "      <td>30.00</td>\n",
       "    </tr>\n",
       "    <tr>\n",
       "      <td>...</td>\n",
       "      <td>...</td>\n",
       "      <td>...</td>\n",
       "      <td>...</td>\n",
       "      <td>...</td>\n",
       "      <td>...</td>\n",
       "      <td>...</td>\n",
       "      <td>...</td>\n",
       "      <td>...</td>\n",
       "      <td>...</td>\n",
       "      <td>...</td>\n",
       "      <td>...</td>\n",
       "      <td>...</td>\n",
       "      <td>...</td>\n",
       "      <td>...</td>\n",
       "      <td>...</td>\n",
       "      <td>...</td>\n",
       "      <td>...</td>\n",
       "    </tr>\n",
       "    <tr>\n",
       "      <td>3209</td>\n",
       "      <td>1489</td>\n",
       "      <td>8</td>\n",
       "      <td>nan</td>\n",
       "      <td>nan</td>\n",
       "      <td>17.00</td>\n",
       "      <td>11,050.56</td>\n",
       "      <td>11.00</td>\n",
       "      <td>Санкт-Петербург</td>\n",
       "      <td>smart</td>\n",
       "      <td>50</td>\n",
       "      <td>15360</td>\n",
       "      <td>500</td>\n",
       "      <td>550</td>\n",
       "      <td>200</td>\n",
       "      <td>3</td>\n",
       "      <td>3</td>\n",
       "      <td>15.00</td>\n",
       "    </tr>\n",
       "    <tr>\n",
       "      <td>3210</td>\n",
       "      <td>1489</td>\n",
       "      <td>9</td>\n",
       "      <td>nan</td>\n",
       "      <td>nan</td>\n",
       "      <td>32.00</td>\n",
       "      <td>17,206.30</td>\n",
       "      <td>17.00</td>\n",
       "      <td>Санкт-Петербург</td>\n",
       "      <td>smart</td>\n",
       "      <td>50</td>\n",
       "      <td>15360</td>\n",
       "      <td>500</td>\n",
       "      <td>550</td>\n",
       "      <td>200</td>\n",
       "      <td>3</td>\n",
       "      <td>3</td>\n",
       "      <td>15.00</td>\n",
       "    </tr>\n",
       "    <tr>\n",
       "      <td>3211</td>\n",
       "      <td>1489</td>\n",
       "      <td>10</td>\n",
       "      <td>nan</td>\n",
       "      <td>nan</td>\n",
       "      <td>21.00</td>\n",
       "      <td>19,559.44</td>\n",
       "      <td>20.00</td>\n",
       "      <td>Санкт-Петербург</td>\n",
       "      <td>smart</td>\n",
       "      <td>50</td>\n",
       "      <td>15360</td>\n",
       "      <td>500</td>\n",
       "      <td>550</td>\n",
       "      <td>200</td>\n",
       "      <td>3</td>\n",
       "      <td>3</td>\n",
       "      <td>15.00</td>\n",
       "    </tr>\n",
       "    <tr>\n",
       "      <td>3212</td>\n",
       "      <td>1489</td>\n",
       "      <td>11</td>\n",
       "      <td>nan</td>\n",
       "      <td>nan</td>\n",
       "      <td>20.00</td>\n",
       "      <td>17,491.56</td>\n",
       "      <td>18.00</td>\n",
       "      <td>Санкт-Петербург</td>\n",
       "      <td>smart</td>\n",
       "      <td>50</td>\n",
       "      <td>15360</td>\n",
       "      <td>500</td>\n",
       "      <td>550</td>\n",
       "      <td>200</td>\n",
       "      <td>3</td>\n",
       "      <td>3</td>\n",
       "      <td>15.00</td>\n",
       "    </tr>\n",
       "    <tr>\n",
       "      <td>3213</td>\n",
       "      <td>1489</td>\n",
       "      <td>12</td>\n",
       "      <td>nan</td>\n",
       "      <td>nan</td>\n",
       "      <td>35.00</td>\n",
       "      <td>17,322.51</td>\n",
       "      <td>17.00</td>\n",
       "      <td>Санкт-Петербург</td>\n",
       "      <td>smart</td>\n",
       "      <td>50</td>\n",
       "      <td>15360</td>\n",
       "      <td>500</td>\n",
       "      <td>550</td>\n",
       "      <td>200</td>\n",
       "      <td>3</td>\n",
       "      <td>3</td>\n",
       "      <td>15.00</td>\n",
       "    </tr>\n",
       "  </tbody>\n",
       "</table>\n",
       "<p>3214 rows × 17 columns</p>\n",
       "</div>"
      ],
      "text/plain": [
       "      user_id  month  call_count  minutes  messages   mb_used  gb_used  \\\n",
       "0        1000      5       22.00   159.00     22.00  2,253.49     3.00   \n",
       "1        1000      6       43.00   172.00     60.00 23,233.77    23.00   \n",
       "2        1000      7       47.00   340.00     75.00 14,003.64    14.00   \n",
       "3        1000      8       52.00   408.00     81.00 14,055.93    14.00   \n",
       "4        1000      9       58.00   466.00     57.00 14,568.91    15.00   \n",
       "...       ...    ...         ...      ...       ...       ...      ...   \n",
       "3209     1489      8         nan      nan     17.00 11,050.56    11.00   \n",
       "3210     1489      9         nan      nan     32.00 17,206.30    17.00   \n",
       "3211     1489     10         nan      nan     21.00 19,559.44    20.00   \n",
       "3212     1489     11         nan      nan     20.00 17,491.56    18.00   \n",
       "3213     1489     12         nan      nan     35.00 17,322.51    17.00   \n",
       "\n",
       "                 city tariff  messages_included  mb_per_month_included  \\\n",
       "0           Краснодар  ultra               1000                  30720   \n",
       "1           Краснодар  ultra               1000                  30720   \n",
       "2           Краснодар  ultra               1000                  30720   \n",
       "3           Краснодар  ultra               1000                  30720   \n",
       "4           Краснодар  ultra               1000                  30720   \n",
       "...               ...    ...                ...                    ...   \n",
       "3209  Санкт-Петербург  smart                 50                  15360   \n",
       "3210  Санкт-Петербург  smart                 50                  15360   \n",
       "3211  Санкт-Петербург  smart                 50                  15360   \n",
       "3212  Санкт-Петербург  smart                 50                  15360   \n",
       "3213  Санкт-Петербург  smart                 50                  15360   \n",
       "\n",
       "      minutes_included  rub_monthly_fee  rub_per_gb  rub_per_message  \\\n",
       "0                 3000             1950         150                1   \n",
       "1                 3000             1950         150                1   \n",
       "2                 3000             1950         150                1   \n",
       "3                 3000             1950         150                1   \n",
       "4                 3000             1950         150                1   \n",
       "...                ...              ...         ...              ...   \n",
       "3209               500              550         200                3   \n",
       "3210               500              550         200                3   \n",
       "3211               500              550         200                3   \n",
       "3212               500              550         200                3   \n",
       "3213               500              550         200                3   \n",
       "\n",
       "      rub_per_minute  gb_per_month_included  \n",
       "0                  1                  30.00  \n",
       "1                  1                  30.00  \n",
       "2                  1                  30.00  \n",
       "3                  1                  30.00  \n",
       "4                  1                  30.00  \n",
       "...              ...                    ...  \n",
       "3209               3                  15.00  \n",
       "3210               3                  15.00  \n",
       "3211               3                  15.00  \n",
       "3212               3                  15.00  \n",
       "3213               3                  15.00  \n",
       "\n",
       "[3214 rows x 17 columns]"
      ]
     },
     "metadata": {},
     "output_type": "display_data"
    }
   ],
   "source": [
    "tariffs = tariffs.rename(columns={'tariff_name':'tariff'}) # для дальнейшего объединения по полю \n",
    "\n",
    "users_stat = (\n",
    "    calls_id\n",
    "    .merge(messages_id, on=('user_id','month'), how='outer')\n",
    "    .merge(internet_id, on=('user_id','month'), how='outer')\n",
    "    .merge(users[['user_id','city','tariff']], on=('user_id'))\n",
    "    .merge(tariffs, on=('tariff'))\n",
    ")\n",
    "\n",
    "display(users_stat)"
   ]
  },
  {
   "cell_type": "markdown",
   "metadata": {},
   "source": [
    "Исходя из условий оплаты для каждого тарифа составим функцию, которая посчитает итоговый чек от каждого пользователя."
   ]
  },
  {
   "cell_type": "code",
   "execution_count": 34,
   "metadata": {},
   "outputs": [
    {
     "data": {
      "text/html": [
       "<div>\n",
       "<style scoped>\n",
       "    .dataframe tbody tr th:only-of-type {\n",
       "        vertical-align: middle;\n",
       "    }\n",
       "\n",
       "    .dataframe tbody tr th {\n",
       "        vertical-align: top;\n",
       "    }\n",
       "\n",
       "    .dataframe thead th {\n",
       "        text-align: right;\n",
       "    }\n",
       "</style>\n",
       "<table border=\"1\" class=\"dataframe\">\n",
       "  <thead>\n",
       "    <tr style=\"text-align: right;\">\n",
       "      <th></th>\n",
       "      <th>user_id</th>\n",
       "      <th>month</th>\n",
       "      <th>call_count</th>\n",
       "      <th>minutes</th>\n",
       "      <th>messages</th>\n",
       "      <th>mb_used</th>\n",
       "      <th>gb_used</th>\n",
       "      <th>city</th>\n",
       "      <th>tariff</th>\n",
       "      <th>messages_included</th>\n",
       "      <th>mb_per_month_included</th>\n",
       "      <th>minutes_included</th>\n",
       "      <th>rub_monthly_fee</th>\n",
       "      <th>rub_per_gb</th>\n",
       "      <th>rub_per_message</th>\n",
       "      <th>rub_per_minute</th>\n",
       "      <th>gb_per_month_included</th>\n",
       "      <th>revenue</th>\n",
       "    </tr>\n",
       "  </thead>\n",
       "  <tbody>\n",
       "    <tr>\n",
       "      <td>0</td>\n",
       "      <td>1000</td>\n",
       "      <td>5</td>\n",
       "      <td>22.00</td>\n",
       "      <td>159.00</td>\n",
       "      <td>22.00</td>\n",
       "      <td>2,253.49</td>\n",
       "      <td>3.00</td>\n",
       "      <td>Краснодар</td>\n",
       "      <td>ultra</td>\n",
       "      <td>1000</td>\n",
       "      <td>30720</td>\n",
       "      <td>3000</td>\n",
       "      <td>1950</td>\n",
       "      <td>150</td>\n",
       "      <td>1</td>\n",
       "      <td>1</td>\n",
       "      <td>30.00</td>\n",
       "      <td>1,950.00</td>\n",
       "    </tr>\n",
       "    <tr>\n",
       "      <td>1</td>\n",
       "      <td>1000</td>\n",
       "      <td>6</td>\n",
       "      <td>43.00</td>\n",
       "      <td>172.00</td>\n",
       "      <td>60.00</td>\n",
       "      <td>23,233.77</td>\n",
       "      <td>23.00</td>\n",
       "      <td>Краснодар</td>\n",
       "      <td>ultra</td>\n",
       "      <td>1000</td>\n",
       "      <td>30720</td>\n",
       "      <td>3000</td>\n",
       "      <td>1950</td>\n",
       "      <td>150</td>\n",
       "      <td>1</td>\n",
       "      <td>1</td>\n",
       "      <td>30.00</td>\n",
       "      <td>1,950.00</td>\n",
       "    </tr>\n",
       "    <tr>\n",
       "      <td>2</td>\n",
       "      <td>1000</td>\n",
       "      <td>7</td>\n",
       "      <td>47.00</td>\n",
       "      <td>340.00</td>\n",
       "      <td>75.00</td>\n",
       "      <td>14,003.64</td>\n",
       "      <td>14.00</td>\n",
       "      <td>Краснодар</td>\n",
       "      <td>ultra</td>\n",
       "      <td>1000</td>\n",
       "      <td>30720</td>\n",
       "      <td>3000</td>\n",
       "      <td>1950</td>\n",
       "      <td>150</td>\n",
       "      <td>1</td>\n",
       "      <td>1</td>\n",
       "      <td>30.00</td>\n",
       "      <td>1,950.00</td>\n",
       "    </tr>\n",
       "    <tr>\n",
       "      <td>3</td>\n",
       "      <td>1000</td>\n",
       "      <td>8</td>\n",
       "      <td>52.00</td>\n",
       "      <td>408.00</td>\n",
       "      <td>81.00</td>\n",
       "      <td>14,055.93</td>\n",
       "      <td>14.00</td>\n",
       "      <td>Краснодар</td>\n",
       "      <td>ultra</td>\n",
       "      <td>1000</td>\n",
       "      <td>30720</td>\n",
       "      <td>3000</td>\n",
       "      <td>1950</td>\n",
       "      <td>150</td>\n",
       "      <td>1</td>\n",
       "      <td>1</td>\n",
       "      <td>30.00</td>\n",
       "      <td>1,950.00</td>\n",
       "    </tr>\n",
       "    <tr>\n",
       "      <td>4</td>\n",
       "      <td>1000</td>\n",
       "      <td>9</td>\n",
       "      <td>58.00</td>\n",
       "      <td>466.00</td>\n",
       "      <td>57.00</td>\n",
       "      <td>14,568.91</td>\n",
       "      <td>15.00</td>\n",
       "      <td>Краснодар</td>\n",
       "      <td>ultra</td>\n",
       "      <td>1000</td>\n",
       "      <td>30720</td>\n",
       "      <td>3000</td>\n",
       "      <td>1950</td>\n",
       "      <td>150</td>\n",
       "      <td>1</td>\n",
       "      <td>1</td>\n",
       "      <td>30.00</td>\n",
       "      <td>1,950.00</td>\n",
       "    </tr>\n",
       "    <tr>\n",
       "      <td>...</td>\n",
       "      <td>...</td>\n",
       "      <td>...</td>\n",
       "      <td>...</td>\n",
       "      <td>...</td>\n",
       "      <td>...</td>\n",
       "      <td>...</td>\n",
       "      <td>...</td>\n",
       "      <td>...</td>\n",
       "      <td>...</td>\n",
       "      <td>...</td>\n",
       "      <td>...</td>\n",
       "      <td>...</td>\n",
       "      <td>...</td>\n",
       "      <td>...</td>\n",
       "      <td>...</td>\n",
       "      <td>...</td>\n",
       "      <td>...</td>\n",
       "      <td>...</td>\n",
       "    </tr>\n",
       "    <tr>\n",
       "      <td>3209</td>\n",
       "      <td>1489</td>\n",
       "      <td>8</td>\n",
       "      <td>nan</td>\n",
       "      <td>nan</td>\n",
       "      <td>17.00</td>\n",
       "      <td>11,050.56</td>\n",
       "      <td>11.00</td>\n",
       "      <td>Санкт-Петербург</td>\n",
       "      <td>smart</td>\n",
       "      <td>50</td>\n",
       "      <td>15360</td>\n",
       "      <td>500</td>\n",
       "      <td>550</td>\n",
       "      <td>200</td>\n",
       "      <td>3</td>\n",
       "      <td>3</td>\n",
       "      <td>15.00</td>\n",
       "      <td>550.00</td>\n",
       "    </tr>\n",
       "    <tr>\n",
       "      <td>3210</td>\n",
       "      <td>1489</td>\n",
       "      <td>9</td>\n",
       "      <td>nan</td>\n",
       "      <td>nan</td>\n",
       "      <td>32.00</td>\n",
       "      <td>17,206.30</td>\n",
       "      <td>17.00</td>\n",
       "      <td>Санкт-Петербург</td>\n",
       "      <td>smart</td>\n",
       "      <td>50</td>\n",
       "      <td>15360</td>\n",
       "      <td>500</td>\n",
       "      <td>550</td>\n",
       "      <td>200</td>\n",
       "      <td>3</td>\n",
       "      <td>3</td>\n",
       "      <td>15.00</td>\n",
       "      <td>950.00</td>\n",
       "    </tr>\n",
       "    <tr>\n",
       "      <td>3211</td>\n",
       "      <td>1489</td>\n",
       "      <td>10</td>\n",
       "      <td>nan</td>\n",
       "      <td>nan</td>\n",
       "      <td>21.00</td>\n",
       "      <td>19,559.44</td>\n",
       "      <td>20.00</td>\n",
       "      <td>Санкт-Петербург</td>\n",
       "      <td>smart</td>\n",
       "      <td>50</td>\n",
       "      <td>15360</td>\n",
       "      <td>500</td>\n",
       "      <td>550</td>\n",
       "      <td>200</td>\n",
       "      <td>3</td>\n",
       "      <td>3</td>\n",
       "      <td>15.00</td>\n",
       "      <td>1,550.00</td>\n",
       "    </tr>\n",
       "    <tr>\n",
       "      <td>3212</td>\n",
       "      <td>1489</td>\n",
       "      <td>11</td>\n",
       "      <td>nan</td>\n",
       "      <td>nan</td>\n",
       "      <td>20.00</td>\n",
       "      <td>17,491.56</td>\n",
       "      <td>18.00</td>\n",
       "      <td>Санкт-Петербург</td>\n",
       "      <td>smart</td>\n",
       "      <td>50</td>\n",
       "      <td>15360</td>\n",
       "      <td>500</td>\n",
       "      <td>550</td>\n",
       "      <td>200</td>\n",
       "      <td>3</td>\n",
       "      <td>3</td>\n",
       "      <td>15.00</td>\n",
       "      <td>1,150.00</td>\n",
       "    </tr>\n",
       "    <tr>\n",
       "      <td>3213</td>\n",
       "      <td>1489</td>\n",
       "      <td>12</td>\n",
       "      <td>nan</td>\n",
       "      <td>nan</td>\n",
       "      <td>35.00</td>\n",
       "      <td>17,322.51</td>\n",
       "      <td>17.00</td>\n",
       "      <td>Санкт-Петербург</td>\n",
       "      <td>smart</td>\n",
       "      <td>50</td>\n",
       "      <td>15360</td>\n",
       "      <td>500</td>\n",
       "      <td>550</td>\n",
       "      <td>200</td>\n",
       "      <td>3</td>\n",
       "      <td>3</td>\n",
       "      <td>15.00</td>\n",
       "      <td>950.00</td>\n",
       "    </tr>\n",
       "  </tbody>\n",
       "</table>\n",
       "<p>3214 rows × 18 columns</p>\n",
       "</div>"
      ],
      "text/plain": [
       "      user_id  month  call_count  minutes  messages   mb_used  gb_used  \\\n",
       "0        1000      5       22.00   159.00     22.00  2,253.49     3.00   \n",
       "1        1000      6       43.00   172.00     60.00 23,233.77    23.00   \n",
       "2        1000      7       47.00   340.00     75.00 14,003.64    14.00   \n",
       "3        1000      8       52.00   408.00     81.00 14,055.93    14.00   \n",
       "4        1000      9       58.00   466.00     57.00 14,568.91    15.00   \n",
       "...       ...    ...         ...      ...       ...       ...      ...   \n",
       "3209     1489      8         nan      nan     17.00 11,050.56    11.00   \n",
       "3210     1489      9         nan      nan     32.00 17,206.30    17.00   \n",
       "3211     1489     10         nan      nan     21.00 19,559.44    20.00   \n",
       "3212     1489     11         nan      nan     20.00 17,491.56    18.00   \n",
       "3213     1489     12         nan      nan     35.00 17,322.51    17.00   \n",
       "\n",
       "                 city tariff  messages_included  mb_per_month_included  \\\n",
       "0           Краснодар  ultra               1000                  30720   \n",
       "1           Краснодар  ultra               1000                  30720   \n",
       "2           Краснодар  ultra               1000                  30720   \n",
       "3           Краснодар  ultra               1000                  30720   \n",
       "4           Краснодар  ultra               1000                  30720   \n",
       "...               ...    ...                ...                    ...   \n",
       "3209  Санкт-Петербург  smart                 50                  15360   \n",
       "3210  Санкт-Петербург  smart                 50                  15360   \n",
       "3211  Санкт-Петербург  smart                 50                  15360   \n",
       "3212  Санкт-Петербург  smart                 50                  15360   \n",
       "3213  Санкт-Петербург  smart                 50                  15360   \n",
       "\n",
       "      minutes_included  rub_monthly_fee  rub_per_gb  rub_per_message  \\\n",
       "0                 3000             1950         150                1   \n",
       "1                 3000             1950         150                1   \n",
       "2                 3000             1950         150                1   \n",
       "3                 3000             1950         150                1   \n",
       "4                 3000             1950         150                1   \n",
       "...                ...              ...         ...              ...   \n",
       "3209               500              550         200                3   \n",
       "3210               500              550         200                3   \n",
       "3211               500              550         200                3   \n",
       "3212               500              550         200                3   \n",
       "3213               500              550         200                3   \n",
       "\n",
       "      rub_per_minute  gb_per_month_included  revenue  \n",
       "0                  1                  30.00 1,950.00  \n",
       "1                  1                  30.00 1,950.00  \n",
       "2                  1                  30.00 1,950.00  \n",
       "3                  1                  30.00 1,950.00  \n",
       "4                  1                  30.00 1,950.00  \n",
       "...              ...                    ...      ...  \n",
       "3209               3                  15.00   550.00  \n",
       "3210               3                  15.00   950.00  \n",
       "3211               3                  15.00 1,550.00  \n",
       "3212               3                  15.00 1,150.00  \n",
       "3213               3                  15.00   950.00  \n",
       "\n",
       "[3214 rows x 18 columns]"
      ]
     },
     "metadata": {},
     "output_type": "display_data"
    }
   ],
   "source": [
    "def revenue(row):\n",
    "    if row['tariff'] == 'ultra':\n",
    "        rev = 1950\n",
    "        if row['minutes']>row['minutes_included']:\n",
    "            rev = rev + (row['minutes']-row['minutes_included'])*row['rub_per_minute']\n",
    "        if row['messages']>row['messages_included']:\n",
    "            rev = rev + (row['messages']-row['messages_included'])*row['rub_per_message']\n",
    "        if row['mb_used']>row['mb_per_month_included']:\n",
    "            rev = rev + (row['gb_used']-row['gb_per_month_included'])*row['rub_per_gb']\n",
    "        return rev\n",
    "    else:\n",
    "        rev = 550\n",
    "        if row['minutes']>row['minutes_included']:\n",
    "            rev = rev + (row['minutes']-row['minutes_included'])*row['rub_per_minute']\n",
    "        if row['messages']>row['messages_included']:\n",
    "            rev = rev + (row['messages']-row['messages_included'])*row['rub_per_message']\n",
    "        if row['mb_used']>row['mb_per_month_included']:\n",
    "            rev = rev + (row['gb_used']-row['gb_per_month_included'])*row['rub_per_gb']\n",
    "        return rev\n",
    "users_stat['revenue'] = users_stat.apply(revenue, axis=1)    \n",
    "\n",
    "display(users_stat)"
   ]
  },
  {
   "cell_type": "markdown",
   "metadata": {},
   "source": [
    "Необходимо описать поведение клиентов оператора, исходя из выборки.  \n",
    "Сколько минут разговора, сколько сообщений и какой объём интернет-трафика требуется пользователям каждого тарифа в месяц?  \n",
    "Посчитать среднее количество, дисперсию и стандартное отклонение.  \n",
    "Построить гистограммы и описать распределения."
   ]
  },
  {
   "cell_type": "markdown",
   "metadata": {},
   "source": [
    "Создадим два датафрейма для каждого тарифа."
   ]
  },
  {
   "cell_type": "code",
   "execution_count": 35,
   "metadata": {},
   "outputs": [],
   "source": [
    "users_stat_ultra = users_stat[users_stat['tariff'] == 'ultra'].copy()\n",
    "users_stat_smart = users_stat[users_stat['tariff'] == 'smart'].copy()"
   ]
  },
  {
   "cell_type": "code",
   "execution_count": 36,
   "metadata": {},
   "outputs": [
    {
     "data": {
      "text/html": [
       "<div>\n",
       "<style scoped>\n",
       "    .dataframe tbody tr th:only-of-type {\n",
       "        vertical-align: middle;\n",
       "    }\n",
       "\n",
       "    .dataframe tbody tr th {\n",
       "        vertical-align: top;\n",
       "    }\n",
       "\n",
       "    .dataframe thead th {\n",
       "        text-align: right;\n",
       "    }\n",
       "</style>\n",
       "<table border=\"1\" class=\"dataframe\">\n",
       "  <thead>\n",
       "    <tr style=\"text-align: right;\">\n",
       "      <th></th>\n",
       "      <th>user_id</th>\n",
       "      <th>month</th>\n",
       "      <th>call_count</th>\n",
       "      <th>minutes</th>\n",
       "      <th>messages</th>\n",
       "      <th>mb_used</th>\n",
       "      <th>gb_used</th>\n",
       "      <th>city</th>\n",
       "      <th>tariff</th>\n",
       "      <th>messages_included</th>\n",
       "      <th>mb_per_month_included</th>\n",
       "      <th>minutes_included</th>\n",
       "      <th>rub_monthly_fee</th>\n",
       "      <th>rub_per_gb</th>\n",
       "      <th>rub_per_message</th>\n",
       "      <th>rub_per_minute</th>\n",
       "      <th>gb_per_month_included</th>\n",
       "      <th>revenue</th>\n",
       "    </tr>\n",
       "  </thead>\n",
       "  <tbody>\n",
       "    <tr>\n",
       "      <td>0</td>\n",
       "      <td>1000</td>\n",
       "      <td>5</td>\n",
       "      <td>22.00</td>\n",
       "      <td>159.00</td>\n",
       "      <td>22.00</td>\n",
       "      <td>2,253.49</td>\n",
       "      <td>3.00</td>\n",
       "      <td>Краснодар</td>\n",
       "      <td>ultra</td>\n",
       "      <td>1000</td>\n",
       "      <td>30720</td>\n",
       "      <td>3000</td>\n",
       "      <td>1950</td>\n",
       "      <td>150</td>\n",
       "      <td>1</td>\n",
       "      <td>1</td>\n",
       "      <td>30.00</td>\n",
       "      <td>1,950.00</td>\n",
       "    </tr>\n",
       "    <tr>\n",
       "      <td>1</td>\n",
       "      <td>1000</td>\n",
       "      <td>6</td>\n",
       "      <td>43.00</td>\n",
       "      <td>172.00</td>\n",
       "      <td>60.00</td>\n",
       "      <td>23,233.77</td>\n",
       "      <td>23.00</td>\n",
       "      <td>Краснодар</td>\n",
       "      <td>ultra</td>\n",
       "      <td>1000</td>\n",
       "      <td>30720</td>\n",
       "      <td>3000</td>\n",
       "      <td>1950</td>\n",
       "      <td>150</td>\n",
       "      <td>1</td>\n",
       "      <td>1</td>\n",
       "      <td>30.00</td>\n",
       "      <td>1,950.00</td>\n",
       "    </tr>\n",
       "    <tr>\n",
       "      <td>2</td>\n",
       "      <td>1000</td>\n",
       "      <td>7</td>\n",
       "      <td>47.00</td>\n",
       "      <td>340.00</td>\n",
       "      <td>75.00</td>\n",
       "      <td>14,003.64</td>\n",
       "      <td>14.00</td>\n",
       "      <td>Краснодар</td>\n",
       "      <td>ultra</td>\n",
       "      <td>1000</td>\n",
       "      <td>30720</td>\n",
       "      <td>3000</td>\n",
       "      <td>1950</td>\n",
       "      <td>150</td>\n",
       "      <td>1</td>\n",
       "      <td>1</td>\n",
       "      <td>30.00</td>\n",
       "      <td>1,950.00</td>\n",
       "    </tr>\n",
       "    <tr>\n",
       "      <td>3</td>\n",
       "      <td>1000</td>\n",
       "      <td>8</td>\n",
       "      <td>52.00</td>\n",
       "      <td>408.00</td>\n",
       "      <td>81.00</td>\n",
       "      <td>14,055.93</td>\n",
       "      <td>14.00</td>\n",
       "      <td>Краснодар</td>\n",
       "      <td>ultra</td>\n",
       "      <td>1000</td>\n",
       "      <td>30720</td>\n",
       "      <td>3000</td>\n",
       "      <td>1950</td>\n",
       "      <td>150</td>\n",
       "      <td>1</td>\n",
       "      <td>1</td>\n",
       "      <td>30.00</td>\n",
       "      <td>1,950.00</td>\n",
       "    </tr>\n",
       "    <tr>\n",
       "      <td>4</td>\n",
       "      <td>1000</td>\n",
       "      <td>9</td>\n",
       "      <td>58.00</td>\n",
       "      <td>466.00</td>\n",
       "      <td>57.00</td>\n",
       "      <td>14,568.91</td>\n",
       "      <td>15.00</td>\n",
       "      <td>Краснодар</td>\n",
       "      <td>ultra</td>\n",
       "      <td>1000</td>\n",
       "      <td>30720</td>\n",
       "      <td>3000</td>\n",
       "      <td>1950</td>\n",
       "      <td>150</td>\n",
       "      <td>1</td>\n",
       "      <td>1</td>\n",
       "      <td>30.00</td>\n",
       "      <td>1,950.00</td>\n",
       "    </tr>\n",
       "    <tr>\n",
       "      <td>...</td>\n",
       "      <td>...</td>\n",
       "      <td>...</td>\n",
       "      <td>...</td>\n",
       "      <td>...</td>\n",
       "      <td>...</td>\n",
       "      <td>...</td>\n",
       "      <td>...</td>\n",
       "      <td>...</td>\n",
       "      <td>...</td>\n",
       "      <td>...</td>\n",
       "      <td>...</td>\n",
       "      <td>...</td>\n",
       "      <td>...</td>\n",
       "      <td>...</td>\n",
       "      <td>...</td>\n",
       "      <td>...</td>\n",
       "      <td>...</td>\n",
       "      <td>...</td>\n",
       "    </tr>\n",
       "    <tr>\n",
       "      <td>980</td>\n",
       "      <td>1473</td>\n",
       "      <td>8</td>\n",
       "      <td>nan</td>\n",
       "      <td>nan</td>\n",
       "      <td>17.00</td>\n",
       "      <td>12,905.40</td>\n",
       "      <td>13.00</td>\n",
       "      <td>Красноярск</td>\n",
       "      <td>ultra</td>\n",
       "      <td>1000</td>\n",
       "      <td>30720</td>\n",
       "      <td>3000</td>\n",
       "      <td>1950</td>\n",
       "      <td>150</td>\n",
       "      <td>1</td>\n",
       "      <td>1</td>\n",
       "      <td>30.00</td>\n",
       "      <td>1,950.00</td>\n",
       "    </tr>\n",
       "    <tr>\n",
       "      <td>981</td>\n",
       "      <td>1473</td>\n",
       "      <td>9</td>\n",
       "      <td>nan</td>\n",
       "      <td>nan</td>\n",
       "      <td>19.00</td>\n",
       "      <td>17,289.85</td>\n",
       "      <td>17.00</td>\n",
       "      <td>Красноярск</td>\n",
       "      <td>ultra</td>\n",
       "      <td>1000</td>\n",
       "      <td>30720</td>\n",
       "      <td>3000</td>\n",
       "      <td>1950</td>\n",
       "      <td>150</td>\n",
       "      <td>1</td>\n",
       "      <td>1</td>\n",
       "      <td>30.00</td>\n",
       "      <td>1,950.00</td>\n",
       "    </tr>\n",
       "    <tr>\n",
       "      <td>982</td>\n",
       "      <td>1473</td>\n",
       "      <td>10</td>\n",
       "      <td>nan</td>\n",
       "      <td>nan</td>\n",
       "      <td>20.00</td>\n",
       "      <td>13,688.65</td>\n",
       "      <td>14.00</td>\n",
       "      <td>Красноярск</td>\n",
       "      <td>ultra</td>\n",
       "      <td>1000</td>\n",
       "      <td>30720</td>\n",
       "      <td>3000</td>\n",
       "      <td>1950</td>\n",
       "      <td>150</td>\n",
       "      <td>1</td>\n",
       "      <td>1</td>\n",
       "      <td>30.00</td>\n",
       "      <td>1,950.00</td>\n",
       "    </tr>\n",
       "    <tr>\n",
       "      <td>983</td>\n",
       "      <td>1473</td>\n",
       "      <td>11</td>\n",
       "      <td>nan</td>\n",
       "      <td>nan</td>\n",
       "      <td>14.00</td>\n",
       "      <td>21,673.80</td>\n",
       "      <td>22.00</td>\n",
       "      <td>Красноярск</td>\n",
       "      <td>ultra</td>\n",
       "      <td>1000</td>\n",
       "      <td>30720</td>\n",
       "      <td>3000</td>\n",
       "      <td>1950</td>\n",
       "      <td>150</td>\n",
       "      <td>1</td>\n",
       "      <td>1</td>\n",
       "      <td>30.00</td>\n",
       "      <td>1,950.00</td>\n",
       "    </tr>\n",
       "    <tr>\n",
       "      <td>984</td>\n",
       "      <td>1473</td>\n",
       "      <td>12</td>\n",
       "      <td>nan</td>\n",
       "      <td>nan</td>\n",
       "      <td>20.00</td>\n",
       "      <td>18,418.26</td>\n",
       "      <td>18.00</td>\n",
       "      <td>Красноярск</td>\n",
       "      <td>ultra</td>\n",
       "      <td>1000</td>\n",
       "      <td>30720</td>\n",
       "      <td>3000</td>\n",
       "      <td>1950</td>\n",
       "      <td>150</td>\n",
       "      <td>1</td>\n",
       "      <td>1</td>\n",
       "      <td>30.00</td>\n",
       "      <td>1,950.00</td>\n",
       "    </tr>\n",
       "  </tbody>\n",
       "</table>\n",
       "<p>985 rows × 18 columns</p>\n",
       "</div>"
      ],
      "text/plain": [
       "     user_id  month  call_count  minutes  messages   mb_used  gb_used  \\\n",
       "0       1000      5       22.00   159.00     22.00  2,253.49     3.00   \n",
       "1       1000      6       43.00   172.00     60.00 23,233.77    23.00   \n",
       "2       1000      7       47.00   340.00     75.00 14,003.64    14.00   \n",
       "3       1000      8       52.00   408.00     81.00 14,055.93    14.00   \n",
       "4       1000      9       58.00   466.00     57.00 14,568.91    15.00   \n",
       "..       ...    ...         ...      ...       ...       ...      ...   \n",
       "980     1473      8         nan      nan     17.00 12,905.40    13.00   \n",
       "981     1473      9         nan      nan     19.00 17,289.85    17.00   \n",
       "982     1473     10         nan      nan     20.00 13,688.65    14.00   \n",
       "983     1473     11         nan      nan     14.00 21,673.80    22.00   \n",
       "984     1473     12         nan      nan     20.00 18,418.26    18.00   \n",
       "\n",
       "           city tariff  messages_included  mb_per_month_included  \\\n",
       "0     Краснодар  ultra               1000                  30720   \n",
       "1     Краснодар  ultra               1000                  30720   \n",
       "2     Краснодар  ultra               1000                  30720   \n",
       "3     Краснодар  ultra               1000                  30720   \n",
       "4     Краснодар  ultra               1000                  30720   \n",
       "..          ...    ...                ...                    ...   \n",
       "980  Красноярск  ultra               1000                  30720   \n",
       "981  Красноярск  ultra               1000                  30720   \n",
       "982  Красноярск  ultra               1000                  30720   \n",
       "983  Красноярск  ultra               1000                  30720   \n",
       "984  Красноярск  ultra               1000                  30720   \n",
       "\n",
       "     minutes_included  rub_monthly_fee  rub_per_gb  rub_per_message  \\\n",
       "0                3000             1950         150                1   \n",
       "1                3000             1950         150                1   \n",
       "2                3000             1950         150                1   \n",
       "3                3000             1950         150                1   \n",
       "4                3000             1950         150                1   \n",
       "..                ...              ...         ...              ...   \n",
       "980              3000             1950         150                1   \n",
       "981              3000             1950         150                1   \n",
       "982              3000             1950         150                1   \n",
       "983              3000             1950         150                1   \n",
       "984              3000             1950         150                1   \n",
       "\n",
       "     rub_per_minute  gb_per_month_included  revenue  \n",
       "0                 1                  30.00 1,950.00  \n",
       "1                 1                  30.00 1,950.00  \n",
       "2                 1                  30.00 1,950.00  \n",
       "3                 1                  30.00 1,950.00  \n",
       "4                 1                  30.00 1,950.00  \n",
       "..              ...                    ...      ...  \n",
       "980               1                  30.00 1,950.00  \n",
       "981               1                  30.00 1,950.00  \n",
       "982               1                  30.00 1,950.00  \n",
       "983               1                  30.00 1,950.00  \n",
       "984               1                  30.00 1,950.00  \n",
       "\n",
       "[985 rows x 18 columns]"
      ]
     },
     "metadata": {},
     "output_type": "display_data"
    }
   ],
   "source": [
    "display(users_stat_ultra)"
   ]
  },
  {
   "cell_type": "code",
   "execution_count": 37,
   "metadata": {},
   "outputs": [
    {
     "data": {
      "text/html": [
       "<div>\n",
       "<style scoped>\n",
       "    .dataframe tbody tr th:only-of-type {\n",
       "        vertical-align: middle;\n",
       "    }\n",
       "\n",
       "    .dataframe tbody tr th {\n",
       "        vertical-align: top;\n",
       "    }\n",
       "\n",
       "    .dataframe thead th {\n",
       "        text-align: right;\n",
       "    }\n",
       "</style>\n",
       "<table border=\"1\" class=\"dataframe\">\n",
       "  <thead>\n",
       "    <tr style=\"text-align: right;\">\n",
       "      <th></th>\n",
       "      <th>user_id</th>\n",
       "      <th>month</th>\n",
       "      <th>call_count</th>\n",
       "      <th>minutes</th>\n",
       "      <th>messages</th>\n",
       "      <th>mb_used</th>\n",
       "      <th>gb_used</th>\n",
       "      <th>city</th>\n",
       "      <th>tariff</th>\n",
       "      <th>messages_included</th>\n",
       "      <th>mb_per_month_included</th>\n",
       "      <th>minutes_included</th>\n",
       "      <th>rub_monthly_fee</th>\n",
       "      <th>rub_per_gb</th>\n",
       "      <th>rub_per_message</th>\n",
       "      <th>rub_per_minute</th>\n",
       "      <th>gb_per_month_included</th>\n",
       "      <th>revenue</th>\n",
       "    </tr>\n",
       "  </thead>\n",
       "  <tbody>\n",
       "    <tr>\n",
       "      <td>985</td>\n",
       "      <td>1001</td>\n",
       "      <td>11</td>\n",
       "      <td>59.00</td>\n",
       "      <td>430.00</td>\n",
       "      <td>nan</td>\n",
       "      <td>18,429.34</td>\n",
       "      <td>18.00</td>\n",
       "      <td>Москва</td>\n",
       "      <td>smart</td>\n",
       "      <td>50</td>\n",
       "      <td>15360</td>\n",
       "      <td>500</td>\n",
       "      <td>550</td>\n",
       "      <td>200</td>\n",
       "      <td>3</td>\n",
       "      <td>3</td>\n",
       "      <td>15.00</td>\n",
       "      <td>1,150.00</td>\n",
       "    </tr>\n",
       "    <tr>\n",
       "      <td>986</td>\n",
       "      <td>1001</td>\n",
       "      <td>12</td>\n",
       "      <td>63.00</td>\n",
       "      <td>414.00</td>\n",
       "      <td>nan</td>\n",
       "      <td>14,036.66</td>\n",
       "      <td>14.00</td>\n",
       "      <td>Москва</td>\n",
       "      <td>smart</td>\n",
       "      <td>50</td>\n",
       "      <td>15360</td>\n",
       "      <td>500</td>\n",
       "      <td>550</td>\n",
       "      <td>200</td>\n",
       "      <td>3</td>\n",
       "      <td>3</td>\n",
       "      <td>15.00</td>\n",
       "      <td>550.00</td>\n",
       "    </tr>\n",
       "    <tr>\n",
       "      <td>987</td>\n",
       "      <td>1002</td>\n",
       "      <td>6</td>\n",
       "      <td>15.00</td>\n",
       "      <td>117.00</td>\n",
       "      <td>4.00</td>\n",
       "      <td>10,856.82</td>\n",
       "      <td>11.00</td>\n",
       "      <td>Стерлитамак</td>\n",
       "      <td>smart</td>\n",
       "      <td>50</td>\n",
       "      <td>15360</td>\n",
       "      <td>500</td>\n",
       "      <td>550</td>\n",
       "      <td>200</td>\n",
       "      <td>3</td>\n",
       "      <td>3</td>\n",
       "      <td>15.00</td>\n",
       "      <td>550.00</td>\n",
       "    </tr>\n",
       "    <tr>\n",
       "      <td>988</td>\n",
       "      <td>1002</td>\n",
       "      <td>7</td>\n",
       "      <td>26.00</td>\n",
       "      <td>214.00</td>\n",
       "      <td>11.00</td>\n",
       "      <td>17,580.10</td>\n",
       "      <td>18.00</td>\n",
       "      <td>Стерлитамак</td>\n",
       "      <td>smart</td>\n",
       "      <td>50</td>\n",
       "      <td>15360</td>\n",
       "      <td>500</td>\n",
       "      <td>550</td>\n",
       "      <td>200</td>\n",
       "      <td>3</td>\n",
       "      <td>3</td>\n",
       "      <td>15.00</td>\n",
       "      <td>1,150.00</td>\n",
       "    </tr>\n",
       "    <tr>\n",
       "      <td>989</td>\n",
       "      <td>1002</td>\n",
       "      <td>8</td>\n",
       "      <td>42.00</td>\n",
       "      <td>289.00</td>\n",
       "      <td>13.00</td>\n",
       "      <td>20,319.26</td>\n",
       "      <td>20.00</td>\n",
       "      <td>Стерлитамак</td>\n",
       "      <td>smart</td>\n",
       "      <td>50</td>\n",
       "      <td>15360</td>\n",
       "      <td>500</td>\n",
       "      <td>550</td>\n",
       "      <td>200</td>\n",
       "      <td>3</td>\n",
       "      <td>3</td>\n",
       "      <td>15.00</td>\n",
       "      <td>1,550.00</td>\n",
       "    </tr>\n",
       "    <tr>\n",
       "      <td>...</td>\n",
       "      <td>...</td>\n",
       "      <td>...</td>\n",
       "      <td>...</td>\n",
       "      <td>...</td>\n",
       "      <td>...</td>\n",
       "      <td>...</td>\n",
       "      <td>...</td>\n",
       "      <td>...</td>\n",
       "      <td>...</td>\n",
       "      <td>...</td>\n",
       "      <td>...</td>\n",
       "      <td>...</td>\n",
       "      <td>...</td>\n",
       "      <td>...</td>\n",
       "      <td>...</td>\n",
       "      <td>...</td>\n",
       "      <td>...</td>\n",
       "      <td>...</td>\n",
       "    </tr>\n",
       "    <tr>\n",
       "      <td>3209</td>\n",
       "      <td>1489</td>\n",
       "      <td>8</td>\n",
       "      <td>nan</td>\n",
       "      <td>nan</td>\n",
       "      <td>17.00</td>\n",
       "      <td>11,050.56</td>\n",
       "      <td>11.00</td>\n",
       "      <td>Санкт-Петербург</td>\n",
       "      <td>smart</td>\n",
       "      <td>50</td>\n",
       "      <td>15360</td>\n",
       "      <td>500</td>\n",
       "      <td>550</td>\n",
       "      <td>200</td>\n",
       "      <td>3</td>\n",
       "      <td>3</td>\n",
       "      <td>15.00</td>\n",
       "      <td>550.00</td>\n",
       "    </tr>\n",
       "    <tr>\n",
       "      <td>3210</td>\n",
       "      <td>1489</td>\n",
       "      <td>9</td>\n",
       "      <td>nan</td>\n",
       "      <td>nan</td>\n",
       "      <td>32.00</td>\n",
       "      <td>17,206.30</td>\n",
       "      <td>17.00</td>\n",
       "      <td>Санкт-Петербург</td>\n",
       "      <td>smart</td>\n",
       "      <td>50</td>\n",
       "      <td>15360</td>\n",
       "      <td>500</td>\n",
       "      <td>550</td>\n",
       "      <td>200</td>\n",
       "      <td>3</td>\n",
       "      <td>3</td>\n",
       "      <td>15.00</td>\n",
       "      <td>950.00</td>\n",
       "    </tr>\n",
       "    <tr>\n",
       "      <td>3211</td>\n",
       "      <td>1489</td>\n",
       "      <td>10</td>\n",
       "      <td>nan</td>\n",
       "      <td>nan</td>\n",
       "      <td>21.00</td>\n",
       "      <td>19,559.44</td>\n",
       "      <td>20.00</td>\n",
       "      <td>Санкт-Петербург</td>\n",
       "      <td>smart</td>\n",
       "      <td>50</td>\n",
       "      <td>15360</td>\n",
       "      <td>500</td>\n",
       "      <td>550</td>\n",
       "      <td>200</td>\n",
       "      <td>3</td>\n",
       "      <td>3</td>\n",
       "      <td>15.00</td>\n",
       "      <td>1,550.00</td>\n",
       "    </tr>\n",
       "    <tr>\n",
       "      <td>3212</td>\n",
       "      <td>1489</td>\n",
       "      <td>11</td>\n",
       "      <td>nan</td>\n",
       "      <td>nan</td>\n",
       "      <td>20.00</td>\n",
       "      <td>17,491.56</td>\n",
       "      <td>18.00</td>\n",
       "      <td>Санкт-Петербург</td>\n",
       "      <td>smart</td>\n",
       "      <td>50</td>\n",
       "      <td>15360</td>\n",
       "      <td>500</td>\n",
       "      <td>550</td>\n",
       "      <td>200</td>\n",
       "      <td>3</td>\n",
       "      <td>3</td>\n",
       "      <td>15.00</td>\n",
       "      <td>1,150.00</td>\n",
       "    </tr>\n",
       "    <tr>\n",
       "      <td>3213</td>\n",
       "      <td>1489</td>\n",
       "      <td>12</td>\n",
       "      <td>nan</td>\n",
       "      <td>nan</td>\n",
       "      <td>35.00</td>\n",
       "      <td>17,322.51</td>\n",
       "      <td>17.00</td>\n",
       "      <td>Санкт-Петербург</td>\n",
       "      <td>smart</td>\n",
       "      <td>50</td>\n",
       "      <td>15360</td>\n",
       "      <td>500</td>\n",
       "      <td>550</td>\n",
       "      <td>200</td>\n",
       "      <td>3</td>\n",
       "      <td>3</td>\n",
       "      <td>15.00</td>\n",
       "      <td>950.00</td>\n",
       "    </tr>\n",
       "  </tbody>\n",
       "</table>\n",
       "<p>2229 rows × 18 columns</p>\n",
       "</div>"
      ],
      "text/plain": [
       "      user_id  month  call_count  minutes  messages   mb_used  gb_used  \\\n",
       "985      1001     11       59.00   430.00       nan 18,429.34    18.00   \n",
       "986      1001     12       63.00   414.00       nan 14,036.66    14.00   \n",
       "987      1002      6       15.00   117.00      4.00 10,856.82    11.00   \n",
       "988      1002      7       26.00   214.00     11.00 17,580.10    18.00   \n",
       "989      1002      8       42.00   289.00     13.00 20,319.26    20.00   \n",
       "...       ...    ...         ...      ...       ...       ...      ...   \n",
       "3209     1489      8         nan      nan     17.00 11,050.56    11.00   \n",
       "3210     1489      9         nan      nan     32.00 17,206.30    17.00   \n",
       "3211     1489     10         nan      nan     21.00 19,559.44    20.00   \n",
       "3212     1489     11         nan      nan     20.00 17,491.56    18.00   \n",
       "3213     1489     12         nan      nan     35.00 17,322.51    17.00   \n",
       "\n",
       "                 city tariff  messages_included  mb_per_month_included  \\\n",
       "985            Москва  smart                 50                  15360   \n",
       "986            Москва  smart                 50                  15360   \n",
       "987       Стерлитамак  smart                 50                  15360   \n",
       "988       Стерлитамак  smart                 50                  15360   \n",
       "989       Стерлитамак  smart                 50                  15360   \n",
       "...               ...    ...                ...                    ...   \n",
       "3209  Санкт-Петербург  smart                 50                  15360   \n",
       "3210  Санкт-Петербург  smart                 50                  15360   \n",
       "3211  Санкт-Петербург  smart                 50                  15360   \n",
       "3212  Санкт-Петербург  smart                 50                  15360   \n",
       "3213  Санкт-Петербург  smart                 50                  15360   \n",
       "\n",
       "      minutes_included  rub_monthly_fee  rub_per_gb  rub_per_message  \\\n",
       "985                500              550         200                3   \n",
       "986                500              550         200                3   \n",
       "987                500              550         200                3   \n",
       "988                500              550         200                3   \n",
       "989                500              550         200                3   \n",
       "...                ...              ...         ...              ...   \n",
       "3209               500              550         200                3   \n",
       "3210               500              550         200                3   \n",
       "3211               500              550         200                3   \n",
       "3212               500              550         200                3   \n",
       "3213               500              550         200                3   \n",
       "\n",
       "      rub_per_minute  gb_per_month_included  revenue  \n",
       "985                3                  15.00 1,150.00  \n",
       "986                3                  15.00   550.00  \n",
       "987                3                  15.00   550.00  \n",
       "988                3                  15.00 1,150.00  \n",
       "989                3                  15.00 1,550.00  \n",
       "...              ...                    ...      ...  \n",
       "3209               3                  15.00   550.00  \n",
       "3210               3                  15.00   950.00  \n",
       "3211               3                  15.00 1,550.00  \n",
       "3212               3                  15.00 1,150.00  \n",
       "3213               3                  15.00   950.00  \n",
       "\n",
       "[2229 rows x 18 columns]"
      ]
     },
     "metadata": {},
     "output_type": "display_data"
    }
   ],
   "source": [
    "display(users_stat_smart)"
   ]
  },
  {
   "cell_type": "code",
   "execution_count": 38,
   "metadata": {},
   "outputs": [
    {
     "data": {
      "text/html": [
       "<div>\n",
       "<style scoped>\n",
       "    .dataframe tbody tr th:only-of-type {\n",
       "        vertical-align: middle;\n",
       "    }\n",
       "\n",
       "    .dataframe tbody tr th {\n",
       "        vertical-align: top;\n",
       "    }\n",
       "\n",
       "    .dataframe thead th {\n",
       "        text-align: right;\n",
       "    }\n",
       "</style>\n",
       "<table border=\"1\" class=\"dataframe\">\n",
       "  <thead>\n",
       "    <tr style=\"text-align: right;\">\n",
       "      <th></th>\n",
       "      <th>minutes</th>\n",
       "      <th>messages</th>\n",
       "      <th>gb_used</th>\n",
       "    </tr>\n",
       "  </thead>\n",
       "  <tbody>\n",
       "    <tr>\n",
       "      <td>variance</td>\n",
       "      <td>94,203.42</td>\n",
       "      <td>2,109.66</td>\n",
       "      <td>94.15</td>\n",
       "    </tr>\n",
       "    <tr>\n",
       "      <td>count</td>\n",
       "      <td>951.00</td>\n",
       "      <td>795.00</td>\n",
       "      <td>975.00</td>\n",
       "    </tr>\n",
       "    <tr>\n",
       "      <td>mean</td>\n",
       "      <td>545.45</td>\n",
       "      <td>61.16</td>\n",
       "      <td>19.69</td>\n",
       "    </tr>\n",
       "    <tr>\n",
       "      <td>std</td>\n",
       "      <td>306.93</td>\n",
       "      <td>45.93</td>\n",
       "      <td>9.70</td>\n",
       "    </tr>\n",
       "    <tr>\n",
       "      <td>min</td>\n",
       "      <td>0.00</td>\n",
       "      <td>1.00</td>\n",
       "      <td>0.00</td>\n",
       "    </tr>\n",
       "    <tr>\n",
       "      <td>25%</td>\n",
       "      <td>310.00</td>\n",
       "      <td>24.00</td>\n",
       "      <td>12.00</td>\n",
       "    </tr>\n",
       "    <tr>\n",
       "      <td>50%</td>\n",
       "      <td>528.00</td>\n",
       "      <td>51.00</td>\n",
       "      <td>19.00</td>\n",
       "    </tr>\n",
       "    <tr>\n",
       "      <td>75%</td>\n",
       "      <td>756.50</td>\n",
       "      <td>87.50</td>\n",
       "      <td>27.00</td>\n",
       "    </tr>\n",
       "    <tr>\n",
       "      <td>max</td>\n",
       "      <td>1,673.00</td>\n",
       "      <td>224.00</td>\n",
       "      <td>49.00</td>\n",
       "    </tr>\n",
       "  </tbody>\n",
       "</table>\n",
       "</div>"
      ],
      "text/plain": [
       "           minutes  messages  gb_used\n",
       "variance 94,203.42  2,109.66    94.15\n",
       "count       951.00    795.00   975.00\n",
       "mean        545.45     61.16    19.69\n",
       "std         306.93     45.93     9.70\n",
       "min           0.00      1.00     0.00\n",
       "25%         310.00     24.00    12.00\n",
       "50%         528.00     51.00    19.00\n",
       "75%         756.50     87.50    27.00\n",
       "max       1,673.00    224.00    49.00"
      ]
     },
     "metadata": {},
     "output_type": "display_data"
    }
   ],
   "source": [
    "users_stat_ultra_description = (\n",
    "    pd.concat(\n",
    "        [pd.DataFrame([users_stat_ultra.var()],columns=['minutes','messages','gb_used']).rename(index={0: 'variance'}), \n",
    "         pd.DataFrame(users_stat_ultra.describe(),columns=['minutes','messages','gb_used'])])\n",
    ")\n",
    "\n",
    "display(users_stat_ultra_description)"
   ]
  },
  {
   "cell_type": "code",
   "execution_count": 39,
   "metadata": {},
   "outputs": [
    {
     "data": {
      "text/html": [
       "<div>\n",
       "<style scoped>\n",
       "    .dataframe tbody tr th:only-of-type {\n",
       "        vertical-align: middle;\n",
       "    }\n",
       "\n",
       "    .dataframe tbody tr th {\n",
       "        vertical-align: top;\n",
       "    }\n",
       "\n",
       "    .dataframe thead th {\n",
       "        text-align: right;\n",
       "    }\n",
       "</style>\n",
       "<table border=\"1\" class=\"dataframe\">\n",
       "  <thead>\n",
       "    <tr style=\"text-align: right;\">\n",
       "      <th></th>\n",
       "      <th>minutes</th>\n",
       "      <th>messages</th>\n",
       "      <th>gb_used</th>\n",
       "    </tr>\n",
       "  </thead>\n",
       "  <tbody>\n",
       "    <tr>\n",
       "      <td>variance</td>\n",
       "      <td>35,844.19</td>\n",
       "      <td>717.59</td>\n",
       "      <td>32.92</td>\n",
       "    </tr>\n",
       "    <tr>\n",
       "      <td>count</td>\n",
       "      <td>2,223.00</td>\n",
       "      <td>1,922.00</td>\n",
       "      <td>2,228.00</td>\n",
       "    </tr>\n",
       "    <tr>\n",
       "      <td>mean</td>\n",
       "      <td>419.06</td>\n",
       "      <td>38.72</td>\n",
       "      <td>16.34</td>\n",
       "    </tr>\n",
       "    <tr>\n",
       "      <td>std</td>\n",
       "      <td>189.33</td>\n",
       "      <td>26.79</td>\n",
       "      <td>5.74</td>\n",
       "    </tr>\n",
       "    <tr>\n",
       "      <td>min</td>\n",
       "      <td>0.00</td>\n",
       "      <td>1.00</td>\n",
       "      <td>0.00</td>\n",
       "    </tr>\n",
       "    <tr>\n",
       "      <td>25%</td>\n",
       "      <td>285.00</td>\n",
       "      <td>17.00</td>\n",
       "      <td>13.00</td>\n",
       "    </tr>\n",
       "    <tr>\n",
       "      <td>50%</td>\n",
       "      <td>423.00</td>\n",
       "      <td>34.00</td>\n",
       "      <td>17.00</td>\n",
       "    </tr>\n",
       "    <tr>\n",
       "      <td>75%</td>\n",
       "      <td>545.50</td>\n",
       "      <td>55.00</td>\n",
       "      <td>20.00</td>\n",
       "    </tr>\n",
       "    <tr>\n",
       "      <td>max</td>\n",
       "      <td>1,435.00</td>\n",
       "      <td>143.00</td>\n",
       "      <td>38.00</td>\n",
       "    </tr>\n",
       "  </tbody>\n",
       "</table>\n",
       "</div>"
      ],
      "text/plain": [
       "           minutes  messages  gb_used\n",
       "variance 35,844.19    717.59    32.92\n",
       "count     2,223.00  1,922.00 2,228.00\n",
       "mean        419.06     38.72    16.34\n",
       "std         189.33     26.79     5.74\n",
       "min           0.00      1.00     0.00\n",
       "25%         285.00     17.00    13.00\n",
       "50%         423.00     34.00    17.00\n",
       "75%         545.50     55.00    20.00\n",
       "max       1,435.00    143.00    38.00"
      ]
     },
     "metadata": {},
     "output_type": "display_data"
    }
   ],
   "source": [
    "users_stat_smart_description = (\n",
    "    pd.concat(\n",
    "        [pd.DataFrame([users_stat_smart.var()],columns=['minutes','messages','gb_used']).rename(index={0: 'variance'}), \n",
    "         pd.DataFrame(users_stat_smart.describe(),columns=['minutes','messages','gb_used'])])\n",
    ")\n",
    "\n",
    "display(users_stat_smart_description)"
   ]
  },
  {
   "cell_type": "code",
   "execution_count": 40,
   "metadata": {},
   "outputs": [
    {
     "data": {
      "text/html": [
       "<style  type=\"text/css\" >\n",
       "</style><table id=\"T_f1b072b0_784c_11ec_a085_02420a396a86\" ><thead>    <tr>        <th class=\"blank\" ></th>        <th class=\"index_name level0\" >tariff</th>        <th class=\"col_heading level0 col0\" >smart</th>        <th class=\"col_heading level0 col1\" >ultra</th>    </tr></thead><tbody>\n",
       "                <tr>\n",
       "                        <th id=\"T_f1b072b0_784c_11ec_a085_02420a396a86level0_row0\" class=\"row_heading level0 row0\" rowspan=3>mean</th>\n",
       "                        <th id=\"T_f1b072b0_784c_11ec_a085_02420a396a86level1_row0\" class=\"row_heading level1 row0\" >gb_used</th>\n",
       "                        <td id=\"T_f1b072b0_784c_11ec_a085_02420a396a86row0_col0\" class=\"data row0 col0\" >16.34</td>\n",
       "                        <td id=\"T_f1b072b0_784c_11ec_a085_02420a396a86row0_col1\" class=\"data row0 col1\" >19.69</td>\n",
       "            </tr>\n",
       "            <tr>\n",
       "                                <th id=\"T_f1b072b0_784c_11ec_a085_02420a396a86level1_row1\" class=\"row_heading level1 row1\" >messages</th>\n",
       "                        <td id=\"T_f1b072b0_784c_11ec_a085_02420a396a86row1_col0\" class=\"data row1 col0\" >38.72</td>\n",
       "                        <td id=\"T_f1b072b0_784c_11ec_a085_02420a396a86row1_col1\" class=\"data row1 col1\" >61.16</td>\n",
       "            </tr>\n",
       "            <tr>\n",
       "                                <th id=\"T_f1b072b0_784c_11ec_a085_02420a396a86level1_row2\" class=\"row_heading level1 row2\" >minutes</th>\n",
       "                        <td id=\"T_f1b072b0_784c_11ec_a085_02420a396a86row2_col0\" class=\"data row2 col0\" >419.06</td>\n",
       "                        <td id=\"T_f1b072b0_784c_11ec_a085_02420a396a86row2_col1\" class=\"data row2 col1\" >545.45</td>\n",
       "            </tr>\n",
       "            <tr>\n",
       "                        <th id=\"T_f1b072b0_784c_11ec_a085_02420a396a86level0_row3\" class=\"row_heading level0 row3\" rowspan=3>std</th>\n",
       "                        <th id=\"T_f1b072b0_784c_11ec_a085_02420a396a86level1_row3\" class=\"row_heading level1 row3\" >gb_used</th>\n",
       "                        <td id=\"T_f1b072b0_784c_11ec_a085_02420a396a86row3_col0\" class=\"data row3 col0\" >5.74</td>\n",
       "                        <td id=\"T_f1b072b0_784c_11ec_a085_02420a396a86row3_col1\" class=\"data row3 col1\" >9.70</td>\n",
       "            </tr>\n",
       "            <tr>\n",
       "                                <th id=\"T_f1b072b0_784c_11ec_a085_02420a396a86level1_row4\" class=\"row_heading level1 row4\" >messages</th>\n",
       "                        <td id=\"T_f1b072b0_784c_11ec_a085_02420a396a86row4_col0\" class=\"data row4 col0\" >26.79</td>\n",
       "                        <td id=\"T_f1b072b0_784c_11ec_a085_02420a396a86row4_col1\" class=\"data row4 col1\" >45.93</td>\n",
       "            </tr>\n",
       "            <tr>\n",
       "                                <th id=\"T_f1b072b0_784c_11ec_a085_02420a396a86level1_row5\" class=\"row_heading level1 row5\" >minutes</th>\n",
       "                        <td id=\"T_f1b072b0_784c_11ec_a085_02420a396a86row5_col0\" class=\"data row5 col0\" >189.33</td>\n",
       "                        <td id=\"T_f1b072b0_784c_11ec_a085_02420a396a86row5_col1\" class=\"data row5 col1\" >306.93</td>\n",
       "            </tr>\n",
       "            <tr>\n",
       "                        <th id=\"T_f1b072b0_784c_11ec_a085_02420a396a86level0_row6\" class=\"row_heading level0 row6\" rowspan=3>var</th>\n",
       "                        <th id=\"T_f1b072b0_784c_11ec_a085_02420a396a86level1_row6\" class=\"row_heading level1 row6\" >gb_used</th>\n",
       "                        <td id=\"T_f1b072b0_784c_11ec_a085_02420a396a86row6_col0\" class=\"data row6 col0\" >32.92</td>\n",
       "                        <td id=\"T_f1b072b0_784c_11ec_a085_02420a396a86row6_col1\" class=\"data row6 col1\" >94.15</td>\n",
       "            </tr>\n",
       "            <tr>\n",
       "                                <th id=\"T_f1b072b0_784c_11ec_a085_02420a396a86level1_row7\" class=\"row_heading level1 row7\" >messages</th>\n",
       "                        <td id=\"T_f1b072b0_784c_11ec_a085_02420a396a86row7_col0\" class=\"data row7 col0\" >717.59</td>\n",
       "                        <td id=\"T_f1b072b0_784c_11ec_a085_02420a396a86row7_col1\" class=\"data row7 col1\" >2109.66</td>\n",
       "            </tr>\n",
       "            <tr>\n",
       "                                <th id=\"T_f1b072b0_784c_11ec_a085_02420a396a86level1_row8\" class=\"row_heading level1 row8\" >minutes</th>\n",
       "                        <td id=\"T_f1b072b0_784c_11ec_a085_02420a396a86row8_col0\" class=\"data row8 col0\" >35844.19</td>\n",
       "                        <td id=\"T_f1b072b0_784c_11ec_a085_02420a396a86row8_col1\" class=\"data row8 col1\" >94203.42</td>\n",
       "            </tr>\n",
       "    </tbody></table>"
      ],
      "text/plain": [
       "<pandas.io.formats.style.Styler at 0x7f5cf4550550>"
      ]
     },
     "execution_count": 40,
     "metadata": {},
     "output_type": "execute_result"
    }
   ],
   "source": [
    "users_stat.pivot_table(index='tariff',  \n",
    "                 values=['minutes','messages','gb_used'], \n",
    "                 aggfunc=['mean', 'std', 'var']).T.style.format('{:.2f}')"
   ]
  },
  {
   "cell_type": "markdown",
   "metadata": {},
   "source": [
    "Средние значения потраченных минут, сообщений и трафика у тарифа ultra, как и ожидалось, выше чем у пользователей тарифа smart. Так же как и выше значения дисперсии и стандартного отклонения. Значит вокруг средних значений потраченных минут, сообщений и интернет-трафика данные гораздо сильнее разбросаны у тарифа ultra, чем это показывают данные пользователей тарифа smart"
   ]
  },
  {
   "cell_type": "markdown",
   "metadata": {},
   "source": [
    "Построим гистограммы."
   ]
  },
  {
   "cell_type": "code",
   "execution_count": 41,
   "metadata": {},
   "outputs": [
    {
     "data": {
      "image/png": "[encoded data removed]",
      "text/plain": [
       "<Figure size 1800x720 with 1 Axes>"
      ]
     },
     "metadata": {
      "needs_background": "light"
     },
     "output_type": "display_data"
    }
   ],
   "source": [
    "ax = users_stat_ultra.plot(\n",
    "    kind='hist',\n",
    "    y='minutes',\n",
    "    histtype='step',\n",
    "    figsize=(25, 10),\n",
    "    color='g',\n",
    "    range=(0, users_stat_ultra['minutes'].max()),\n",
    "    bins=100,\n",
    "    label='ultra',\n",
    "    grid=True,\n",
    "    legend=True,\n",
    "    linewidth=1.5,\n",
    "    alpha=0.8\n",
    ")\n",
    "users_stat_smart.plot(\n",
    "    kind='hist',\n",
    "    y='minutes',\n",
    "    histtype='step',\n",
    "    ax=ax,\n",
    "    figsize=(25, 10),\n",
    "    color='b',\n",
    "    range=(0, users_stat_ultra['minutes'].max()),\n",
    "    bins=100,\n",
    "    label='smart',\n",
    "    grid=True,\n",
    "    legend=True,\n",
    "    linewidth=1.5,\n",
    "    alpha=0.8\n",
    ")\n",
    "plt.title('Потраченные минуты на тарифах Smart и Ultra')\n",
    "plt.ylabel('Частота')\n",
    "plt.xlabel('Количесво минут')\n",
    "plt.show()"
   ]
  },
  {
   "cell_type": "markdown",
   "metadata": {},
   "source": [
    "Распределение количества потраченных минут пользователей тарифа smart похоже на нормальное с явным максимумом, соответствующее среднему значению. Распрделение потраченных минут пользователей тарифа ultra - равномерно \"растянуто\" без явного максимума"
   ]
  },
  {
   "cell_type": "code",
   "execution_count": 42,
   "metadata": {},
   "outputs": [
    {
     "data": {
      "text/plain": [
       "Text(0.5, 0, 'Количесво сообщений')"
      ]
     },
     "execution_count": 42,
     "metadata": {},
     "output_type": "execute_result"
    },
    {
     "data": {
      "image/png": "[encoded data removed]",
      "text/plain": [
       "<Figure size 1800x720 with 1 Axes>"
      ]
     },
     "metadata": {
      "needs_background": "light"
     },
     "output_type": "display_data"
    }
   ],
   "source": [
    "ax = users_stat_ultra.plot(\n",
    "    kind='hist',\n",
    "    y='messages',\n",
    "    histtype='step',\n",
    "    figsize=(25,10),\n",
    "    color='g',\n",
    "    range=(0, users_stat_ultra['messages'].max()),\n",
    "    bins=50,\n",
    "    label='ultra',\n",
    "    grid=True,\n",
    "    legend=True,\n",
    "    linewidth=1.5,\n",
    "    alpha=0.8\n",
    ")\n",
    "users_stat_smart.plot(\n",
    "    kind='hist',\n",
    "    y='messages',\n",
    "    histtype='step',\n",
    "    ax=ax,\n",
    "    figsize=(25,10),\n",
    "    color='b',\n",
    "    range=(0, users_stat_ultra['messages'].max()),\n",
    "    bins=50,\n",
    "    label='smart',\n",
    "    grid=True,\n",
    "    legend=True,\n",
    "    linewidth=1.5,\n",
    "    alpha=0.8\n",
    ")\n",
    "plt.title('Потраченные сообщения на тарифах Smart и Ultra')\n",
    "plt.ylabel('Частота')\n",
    "plt.xlabel('Количесво сообщений')"
   ]
  },
  {
   "cell_type": "markdown",
   "metadata": {},
   "source": [
    "Распределение количества потраченных сообщений пользователей тарифа smart похоже на нормальное с явным максимумом, соответствующее среднему значению. Распрделение потраченных минут пользователей тарифа ultra - равномерно \"растянуто\" без явного максимума."
   ]
  },
  {
   "cell_type": "code",
   "execution_count": 43,
   "metadata": {},
   "outputs": [
    {
     "data": {
      "image/png": "[encoded data removed]",
      "text/plain": [
       "<Figure size 1800x720 with 1 Axes>"
      ]
     },
     "metadata": {
      "needs_background": "light"
     },
     "output_type": "display_data"
    }
   ],
   "source": [
    "ax = users_stat_ultra.plot(\n",
    "    kind='hist',\n",
    "    y='gb_used',\n",
    "    histtype='step',\n",
    "    figsize=(25, 10),\n",
    "    color='g',\n",
    "    range=(0, users_stat_ultra['gb_used'].max()),\n",
    "    bins=50,\n",
    "    label='ultra',\n",
    "    grid=True,\n",
    "    legend=True,\n",
    "    linewidth=1.5,\n",
    "    alpha=0.8\n",
    ")\n",
    "users_stat_smart.plot(\n",
    "    kind='hist',\n",
    "    y='gb_used',\n",
    "    histtype='step',\n",
    "    ax=ax,\n",
    "    figsize=(25, 10),\n",
    "    color='b',\n",
    "    range=(0, users_stat_ultra['gb_used'].max()),\n",
    "    bins=50,\n",
    "    label='smart',\n",
    "    grid=True,\n",
    "    legend=True,\n",
    "    linewidth=1.5,\n",
    "    alpha=0.8\n",
    ")\n",
    "plt.title('Потраченные гигабайты на тарифах Smart и Ultra')\n",
    "plt.ylabel('Частота')\n",
    "plt.xlabel('Количесво ГБ')\n",
    "plt.show()"
   ]
  },
  {
   "cell_type": "markdown",
   "metadata": {},
   "source": [
    "Картина аналогична распределению потраченных минут и сообщений."
   ]
  },
  {
   "cell_type": "markdown",
   "metadata": {},
   "source": [
    "Как показали диаграммы распределения, поведение пользователей у двух тарифов сильно отличаются.  \n",
    "Пользователи тарифа ultra примерно одинаково по выборке потрелбяют минуты и сообщения, но пакет интеренета некоторые из них регулярно докупают. Минуты по тарифному плану никто не выговаривает. В пакет включено 3000 минут, а максимальное значение у пользователей данного тарифа 1435 минут.\n",
    "А вот пользователи тарифа smart между собой отличаются сильнее. На графиках явно видны максимумы и распределение похоже на нормальное. Абоненты часто выходят за рамки предоставленного пакета и докупают минты, смс и мобильный интернет."
   ]
  },
  {
   "cell_type": "markdown",
   "metadata": {},
   "source": [
    "## Проверка гипотез"
   ]
  },
  {
   "cell_type": "markdown",
   "metadata": {},
   "source": [
    "Проверим следующие гипотезы:  \n",
    "- средняя выручка пользователей тарифов «Ультра» и «Смарт» различаются;\n",
    "- средняя выручка пользователей из Москвы отличается от выручки пользователей из других регионов.\n",
    "\n",
    "Пороговое значение alpha зададим самостоятельно."
   ]
  },
  {
   "cell_type": "markdown",
   "metadata": {},
   "source": [
    "Проверяем первую гипотезу: \n",
    "\n",
    "- средняя выручка пользователей тарифов «Ультра» и «Смарт» различаются.\n",
    "\n",
    "Нулевая гипотеза: построим ее так, чтобы применялся знак равенства \"Да, средняя выручка пользователей тарифов «Ультра» и «Смарт» равна\".  \n",
    "Тогда альтернативная гипотеза будет звучать так: \"Нет, средняя выручка пользователей тарифов «Ультра» и «Смарт» не равна\".\n",
    "\n",
    "Проверим данные гипотезы.\n",
    "\n",
    "Для этого воспользуемя спеуиальным методом для проверки гипотезы о равенстве среднего двух генеральных совокупностей по взятым из них выборкам: scipy.stats.ttest_ind (array1, array2, equal_var)\n",
    "\n",
    "Укажу equal_var = False, поскольку выборки не равные, и посчитанные ранее дисперсии распределения потраченных минут, сообщений и интернет-трафика сильно отличаются, есть все основания предположить что и в данном случае дисперсии не равны."
   ]
  },
  {
   "cell_type": "code",
   "execution_count": 44,
   "metadata": {},
   "outputs": [],
   "source": [
    "ultra_revenue = users_stat_ultra['revenue']\n",
    "smart_revenue = users_stat_smart['revenue']"
   ]
  },
  {
   "cell_type": "code",
   "execution_count": 45,
   "metadata": {},
   "outputs": [
    {
     "name": "stdout",
     "output_type": "stream",
     "text": [
      "4.2606313931076085e-250\n",
      "Отвергаем нулевую гипотезу\n"
     ]
    }
   ],
   "source": [
    "alpha = .05\n",
    "results = st.ttest_ind(\n",
    "    smart_revenue, \n",
    "    ultra_revenue, \n",
    "    equal_var = False)\n",
    "print(results.pvalue)\n",
    "\n",
    "if results.pvalue < alpha:\n",
    "    print(\"Отвергаем нулевую гипотезу\")\n",
    "else:\n",
    "    print(\"Не получилось отвергнуть нулевую гипотезу\")"
   ]
  },
  {
   "cell_type": "markdown",
   "metadata": {},
   "source": [
    "Данное значние значительно меньше порогового уровеня статистической значимости (обычно это 5%, но тут значительно меньше 1%), в связи с чем можно отказаться от нулевой гипотезы и сделать вывод что средние выручки пользователей тарифов «Ультра» и «Смарт» не равны."
   ]
  },
  {
   "cell_type": "markdown",
   "metadata": {},
   "source": [
    "Проверяем вторую гипотезу:\n",
    "\n",
    "- средняя выручка пользователей из Москвы отличается от выручки пользователей из других регионов.\n",
    "\n",
    "Нулевая гипотеза: построим ее так, чтобы применялся знак равенства \"Да, средняя выручка пользователей из Москвы равна средней выручке пользователей из других регионов\".  \n",
    "Тогда альтернативная гипотеза звучт так: \"Нет, средняя выручка пользователей из Москвы не равна средней выручке пользователей из других регионов\".\n",
    "\n",
    "Проверим данные гипотезы.\n",
    "\n",
    "Для этого воспользуемя спеуиальным методом для проверки гипотезы о равенстве среднего двух генеральных совокупностей по взятым из них выборкам: scipy.stats.ttest_ind (array1, array2, equal_var)\n",
    "\n",
    "Укажу аналогично проверке первой гипотезе equal_var = False.\n",
    "\n",
    "Пороговое значение alpha, аналогично первому варианту возьмем 5%"
   ]
  },
  {
   "cell_type": "code",
   "execution_count": 46,
   "metadata": {},
   "outputs": [],
   "source": [
    "moscow_revenue = users_stat.query('city == \"Москва\"')['revenue']\n",
    "notmoscow_revenue = users_stat.query('city != \"Москва\"')['revenue']"
   ]
  },
  {
   "cell_type": "code",
   "execution_count": 47,
   "metadata": {},
   "outputs": [
    {
     "name": "stdout",
     "output_type": "stream",
     "text": [
      "0.5257376663729298\n",
      "Не получилось отвергнуть нулевую гипотезу\n"
     ]
    }
   ],
   "source": [
    "results = st.ttest_ind(\n",
    "    moscow_revenue, \n",
    "    notmoscow_revenue, \n",
    "    equal_var = False)\n",
    "print(results.pvalue)\n",
    "\n",
    "if results.pvalue < alpha:\n",
    "    print(\"Отвергаем нулевую гипотезу\")\n",
    "else:\n",
    "    print(\"Не получилось отвергнуть нулевую гипотезу\")"
   ]
  },
  {
   "cell_type": "markdown",
   "metadata": {},
   "source": [
    "Как показал тест, вторая гипотеза имеет место быть и, вероятно, средняя выручка пользователей из Москвы не отличается от средней выручки пользователя из другого региона страны."
   ]
  },
  {
   "cell_type": "markdown",
   "metadata": {},
   "source": [
    "## Общий вывод"
   ]
  },
  {
   "cell_type": "markdown",
   "metadata": {},
   "source": [
    "В проекте были проведены все необходимые расчеты, проверены гипотезы.\n",
    "\n",
    "Для пользователей разных тарифов и из разных регионов можно сделать следующие общие выводы:\n",
    "Пользователи тарифа smart отличаются по выборке сильнее, чем пользователи тарифа ultra. В тарифе smart есть пользователи, которые часто выходят за рамки тарифа и докумают сверх пакета дополнительные минуты, смс-сообщения и трафик интернета. В тарифе ultra большиснтво пользователей не расходует минуты в пакете тарифа, однако в выборке представлены и абоненты, выходящие за рамки пакета по интернету. Возможно компании следует продумать третий тарифный план, для пользователей с большим расходом трафика интернета.\n",
    "\n",
    "Проверка гипотез показала:  \n",
    "- гипотеза о равной средней выручке между пользователми тарифов не подтвердилась, что может подтолкнуть на повышение доходности с пользователей тарифа smart, поскольку таких большинство.\n",
    "- гипотеза о равенстве средней выручки пользользователей из Москвы и регионов подтвердилась, что в свою очередь должно натолкнуть на мысль о повышении доходности от пользователей из Столицы, поскольку считается что данная категория более платежеспособная.  \n",
    "\n",
    "Как показало исследование более выгодным тарифом для компании оказался \"Smart\". Он приносит большую выручку и имеет большее количество пользователей. "
   ]
  },
  {
   "cell_type": "code",
   "execution_count": null,
   "metadata": {},
   "outputs": [],
   "source": []
  }
 ],
 "metadata": {
  "ExecuteTimeLog": [
   {
    "duration": 83,
    "start_time": "2022-01-13T18:23:46.585Z"
   },
   {
    "duration": 294,
    "start_time": "2022-01-13T19:08:03.907Z"
   },
   {
    "duration": 1071,
    "start_time": "2022-01-13T19:08:10.225Z"
   },
   {
    "duration": 33,
    "start_time": "2022-01-13T19:08:13.829Z"
   },
   {
    "duration": 17,
    "start_time": "2022-01-13T19:08:55.299Z"
   },
   {
    "duration": 14,
    "start_time": "2022-01-13T19:57:05.436Z"
   },
   {
    "duration": 6,
    "start_time": "2022-01-13T19:57:16.799Z"
   },
   {
    "duration": 16,
    "start_time": "2022-01-13T19:58:52.347Z"
   },
   {
    "duration": 8,
    "start_time": "2022-01-13T20:00:56.532Z"
   },
   {
    "duration": 14,
    "start_time": "2022-01-13T20:00:59.296Z"
   },
   {
    "duration": 175,
    "start_time": "2022-01-13T20:02:30.138Z"
   },
   {
    "duration": 10,
    "start_time": "2022-01-13T20:02:54.319Z"
   },
   {
    "duration": 19,
    "start_time": "2022-01-13T20:03:37.841Z"
   },
   {
    "duration": 8,
    "start_time": "2022-01-13T20:03:56.600Z"
   },
   {
    "duration": 111,
    "start_time": "2022-01-13T20:04:20.355Z"
   },
   {
    "duration": 30,
    "start_time": "2022-01-13T20:04:23.316Z"
   },
   {
    "duration": 94,
    "start_time": "2022-01-13T20:09:22.576Z"
   },
   {
    "duration": 12,
    "start_time": "2022-01-13T20:10:37.913Z"
   },
   {
    "duration": 13,
    "start_time": "2022-01-13T20:10:40.819Z"
   },
   {
    "duration": 39,
    "start_time": "2022-01-13T20:10:43.242Z"
   },
   {
    "duration": 13,
    "start_time": "2022-01-13T20:10:45.774Z"
   },
   {
    "duration": 82,
    "start_time": "2022-01-13T20:11:16.958Z"
   },
   {
    "duration": 303,
    "start_time": "2022-01-13T20:12:31.940Z"
   },
   {
    "duration": 156,
    "start_time": "2022-01-13T20:12:34.316Z"
   },
   {
    "duration": 11,
    "start_time": "2022-01-13T20:12:37.430Z"
   },
   {
    "duration": 15,
    "start_time": "2022-01-13T20:12:39.410Z"
   },
   {
    "duration": 41,
    "start_time": "2022-01-13T20:12:41.659Z"
   },
   {
    "duration": 21,
    "start_time": "2022-01-13T20:12:42.837Z"
   },
   {
    "duration": 20,
    "start_time": "2022-01-13T20:14:28.919Z"
   },
   {
    "duration": 8,
    "start_time": "2022-01-13T20:15:20.557Z"
   },
   {
    "duration": 6,
    "start_time": "2022-01-13T20:15:22.655Z"
   },
   {
    "duration": 6,
    "start_time": "2022-01-13T20:15:29.692Z"
   },
   {
    "duration": 25,
    "start_time": "2022-01-13T20:15:32.850Z"
   },
   {
    "duration": 64,
    "start_time": "2022-01-13T21:03:34.076Z"
   },
   {
    "duration": 21,
    "start_time": "2022-01-13T21:12:00.299Z"
   },
   {
    "duration": 104,
    "start_time": "2022-01-13T21:18:27.715Z"
   },
   {
    "duration": 28,
    "start_time": "2022-01-13T21:18:52.714Z"
   },
   {
    "duration": 29,
    "start_time": "2022-01-13T21:19:16.079Z"
   },
   {
    "duration": 36,
    "start_time": "2022-01-13T21:27:06.003Z"
   },
   {
    "duration": 205,
    "start_time": "2022-01-13T21:29:24.179Z"
   },
   {
    "duration": 355,
    "start_time": "2022-01-14T12:02:04.582Z"
   },
   {
    "duration": 1573,
    "start_time": "2022-01-14T12:02:11.217Z"
   },
   {
    "duration": 40,
    "start_time": "2022-01-14T12:02:12.793Z"
   },
   {
    "duration": 50,
    "start_time": "2022-01-14T12:02:12.836Z"
   },
   {
    "duration": 30,
    "start_time": "2022-01-14T12:02:12.889Z"
   },
   {
    "duration": 36,
    "start_time": "2022-01-14T12:02:12.922Z"
   },
   {
    "duration": 30,
    "start_time": "2022-01-14T12:02:12.961Z"
   },
   {
    "duration": 277,
    "start_time": "2022-01-14T12:02:12.994Z"
   },
   {
    "duration": 10796823,
    "start_time": "2022-01-14T09:02:16.453Z"
   },
   {
    "duration": 10796819,
    "start_time": "2022-01-14T09:02:16.459Z"
   },
   {
    "duration": 10796817,
    "start_time": "2022-01-14T09:02:16.463Z"
   },
   {
    "duration": 10796816,
    "start_time": "2022-01-14T09:02:16.466Z"
   },
   {
    "duration": 10796814,
    "start_time": "2022-01-14T09:02:16.470Z"
   },
   {
    "duration": 10796808,
    "start_time": "2022-01-14T09:02:16.478Z"
   },
   {
    "duration": 10796805,
    "start_time": "2022-01-14T09:02:16.483Z"
   },
   {
    "duration": 10796804,
    "start_time": "2022-01-14T09:02:16.486Z"
   },
   {
    "duration": 10796801,
    "start_time": "2022-01-14T09:02:16.490Z"
   },
   {
    "duration": 10796801,
    "start_time": "2022-01-14T09:02:16.491Z"
   },
   {
    "duration": 10796800,
    "start_time": "2022-01-14T09:02:16.494Z"
   },
   {
    "duration": 10796800,
    "start_time": "2022-01-14T09:02:16.496Z"
   },
   {
    "duration": 10796800,
    "start_time": "2022-01-14T09:02:16.498Z"
   },
   {
    "duration": 10796800,
    "start_time": "2022-01-14T09:02:16.500Z"
   },
   {
    "duration": 10796795,
    "start_time": "2022-01-14T09:02:16.506Z"
   },
   {
    "duration": 10796796,
    "start_time": "2022-01-14T09:02:16.508Z"
   },
   {
    "duration": 10796795,
    "start_time": "2022-01-14T09:02:16.510Z"
   },
   {
    "duration": 10796795,
    "start_time": "2022-01-14T09:02:16.512Z"
   },
   {
    "duration": 10796795,
    "start_time": "2022-01-14T09:02:16.514Z"
   },
   {
    "duration": 10796794,
    "start_time": "2022-01-14T09:02:16.516Z"
   },
   {
    "duration": 10796783,
    "start_time": "2022-01-14T09:02:16.529Z"
   },
   {
    "duration": 10796827,
    "start_time": "2022-01-14T09:02:16.535Z"
   },
   {
    "duration": 10796827,
    "start_time": "2022-01-14T09:02:16.537Z"
   },
   {
    "duration": 10796827,
    "start_time": "2022-01-14T09:02:16.539Z"
   },
   {
    "duration": 10796825,
    "start_time": "2022-01-14T09:02:16.542Z"
   },
   {
    "duration": 10796824,
    "start_time": "2022-01-14T09:02:16.544Z"
   },
   {
    "duration": 10796824,
    "start_time": "2022-01-14T09:02:16.546Z"
   },
   {
    "duration": 10796823,
    "start_time": "2022-01-14T09:02:16.548Z"
   },
   {
    "duration": 5,
    "start_time": "2022-01-14T12:02:42.212Z"
   },
   {
    "duration": 38,
    "start_time": "2022-01-14T12:02:42.220Z"
   },
   {
    "duration": 17,
    "start_time": "2022-01-14T12:02:42.261Z"
   },
   {
    "duration": 8,
    "start_time": "2022-01-14T12:02:42.280Z"
   },
   {
    "duration": 12,
    "start_time": "2022-01-14T12:02:42.290Z"
   },
   {
    "duration": 66,
    "start_time": "2022-01-14T12:02:42.304Z"
   },
   {
    "duration": 233,
    "start_time": "2022-01-14T12:02:42.373Z"
   },
   {
    "duration": 15,
    "start_time": "2022-01-14T12:02:42.609Z"
   },
   {
    "duration": 47,
    "start_time": "2022-01-14T12:02:42.626Z"
   },
   {
    "duration": 154,
    "start_time": "2022-01-14T12:02:42.676Z"
   },
   {
    "duration": 56,
    "start_time": "2022-01-14T12:02:42.833Z"
   },
   {
    "duration": 152,
    "start_time": "2022-01-14T12:02:42.892Z"
   },
   {
    "duration": 18,
    "start_time": "2022-01-14T12:02:43.046Z"
   },
   {
    "duration": 20,
    "start_time": "2022-01-14T12:02:43.066Z"
   },
   {
    "duration": 78,
    "start_time": "2022-01-14T12:02:43.088Z"
   },
   {
    "duration": 21,
    "start_time": "2022-01-14T12:02:43.168Z"
   },
   {
    "duration": 218,
    "start_time": "2022-01-14T12:02:43.191Z"
   },
   {
    "duration": 19,
    "start_time": "2022-01-14T12:02:43.411Z"
   },
   {
    "duration": 45,
    "start_time": "2022-01-14T12:02:43.437Z"
   },
   {
    "duration": 79,
    "start_time": "2022-01-14T12:02:43.485Z"
   },
   {
    "duration": 31,
    "start_time": "2022-01-14T12:02:43.567Z"
   },
   {
    "duration": 25,
    "start_time": "2022-01-14T12:02:43.600Z"
   },
   {
    "duration": 15,
    "start_time": "2022-01-14T12:02:43.627Z"
   },
   {
    "duration": 9,
    "start_time": "2022-01-14T12:02:43.664Z"
   },
   {
    "duration": 10,
    "start_time": "2022-01-14T12:02:43.675Z"
   },
   {
    "duration": 75,
    "start_time": "2022-01-14T12:02:43.688Z"
   },
   {
    "duration": 34,
    "start_time": "2022-01-14T12:02:43.765Z"
   },
   {
    "duration": 98,
    "start_time": "2022-01-14T12:02:43.801Z"
   },
   {
    "duration": 162,
    "start_time": "2022-01-14T12:02:43.901Z"
   },
   {
    "duration": 41,
    "start_time": "2022-01-14T12:02:44.065Z"
   },
   {
    "duration": 64,
    "start_time": "2022-01-14T12:02:44.108Z"
   },
   {
    "duration": 61,
    "start_time": "2022-01-14T12:02:44.175Z"
   },
   {
    "duration": 476,
    "start_time": "2022-01-14T12:02:44.239Z"
   },
   {
    "duration": 9,
    "start_time": "2022-01-14T12:02:44.718Z"
   },
   {
    "duration": 28,
    "start_time": "2022-01-14T12:03:52.405Z"
   },
   {
    "duration": 31,
    "start_time": "2022-01-14T12:04:05.495Z"
   },
   {
    "duration": 76,
    "start_time": "2022-01-14T12:04:31.339Z"
   },
   {
    "duration": 80,
    "start_time": "2022-01-14T12:04:56.698Z"
   },
   {
    "duration": 431,
    "start_time": "2022-01-14T12:15:18.079Z"
   },
   {
    "duration": 461,
    "start_time": "2022-01-14T12:15:54.583Z"
   },
   {
    "duration": 704,
    "start_time": "2022-01-14T12:16:27.040Z"
   },
   {
    "duration": 675,
    "start_time": "2022-01-14T12:16:36.414Z"
   },
   {
    "duration": 415,
    "start_time": "2022-01-14T12:16:50.935Z"
   },
   {
    "duration": 842,
    "start_time": "2022-01-14T12:17:23.765Z"
   },
   {
    "duration": 729,
    "start_time": "2022-01-14T12:19:17.622Z"
   },
   {
    "duration": 740,
    "start_time": "2022-01-14T12:21:09.660Z"
   },
   {
    "duration": 3,
    "start_time": "2022-01-14T12:35:06.630Z"
   },
   {
    "duration": 7,
    "start_time": "2022-01-14T12:35:22.253Z"
   },
   {
    "duration": 13,
    "start_time": "2022-01-14T12:38:04.982Z"
   },
   {
    "duration": 7,
    "start_time": "2022-01-14T12:38:21.296Z"
   },
   {
    "duration": 7,
    "start_time": "2022-01-14T12:40:37.973Z"
   },
   {
    "duration": 6,
    "start_time": "2022-01-14T12:41:00.587Z"
   },
   {
    "duration": 1606,
    "start_time": "2022-01-16T14:43:53.276Z"
   },
   {
    "duration": 32,
    "start_time": "2022-01-16T14:43:54.884Z"
   },
   {
    "duration": 14,
    "start_time": "2022-01-16T14:43:54.918Z"
   },
   {
    "duration": 4,
    "start_time": "2022-01-16T14:43:54.934Z"
   },
   {
    "duration": 7,
    "start_time": "2022-01-16T14:43:54.940Z"
   },
   {
    "duration": 13,
    "start_time": "2022-01-16T14:43:54.948Z"
   },
   {
    "duration": 162,
    "start_time": "2022-01-16T14:43:54.962Z"
   },
   {
    "duration": 9,
    "start_time": "2022-01-16T14:43:55.126Z"
   },
   {
    "duration": 21,
    "start_time": "2022-01-16T14:43:55.137Z"
   },
   {
    "duration": 107,
    "start_time": "2022-01-16T14:43:55.160Z"
   },
   {
    "duration": 26,
    "start_time": "2022-01-16T14:43:55.268Z"
   },
   {
    "duration": 98,
    "start_time": "2022-01-16T14:43:55.296Z"
   },
   {
    "duration": 9,
    "start_time": "2022-01-16T14:43:55.395Z"
   },
   {
    "duration": 15,
    "start_time": "2022-01-16T14:43:55.405Z"
   },
   {
    "duration": 49,
    "start_time": "2022-01-16T14:43:55.421Z"
   },
   {
    "duration": 12,
    "start_time": "2022-01-16T14:43:55.472Z"
   },
   {
    "duration": 147,
    "start_time": "2022-01-16T14:43:55.485Z"
   },
   {
    "duration": 14,
    "start_time": "2022-01-16T14:43:55.634Z"
   },
   {
    "duration": 15,
    "start_time": "2022-01-16T14:43:55.650Z"
   },
   {
    "duration": 42,
    "start_time": "2022-01-16T14:43:55.666Z"
   },
   {
    "duration": 45,
    "start_time": "2022-01-16T14:43:55.710Z"
   },
   {
    "duration": 21,
    "start_time": "2022-01-16T14:43:55.757Z"
   },
   {
    "duration": 7,
    "start_time": "2022-01-16T14:43:55.781Z"
   },
   {
    "duration": 6,
    "start_time": "2022-01-16T14:43:55.790Z"
   },
   {
    "duration": 6,
    "start_time": "2022-01-16T14:43:55.798Z"
   },
   {
    "duration": 36,
    "start_time": "2022-01-16T14:43:55.806Z"
   },
   {
    "duration": 12,
    "start_time": "2022-01-16T14:43:55.844Z"
   },
   {
    "duration": 63,
    "start_time": "2022-01-16T14:43:55.857Z"
   },
   {
    "duration": 120,
    "start_time": "2022-01-16T14:43:55.921Z"
   },
   {
    "duration": 29,
    "start_time": "2022-01-16T14:43:56.042Z"
   },
   {
    "duration": 30,
    "start_time": "2022-01-16T14:43:56.072Z"
   },
   {
    "duration": 53,
    "start_time": "2022-01-16T14:43:56.104Z"
   },
   {
    "duration": 222,
    "start_time": "2022-01-16T14:43:56.159Z"
   },
   {
    "duration": 6,
    "start_time": "2022-01-16T14:43:56.383Z"
   },
   {
    "duration": 19,
    "start_time": "2022-01-16T14:43:56.391Z"
   },
   {
    "duration": 33,
    "start_time": "2022-01-16T14:43:56.412Z"
   },
   {
    "duration": 47,
    "start_time": "2022-01-16T14:43:56.447Z"
   },
   {
    "duration": 67,
    "start_time": "2022-01-16T14:43:56.495Z"
   },
   {
    "duration": 409,
    "start_time": "2022-01-16T14:43:56.564Z"
   },
   {
    "duration": 411,
    "start_time": "2022-01-16T14:43:56.974Z"
   },
   {
    "duration": 403,
    "start_time": "2022-01-16T14:43:57.387Z"
   },
   {
    "duration": 2,
    "start_time": "2022-01-16T14:43:57.792Z"
   },
   {
    "duration": 7,
    "start_time": "2022-01-16T14:43:57.796Z"
   },
   {
    "duration": 9,
    "start_time": "2022-01-16T14:43:57.804Z"
   },
   {
    "duration": 4,
    "start_time": "2022-01-16T14:43:57.815Z"
   },
   {
    "duration": 14,
    "start_time": "2022-01-16T14:50:51.726Z"
   },
   {
    "duration": 47533,
    "start_time": "2022-01-16T14:55:58.338Z"
   },
   {
    "duration": 235,
    "start_time": "2022-01-18T10:52:55.300Z"
   },
   {
    "duration": 986,
    "start_time": "2022-01-18T10:53:58.043Z"
   },
   {
    "duration": 35,
    "start_time": "2022-01-18T10:53:59.030Z"
   },
   {
    "duration": 14,
    "start_time": "2022-01-18T10:53:59.066Z"
   },
   {
    "duration": 6,
    "start_time": "2022-01-18T10:53:59.081Z"
   },
   {
    "duration": 7,
    "start_time": "2022-01-18T10:53:59.088Z"
   },
   {
    "duration": 17,
    "start_time": "2022-01-18T10:53:59.096Z"
   },
   {
    "duration": 149,
    "start_time": "2022-01-18T10:53:59.115Z"
   },
   {
    "duration": 9,
    "start_time": "2022-01-18T10:53:59.266Z"
   },
   {
    "duration": 40,
    "start_time": "2022-01-18T10:53:59.277Z"
   },
   {
    "duration": 78,
    "start_time": "2022-01-18T10:53:59.318Z"
   },
   {
    "duration": 35,
    "start_time": "2022-01-18T10:53:59.398Z"
   },
   {
    "duration": 89,
    "start_time": "2022-01-18T10:53:59.435Z"
   },
   {
    "duration": 9,
    "start_time": "2022-01-18T10:53:59.525Z"
   },
   {
    "duration": 14,
    "start_time": "2022-01-18T10:53:59.536Z"
   },
   {
    "duration": 34,
    "start_time": "2022-01-18T10:53:59.551Z"
   },
   {
    "duration": 32,
    "start_time": "2022-01-18T10:53:59.587Z"
   },
   {
    "duration": 131,
    "start_time": "2022-01-18T10:53:59.620Z"
   },
   {
    "duration": 11,
    "start_time": "2022-01-18T10:53:59.752Z"
   },
   {
    "duration": 19,
    "start_time": "2022-01-18T10:53:59.765Z"
   },
   {
    "duration": 52,
    "start_time": "2022-01-18T10:53:59.786Z"
   },
   {
    "duration": 19,
    "start_time": "2022-01-18T10:53:59.839Z"
   },
   {
    "duration": 16,
    "start_time": "2022-01-18T10:53:59.860Z"
   },
   {
    "duration": 9,
    "start_time": "2022-01-18T10:53:59.878Z"
   },
   {
    "duration": 13,
    "start_time": "2022-01-18T10:53:59.888Z"
   },
   {
    "duration": 9,
    "start_time": "2022-01-18T10:53:59.911Z"
   },
   {
    "duration": 24,
    "start_time": "2022-01-18T10:53:59.921Z"
   },
   {
    "duration": 8,
    "start_time": "2022-01-18T10:53:59.948Z"
   },
   {
    "duration": 90,
    "start_time": "2022-01-18T10:53:59.958Z"
   },
   {
    "duration": 107,
    "start_time": "2022-01-18T10:54:00.049Z"
   },
   {
    "duration": 27,
    "start_time": "2022-01-18T10:54:00.157Z"
   },
   {
    "duration": 40,
    "start_time": "2022-01-18T10:54:00.185Z"
   },
   {
    "duration": 34,
    "start_time": "2022-01-18T10:54:00.226Z"
   },
   {
    "duration": 214,
    "start_time": "2022-01-18T10:54:00.261Z"
   },
   {
    "duration": 5,
    "start_time": "2022-01-18T10:54:00.477Z"
   },
   {
    "duration": 18,
    "start_time": "2022-01-18T10:54:00.484Z"
   },
   {
    "duration": 23,
    "start_time": "2022-01-18T10:54:00.503Z"
   },
   {
    "duration": 45,
    "start_time": "2022-01-18T10:54:00.528Z"
   },
   {
    "duration": 67,
    "start_time": "2022-01-18T10:54:00.575Z"
   },
   {
    "duration": 299,
    "start_time": "2022-01-18T10:54:00.643Z"
   },
   {
    "duration": 426,
    "start_time": "2022-01-18T10:54:00.944Z"
   },
   {
    "duration": 428,
    "start_time": "2022-01-18T10:54:01.372Z"
   },
   {
    "duration": 416,
    "start_time": "2022-01-18T10:54:01.802Z"
   },
   {
    "duration": 3,
    "start_time": "2022-01-18T10:54:02.219Z"
   },
   {
    "duration": 9,
    "start_time": "2022-01-18T10:54:02.223Z"
   },
   {
    "duration": 13,
    "start_time": "2022-01-18T10:54:02.234Z"
   },
   {
    "duration": 6,
    "start_time": "2022-01-18T10:54:02.248Z"
   },
   {
    "duration": 4,
    "start_time": "2022-01-18T10:55:27.326Z"
   },
   {
    "duration": 3,
    "start_time": "2022-01-18T10:55:40.974Z"
   }
  ],
  "kernelspec": {
   "display_name": "Python 3 (ipykernel)",
   "language": "python",
   "name": "python3"
  },
  "language_info": {
   "codemirror_mode": {
    "name": "ipython",
    "version": 3
   },
   "file_extension": ".py",
   "mimetype": "text/x-python",
   "name": "python",
   "nbconvert_exporter": "python",
   "pygments_lexer": "ipython3",
   "version": "3.9.5"
  },
  "toc": {
   "base_numbering": 1,
   "nav_menu": {},
   "number_sections": true,
   "sideBar": true,
   "skip_h1_title": true,
   "title_cell": "Table of Contents",
   "title_sidebar": "Contents",
   "toc_cell": false,
   "toc_position": {},
   "toc_section_display": true,
   "toc_window_display": false
  }
 },
 "nbformat": 4,
 "nbformat_minor": 2
}
