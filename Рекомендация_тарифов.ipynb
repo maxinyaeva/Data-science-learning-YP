{
 "cells": [
  {
   "cell_type": "markdown",
   "metadata": {},
   "source": [
    "Привет, меня зовут Люман Аблаев. Сегодня я проверю твой проект.\n",
    "<br> Дальнейшее общение будет происходить на \"ты\" если это не вызывает никаких проблем.\n",
    "<br> Желательно реагировать на каждый мой комментарий ('исправил', 'не понятно как исправить ошибку', ...)\n",
    "<br> Пожалуйста, не удаляй комментарии ревьюера, так как они повышают качество повторного ревью.\n",
    "\n",
    "Комментарии будут в <font color='green'>зеленой</font>, <font color='blue'>синей</font> или <font color='red'>красной</font> рамках:\n",
    "\n",
    "<div class=\"alert alert-block alert-success\">\n",
    "<b>Успех:</b> Если все сделано отлично\n",
    "</div>\n",
    "\n",
    "<div class=\"alert alert-block alert-info\">\n",
    "<b>Совет: </b> Если можно немного улучшить\n",
    "</div>\n",
    "\n",
    "<div class=\"alert alert-block alert-danger\">\n",
    "<b>Ошибка:</b> Если требуются исправления. Работа не может быть принята с красными комментариями.\n",
    "</div>\n",
    "\n",
    "\n",
    "<font color='orange' style='font-size:24px; font-weight:bold'>Общее впечатление</font>\n",
    "* Спасибо за то, что прислала такую хорошую работу, мне она очень понравилась\n",
    "- Я оставил некоторые советы, надеюсь они будут полезными или интересными.\n",
    "* Радует, что код написан довольно чисто, читабельно и аккуратно. Приятно проверять такие работы.\n",
    "* Есть маленькие недочеты, но я думаю у тебя не займет много времени исправить их и дополнить свою работу.\n",
    "- Жду обновленный проект.\n",
    "\n",
    "<font color='orange' style='font-size:24px; font-weight:bold'>Общее впечатление[2]</font>\n",
    "* Спасибо за оперативность.\n",
    "- Недочеты исправлены, работа корректна.\n",
    "- Удачи в дальнейшем обучении!"
   ]
  },
  {
   "cell_type": "markdown",
   "metadata": {},
   "source": [
    "# Рекомендация тарифов"
   ]
  },
  {
   "cell_type": "markdown",
   "metadata": {},
   "source": [
    "В вашем распоряжении данные о поведении клиентов, которые уже перешли на эти тарифы (из проекта курса «Статистический анализ данных»). Нужно построить модель для задачи классификации, которая выберет подходящий тариф. Предобработка данных не понадобится — вы её уже сделали.\n",
    "\n",
    "Постройте модель с максимально большим значением *accuracy*. Чтобы сдать проект успешно, нужно довести долю правильных ответов по крайней мере до 0.75. Проверьте *accuracy* на тестовой выборке самостоятельно."
   ]
  },
  {
   "cell_type": "markdown",
   "metadata": {},
   "source": [
    "## Откройте и изучите файл"
   ]
  },
  {
   "cell_type": "markdown",
   "metadata": {},
   "source": [
    "**Описание данных**  \n",
    "Каждый объект в наборе данных — это информация о поведении одного пользователя за месяц.  \n",
    "Известно:\n",
    "- сalls — количество звонков,\n",
    "- minutes — суммарная длительность звонков в минутах,\n",
    "- messages — количество sms-сообщений,\n",
    "- mb_used — израсходованный интернет-трафик в Мб,\n",
    "- is_ultra — каким тарифом пользовался в течение месяца («Ультра» — 1, «Смарт» — 0)."
   ]
  },
  {
   "cell_type": "markdown",
   "metadata": {},
   "source": [
    "<div class=\"alert alert-block alert-success\">\n",
    "<b>Успех:</b> Спасибо за описание проекта\n",
    "</div>\n"
   ]
  },
  {
   "cell_type": "markdown",
   "metadata": {},
   "source": [
    "<div class=\"alert alert-block alert-info\">\n",
    "<b>Совет:</b> Советую собирать все импорты  в верхней части ноутбука! Если у того, кто будет запускать твой ноутбук будут отсутствовать некоторые библиотеки, то он это увидит сразу, а не в процессе!\n",
    "  \n",
    "</div>"
   ]
  },
  {
   "cell_type": "code",
   "execution_count": 41,
   "metadata": {},
   "outputs": [],
   "source": [
    "import pandas as pd\n",
    "from sklearn.model_selection import train_test_split\n",
    "from sklearn.tree import DecisionTreeClassifier\n",
    "from sklearn.metrics import accuracy_score\n",
    "from sklearn.ensemble import RandomForestClassifier\n",
    "from sklearn.linear_model import LogisticRegression\n",
    "from sklearn.model_selection import GridSearchCV\n",
    "from sklearn.dummy import DummyClassifier"
   ]
  },
  {
   "cell_type": "code",
   "execution_count": 43,
   "metadata": {},
   "outputs": [],
   "source": [
    "df = pd.read_csv('/datasets/users_behavior.csv')"
   ]
  },
  {
   "cell_type": "code",
   "execution_count": 45,
   "metadata": {},
   "outputs": [
    {
     "name": "stdout",
     "output_type": "stream",
     "text": [
      "<class 'pandas.core.frame.DataFrame'>\n",
      "RangeIndex: 3214 entries, 0 to 3213\n",
      "Data columns (total 5 columns):\n",
      "calls       3214 non-null float64\n",
      "minutes     3214 non-null float64\n",
      "messages    3214 non-null float64\n",
      "mb_used     3214 non-null float64\n",
      "is_ultra    3214 non-null int64\n",
      "dtypes: float64(4), int64(1)\n",
      "memory usage: 125.7 KB\n"
     ]
    }
   ],
   "source": [
    "df.info()"
   ]
  },
  {
   "cell_type": "code",
   "execution_count": 47,
   "metadata": {},
   "outputs": [
    {
     "data": {
      "text/html": [
       "<div>\n",
       "<style scoped>\n",
       "    .dataframe tbody tr th:only-of-type {\n",
       "        vertical-align: middle;\n",
       "    }\n",
       "\n",
       "    .dataframe tbody tr th {\n",
       "        vertical-align: top;\n",
       "    }\n",
       "\n",
       "    .dataframe thead th {\n",
       "        text-align: right;\n",
       "    }\n",
       "</style>\n",
       "<table border=\"1\" class=\"dataframe\">\n",
       "  <thead>\n",
       "    <tr style=\"text-align: right;\">\n",
       "      <th></th>\n",
       "      <th>calls</th>\n",
       "      <th>minutes</th>\n",
       "      <th>messages</th>\n",
       "      <th>mb_used</th>\n",
       "      <th>is_ultra</th>\n",
       "    </tr>\n",
       "  </thead>\n",
       "  <tbody>\n",
       "    <tr>\n",
       "      <td>0</td>\n",
       "      <td>40.0</td>\n",
       "      <td>311.90</td>\n",
       "      <td>83.0</td>\n",
       "      <td>19915.42</td>\n",
       "      <td>0</td>\n",
       "    </tr>\n",
       "    <tr>\n",
       "      <td>1</td>\n",
       "      <td>85.0</td>\n",
       "      <td>516.75</td>\n",
       "      <td>56.0</td>\n",
       "      <td>22696.96</td>\n",
       "      <td>0</td>\n",
       "    </tr>\n",
       "    <tr>\n",
       "      <td>2</td>\n",
       "      <td>77.0</td>\n",
       "      <td>467.66</td>\n",
       "      <td>86.0</td>\n",
       "      <td>21060.45</td>\n",
       "      <td>0</td>\n",
       "    </tr>\n",
       "    <tr>\n",
       "      <td>3</td>\n",
       "      <td>106.0</td>\n",
       "      <td>745.53</td>\n",
       "      <td>81.0</td>\n",
       "      <td>8437.39</td>\n",
       "      <td>1</td>\n",
       "    </tr>\n",
       "    <tr>\n",
       "      <td>4</td>\n",
       "      <td>66.0</td>\n",
       "      <td>418.74</td>\n",
       "      <td>1.0</td>\n",
       "      <td>14502.75</td>\n",
       "      <td>0</td>\n",
       "    </tr>\n",
       "    <tr>\n",
       "      <td>5</td>\n",
       "      <td>58.0</td>\n",
       "      <td>344.56</td>\n",
       "      <td>21.0</td>\n",
       "      <td>15823.37</td>\n",
       "      <td>0</td>\n",
       "    </tr>\n",
       "    <tr>\n",
       "      <td>6</td>\n",
       "      <td>57.0</td>\n",
       "      <td>431.64</td>\n",
       "      <td>20.0</td>\n",
       "      <td>3738.90</td>\n",
       "      <td>1</td>\n",
       "    </tr>\n",
       "    <tr>\n",
       "      <td>7</td>\n",
       "      <td>15.0</td>\n",
       "      <td>132.40</td>\n",
       "      <td>6.0</td>\n",
       "      <td>21911.60</td>\n",
       "      <td>0</td>\n",
       "    </tr>\n",
       "    <tr>\n",
       "      <td>8</td>\n",
       "      <td>7.0</td>\n",
       "      <td>43.39</td>\n",
       "      <td>3.0</td>\n",
       "      <td>2538.67</td>\n",
       "      <td>1</td>\n",
       "    </tr>\n",
       "    <tr>\n",
       "      <td>9</td>\n",
       "      <td>90.0</td>\n",
       "      <td>665.41</td>\n",
       "      <td>38.0</td>\n",
       "      <td>17358.61</td>\n",
       "      <td>0</td>\n",
       "    </tr>\n",
       "  </tbody>\n",
       "</table>\n",
       "</div>"
      ],
      "text/plain": [
       "   calls  minutes  messages   mb_used  is_ultra\n",
       "0   40.0   311.90      83.0  19915.42         0\n",
       "1   85.0   516.75      56.0  22696.96         0\n",
       "2   77.0   467.66      86.0  21060.45         0\n",
       "3  106.0   745.53      81.0   8437.39         1\n",
       "4   66.0   418.74       1.0  14502.75         0\n",
       "5   58.0   344.56      21.0  15823.37         0\n",
       "6   57.0   431.64      20.0   3738.90         1\n",
       "7   15.0   132.40       6.0  21911.60         0\n",
       "8    7.0    43.39       3.0   2538.67         1\n",
       "9   90.0   665.41      38.0  17358.61         0"
      ]
     },
     "execution_count": 47,
     "metadata": {},
     "output_type": "execute_result"
    }
   ],
   "source": [
    "df.head(10)"
   ]
  },
  {
   "cell_type": "code",
   "execution_count": 49,
   "metadata": {},
   "outputs": [
    {
     "data": {
      "text/html": [
       "<div>\n",
       "<style scoped>\n",
       "    .dataframe tbody tr th:only-of-type {\n",
       "        vertical-align: middle;\n",
       "    }\n",
       "\n",
       "    .dataframe tbody tr th {\n",
       "        vertical-align: top;\n",
       "    }\n",
       "\n",
       "    .dataframe thead th {\n",
       "        text-align: right;\n",
       "    }\n",
       "</style>\n",
       "<table border=\"1\" class=\"dataframe\">\n",
       "  <thead>\n",
       "    <tr style=\"text-align: right;\">\n",
       "      <th></th>\n",
       "      <th>calls</th>\n",
       "      <th>minutes</th>\n",
       "      <th>messages</th>\n",
       "      <th>mb_used</th>\n",
       "      <th>is_ultra</th>\n",
       "    </tr>\n",
       "  </thead>\n",
       "  <tbody>\n",
       "    <tr>\n",
       "      <td>count</td>\n",
       "      <td>3214.000000</td>\n",
       "      <td>3214.000000</td>\n",
       "      <td>3214.000000</td>\n",
       "      <td>3214.000000</td>\n",
       "      <td>3214.000000</td>\n",
       "    </tr>\n",
       "    <tr>\n",
       "      <td>mean</td>\n",
       "      <td>63.038892</td>\n",
       "      <td>438.208787</td>\n",
       "      <td>38.281269</td>\n",
       "      <td>17207.673836</td>\n",
       "      <td>0.306472</td>\n",
       "    </tr>\n",
       "    <tr>\n",
       "      <td>std</td>\n",
       "      <td>33.236368</td>\n",
       "      <td>234.569872</td>\n",
       "      <td>36.148326</td>\n",
       "      <td>7570.968246</td>\n",
       "      <td>0.461100</td>\n",
       "    </tr>\n",
       "    <tr>\n",
       "      <td>min</td>\n",
       "      <td>0.000000</td>\n",
       "      <td>0.000000</td>\n",
       "      <td>0.000000</td>\n",
       "      <td>0.000000</td>\n",
       "      <td>0.000000</td>\n",
       "    </tr>\n",
       "    <tr>\n",
       "      <td>25%</td>\n",
       "      <td>40.000000</td>\n",
       "      <td>274.575000</td>\n",
       "      <td>9.000000</td>\n",
       "      <td>12491.902500</td>\n",
       "      <td>0.000000</td>\n",
       "    </tr>\n",
       "    <tr>\n",
       "      <td>50%</td>\n",
       "      <td>62.000000</td>\n",
       "      <td>430.600000</td>\n",
       "      <td>30.000000</td>\n",
       "      <td>16943.235000</td>\n",
       "      <td>0.000000</td>\n",
       "    </tr>\n",
       "    <tr>\n",
       "      <td>75%</td>\n",
       "      <td>82.000000</td>\n",
       "      <td>571.927500</td>\n",
       "      <td>57.000000</td>\n",
       "      <td>21424.700000</td>\n",
       "      <td>1.000000</td>\n",
       "    </tr>\n",
       "    <tr>\n",
       "      <td>max</td>\n",
       "      <td>244.000000</td>\n",
       "      <td>1632.060000</td>\n",
       "      <td>224.000000</td>\n",
       "      <td>49745.730000</td>\n",
       "      <td>1.000000</td>\n",
       "    </tr>\n",
       "  </tbody>\n",
       "</table>\n",
       "</div>"
      ],
      "text/plain": [
       "             calls      minutes     messages       mb_used     is_ultra\n",
       "count  3214.000000  3214.000000  3214.000000   3214.000000  3214.000000\n",
       "mean     63.038892   438.208787    38.281269  17207.673836     0.306472\n",
       "std      33.236368   234.569872    36.148326   7570.968246     0.461100\n",
       "min       0.000000     0.000000     0.000000      0.000000     0.000000\n",
       "25%      40.000000   274.575000     9.000000  12491.902500     0.000000\n",
       "50%      62.000000   430.600000    30.000000  16943.235000     0.000000\n",
       "75%      82.000000   571.927500    57.000000  21424.700000     1.000000\n",
       "max     244.000000  1632.060000   224.000000  49745.730000     1.000000"
      ]
     },
     "execution_count": 49,
     "metadata": {},
     "output_type": "execute_result"
    }
   ],
   "source": [
    "df.describe()"
   ]
  },
  {
   "cell_type": "markdown",
   "metadata": {},
   "source": [
    "В датафрейме нет пропущенных значений, все колонки в требуемом типе данных (float), разве что можно изменить тип данных у столбца is_ultra, т.к. в нем только два значения 1 и 0.  \n",
    "Стандартное отклоение максимально в столбце mb_used, это говорит о большом разбросе данных и необходимо проверить этот столбец на вбросы."
   ]
  },
  {
   "cell_type": "code",
   "execution_count": 51,
   "metadata": {},
   "outputs": [
    {
     "data": {
      "text/plain": [
       "<matplotlib.axes._subplots.AxesSubplot at 0x7f571273a610>"
      ]
     },
     "execution_count": 51,
     "metadata": {},
     "output_type": "execute_result"
    },
    {
     "data": {
      "image/png": "[encoded data removed]",
      "text/plain": [
       "<Figure size 432x288 with 1 Axes>"
      ]
     },
     "metadata": {
      "needs_background": "light"
     },
     "output_type": "display_data"
    }
   ],
   "source": [
    "pd.Series(df['mb_used']).hist(bins=100, range=(0,5000))"
   ]
  },
  {
   "cell_type": "markdown",
   "metadata": {},
   "source": [
    "Как видно из диаграммы есть пик на отметке 0, но не все пользователи выходят за количество мегабайт по своему тарифу, поэтому такое распределение вполне логично."
   ]
  },
  {
   "cell_type": "code",
   "execution_count": 53,
   "metadata": {},
   "outputs": [
    {
     "data": {
      "text/plain": [
       "<matplotlib.axes._subplots.AxesSubplot at 0x7f5712562950>"
      ]
     },
     "execution_count": 53,
     "metadata": {},
     "output_type": "execute_result"
    },
    {
     "data": {
      "image/png": "[encoded data removed]",
      "text/plain": [
       "<Figure size 432x288 with 1 Axes>"
      ]
     },
     "metadata": {
      "needs_background": "light"
     },
     "output_type": "display_data"
    }
   ],
   "source": [
    "df.boxplot()"
   ]
  },
  {
   "cell_type": "markdown",
   "metadata": {},
   "source": [
    "Как показала диаграмма размаха для столбца mb_used действительно есть много вбросов, многие из которых находятся в диапазоне от 35000 до 45000 мегабайт. Чтобы оценить адекватность, посчитаем сколько это в гигабайтах. 35000/1024 = 34 гб и 45000/1024 = 44 гб соответсвенно. В нанешних реалиях есть пользователи, кто тратят 100 и более гигабайт в месяц со своих мобильных устройств, поэтому эти данные имеют место быть, мы не будем их усреднять или выбрасывать из выборки, т.к. таких пользователей достаточно много."
   ]
  },
  {
   "cell_type": "markdown",
   "metadata": {},
   "source": [
    "<div class=\"alert alert-block alert-success\">\n",
    "<b>Успех:</b> Осмотр проведен\n",
    "</div>"
   ]
  },
  {
   "cell_type": "markdown",
   "metadata": {},
   "source": [
    "<div class=\"alert alert-info\">\n",
    "    \n",
    "<b>Совет</b>\n",
    "Также важно изучить корреляции в данных. Так мы можем оценить взаимосвязи в данных и влияние параметров на целевой признак. Рекомендую посмотреть метод `sns.pairplot` с параметром hue, в который мы передаем целевой признак. Будет здорово, если ты сможешь это реализовать в текущем или последующих проектах. \n",
    "\n",
    "</div>"
   ]
  },
  {
   "cell_type": "markdown",
   "metadata": {},
   "source": [
    "## Разбейте данные на выборки"
   ]
  },
  {
   "cell_type": "markdown",
   "metadata": {},
   "source": [
    "Т.к. у нас нет тестовой выборки, то мы разделим датафрейм на 3 выборки: обучающую, валидационную и тестовую в соотношении 3:1:1."
   ]
  },
  {
   "cell_type": "code",
   "execution_count": 55,
   "metadata": {},
   "outputs": [],
   "source": [
    "df_train, df_valid_test = train_test_split(df, test_size=0.4, random_state=12345)"
   ]
  },
  {
   "cell_type": "code",
   "execution_count": 57,
   "metadata": {},
   "outputs": [],
   "source": [
    "df_valid, df_test = train_test_split(df_valid_test, test_size=0.5, random_state=12345)"
   ]
  },
  {
   "cell_type": "code",
   "execution_count": 59,
   "metadata": {},
   "outputs": [
    {
     "name": "stdout",
     "output_type": "stream",
     "text": [
      "Размер обучающей выборки: (1928, 5)\n",
      "Размер валидационной выборки: (643, 5)\n",
      "Размер тестовой выборки выборки: (643, 5)\n"
     ]
    }
   ],
   "source": [
    "print('Размер обучающей выборки:', df_train.shape)\n",
    "print('Размер валидационной выборки:', df_valid.shape)\n",
    "print('Размер тестовой выборки выборки:', df_test.shape)"
   ]
  },
  {
   "cell_type": "markdown",
   "metadata": {},
   "source": [
    "Определим целевым признаком столбец is_ultra, а все остальные столбцы будут признаками."
   ]
  },
  {
   "cell_type": "markdown",
   "metadata": {},
   "source": [
    "<div class=\"alert alert-block alert-success\">\n",
    "<b>Успех:</b> С разбиением все в порядке\n",
    "  \n",
    "</div>\n",
    "<div class=\"alert alert-block alert-info\">\n",
    "<b>Совет:</b> Лучше  проверять размеры выборок, это может предостеречь тебя от глупых ошибок\n",
    "  \n",
    "</div>"
   ]
  },
  {
   "cell_type": "markdown",
   "metadata": {},
   "source": [
    "## Исследуйте модели"
   ]
  },
  {
   "cell_type": "markdown",
   "metadata": {},
   "source": [
    "Переед нами стоит задача классификации. Поделить пользователей на тариф Ультра (1) или Смарт (0)\n",
    "\n",
    "Рассмотрим три основные модели:  \n",
    "- дерево решений,\n",
    "- случайный лес,\n",
    "- логистическая регрессия."
   ]
  },
  {
   "cell_type": "markdown",
   "metadata": {},
   "source": [
    "Рассмотрим первой модель дерево решений.  \n",
    "Изменяя в цикле глубину дерева, определим наибольшее из возможных Accuracy."
   ]
  },
  {
   "cell_type": "code",
   "execution_count": 61,
   "metadata": {},
   "outputs": [],
   "source": [
    "features_train = df_train.drop(['is_ultra'], axis=1)\n",
    "target_train = df_train['is_ultra']\n",
    "features_valid = df_valid.drop(['is_ultra'], axis=1)\n",
    "target_valid = df_valid['is_ultra']\n",
    "features_test = df_test.drop(['is_ultra'], axis=1)\n",
    "target_test = df_test['is_ultra']"
   ]
  },
  {
   "cell_type": "code",
   "execution_count": 63,
   "metadata": {},
   "outputs": [
    {
     "name": "stdout",
     "output_type": "stream",
     "text": [
      "max_depth = 1 : 0.7542768273716952\n",
      "max_depth = 6 : 0.7838258164852255\n",
      "max_depth = 11 : 0.7620528771384136\n",
      "max_depth = 16 : 0.7340590979782271\n",
      "max_depth = 21 : 0.7278382581648523\n",
      "max_depth = 26 : 0.713841368584759\n",
      "max_depth = 31 : 0.713841368584759\n",
      "max_depth = 36 : 0.713841368584759\n",
      "max_depth = 41 : 0.713841368584759\n",
      "max_depth = 46 : 0.713841368584759\n",
      "max_depth = 51 : 0.713841368584759\n",
      "max_depth = 56 : 0.713841368584759\n",
      "max_depth = 61 : 0.713841368584759\n",
      "max_depth = 66 : 0.713841368584759\n",
      "max_depth = 71 : 0.713841368584759\n",
      "max_depth = 76 : 0.713841368584759\n",
      "max_depth = 81 : 0.713841368584759\n",
      "max_depth = 86 : 0.713841368584759\n",
      "max_depth = 91 : 0.713841368584759\n",
      "max_depth = 96 : 0.713841368584759\n"
     ]
    }
   ],
   "source": [
    "for depth in range(1, 100, 5):\n",
    "    model = DecisionTreeClassifier(max_depth=depth, random_state=12345)\n",
    "    model.fit(features_train, target_train)\n",
    "    predictions_valid = model.predict(features_valid)\n",
    "    print(\"max_depth =\", depth, \": \", end='')\n",
    "    print(accuracy_score(target_valid, predictions_valid)) "
   ]
  },
  {
   "cell_type": "markdown",
   "metadata": {},
   "source": [
    "Как видно из расчетов: максиамльное Accuracy при глубине дерева = 6. И составляет 0.7838258164852255"
   ]
  },
  {
   "cell_type": "markdown",
   "metadata": {},
   "source": [
    "Следующей рассмотрим модель случайный лес.  \n",
    "Изменяя в цикле количество деревьев, определим максимально возможное Accuracy для данной модели."
   ]
  },
  {
   "cell_type": "code",
   "execution_count": 65,
   "metadata": {},
   "outputs": [
    {
     "name": "stdout",
     "output_type": "stream",
     "text": [
      "Accuracy наилучшей модели на валидационной выборке: 0.7931570762052877\n",
      "RandomForestClassifier(bootstrap=True, class_weight=None, criterion='gini',\n",
      "                       max_depth=None, max_features='auto', max_leaf_nodes=None,\n",
      "                       min_impurity_decrease=0.0, min_impurity_split=None,\n",
      "                       min_samples_leaf=1, min_samples_split=2,\n",
      "                       min_weight_fraction_leaf=0.0, n_estimators=18,\n",
      "                       n_jobs=None, oob_score=False, random_state=12345,\n",
      "                       verbose=0, warm_start=False)\n"
     ]
    }
   ],
   "source": [
    "best_model = None\n",
    "best_result = 0\n",
    "for est in range(1, 20):\n",
    "    model = RandomForestClassifier(random_state=12345, n_estimators=est)\n",
    "    model.fit(features_train, target_train)\n",
    "    result = model.score(features_valid, target_valid)\n",
    "    if result > best_result:\n",
    "        best_model = model \n",
    "        best_result = result\n",
    "\n",
    "print(\"Accuracy наилучшей модели на валидационной выборке:\", best_result)\n",
    "print(best_model)"
   ]
  },
  {
   "cell_type": "markdown",
   "metadata": {},
   "source": [
    "Лучший показатель модели 0.7931570762052877 при количестве деревьев = 18."
   ]
  },
  {
   "cell_type": "markdown",
   "metadata": {},
   "source": [
    "Последней рассмотрим модель логистической регрессии."
   ]
  },
  {
   "cell_type": "code",
   "execution_count": 67,
   "metadata": {},
   "outputs": [
    {
     "name": "stdout",
     "output_type": "stream",
     "text": [
      "Accuracy модели логистической регрессии на валидационной выборке: 0.7589424572317263\n"
     ]
    },
    {
     "name": "stderr",
     "output_type": "stream",
     "text": [
      "/opt/conda/lib/python3.7/site-packages/sklearn/linear_model/logistic.py:432: FutureWarning: Default solver will be changed to 'lbfgs' in 0.22. Specify a solver to silence this warning.\n",
      "  FutureWarning)\n"
     ]
    }
   ],
   "source": [
    "model = LogisticRegression(random_state=12345) \n",
    "model.fit(features_train, target_train)\n",
    "result = model.score(features_valid, target_valid) \n",
    "\n",
    "print(\"Accuracy модели логистической регрессии на валидационной выборке:\", result)"
   ]
  },
  {
   "cell_type": "markdown",
   "metadata": {},
   "source": [
    "Лучшим показателем для этой модели стал 0.7589424572317263."
   ]
  },
  {
   "cell_type": "markdown",
   "metadata": {},
   "source": [
    "Исходя из наших вычислений, лучшей моделью была признана модель случайный лес с колтчеством деревьев 18. "
   ]
  },
  {
   "cell_type": "markdown",
   "metadata": {},
   "source": [
    "Попробуем улучшить модель случайного леса, изменив гиперпараметры модели."
   ]
  },
  {
   "cell_type": "code",
   "execution_count": 69,
   "metadata": {},
   "outputs": [],
   "source": [
    "#best_model = None\n",
    "#best_result = 0\n",
    "#for est in range(1, 50):\n",
    " #   for depth in range(1, 100, 10):\n",
    "  #      model = RandomForestClassifier(random_state=12345, n_estimators=est, max_depth=depth)\n",
    "   #     model.fit(features_train, target_train)\n",
    "    #    result = model.score(features_valid, target_valid)\n",
    "     #   if result > best_result:\n",
    "      #      best_model = model \n",
    "       #     best_result = result\n",
    "\n",
    "#print(\"Accuracy наилучшей модели на валидационной выборке:\", best_result)\n",
    "#print(best_model)"
   ]
  },
  {
   "cell_type": "code",
   "execution_count": 71,
   "metadata": {},
   "outputs": [
    {
     "name": "stdout",
     "output_type": "stream",
     "text": [
      "{'max_depth': 9, 'min_samples_leaf': 3, 'min_samples_split': 2, 'n_estimators': 40}\n",
      "0.7962674961119751\n"
     ]
    }
   ],
   "source": [
    "clf = RandomForestClassifier()\n",
    "\n",
    "parametrs = { 'n_estimators': range (10, 51, 10),\n",
    "              'max_depth': range (1,13, 2),\n",
    "              'min_samples_leaf': range (1,8),\n",
    "              'min_samples_split': range (2,10,2) }\n",
    "\n",
    "grid = GridSearchCV(clf, parametrs, cv=5)\n",
    "grid.fit(features_train, target_train)\n",
    "\n",
    "result_best_model = grid.score(features_valid, target_valid)\n",
    "\n",
    "print(grid.best_params_)\n",
    "print(result_best_model)"
   ]
  },
  {
   "cell_type": "markdown",
   "metadata": {},
   "source": [
    "В ходе эксперимента была прияна наилучшей моделью RandomForestClassifier с гиперпараметрами n_estimators=30, max_depth=9, min_samples_split=2, min_samples_leaf=6."
   ]
  },
  {
   "cell_type": "markdown",
   "metadata": {},
   "source": [
    "<div class=\"alert alert-block alert-success\">\n",
    "\n",
    "<b>Успех:</b> Хорошо проделан шаг. Радует корректное использование валидационной выборки\n",
    "</div>\n",
    "<div class=\"alert alert-block alert-info\">\n",
    "\n",
    "<b>Совет:</b> Обрати также внимание на GridSearchCv и RandomizedSearchCV, эти инструменты могут быть удобными, когда большое количество параметров, уменьшает количество необходимых выборок, и делает код более лаконичным.\n",
    "</div>"
   ]
  },
  {
   "cell_type": "markdown",
   "metadata": {},
   "source": [
    "Спасибо за классный совет! Не знала о существовании подобных методов перебора, очень удобно, буду применять в дальнейшем."
   ]
  },
  {
   "cell_type": "markdown",
   "metadata": {},
   "source": [
    "## Проверьте модель на тестовой выборке"
   ]
  },
  {
   "cell_type": "code",
   "execution_count": 73,
   "metadata": {},
   "outputs": [
    {
     "name": "stdout",
     "output_type": "stream",
     "text": [
      "Результат accuracy на тестовой выборке: 0.8055987558320373\n",
      "Результат accuracy на обучающей выборке: 0.7962674961119751\n"
     ]
    }
   ],
   "source": [
    "model = RandomForestClassifier(random_state=12345, n_estimators=30, max_depth=9, min_samples_split=2, min_samples_leaf=6)\n",
    "\n",
    "model.fit(features_train, target_train)\n",
    "result_test = model.score(features_test, target_test)\n",
    "\n",
    "print('Результат accuracy на тестовой выборке:', result_test)\n",
    "print('Результат accuracy на обучающей выборке:', result_best_model)"
   ]
  },
  {
   "cell_type": "markdown",
   "metadata": {},
   "source": [
    "С помощью изменений гиперпараметров модели случайного леса мы добились максимальных показателей Accuracy равное 0.8055987558320373 на тестовой выборке и 0.7962674961119751 на обучающей.  \n",
    "Гипарпараметры лучшей модели: random_state=12345, n_estimators=30, max_depth=9, min_samples_split=2, min_samples_leaf=6.\n"
   ]
  },
  {
   "cell_type": "markdown",
   "metadata": {},
   "source": [
    "<div class=\"alert alert-block alert-danger\">\n",
    "\n",
    "<b>Ошибка:</b> Обучать модель нужно на тренировочной выборке (либо тренировочная+валидационная, это может добавить нам немного качества). А проверять на тестовой, ведь мы ее для этого и откладывали, чтобы провести итоговую оценку."
   ]
  },
  {
   "cell_type": "markdown",
   "metadata": {},
   "source": [
    "<div class=\"alert alert-block alert-success\">\n",
    "<b>Успех[2]:</b> Есть\n",
    "</div>\n"
   ]
  },
  {
   "cell_type": "markdown",
   "metadata": {},
   "source": [
    "## (бонус) Проверьте модели на адекватность"
   ]
  },
  {
   "cell_type": "markdown",
   "metadata": {},
   "source": [
    "\n",
    "<div class=\"alert alert-block alert-info\">\n",
    "\n",
    "<b>Совет:</b> Здесь подразумевалось, проверить предсказывают ли наши модели достаточно адекватно, или мы можем просто исопльзовать случайную/глупую фиктивную модель, которая будет предсказывать одно число (например наибольший класс), и точность будет не хуже. Для этого подошел бы инструмент DummyClassifier"
   ]
  },
  {
   "cell_type": "code",
   "execution_count": 91,
   "metadata": {},
   "outputs": [
    {
     "data": {
      "text/plain": [
       "0.6924273858921162"
      ]
     },
     "execution_count": 91,
     "metadata": {},
     "output_type": "execute_result"
    }
   ],
   "source": [
    "X = features_train\n",
    "y = target_train\n",
    "dummy_clf = DummyClassifier(random_state=12345, strategy=\"most_frequent\")\n",
    "dummy_clf.fit(X, y)\n",
    "DummyClassifier(strategy='most_frequent')\n",
    "dummy_clf.predict(X)\n",
    "dummy_clf.score(X, y)\n"
   ]
  },
  {
   "cell_type": "code",
   "execution_count": 98,
   "metadata": {},
   "outputs": [
    {
     "data": {
      "text/plain": [
       "0    0.693528\n",
       "1    0.306472\n",
       "Name: is_ultra, dtype: float64"
      ]
     },
     "execution_count": 98,
     "metadata": {},
     "output_type": "execute_result"
    }
   ],
   "source": [
    "df['is_ultra'].value_counts()/len(df['is_ultra'])"
   ]
  },
  {
   "cell_type": "markdown",
   "metadata": {},
   "source": [
    "Данные в датасете не равномерны. Это показывает расчет количества пользователей на тарифе ультра (примерно 70% всех пользователей). Получается, что если мы будем всегда предсказывать 1 в колонке is_ultra, то точность прогноза будет 0.693528.  \n",
    "Так же это подвтерждает метод DummyClassifier ( для нашей модели мы получили 0.6924273858921162 при \"most_frequent\", который всегда предсказывает наиболее частую метку в обучающем наборе.), а эффективность нашей модели на обучающей выборке 0.7962674961119751, что на 10% точнее, чем случайный набор данных. "
   ]
  },
  {
   "cell_type": "markdown",
   "metadata": {},
   "source": [
    "**для ревью. Не уверена, что правильно поняла этот метод, если не так, то поправьте меня пожалуйста.**"
   ]
  },
  {
   "cell_type": "markdown",
   "metadata": {},
   "source": [
    "<div class=\"alert alert-block alert-success\">\n",
    "<b>Успех[2]:</b> Правильно поняла, только обучать нужно на трейне, а предсказывать на тесте.\n",
    "</div>\n"
   ]
  },
  {
   "cell_type": "markdown",
   "metadata": {},
   "source": [
    "<div class=\"alert alert-block alert-danger\">\n",
    "\n",
    "<b>Ошибка:</b> Не забывай про итоговый вывод - это важная важная часть любого проекта и заказчик обратит сюда особое внимание, здесь важно описать, что было сделано, рассмотренно, использовано, какаие результаты были достигнуты и т.п. <br> Вывод также важно структурировать и выделять ключевые моменты"
   ]
  },
  {
   "cell_type": "markdown",
   "metadata": {},
   "source": [
    "## Чек-лист готовности проекта"
   ]
  },
  {
   "cell_type": "markdown",
   "metadata": {},
   "source": [
    "Поставьте 'x' в выполненных пунктах. Далее нажмите Shift+Enter."
   ]
  },
  {
   "cell_type": "markdown",
   "metadata": {},
   "source": [
    "- [x] Jupyter Notebook открыт\n",
    "- [x] Весь код исполняется без ошибок\n",
    "- [x] Ячейки с кодом расположены в порядке исполнения\n",
    "- [x] Выполнено задание 1: данные загружены и изучены\n",
    "- [x] Выполнено задание 2: данные разбиты на три выборки\n",
    "- [x] Выполнено задание 3: проведено исследование моделей\n",
    "    - [x] Рассмотрено больше одной модели\n",
    "    - [x] Рассмотрено хотя бы 3 значения гипепараметров для какой-нибудь модели\n",
    "    - [x] Написаны выводы по результатам исследования\n",
    "- [x] Выполнено задание 3: Проведено тестирование\n",
    "- [x] Удалось достичь accuracy не меньше 0.75\n"
   ]
  },
  {
   "cell_type": "markdown",
   "metadata": {},
   "source": [
    "## Общий вывод"
   ]
  },
  {
   "cell_type": "markdown",
   "metadata": {},
   "source": [
    "В ходе проведенного эксперименты мы разделили первичный датасет на 3 выборки: обучающая, валидационная и тестовая.\n",
    "В проекте были рассмотрены три модели: дерево, случайный лес и логистическая регрессия. Наилучшим образом себя проявила модель случайного леса.\n",
    "С помощью изменений гиперпараметров модели случайного леса мы добились максимальных показателей Accuracy равное 0.8055987558320373 на тестовой выборке и 0.7962674961119751 на обучающей.\n",
    "Гипарпараметры лучшей модели: random_state=12345, n_estimators=30, max_depth=9, min_samples_split=2, min_samples_leaf=6.  \n",
    "Данные в датасете не равномерны. Это показывает расчет количества пользователей на тарифе ультра (примерно 70% всех пользователей). Получается, что если мы будем всегда предсказывать 1 в колонке is_ultra, то точность прогноза будет 0.693528.\n",
    "Так же это подвтерждает метод DummyClassifier ( для нашей модели мы получили 0.6924273858921162 при \"most_frequent\", который всегда предсказывает наиболее частую метку в обучающем наборе.), а эффективность нашей модели на обучающей выборке 0.7962674961119751, что на 10% точнее, чем случайный набор данных."
   ]
  },
  {
   "cell_type": "markdown",
   "metadata": {},
   "source": [
    "<div class=\"alert alert-block alert-success\">\n",
    "<b>Успех[2]:</b> так намного лучше, осталось только начать структурировать выводы и выделять ключевые моменты)\n",
    "</div>\n"
   ]
  }
 ],
 "metadata": {
  "ExecuteTimeLog": [
   {
    "duration": 652,
    "start_time": "2022-01-31T18:21:43.491Z"
   },
   {
    "duration": 41,
    "start_time": "2022-01-31T18:21:44.997Z"
   },
   {
    "duration": 7,
    "start_time": "2022-01-31T18:21:46.119Z"
   },
   {
    "duration": 16,
    "start_time": "2022-01-31T18:23:50.327Z"
   },
   {
    "duration": 346,
    "start_time": "2022-01-31T18:24:12.394Z"
   },
   {
    "duration": 24,
    "start_time": "2022-01-31T18:24:20.690Z"
   },
   {
    "duration": 463,
    "start_time": "2022-01-31T18:36:02.732Z"
   },
   {
    "duration": 422,
    "start_time": "2022-01-31T18:36:26.879Z"
   },
   {
    "duration": 343,
    "start_time": "2022-01-31T18:36:33.793Z"
   },
   {
    "duration": 391,
    "start_time": "2022-01-31T18:36:39.738Z"
   },
   {
    "duration": 263,
    "start_time": "2022-01-31T18:39:01.292Z"
   },
   {
    "duration": 279,
    "start_time": "2022-01-31T18:39:20.697Z"
   },
   {
    "duration": 237,
    "start_time": "2022-01-31T18:40:00.375Z"
   },
   {
    "duration": 2,
    "start_time": "2022-01-31T19:42:57.585Z"
   },
   {
    "duration": 18,
    "start_time": "2022-01-31T19:42:58.293Z"
   },
   {
    "duration": 7,
    "start_time": "2022-01-31T19:42:59.116Z"
   },
   {
    "duration": 11,
    "start_time": "2022-01-31T19:43:00.085Z"
   },
   {
    "duration": 25,
    "start_time": "2022-01-31T19:43:01.050Z"
   },
   {
    "duration": 388,
    "start_time": "2022-01-31T19:43:03.307Z"
   },
   {
    "duration": 237,
    "start_time": "2022-01-31T19:43:06.565Z"
   },
   {
    "duration": 517,
    "start_time": "2022-01-31T19:43:10.660Z"
   },
   {
    "duration": 6,
    "start_time": "2022-01-31T19:43:12.426Z"
   },
   {
    "duration": 5,
    "start_time": "2022-01-31T19:43:14.619Z"
   },
   {
    "duration": 938,
    "start_time": "2022-02-01T16:54:00.896Z"
   },
   {
    "duration": 476,
    "start_time": "2022-02-01T16:54:07.338Z"
   },
   {
    "duration": 22,
    "start_time": "2022-02-01T16:54:07.817Z"
   },
   {
    "duration": 10,
    "start_time": "2022-02-01T16:54:07.842Z"
   },
   {
    "duration": 25,
    "start_time": "2022-02-01T16:54:07.855Z"
   },
   {
    "duration": 72,
    "start_time": "2022-02-01T16:54:07.882Z"
   },
   {
    "duration": 669,
    "start_time": "2022-02-01T16:54:07.957Z"
   },
   {
    "duration": 344,
    "start_time": "2022-02-01T16:54:08.633Z"
   },
   {
    "duration": 5,
    "start_time": "2022-02-01T16:54:08.980Z"
   },
   {
    "duration": 9,
    "start_time": "2022-02-01T16:54:08.990Z"
   },
   {
    "duration": 38,
    "start_time": "2022-02-01T16:54:09.001Z"
   },
   {
    "duration": 9,
    "start_time": "2022-02-01T16:54:09.041Z"
   },
   {
    "duration": 381,
    "start_time": "2022-02-01T16:59:22.517Z"
   },
   {
    "duration": 13,
    "start_time": "2022-02-01T16:59:33.434Z"
   },
   {
    "duration": 327,
    "start_time": "2022-02-01T16:59:34.622Z"
   },
   {
    "duration": 1053,
    "start_time": "2022-02-01T16:59:43.809Z"
   },
   {
    "duration": 2370,
    "start_time": "2022-02-01T17:00:03.371Z"
   },
   {
    "duration": 1138,
    "start_time": "2022-02-01T17:00:11.696Z"
   },
   {
    "duration": 606,
    "start_time": "2022-02-01T17:00:20.046Z"
   },
   {
    "duration": 1055,
    "start_time": "2022-02-01T17:00:25.598Z"
   },
   {
    "duration": 1115,
    "start_time": "2022-02-01T17:01:21.914Z"
   },
   {
    "duration": 3,
    "start_time": "2022-02-01T17:02:07.358Z"
   },
   {
    "duration": 26,
    "start_time": "2022-02-01T17:02:54.432Z"
   },
   {
    "duration": 4,
    "start_time": "2022-02-01T17:03:57.935Z"
   },
   {
    "duration": 10,
    "start_time": "2022-02-01T17:06:31.861Z"
   },
   {
    "duration": 246,
    "start_time": "2022-02-01T17:07:32.146Z"
   },
   {
    "duration": 38,
    "start_time": "2022-02-01T17:08:14.642Z"
   },
   {
    "duration": 129,
    "start_time": "2022-02-01T17:08:25.411Z"
   },
   {
    "duration": 282,
    "start_time": "2022-02-01T17:08:37.829Z"
   },
   {
    "duration": 840,
    "start_time": "2022-02-01T19:36:02.864Z"
   },
   {
    "duration": 21,
    "start_time": "2022-02-01T19:36:03.707Z"
   },
   {
    "duration": 10,
    "start_time": "2022-02-01T19:36:03.731Z"
   },
   {
    "duration": 35,
    "start_time": "2022-02-01T19:36:03.744Z"
   },
   {
    "duration": 79,
    "start_time": "2022-02-01T19:36:03.781Z"
   },
   {
    "duration": 753,
    "start_time": "2022-02-01T19:36:03.863Z"
   },
   {
    "duration": 346,
    "start_time": "2022-02-01T19:36:04.623Z"
   },
   {
    "duration": 588,
    "start_time": "2022-02-01T19:36:04.974Z"
   },
   {
    "duration": 8,
    "start_time": "2022-02-01T19:36:05.564Z"
   },
   {
    "duration": 21,
    "start_time": "2022-02-01T19:36:05.574Z"
   },
   {
    "duration": 51,
    "start_time": "2022-02-01T19:36:05.598Z"
   },
   {
    "duration": 7,
    "start_time": "2022-02-01T19:36:05.651Z"
   },
   {
    "duration": 362,
    "start_time": "2022-02-01T19:36:05.661Z"
   },
   {
    "duration": 20,
    "start_time": "2022-02-01T19:36:06.026Z"
   },
   {
    "duration": 1418,
    "start_time": "2022-02-01T19:36:06.050Z"
   },
   {
    "duration": 5,
    "start_time": "2022-02-01T19:36:07.471Z"
   },
   {
    "duration": 52,
    "start_time": "2022-02-01T19:36:07.479Z"
   },
   {
    "duration": 3569,
    "start_time": "2022-02-01T19:36:23.264Z"
   },
   {
    "duration": 3095,
    "start_time": "2022-02-01T19:36:53.404Z"
   },
   {
    "duration": 1563,
    "start_time": "2022-02-01T19:37:10.080Z"
   },
   {
    "duration": 66912,
    "start_time": "2022-02-01T19:41:01.547Z"
   },
   {
    "duration": 237,
    "start_time": "2022-02-01T19:44:06.066Z"
   },
   {
    "duration": 903,
    "start_time": "2022-02-01T19:45:41.086Z"
   },
   {
    "duration": 76683,
    "start_time": "2022-02-01T19:46:18.125Z"
   },
   {
    "duration": 8,
    "start_time": "2022-02-01T19:49:07.166Z"
   },
   {
    "duration": 610,
    "start_time": "2022-02-01T19:49:51.132Z"
   },
   {
    "duration": 83,
    "start_time": "2022-02-01T19:50:14.272Z"
   },
   {
    "duration": 68,
    "start_time": "2022-02-01T19:58:35.873Z"
   },
   {
    "duration": 316,
    "start_time": "2022-02-01T20:00:33.123Z"
   },
   {
    "duration": 8,
    "start_time": "2022-02-01T20:00:35.489Z"
   },
   {
    "duration": 62,
    "start_time": "2022-02-01T20:00:36.505Z"
   },
   {
    "duration": 646,
    "start_time": "2022-02-03T20:04:21.404Z"
   },
   {
    "duration": 18,
    "start_time": "2022-02-03T20:04:22.052Z"
   },
   {
    "duration": 7,
    "start_time": "2022-02-03T20:04:22.072Z"
   },
   {
    "duration": 22,
    "start_time": "2022-02-03T20:04:22.081Z"
   },
   {
    "duration": 37,
    "start_time": "2022-02-03T20:04:22.105Z"
   },
   {
    "duration": 416,
    "start_time": "2022-02-03T20:04:22.144Z"
   },
   {
    "duration": 183,
    "start_time": "2022-02-03T20:04:22.562Z"
   },
   {
    "duration": 419,
    "start_time": "2022-02-03T20:04:22.747Z"
   },
   {
    "duration": 5,
    "start_time": "2022-02-03T20:04:23.167Z"
   },
   {
    "duration": 6,
    "start_time": "2022-02-03T20:04:23.173Z"
   },
   {
    "duration": 25,
    "start_time": "2022-02-03T20:04:23.180Z"
   },
   {
    "duration": 4,
    "start_time": "2022-02-03T20:04:23.207Z"
   },
   {
    "duration": 185,
    "start_time": "2022-02-03T20:04:23.212Z"
   },
   {
    "duration": 8,
    "start_time": "2022-02-03T20:04:23.398Z"
   },
   {
    "duration": 778,
    "start_time": "2022-02-03T20:04:23.408Z"
   },
   {
    "duration": 2,
    "start_time": "2022-02-03T20:04:24.187Z"
   },
   {
    "duration": 15,
    "start_time": "2022-02-03T20:04:24.191Z"
   },
   {
    "duration": 37682,
    "start_time": "2022-02-03T20:04:24.207Z"
   },
   {
    "duration": 2,
    "start_time": "2022-02-03T20:05:01.890Z"
   },
   {
    "duration": 9,
    "start_time": "2022-02-03T20:05:01.894Z"
   },
   {
    "duration": 411,
    "start_time": "2022-02-03T20:05:01.904Z"
   },
   {
    "duration": 3,
    "start_time": "2022-02-03T20:06:34.386Z"
   },
   {
    "duration": 21,
    "start_time": "2022-02-03T20:06:34.390Z"
   },
   {
    "duration": 6,
    "start_time": "2022-02-03T20:06:34.412Z"
   },
   {
    "duration": 9,
    "start_time": "2022-02-03T20:06:34.419Z"
   },
   {
    "duration": 19,
    "start_time": "2022-02-03T20:06:34.429Z"
   },
   {
    "duration": 280,
    "start_time": "2022-02-03T20:06:34.449Z"
   },
   {
    "duration": 188,
    "start_time": "2022-02-03T20:06:34.732Z"
   },
   {
    "duration": 5,
    "start_time": "2022-02-03T20:06:34.922Z"
   },
   {
    "duration": 5,
    "start_time": "2022-02-03T20:06:34.928Z"
   },
   {
    "duration": 8,
    "start_time": "2022-02-03T20:06:34.935Z"
   },
   {
    "duration": 3,
    "start_time": "2022-02-03T20:06:34.944Z"
   },
   {
    "duration": 5,
    "start_time": "2022-02-03T20:06:34.949Z"
   },
   {
    "duration": 183,
    "start_time": "2022-02-03T20:06:34.956Z"
   },
   {
    "duration": 2,
    "start_time": "2022-02-03T20:06:35.141Z"
   },
   {
    "duration": 666,
    "start_time": "2022-02-03T20:06:35.145Z"
   },
   {
    "duration": 2,
    "start_time": "2022-02-03T20:06:35.813Z"
   },
   {
    "duration": 19,
    "start_time": "2022-02-03T20:06:35.816Z"
   },
   {
    "duration": 41596,
    "start_time": "2022-02-03T20:06:35.837Z"
   },
   {
    "duration": 2,
    "start_time": "2022-02-03T20:07:17.435Z"
   },
   {
    "duration": 448,
    "start_time": "2022-02-03T20:07:17.439Z"
   },
   {
    "duration": 337,
    "start_time": "2022-02-03T20:08:33.869Z"
   },
   {
    "duration": 351,
    "start_time": "2022-02-03T20:12:50.586Z"
   },
   {
    "duration": 319,
    "start_time": "2022-02-03T20:13:31.838Z"
   },
   {
    "duration": 335,
    "start_time": "2022-02-03T20:15:28.117Z"
   },
   {
    "duration": 22,
    "start_time": "2022-02-03T20:21:32.163Z"
   },
   {
    "duration": 23,
    "start_time": "2022-02-03T20:24:23.089Z"
   },
   {
    "duration": 22,
    "start_time": "2022-02-03T20:24:38.995Z"
   },
   {
    "duration": 1244,
    "start_time": "2022-02-04T16:40:29.193Z"
   },
   {
    "duration": 24,
    "start_time": "2022-02-04T16:40:30.439Z"
   },
   {
    "duration": 16,
    "start_time": "2022-02-04T16:40:30.465Z"
   },
   {
    "duration": 29,
    "start_time": "2022-02-04T16:40:30.484Z"
   },
   {
    "duration": 36,
    "start_time": "2022-02-04T16:40:30.515Z"
   },
   {
    "duration": 410,
    "start_time": "2022-02-04T16:40:30.552Z"
   },
   {
    "duration": 221,
    "start_time": "2022-02-04T16:40:30.964Z"
   },
   {
    "duration": 5,
    "start_time": "2022-02-04T16:40:31.187Z"
   },
   {
    "duration": 9,
    "start_time": "2022-02-04T16:40:31.195Z"
   },
   {
    "duration": 21,
    "start_time": "2022-02-04T16:40:31.206Z"
   },
   {
    "duration": 209,
    "start_time": "2022-02-04T16:40:31.228Z"
   },
   {
    "duration": 789,
    "start_time": "2022-02-04T16:40:31.439Z"
   },
   {
    "duration": 13,
    "start_time": "2022-02-04T16:40:32.230Z"
   },
   {
    "duration": 44539,
    "start_time": "2022-02-04T16:40:32.245Z"
   },
   {
    "duration": 34,
    "start_time": "2022-02-04T16:41:16.786Z"
   },
   {
    "duration": 4,
    "start_time": "2022-02-04T16:43:10.087Z"
   },
   {
    "duration": 3,
    "start_time": "2022-02-04T16:46:56.768Z"
   },
   {
    "duration": 274093,
    "start_time": "2022-02-04T16:49:20.860Z"
   },
   {
    "duration": 284410,
    "start_time": "2022-02-04T16:55:19.523Z"
   },
   {
    "duration": 438,
    "start_time": "2022-02-04T17:05:04.961Z"
   },
   {
    "duration": 4,
    "start_time": "2022-02-04T17:05:10.694Z"
   },
   {
    "duration": 23,
    "start_time": "2022-02-04T17:05:10.700Z"
   },
   {
    "duration": 6,
    "start_time": "2022-02-04T17:05:10.725Z"
   },
   {
    "duration": 14,
    "start_time": "2022-02-04T17:05:10.733Z"
   },
   {
    "duration": 23,
    "start_time": "2022-02-04T17:05:10.748Z"
   },
   {
    "duration": 339,
    "start_time": "2022-02-04T17:05:10.772Z"
   },
   {
    "duration": 198,
    "start_time": "2022-02-04T17:05:11.113Z"
   },
   {
    "duration": 7,
    "start_time": "2022-02-04T17:05:11.313Z"
   },
   {
    "duration": 6,
    "start_time": "2022-02-04T17:05:11.322Z"
   },
   {
    "duration": 5,
    "start_time": "2022-02-04T17:05:11.330Z"
   },
   {
    "duration": 6,
    "start_time": "2022-02-04T17:05:11.336Z"
   },
   {
    "duration": 225,
    "start_time": "2022-02-04T17:05:11.344Z"
   },
   {
    "duration": 748,
    "start_time": "2022-02-04T17:05:11.570Z"
   },
   {
    "duration": 13,
    "start_time": "2022-02-04T17:05:12.319Z"
   },
   {
    "duration": 2,
    "start_time": "2022-02-04T17:05:12.334Z"
   },
   {
    "duration": 7,
    "start_time": "2022-02-04T17:09:43.500Z"
   },
   {
    "duration": 12,
    "start_time": "2022-02-04T17:09:43.527Z"
   },
   {
    "duration": 6,
    "start_time": "2022-02-04T17:09:43.565Z"
   },
   {
    "duration": 9,
    "start_time": "2022-02-04T17:09:43.925Z"
   },
   {
    "duration": 24,
    "start_time": "2022-02-04T17:09:44.154Z"
   },
   {
    "duration": 362,
    "start_time": "2022-02-04T17:09:44.189Z"
   },
   {
    "duration": 322,
    "start_time": "2022-02-04T17:09:44.562Z"
   },
   {
    "duration": 8,
    "start_time": "2022-02-04T17:09:44.891Z"
   },
   {
    "duration": 5,
    "start_time": "2022-02-04T17:09:44.920Z"
   },
   {
    "duration": 5,
    "start_time": "2022-02-04T17:09:45.160Z"
   },
   {
    "duration": 7,
    "start_time": "2022-02-04T17:09:46.262Z"
   },
   {
    "duration": 205,
    "start_time": "2022-02-04T17:09:46.295Z"
   },
   {
    "duration": 786,
    "start_time": "2022-02-04T17:09:46.505Z"
   },
   {
    "duration": 14,
    "start_time": "2022-02-04T17:14:23.417Z"
   },
   {
    "duration": 2,
    "start_time": "2022-02-04T17:14:23.546Z"
   },
   {
    "duration": 276899,
    "start_time": "2022-02-04T17:14:23.558Z"
   },
   {
    "duration": 109,
    "start_time": "2022-02-04T17:19:00.464Z"
   },
   {
    "duration": 7,
    "start_time": "2022-02-04T17:26:41.588Z"
   },
   {
    "duration": 7,
    "start_time": "2022-02-04T17:28:46.938Z"
   },
   {
    "duration": 318,
    "start_time": "2022-02-04T17:29:58.176Z"
   },
   {
    "duration": 5,
    "start_time": "2022-02-04T17:30:19.362Z"
   },
   {
    "duration": 5,
    "start_time": "2022-02-04T17:30:33.104Z"
   },
   {
    "duration": 257,
    "start_time": "2022-02-04T17:31:17.393Z"
   },
   {
    "duration": 7,
    "start_time": "2022-02-04T17:32:35.074Z"
   },
   {
    "duration": 263,
    "start_time": "2022-02-04T17:33:00.937Z"
   },
   {
    "duration": 13,
    "start_time": "2022-02-04T17:33:10.092Z"
   }
  ],
  "kernelspec": {
   "display_name": "Python 3 (ipykernel)",
   "language": "python",
   "name": "python3"
  },
  "language_info": {
   "codemirror_mode": {
    "name": "ipython",
    "version": 3
   },
   "file_extension": ".py",
   "mimetype": "text/x-python",
   "name": "python",
   "nbconvert_exporter": "python",
   "pygments_lexer": "ipython3",
   "version": "3.9.5"
  },
  "toc": {
   "base_numbering": 1,
   "nav_menu": {},
   "number_sections": true,
   "sideBar": true,
   "skip_h1_title": true,
   "title_cell": "Table of Contents",
   "title_sidebar": "Contents",
   "toc_cell": false,
   "toc_position": {
    "height": "calc(100% - 180px)",
    "left": "10px",
    "top": "150px",
    "width": "261px"
   },
   "toc_section_display": true,
   "toc_window_display": false
  }
 },
 "nbformat": 4,
 "nbformat_minor": 2
}
